{
 "cells": [
  {
   "cell_type": "code",
   "execution_count": 1,
   "id": "e2a7aa14",
   "metadata": {
    "_cell_guid": "b1076dfc-b9ad-4769-8c92-a6c4dae69d19",
    "_uuid": "8f2839f25d086af736a60e9eeb907d3b93b6e0e5",
    "execution": {
     "iopub.execute_input": "2024-04-24T22:19:53.667893Z",
     "iopub.status.busy": "2024-04-24T22:19:53.667458Z",
     "iopub.status.idle": "2024-04-24T22:21:38.812380Z",
     "shell.execute_reply": "2024-04-24T22:21:38.811081Z"
    },
    "papermill": {
     "duration": 105.160994,
     "end_time": "2024-04-24T22:21:38.815070",
     "exception": false,
     "start_time": "2024-04-24T22:19:53.654076",
     "status": "completed"
    },
    "tags": []
   },
   "outputs": [
    {
     "name": "stdout",
     "output_type": "stream",
     "text": [
      "Collecting transformers==4.30\r\n",
      "  Downloading transformers-4.30.0-py3-none-any.whl.metadata (113 kB)\r\n",
      "\u001b[2K     \u001b[90m━━━━━━━━━━━━━━━━━━━━━━━━━━━━━━━━━━━━━━━\u001b[0m \u001b[32m113.6/113.6 kB\u001b[0m \u001b[31m1.1 MB/s\u001b[0m eta \u001b[36m0:00:00\u001b[0m\r\n",
      "\u001b[?25hRequirement already satisfied: filelock in /opt/conda/lib/python3.10/site-packages (from transformers==4.30) (3.13.1)\r\n",
      "Requirement already satisfied: huggingface-hub<1.0,>=0.14.1 in /opt/conda/lib/python3.10/site-packages (from transformers==4.30) (0.22.2)\r\n",
      "Requirement already satisfied: numpy>=1.17 in /opt/conda/lib/python3.10/site-packages (from transformers==4.30) (1.26.4)\r\n",
      "Requirement already satisfied: packaging>=20.0 in /opt/conda/lib/python3.10/site-packages (from transformers==4.30) (21.3)\r\n",
      "Requirement already satisfied: pyyaml>=5.1 in /opt/conda/lib/python3.10/site-packages (from transformers==4.30) (6.0.1)\r\n",
      "Requirement already satisfied: regex!=2019.12.17 in /opt/conda/lib/python3.10/site-packages (from transformers==4.30) (2023.12.25)\r\n",
      "Requirement already satisfied: requests in /opt/conda/lib/python3.10/site-packages (from transformers==4.30) (2.31.0)\r\n",
      "Collecting tokenizers!=0.11.3,<0.14,>=0.11.1 (from transformers==4.30)\r\n",
      "  Downloading tokenizers-0.13.3-cp310-cp310-manylinux_2_17_x86_64.manylinux2014_x86_64.whl.metadata (6.7 kB)\r\n",
      "Requirement already satisfied: safetensors>=0.3.1 in /opt/conda/lib/python3.10/site-packages (from transformers==4.30) (0.4.3)\r\n",
      "Requirement already satisfied: tqdm>=4.27 in /opt/conda/lib/python3.10/site-packages (from transformers==4.30) (4.66.1)\r\n",
      "Requirement already satisfied: fsspec>=2023.5.0 in /opt/conda/lib/python3.10/site-packages (from huggingface-hub<1.0,>=0.14.1->transformers==4.30) (2024.2.0)\r\n",
      "Requirement already satisfied: typing-extensions>=3.7.4.3 in /opt/conda/lib/python3.10/site-packages (from huggingface-hub<1.0,>=0.14.1->transformers==4.30) (4.9.0)\r\n",
      "Requirement already satisfied: pyparsing!=3.0.5,>=2.0.2 in /opt/conda/lib/python3.10/site-packages (from packaging>=20.0->transformers==4.30) (3.1.1)\r\n",
      "Requirement already satisfied: charset-normalizer<4,>=2 in /opt/conda/lib/python3.10/site-packages (from requests->transformers==4.30) (3.3.2)\r\n",
      "Requirement already satisfied: idna<4,>=2.5 in /opt/conda/lib/python3.10/site-packages (from requests->transformers==4.30) (3.6)\r\n",
      "Requirement already satisfied: urllib3<3,>=1.21.1 in /opt/conda/lib/python3.10/site-packages (from requests->transformers==4.30) (1.26.18)\r\n",
      "Requirement already satisfied: certifi>=2017.4.17 in /opt/conda/lib/python3.10/site-packages (from requests->transformers==4.30) (2024.2.2)\r\n",
      "Downloading transformers-4.30.0-py3-none-any.whl (7.2 MB)\r\n",
      "\u001b[2K   \u001b[90m━━━━━━━━━━━━━━━━━━━━━━━━━━━━━━━━━━━━━━━━\u001b[0m \u001b[32m7.2/7.2 MB\u001b[0m \u001b[31m27.1 MB/s\u001b[0m eta \u001b[36m0:00:00\u001b[0m\r\n",
      "\u001b[?25hDownloading tokenizers-0.13.3-cp310-cp310-manylinux_2_17_x86_64.manylinux2014_x86_64.whl (7.8 MB)\r\n",
      "\u001b[2K   \u001b[90m━━━━━━━━━━━━━━━━━━━━━━━━━━━━━━━━━━━━━━━━\u001b[0m \u001b[32m7.8/7.8 MB\u001b[0m \u001b[31m62.6 MB/s\u001b[0m eta \u001b[36m0:00:00\u001b[0m\r\n",
      "\u001b[?25hInstalling collected packages: tokenizers, transformers\r\n",
      "  Attempting uninstall: tokenizers\r\n",
      "    Found existing installation: tokenizers 0.15.2\r\n",
      "    Uninstalling tokenizers-0.15.2:\r\n",
      "      Successfully uninstalled tokenizers-0.15.2\r\n",
      "  Attempting uninstall: transformers\r\n",
      "    Found existing installation: transformers 4.39.3\r\n",
      "    Uninstalling transformers-4.39.3:\r\n",
      "      Successfully uninstalled transformers-4.39.3\r\n",
      "\u001b[31mERROR: pip's dependency resolver does not currently take into account all the packages that are installed. This behaviour is the source of the following dependency conflicts.\r\n",
      "kaggle-environments 1.14.3 requires transformers>=4.33.1, but you have transformers 4.30.0 which is incompatible.\u001b[0m\u001b[31m\r\n",
      "\u001b[0mSuccessfully installed tokenizers-0.13.3 transformers-4.30.0\r\n",
      "Requirement already satisfied: accelerate in /opt/conda/lib/python3.10/site-packages (0.29.3)\r\n",
      "Requirement already satisfied: numpy>=1.17 in /opt/conda/lib/python3.10/site-packages (from accelerate) (1.26.4)\r\n",
      "Requirement already satisfied: packaging>=20.0 in /opt/conda/lib/python3.10/site-packages (from accelerate) (21.3)\r\n",
      "Requirement already satisfied: psutil in /opt/conda/lib/python3.10/site-packages (from accelerate) (5.9.3)\r\n",
      "Requirement already satisfied: pyyaml in /opt/conda/lib/python3.10/site-packages (from accelerate) (6.0.1)\r\n",
      "Requirement already satisfied: torch>=1.10.0 in /opt/conda/lib/python3.10/site-packages (from accelerate) (2.1.2)\r\n",
      "Requirement already satisfied: huggingface-hub in /opt/conda/lib/python3.10/site-packages (from accelerate) (0.22.2)\r\n",
      "Requirement already satisfied: safetensors>=0.3.1 in /opt/conda/lib/python3.10/site-packages (from accelerate) (0.4.3)\r\n",
      "Requirement already satisfied: pyparsing!=3.0.5,>=2.0.2 in /opt/conda/lib/python3.10/site-packages (from packaging>=20.0->accelerate) (3.1.1)\r\n",
      "Requirement already satisfied: filelock in /opt/conda/lib/python3.10/site-packages (from torch>=1.10.0->accelerate) (3.13.1)\r\n",
      "Requirement already satisfied: typing-extensions in /opt/conda/lib/python3.10/site-packages (from torch>=1.10.0->accelerate) (4.9.0)\r\n",
      "Requirement already satisfied: sympy in /opt/conda/lib/python3.10/site-packages (from torch>=1.10.0->accelerate) (1.12)\r\n",
      "Requirement already satisfied: networkx in /opt/conda/lib/python3.10/site-packages (from torch>=1.10.0->accelerate) (3.2.1)\r\n",
      "Requirement already satisfied: jinja2 in /opt/conda/lib/python3.10/site-packages (from torch>=1.10.0->accelerate) (3.1.2)\r\n",
      "Requirement already satisfied: fsspec in /opt/conda/lib/python3.10/site-packages (from torch>=1.10.0->accelerate) (2024.2.0)\r\n",
      "Requirement already satisfied: requests in /opt/conda/lib/python3.10/site-packages (from huggingface-hub->accelerate) (2.31.0)\r\n",
      "Requirement already satisfied: tqdm>=4.42.1 in /opt/conda/lib/python3.10/site-packages (from huggingface-hub->accelerate) (4.66.1)\r\n",
      "Requirement already satisfied: MarkupSafe>=2.0 in /opt/conda/lib/python3.10/site-packages (from jinja2->torch>=1.10.0->accelerate) (2.1.3)\r\n",
      "Requirement already satisfied: charset-normalizer<4,>=2 in /opt/conda/lib/python3.10/site-packages (from requests->huggingface-hub->accelerate) (3.3.2)\r\n",
      "Requirement already satisfied: idna<4,>=2.5 in /opt/conda/lib/python3.10/site-packages (from requests->huggingface-hub->accelerate) (3.6)\r\n",
      "Requirement already satisfied: urllib3<3,>=1.21.1 in /opt/conda/lib/python3.10/site-packages (from requests->huggingface-hub->accelerate) (1.26.18)\r\n",
      "Requirement already satisfied: certifi>=2017.4.17 in /opt/conda/lib/python3.10/site-packages (from requests->huggingface-hub->accelerate) (2024.2.2)\r\n",
      "Requirement already satisfied: mpmath>=0.19 in /opt/conda/lib/python3.10/site-packages (from sympy->torch>=1.10.0->accelerate) (1.3.0)\r\n",
      "Collecting rouge_score\r\n",
      "  Downloading rouge_score-0.1.2.tar.gz (17 kB)\r\n",
      "  Preparing metadata (setup.py) ... \u001b[?25l-\b \bdone\r\n",
      "\u001b[?25hRequirement already satisfied: absl-py in /opt/conda/lib/python3.10/site-packages (from rouge_score) (1.4.0)\r\n",
      "Requirement already satisfied: nltk in /opt/conda/lib/python3.10/site-packages (from rouge_score) (3.2.4)\r\n",
      "Requirement already satisfied: numpy in /opt/conda/lib/python3.10/site-packages (from rouge_score) (1.26.4)\r\n",
      "Requirement already satisfied: six>=1.14.0 in /opt/conda/lib/python3.10/site-packages (from rouge_score) (1.16.0)\r\n",
      "Building wheels for collected packages: rouge_score\r\n",
      "  Building wheel for rouge_score (setup.py) ... \u001b[?25l-\b \b\\\b \bdone\r\n",
      "\u001b[?25h  Created wheel for rouge_score: filename=rouge_score-0.1.2-py3-none-any.whl size=24934 sha256=91bf71ed470616156c39bf5f0c05a5c1ab21a88c22ca6a0f5a482f61a103ef2d\r\n",
      "  Stored in directory: /root/.cache/pip/wheels/5f/dd/89/461065a73be61a532ff8599a28e9beef17985c9e9c31e541b4\r\n",
      "Successfully built rouge_score\r\n",
      "Installing collected packages: rouge_score\r\n",
      "Successfully installed rouge_score-0.1.2\r\n",
      "Requirement already satisfied: datasets in /opt/conda/lib/python3.10/site-packages (2.18.0)\r\n",
      "Requirement already satisfied: filelock in /opt/conda/lib/python3.10/site-packages (from datasets) (3.13.1)\r\n",
      "Requirement already satisfied: numpy>=1.17 in /opt/conda/lib/python3.10/site-packages (from datasets) (1.26.4)\r\n",
      "Requirement already satisfied: pyarrow>=12.0.0 in /opt/conda/lib/python3.10/site-packages (from datasets) (15.0.2)\r\n",
      "Requirement already satisfied: pyarrow-hotfix in /opt/conda/lib/python3.10/site-packages (from datasets) (0.6)\r\n",
      "Requirement already satisfied: dill<0.3.9,>=0.3.0 in /opt/conda/lib/python3.10/site-packages (from datasets) (0.3.8)\r\n",
      "Requirement already satisfied: pandas in /opt/conda/lib/python3.10/site-packages (from datasets) (2.1.4)\r\n",
      "Requirement already satisfied: requests>=2.19.0 in /opt/conda/lib/python3.10/site-packages (from datasets) (2.31.0)\r\n",
      "Requirement already satisfied: tqdm>=4.62.1 in /opt/conda/lib/python3.10/site-packages (from datasets) (4.66.1)\r\n",
      "Requirement already satisfied: xxhash in /opt/conda/lib/python3.10/site-packages (from datasets) (3.4.1)\r\n",
      "Requirement already satisfied: multiprocess in /opt/conda/lib/python3.10/site-packages (from datasets) (0.70.16)\r\n",
      "Requirement already satisfied: fsspec<=2024.2.0,>=2023.1.0 in /opt/conda/lib/python3.10/site-packages (from fsspec[http]<=2024.2.0,>=2023.1.0->datasets) (2024.2.0)\r\n",
      "Requirement already satisfied: aiohttp in /opt/conda/lib/python3.10/site-packages (from datasets) (3.9.1)\r\n",
      "Requirement already satisfied: huggingface-hub>=0.19.4 in /opt/conda/lib/python3.10/site-packages (from datasets) (0.22.2)\r\n",
      "Requirement already satisfied: packaging in /opt/conda/lib/python3.10/site-packages (from datasets) (21.3)\r\n",
      "Requirement already satisfied: pyyaml>=5.1 in /opt/conda/lib/python3.10/site-packages (from datasets) (6.0.1)\r\n",
      "Requirement already satisfied: attrs>=17.3.0 in /opt/conda/lib/python3.10/site-packages (from aiohttp->datasets) (23.2.0)\r\n",
      "Requirement already satisfied: multidict<7.0,>=4.5 in /opt/conda/lib/python3.10/site-packages (from aiohttp->datasets) (6.0.4)\r\n",
      "Requirement already satisfied: yarl<2.0,>=1.0 in /opt/conda/lib/python3.10/site-packages (from aiohttp->datasets) (1.9.3)\r\n",
      "Requirement already satisfied: frozenlist>=1.1.1 in /opt/conda/lib/python3.10/site-packages (from aiohttp->datasets) (1.4.1)\r\n",
      "Requirement already satisfied: aiosignal>=1.1.2 in /opt/conda/lib/python3.10/site-packages (from aiohttp->datasets) (1.3.1)\r\n",
      "Requirement already satisfied: async-timeout<5.0,>=4.0 in /opt/conda/lib/python3.10/site-packages (from aiohttp->datasets) (4.0.3)\r\n",
      "Requirement already satisfied: typing-extensions>=3.7.4.3 in /opt/conda/lib/python3.10/site-packages (from huggingface-hub>=0.19.4->datasets) (4.9.0)\r\n",
      "Requirement already satisfied: pyparsing!=3.0.5,>=2.0.2 in /opt/conda/lib/python3.10/site-packages (from packaging->datasets) (3.1.1)\r\n",
      "Requirement already satisfied: charset-normalizer<4,>=2 in /opt/conda/lib/python3.10/site-packages (from requests>=2.19.0->datasets) (3.3.2)\r\n",
      "Requirement already satisfied: idna<4,>=2.5 in /opt/conda/lib/python3.10/site-packages (from requests>=2.19.0->datasets) (3.6)\r\n",
      "Requirement already satisfied: urllib3<3,>=1.21.1 in /opt/conda/lib/python3.10/site-packages (from requests>=2.19.0->datasets) (1.26.18)\r\n",
      "Requirement already satisfied: certifi>=2017.4.17 in /opt/conda/lib/python3.10/site-packages (from requests>=2.19.0->datasets) (2024.2.2)\r\n",
      "Requirement already satisfied: python-dateutil>=2.8.2 in /opt/conda/lib/python3.10/site-packages (from pandas->datasets) (2.9.0.post0)\r\n",
      "Requirement already satisfied: pytz>=2020.1 in /opt/conda/lib/python3.10/site-packages (from pandas->datasets) (2023.3.post1)\r\n",
      "Requirement already satisfied: tzdata>=2022.1 in /opt/conda/lib/python3.10/site-packages (from pandas->datasets) (2023.4)\r\n",
      "Requirement already satisfied: six>=1.5 in /opt/conda/lib/python3.10/site-packages (from python-dateutil>=2.8.2->pandas->datasets) (1.16.0)\r\n",
      "Collecting evaluate\r\n",
      "  Downloading evaluate-0.4.1-py3-none-any.whl.metadata (9.4 kB)\r\n",
      "Requirement already satisfied: datasets>=2.0.0 in /opt/conda/lib/python3.10/site-packages (from evaluate) (2.18.0)\r\n",
      "Requirement already satisfied: numpy>=1.17 in /opt/conda/lib/python3.10/site-packages (from evaluate) (1.26.4)\r\n",
      "Requirement already satisfied: dill in /opt/conda/lib/python3.10/site-packages (from evaluate) (0.3.8)\r\n",
      "Requirement already satisfied: pandas in /opt/conda/lib/python3.10/site-packages (from evaluate) (2.1.4)\r\n",
      "Requirement already satisfied: requests>=2.19.0 in /opt/conda/lib/python3.10/site-packages (from evaluate) (2.31.0)\r\n",
      "Requirement already satisfied: tqdm>=4.62.1 in /opt/conda/lib/python3.10/site-packages (from evaluate) (4.66.1)\r\n",
      "Requirement already satisfied: xxhash in /opt/conda/lib/python3.10/site-packages (from evaluate) (3.4.1)\r\n",
      "Requirement already satisfied: multiprocess in /opt/conda/lib/python3.10/site-packages (from evaluate) (0.70.16)\r\n",
      "Requirement already satisfied: fsspec>=2021.05.0 in /opt/conda/lib/python3.10/site-packages (from fsspec[http]>=2021.05.0->evaluate) (2024.2.0)\r\n",
      "Requirement already satisfied: huggingface-hub>=0.7.0 in /opt/conda/lib/python3.10/site-packages (from evaluate) (0.22.2)\r\n",
      "Requirement already satisfied: packaging in /opt/conda/lib/python3.10/site-packages (from evaluate) (21.3)\r\n",
      "Collecting responses<0.19 (from evaluate)\r\n",
      "  Downloading responses-0.18.0-py3-none-any.whl.metadata (29 kB)\r\n",
      "Requirement already satisfied: filelock in /opt/conda/lib/python3.10/site-packages (from datasets>=2.0.0->evaluate) (3.13.1)\r\n",
      "Requirement already satisfied: pyarrow>=12.0.0 in /opt/conda/lib/python3.10/site-packages (from datasets>=2.0.0->evaluate) (15.0.2)\r\n",
      "Requirement already satisfied: pyarrow-hotfix in /opt/conda/lib/python3.10/site-packages (from datasets>=2.0.0->evaluate) (0.6)\r\n",
      "Requirement already satisfied: aiohttp in /opt/conda/lib/python3.10/site-packages (from datasets>=2.0.0->evaluate) (3.9.1)\r\n",
      "Requirement already satisfied: pyyaml>=5.1 in /opt/conda/lib/python3.10/site-packages (from datasets>=2.0.0->evaluate) (6.0.1)\r\n",
      "Requirement already satisfied: typing-extensions>=3.7.4.3 in /opt/conda/lib/python3.10/site-packages (from huggingface-hub>=0.7.0->evaluate) (4.9.0)\r\n",
      "Requirement already satisfied: pyparsing!=3.0.5,>=2.0.2 in /opt/conda/lib/python3.10/site-packages (from packaging->evaluate) (3.1.1)\r\n",
      "Requirement already satisfied: charset-normalizer<4,>=2 in /opt/conda/lib/python3.10/site-packages (from requests>=2.19.0->evaluate) (3.3.2)\r\n",
      "Requirement already satisfied: idna<4,>=2.5 in /opt/conda/lib/python3.10/site-packages (from requests>=2.19.0->evaluate) (3.6)\r\n",
      "Requirement already satisfied: urllib3<3,>=1.21.1 in /opt/conda/lib/python3.10/site-packages (from requests>=2.19.0->evaluate) (1.26.18)\r\n",
      "Requirement already satisfied: certifi>=2017.4.17 in /opt/conda/lib/python3.10/site-packages (from requests>=2.19.0->evaluate) (2024.2.2)\r\n",
      "Requirement already satisfied: python-dateutil>=2.8.2 in /opt/conda/lib/python3.10/site-packages (from pandas->evaluate) (2.9.0.post0)\r\n",
      "Requirement already satisfied: pytz>=2020.1 in /opt/conda/lib/python3.10/site-packages (from pandas->evaluate) (2023.3.post1)\r\n",
      "Requirement already satisfied: tzdata>=2022.1 in /opt/conda/lib/python3.10/site-packages (from pandas->evaluate) (2023.4)\r\n",
      "Requirement already satisfied: attrs>=17.3.0 in /opt/conda/lib/python3.10/site-packages (from aiohttp->datasets>=2.0.0->evaluate) (23.2.0)\r\n",
      "Requirement already satisfied: multidict<7.0,>=4.5 in /opt/conda/lib/python3.10/site-packages (from aiohttp->datasets>=2.0.0->evaluate) (6.0.4)\r\n",
      "Requirement already satisfied: yarl<2.0,>=1.0 in /opt/conda/lib/python3.10/site-packages (from aiohttp->datasets>=2.0.0->evaluate) (1.9.3)\r\n",
      "Requirement already satisfied: frozenlist>=1.1.1 in /opt/conda/lib/python3.10/site-packages (from aiohttp->datasets>=2.0.0->evaluate) (1.4.1)\r\n",
      "Requirement already satisfied: aiosignal>=1.1.2 in /opt/conda/lib/python3.10/site-packages (from aiohttp->datasets>=2.0.0->evaluate) (1.3.1)\r\n",
      "Requirement already satisfied: async-timeout<5.0,>=4.0 in /opt/conda/lib/python3.10/site-packages (from aiohttp->datasets>=2.0.0->evaluate) (4.0.3)\r\n",
      "Requirement already satisfied: six>=1.5 in /opt/conda/lib/python3.10/site-packages (from python-dateutil>=2.8.2->pandas->evaluate) (1.16.0)\r\n",
      "Downloading evaluate-0.4.1-py3-none-any.whl (84 kB)\r\n",
      "\u001b[2K   \u001b[90m━━━━━━━━━━━━━━━━━━━━━━━━━━━━━━━━━━━━━━━━\u001b[0m \u001b[32m84.1/84.1 kB\u001b[0m \u001b[31m1.5 MB/s\u001b[0m eta \u001b[36m0:00:00\u001b[0m\r\n",
      "\u001b[?25hDownloading responses-0.18.0-py3-none-any.whl (38 kB)\r\n",
      "Installing collected packages: responses, evaluate\r\n",
      "Successfully installed evaluate-0.4.1 responses-0.18.0\r\n",
      "Collecting sacremoses\r\n",
      "  Downloading sacremoses-0.1.1-py3-none-any.whl.metadata (8.3 kB)\r\n",
      "Requirement already satisfied: regex in /opt/conda/lib/python3.10/site-packages (from sacremoses) (2023.12.25)\r\n",
      "Requirement already satisfied: click in /opt/conda/lib/python3.10/site-packages (from sacremoses) (8.1.7)\r\n",
      "Requirement already satisfied: joblib in /opt/conda/lib/python3.10/site-packages (from sacremoses) (1.4.0)\r\n",
      "Requirement already satisfied: tqdm in /opt/conda/lib/python3.10/site-packages (from sacremoses) (4.66.1)\r\n",
      "Downloading sacremoses-0.1.1-py3-none-any.whl (897 kB)\r\n",
      "\u001b[2K   \u001b[90m━━━━━━━━━━━━━━━━━━━━━━━━━━━━━━━━━━━━━━━━\u001b[0m \u001b[32m897.5/897.5 kB\u001b[0m \u001b[31m4.2 MB/s\u001b[0m eta \u001b[36m0:00:00\u001b[0m\r\n",
      "\u001b[?25hInstalling collected packages: sacremoses\r\n",
      "Successfully installed sacremoses-0.1.1\r\n"
     ]
    }
   ],
   "source": [
    "!pip install transformers==4.30\n",
    "!pip install accelerate -U\n",
    "!pip install rouge_score\n",
    "!pip install datasets\n",
    "!pip install evaluate\n",
    "!pip install sacremoses"
   ]
  },
  {
   "cell_type": "code",
   "execution_count": 2,
   "id": "4d9db9d7",
   "metadata": {
    "execution": {
     "iopub.execute_input": "2024-04-24T22:21:38.852884Z",
     "iopub.status.busy": "2024-04-24T22:21:38.852458Z",
     "iopub.status.idle": "2024-04-24T22:22:01.806426Z",
     "shell.execute_reply": "2024-04-24T22:22:01.805169Z"
    },
    "papermill": {
     "duration": 22.975297,
     "end_time": "2024-04-24T22:22:01.808921",
     "exception": false,
     "start_time": "2024-04-24T22:21:38.833624",
     "status": "completed"
    },
    "tags": []
   },
   "outputs": [
    {
     "name": "stderr",
     "output_type": "stream",
     "text": [
      "2024-04-24 22:21:46.410331: E external/local_xla/xla/stream_executor/cuda/cuda_dnn.cc:9261] Unable to register cuDNN factory: Attempting to register factory for plugin cuDNN when one has already been registered\n",
      "2024-04-24 22:21:46.410455: E external/local_xla/xla/stream_executor/cuda/cuda_fft.cc:607] Unable to register cuFFT factory: Attempting to register factory for plugin cuFFT when one has already been registered\n",
      "2024-04-24 22:21:46.541458: E external/local_xla/xla/stream_executor/cuda/cuda_blas.cc:1515] Unable to register cuBLAS factory: Attempting to register factory for plugin cuBLAS when one has already been registered\n"
     ]
    },
    {
     "data": {
      "application/vnd.jupyter.widget-view+json": {
       "model_id": "c3c914d838354333a3d8fa380289b5ea",
       "version_major": 2,
       "version_minor": 0
      },
      "text/plain": [
       "Downloading builder script:   0%|          | 0.00/6.27k [00:00<?, ?B/s]"
      ]
     },
     "metadata": {},
     "output_type": "display_data"
    },
    {
     "name": "stdout",
     "output_type": "stream",
     "text": [
      "[nltk_data] Downloading package punkt to /usr/share/nltk_data...\n",
      "[nltk_data]   Package punkt is already up-to-date!\n"
     ]
    }
   ],
   "source": [
    "import pandas as pd\n",
    "import torch\n",
    "from transformers import AutoTokenizer, AutoModelForSeq2SeqLM\n",
    "from transformers import Seq2SeqTrainingArguments, Seq2SeqTrainer, MT5ForConditionalGeneration, MT5Tokenizer\n",
    "from datasets import Dataset\n",
    "import numpy as np\n",
    "import nltk\n",
    "import evaluate\n",
    "rouge_score = evaluate.load(\"rouge\")\n",
    "nltk.download(\"punkt\")\n",
    "from transformers import DataCollatorForSeq2Seq\n",
    "from nltk.tokenize import sent_tokenize"
   ]
  },
  {
   "cell_type": "code",
   "execution_count": 3,
   "id": "a288b8b9",
   "metadata": {
    "execution": {
     "iopub.execute_input": "2024-04-24T22:22:01.851849Z",
     "iopub.status.busy": "2024-04-24T22:22:01.850511Z",
     "iopub.status.idle": "2024-04-24T22:22:20.689836Z",
     "shell.execute_reply": "2024-04-24T22:22:20.688733Z"
    },
    "papermill": {
     "duration": 18.862799,
     "end_time": "2024-04-24T22:22:20.692434",
     "exception": false,
     "start_time": "2024-04-24T22:22:01.829635",
     "status": "completed"
    },
    "tags": []
   },
   "outputs": [
    {
     "name": "stdout",
     "output_type": "stream",
     "text": [
      "Collecting indic-nlp-library\r\n",
      "  Downloading indic_nlp_library-0.92-py3-none-any.whl.metadata (5.7 kB)\r\n",
      "Collecting sphinx-argparse (from indic-nlp-library)\r\n",
      "  Downloading sphinx_argparse-0.4.0-py3-none-any.whl.metadata (1.9 kB)\r\n",
      "Requirement already satisfied: sphinx-rtd-theme in /opt/conda/lib/python3.10/site-packages (from indic-nlp-library) (0.2.4)\r\n",
      "Collecting morfessor (from indic-nlp-library)\r\n",
      "  Downloading Morfessor-2.0.6-py3-none-any.whl.metadata (628 bytes)\r\n",
      "Requirement already satisfied: pandas in /opt/conda/lib/python3.10/site-packages (from indic-nlp-library) (2.1.4)\r\n",
      "Requirement already satisfied: numpy in /opt/conda/lib/python3.10/site-packages (from indic-nlp-library) (1.26.4)\r\n",
      "Requirement already satisfied: python-dateutil>=2.8.2 in /opt/conda/lib/python3.10/site-packages (from pandas->indic-nlp-library) (2.9.0.post0)\r\n",
      "Requirement already satisfied: pytz>=2020.1 in /opt/conda/lib/python3.10/site-packages (from pandas->indic-nlp-library) (2023.3.post1)\r\n",
      "Requirement already satisfied: tzdata>=2022.1 in /opt/conda/lib/python3.10/site-packages (from pandas->indic-nlp-library) (2023.4)\r\n",
      "Collecting sphinx>=1.2.0 (from sphinx-argparse->indic-nlp-library)\r\n",
      "  Downloading sphinx-7.3.7-py3-none-any.whl.metadata (6.0 kB)\r\n",
      "Requirement already satisfied: six>=1.5 in /opt/conda/lib/python3.10/site-packages (from python-dateutil>=2.8.2->pandas->indic-nlp-library) (1.16.0)\r\n",
      "Collecting sphinxcontrib-applehelp (from sphinx>=1.2.0->sphinx-argparse->indic-nlp-library)\r\n",
      "  Downloading sphinxcontrib_applehelp-1.0.8-py3-none-any.whl.metadata (2.3 kB)\r\n",
      "Collecting sphinxcontrib-devhelp (from sphinx>=1.2.0->sphinx-argparse->indic-nlp-library)\r\n",
      "  Downloading sphinxcontrib_devhelp-1.0.6-py3-none-any.whl.metadata (2.3 kB)\r\n",
      "Collecting sphinxcontrib-jsmath (from sphinx>=1.2.0->sphinx-argparse->indic-nlp-library)\r\n",
      "  Downloading sphinxcontrib_jsmath-1.0.1-py2.py3-none-any.whl.metadata (1.4 kB)\r\n",
      "Collecting sphinxcontrib-htmlhelp>=2.0.0 (from sphinx>=1.2.0->sphinx-argparse->indic-nlp-library)\r\n",
      "  Downloading sphinxcontrib_htmlhelp-2.0.5-py3-none-any.whl.metadata (2.3 kB)\r\n",
      "Collecting sphinxcontrib-serializinghtml>=1.1.9 (from sphinx>=1.2.0->sphinx-argparse->indic-nlp-library)\r\n",
      "  Downloading sphinxcontrib_serializinghtml-1.1.10-py3-none-any.whl.metadata (2.4 kB)\r\n",
      "Collecting sphinxcontrib-qthelp (from sphinx>=1.2.0->sphinx-argparse->indic-nlp-library)\r\n",
      "  Downloading sphinxcontrib_qthelp-1.0.7-py3-none-any.whl.metadata (2.2 kB)\r\n",
      "Requirement already satisfied: Jinja2>=3.0 in /opt/conda/lib/python3.10/site-packages (from sphinx>=1.2.0->sphinx-argparse->indic-nlp-library) (3.1.2)\r\n",
      "Requirement already satisfied: Pygments>=2.14 in /opt/conda/lib/python3.10/site-packages (from sphinx>=1.2.0->sphinx-argparse->indic-nlp-library) (2.17.2)\r\n",
      "Requirement already satisfied: docutils<0.22,>=0.18.1 in /opt/conda/lib/python3.10/site-packages (from sphinx>=1.2.0->sphinx-argparse->indic-nlp-library) (0.21.1)\r\n",
      "Requirement already satisfied: snowballstemmer>=2.0 in /opt/conda/lib/python3.10/site-packages (from sphinx>=1.2.0->sphinx-argparse->indic-nlp-library) (2.2.0)\r\n",
      "Requirement already satisfied: babel>=2.9 in /opt/conda/lib/python3.10/site-packages (from sphinx>=1.2.0->sphinx-argparse->indic-nlp-library) (2.14.0)\r\n",
      "Collecting alabaster~=0.7.14 (from sphinx>=1.2.0->sphinx-argparse->indic-nlp-library)\r\n",
      "  Downloading alabaster-0.7.16-py3-none-any.whl.metadata (2.9 kB)\r\n",
      "Collecting imagesize>=1.3 (from sphinx>=1.2.0->sphinx-argparse->indic-nlp-library)\r\n",
      "  Downloading imagesize-1.4.1-py2.py3-none-any.whl.metadata (1.5 kB)\r\n",
      "Requirement already satisfied: requests>=2.25.0 in /opt/conda/lib/python3.10/site-packages (from sphinx>=1.2.0->sphinx-argparse->indic-nlp-library) (2.31.0)\r\n",
      "Requirement already satisfied: packaging>=21.0 in /opt/conda/lib/python3.10/site-packages (from sphinx>=1.2.0->sphinx-argparse->indic-nlp-library) (21.3)\r\n",
      "Requirement already satisfied: tomli>=2 in /opt/conda/lib/python3.10/site-packages (from sphinx>=1.2.0->sphinx-argparse->indic-nlp-library) (2.0.1)\r\n",
      "Requirement already satisfied: MarkupSafe>=2.0 in /opt/conda/lib/python3.10/site-packages (from Jinja2>=3.0->sphinx>=1.2.0->sphinx-argparse->indic-nlp-library) (2.1.3)\r\n",
      "Requirement already satisfied: pyparsing!=3.0.5,>=2.0.2 in /opt/conda/lib/python3.10/site-packages (from packaging>=21.0->sphinx>=1.2.0->sphinx-argparse->indic-nlp-library) (3.1.1)\r\n",
      "Requirement already satisfied: charset-normalizer<4,>=2 in /opt/conda/lib/python3.10/site-packages (from requests>=2.25.0->sphinx>=1.2.0->sphinx-argparse->indic-nlp-library) (3.3.2)\r\n",
      "Requirement already satisfied: idna<4,>=2.5 in /opt/conda/lib/python3.10/site-packages (from requests>=2.25.0->sphinx>=1.2.0->sphinx-argparse->indic-nlp-library) (3.6)\r\n",
      "Requirement already satisfied: urllib3<3,>=1.21.1 in /opt/conda/lib/python3.10/site-packages (from requests>=2.25.0->sphinx>=1.2.0->sphinx-argparse->indic-nlp-library) (1.26.18)\r\n",
      "Requirement already satisfied: certifi>=2017.4.17 in /opt/conda/lib/python3.10/site-packages (from requests>=2.25.0->sphinx>=1.2.0->sphinx-argparse->indic-nlp-library) (2024.2.2)\r\n",
      "Downloading indic_nlp_library-0.92-py3-none-any.whl (40 kB)\r\n",
      "\u001b[2K   \u001b[90m━━━━━━━━━━━━━━━━━━━━━━━━━━━━━━━━━━━━━━━━\u001b[0m \u001b[32m40.3/40.3 kB\u001b[0m \u001b[31m1.2 MB/s\u001b[0m eta \u001b[36m0:00:00\u001b[0m\r\n",
      "\u001b[?25hDownloading Morfessor-2.0.6-py3-none-any.whl (35 kB)\r\n",
      "Downloading sphinx_argparse-0.4.0-py3-none-any.whl (12 kB)\r\n",
      "Downloading sphinx-7.3.7-py3-none-any.whl (3.3 MB)\r\n",
      "\u001b[2K   \u001b[90m━━━━━━━━━━━━━━━━━━━━━━━━━━━━━━━━━━━━━━━━\u001b[0m \u001b[32m3.3/3.3 MB\u001b[0m \u001b[31m12.9 MB/s\u001b[0m eta \u001b[36m0:00:00\u001b[0m\r\n",
      "\u001b[?25hDownloading alabaster-0.7.16-py3-none-any.whl (13 kB)\r\n",
      "Downloading imagesize-1.4.1-py2.py3-none-any.whl (8.8 kB)\r\n",
      "Downloading sphinxcontrib_htmlhelp-2.0.5-py3-none-any.whl (99 kB)\r\n",
      "\u001b[2K   \u001b[90m━━━━━━━━━━━━━━━━━━━━━━━━━━━━━━━━━━━━━━━━\u001b[0m \u001b[32m99.2/99.2 kB\u001b[0m \u001b[31m6.4 MB/s\u001b[0m eta \u001b[36m0:00:00\u001b[0m\r\n",
      "\u001b[?25hDownloading sphinxcontrib_serializinghtml-1.1.10-py3-none-any.whl (92 kB)\r\n",
      "\u001b[2K   \u001b[90m━━━━━━━━━━━━━━━━━━━━━━━━━━━━━━━━━━━━━━━━\u001b[0m \u001b[32m92.7/92.7 kB\u001b[0m \u001b[31m6.1 MB/s\u001b[0m eta \u001b[36m0:00:00\u001b[0m\r\n",
      "\u001b[?25hDownloading sphinxcontrib_applehelp-1.0.8-py3-none-any.whl (120 kB)\r\n",
      "\u001b[2K   \u001b[90m━━━━━━━━━━━━━━━━━━━━━━━━━━━━━━━━━━━━━━━━\u001b[0m \u001b[32m120.0/120.0 kB\u001b[0m \u001b[31m7.8 MB/s\u001b[0m eta \u001b[36m0:00:00\u001b[0m\r\n",
      "\u001b[?25hDownloading sphinxcontrib_devhelp-1.0.6-py3-none-any.whl (83 kB)\r\n",
      "\u001b[2K   \u001b[90m━━━━━━━━━━━━━━━━━━━━━━━━━━━━━━━━━━━━━━━━\u001b[0m \u001b[32m83.5/83.5 kB\u001b[0m \u001b[31m4.7 MB/s\u001b[0m eta \u001b[36m0:00:00\u001b[0m\r\n",
      "\u001b[?25hDownloading sphinxcontrib_jsmath-1.0.1-py2.py3-none-any.whl (5.1 kB)\r\n",
      "Downloading sphinxcontrib_qthelp-1.0.7-py3-none-any.whl (89 kB)\r\n",
      "\u001b[2K   \u001b[90m━━━━━━━━━━━━━━━━━━━━━━━━━━━━━━━━━━━━━━━━\u001b[0m \u001b[32m89.4/89.4 kB\u001b[0m \u001b[31m5.8 MB/s\u001b[0m eta \u001b[36m0:00:00\u001b[0m\r\n",
      "\u001b[?25hInstalling collected packages: morfessor, sphinxcontrib-serializinghtml, sphinxcontrib-qthelp, sphinxcontrib-jsmath, sphinxcontrib-htmlhelp, sphinxcontrib-devhelp, sphinxcontrib-applehelp, imagesize, alabaster, sphinx, sphinx-argparse, indic-nlp-library\r\n",
      "Successfully installed alabaster-0.7.16 imagesize-1.4.1 indic-nlp-library-0.92 morfessor-2.0.6 sphinx-7.3.7 sphinx-argparse-0.4.0 sphinxcontrib-applehelp-1.0.8 sphinxcontrib-devhelp-1.0.6 sphinxcontrib-htmlhelp-2.0.5 sphinxcontrib-jsmath-1.0.1 sphinxcontrib-qthelp-1.0.7 sphinxcontrib-serializinghtml-1.1.10\r\n"
     ]
    }
   ],
   "source": [
    "!pip install indic-nlp-library"
   ]
  },
  {
   "cell_type": "code",
   "execution_count": 4,
   "id": "ba908491",
   "metadata": {
    "execution": {
     "iopub.execute_input": "2024-04-24T22:22:20.738316Z",
     "iopub.status.busy": "2024-04-24T22:22:20.737485Z",
     "iopub.status.idle": "2024-04-24T22:22:34.907965Z",
     "shell.execute_reply": "2024-04-24T22:22:34.906814Z"
    },
    "papermill": {
     "duration": 14.19601,
     "end_time": "2024-04-24T22:22:34.910468",
     "exception": false,
     "start_time": "2024-04-24T22:22:20.714458",
     "status": "completed"
    },
    "tags": []
   },
   "outputs": [
    {
     "name": "stdout",
     "output_type": "stream",
     "text": [
      "Requirement already satisfied: datasets in /opt/conda/lib/python3.10/site-packages (2.18.0)\r\n",
      "Requirement already satisfied: transformers in /opt/conda/lib/python3.10/site-packages (4.30.0)\r\n",
      "Requirement already satisfied: accelerate in /opt/conda/lib/python3.10/site-packages (0.29.3)\r\n",
      "Requirement already satisfied: evaluate in /opt/conda/lib/python3.10/site-packages (0.4.1)\r\n",
      "Requirement already satisfied: sentencepiece in /opt/conda/lib/python3.10/site-packages (0.2.0)\r\n",
      "Requirement already satisfied: filelock in /opt/conda/lib/python3.10/site-packages (from datasets) (3.13.1)\r\n",
      "Requirement already satisfied: numpy>=1.17 in /opt/conda/lib/python3.10/site-packages (from datasets) (1.26.4)\r\n",
      "Requirement already satisfied: pyarrow>=12.0.0 in /opt/conda/lib/python3.10/site-packages (from datasets) (15.0.2)\r\n",
      "Requirement already satisfied: pyarrow-hotfix in /opt/conda/lib/python3.10/site-packages (from datasets) (0.6)\r\n",
      "Requirement already satisfied: dill<0.3.9,>=0.3.0 in /opt/conda/lib/python3.10/site-packages (from datasets) (0.3.8)\r\n",
      "Requirement already satisfied: pandas in /opt/conda/lib/python3.10/site-packages (from datasets) (2.1.4)\r\n",
      "Requirement already satisfied: requests>=2.19.0 in /opt/conda/lib/python3.10/site-packages (from datasets) (2.31.0)\r\n",
      "Requirement already satisfied: tqdm>=4.62.1 in /opt/conda/lib/python3.10/site-packages (from datasets) (4.66.1)\r\n",
      "Requirement already satisfied: xxhash in /opt/conda/lib/python3.10/site-packages (from datasets) (3.4.1)\r\n",
      "Requirement already satisfied: multiprocess in /opt/conda/lib/python3.10/site-packages (from datasets) (0.70.16)\r\n",
      "Requirement already satisfied: fsspec<=2024.2.0,>=2023.1.0 in /opt/conda/lib/python3.10/site-packages (from fsspec[http]<=2024.2.0,>=2023.1.0->datasets) (2024.2.0)\r\n",
      "Requirement already satisfied: aiohttp in /opt/conda/lib/python3.10/site-packages (from datasets) (3.9.1)\r\n",
      "Requirement already satisfied: huggingface-hub>=0.19.4 in /opt/conda/lib/python3.10/site-packages (from datasets) (0.22.2)\r\n",
      "Requirement already satisfied: packaging in /opt/conda/lib/python3.10/site-packages (from datasets) (21.3)\r\n",
      "Requirement already satisfied: pyyaml>=5.1 in /opt/conda/lib/python3.10/site-packages (from datasets) (6.0.1)\r\n",
      "Requirement already satisfied: regex!=2019.12.17 in /opt/conda/lib/python3.10/site-packages (from transformers) (2023.12.25)\r\n",
      "Requirement already satisfied: tokenizers!=0.11.3,<0.14,>=0.11.1 in /opt/conda/lib/python3.10/site-packages (from transformers) (0.13.3)\r\n",
      "Requirement already satisfied: safetensors>=0.3.1 in /opt/conda/lib/python3.10/site-packages (from transformers) (0.4.3)\r\n",
      "Requirement already satisfied: psutil in /opt/conda/lib/python3.10/site-packages (from accelerate) (5.9.3)\r\n",
      "Requirement already satisfied: torch>=1.10.0 in /opt/conda/lib/python3.10/site-packages (from accelerate) (2.1.2)\r\n",
      "Requirement already satisfied: responses<0.19 in /opt/conda/lib/python3.10/site-packages (from evaluate) (0.18.0)\r\n",
      "Requirement already satisfied: attrs>=17.3.0 in /opt/conda/lib/python3.10/site-packages (from aiohttp->datasets) (23.2.0)\r\n",
      "Requirement already satisfied: multidict<7.0,>=4.5 in /opt/conda/lib/python3.10/site-packages (from aiohttp->datasets) (6.0.4)\r\n",
      "Requirement already satisfied: yarl<2.0,>=1.0 in /opt/conda/lib/python3.10/site-packages (from aiohttp->datasets) (1.9.3)\r\n",
      "Requirement already satisfied: frozenlist>=1.1.1 in /opt/conda/lib/python3.10/site-packages (from aiohttp->datasets) (1.4.1)\r\n",
      "Requirement already satisfied: aiosignal>=1.1.2 in /opt/conda/lib/python3.10/site-packages (from aiohttp->datasets) (1.3.1)\r\n",
      "Requirement already satisfied: async-timeout<5.0,>=4.0 in /opt/conda/lib/python3.10/site-packages (from aiohttp->datasets) (4.0.3)\r\n",
      "Requirement already satisfied: typing-extensions>=3.7.4.3 in /opt/conda/lib/python3.10/site-packages (from huggingface-hub>=0.19.4->datasets) (4.9.0)\r\n",
      "Requirement already satisfied: pyparsing!=3.0.5,>=2.0.2 in /opt/conda/lib/python3.10/site-packages (from packaging->datasets) (3.1.1)\r\n",
      "Requirement already satisfied: charset-normalizer<4,>=2 in /opt/conda/lib/python3.10/site-packages (from requests>=2.19.0->datasets) (3.3.2)\r\n",
      "Requirement already satisfied: idna<4,>=2.5 in /opt/conda/lib/python3.10/site-packages (from requests>=2.19.0->datasets) (3.6)\r\n",
      "Requirement already satisfied: urllib3<3,>=1.21.1 in /opt/conda/lib/python3.10/site-packages (from requests>=2.19.0->datasets) (1.26.18)\r\n",
      "Requirement already satisfied: certifi>=2017.4.17 in /opt/conda/lib/python3.10/site-packages (from requests>=2.19.0->datasets) (2024.2.2)\r\n",
      "Requirement already satisfied: sympy in /opt/conda/lib/python3.10/site-packages (from torch>=1.10.0->accelerate) (1.12)\r\n",
      "Requirement already satisfied: networkx in /opt/conda/lib/python3.10/site-packages (from torch>=1.10.0->accelerate) (3.2.1)\r\n",
      "Requirement already satisfied: jinja2 in /opt/conda/lib/python3.10/site-packages (from torch>=1.10.0->accelerate) (3.1.2)\r\n",
      "Requirement already satisfied: python-dateutil>=2.8.2 in /opt/conda/lib/python3.10/site-packages (from pandas->datasets) (2.9.0.post0)\r\n",
      "Requirement already satisfied: pytz>=2020.1 in /opt/conda/lib/python3.10/site-packages (from pandas->datasets) (2023.3.post1)\r\n",
      "Requirement already satisfied: tzdata>=2022.1 in /opt/conda/lib/python3.10/site-packages (from pandas->datasets) (2023.4)\r\n",
      "Requirement already satisfied: six>=1.5 in /opt/conda/lib/python3.10/site-packages (from python-dateutil>=2.8.2->pandas->datasets) (1.16.0)\r\n",
      "Requirement already satisfied: MarkupSafe>=2.0 in /opt/conda/lib/python3.10/site-packages (from jinja2->torch>=1.10.0->accelerate) (2.1.3)\r\n",
      "Requirement already satisfied: mpmath>=0.19 in /opt/conda/lib/python3.10/site-packages (from sympy->torch>=1.10.0->accelerate) (1.3.0)\r\n"
     ]
    }
   ],
   "source": [
    "!pip install datasets transformers accelerate evaluate sentencepiece"
   ]
  },
  {
   "cell_type": "code",
   "execution_count": 5,
   "id": "ddd024b1",
   "metadata": {
    "execution": {
     "iopub.execute_input": "2024-04-24T22:22:34.960066Z",
     "iopub.status.busy": "2024-04-24T22:22:34.959579Z",
     "iopub.status.idle": "2024-04-24T22:22:49.187643Z",
     "shell.execute_reply": "2024-04-24T22:22:49.186220Z"
    },
    "papermill": {
     "duration": 14.256033,
     "end_time": "2024-04-24T22:22:49.190672",
     "exception": false,
     "start_time": "2024-04-24T22:22:34.934639",
     "status": "completed"
    },
    "tags": []
   },
   "outputs": [
    {
     "name": "stdout",
     "output_type": "stream",
     "text": [
      "Requirement already satisfied: sentencepiece in /opt/conda/lib/python3.10/site-packages (0.2.0)\r\n"
     ]
    }
   ],
   "source": [
    "!pip install sentencepiece"
   ]
  },
  {
   "cell_type": "code",
   "execution_count": 6,
   "id": "f07d3760",
   "metadata": {
    "execution": {
     "iopub.execute_input": "2024-04-24T22:22:49.245847Z",
     "iopub.status.busy": "2024-04-24T22:22:49.245294Z",
     "iopub.status.idle": "2024-04-24T22:23:03.903843Z",
     "shell.execute_reply": "2024-04-24T22:23:03.902496Z"
    },
    "papermill": {
     "duration": 14.689649,
     "end_time": "2024-04-24T22:23:03.906717",
     "exception": false,
     "start_time": "2024-04-24T22:22:49.217068",
     "status": "completed"
    },
    "tags": []
   },
   "outputs": [
    {
     "name": "stdout",
     "output_type": "stream",
     "text": [
      "Requirement already satisfied: sentencepiece in /opt/conda/lib/python3.10/site-packages (0.2.0)\r\n"
     ]
    }
   ],
   "source": [
    "!pip install sentencepiece"
   ]
  },
  {
   "cell_type": "code",
   "execution_count": 7,
   "id": "e00f0ada",
   "metadata": {
    "execution": {
     "iopub.execute_input": "2024-04-24T22:23:03.959656Z",
     "iopub.status.busy": "2024-04-24T22:23:03.958599Z",
     "iopub.status.idle": "2024-04-24T22:23:04.046939Z",
     "shell.execute_reply": "2024-04-24T22:23:04.045749Z"
    },
    "papermill": {
     "duration": 0.116663,
     "end_time": "2024-04-24T22:23:04.049414",
     "exception": false,
     "start_time": "2024-04-24T22:23:03.932751",
     "status": "completed"
    },
    "tags": []
   },
   "outputs": [],
   "source": [
    "device = torch.device('cuda' if torch.cuda.is_available() else 'cpu')"
   ]
  },
  {
   "cell_type": "code",
   "execution_count": 8,
   "id": "0196c8b6",
   "metadata": {
    "execution": {
     "iopub.execute_input": "2024-04-24T22:23:04.101475Z",
     "iopub.status.busy": "2024-04-24T22:23:04.101088Z",
     "iopub.status.idle": "2024-04-24T22:23:32.766741Z",
     "shell.execute_reply": "2024-04-24T22:23:32.765866Z"
    },
    "papermill": {
     "duration": 28.694649,
     "end_time": "2024-04-24T22:23:32.769091",
     "exception": false,
     "start_time": "2024-04-24T22:23:04.074442",
     "status": "completed"
    },
    "tags": []
   },
   "outputs": [
    {
     "data": {
      "application/vnd.jupyter.widget-view+json": {
       "model_id": "3388cfc170104c2982095253e2531902",
       "version_major": 2,
       "version_minor": 0
      },
      "text/plain": [
       "tokenizer_config.json:   0%|          | 0.00/376 [00:00<?, ?B/s]"
      ]
     },
     "metadata": {},
     "output_type": "display_data"
    },
    {
     "data": {
      "application/vnd.jupyter.widget-view+json": {
       "model_id": "8c54c365ef1447489c30459f712a240c",
       "version_major": 2,
       "version_minor": 0
      },
      "text/plain": [
       "config.json:   0%|          | 0.00/702 [00:00<?, ?B/s]"
      ]
     },
     "metadata": {},
     "output_type": "display_data"
    },
    {
     "data": {
      "application/vnd.jupyter.widget-view+json": {
       "model_id": "412e9483138942058d46a641b1351cf1",
       "version_major": 2,
       "version_minor": 0
      },
      "text/plain": [
       "spiece.model:   0%|          | 0.00/4.31M [00:00<?, ?B/s]"
      ]
     },
     "metadata": {},
     "output_type": "display_data"
    },
    {
     "data": {
      "application/vnd.jupyter.widget-view+json": {
       "model_id": "64447a5f380a4b3fa05ee01d44eda98e",
       "version_major": 2,
       "version_minor": 0
      },
      "text/plain": [
       "special_tokens_map.json:   0%|          | 0.00/65.0 [00:00<?, ?B/s]"
      ]
     },
     "metadata": {},
     "output_type": "display_data"
    },
    {
     "data": {
      "application/vnd.jupyter.widget-view+json": {
       "model_id": "11dd9894ad0441fdb127808400c5d583",
       "version_major": 2,
       "version_minor": 0
      },
      "text/plain": [
       "pytorch_model.bin:   0%|          | 0.00/2.33G [00:00<?, ?B/s]"
      ]
     },
     "metadata": {},
     "output_type": "display_data"
    },
    {
     "data": {
      "application/vnd.jupyter.widget-view+json": {
       "model_id": "6994b86bf1c642d9b2943739e674a3e4",
       "version_major": 2,
       "version_minor": 0
      },
      "text/plain": [
       "generation_config.json:   0%|          | 0.00/147 [00:00<?, ?B/s]"
      ]
     },
     "metadata": {},
     "output_type": "display_data"
    }
   ],
   "source": [
    "from transformers import MBartForConditionalGeneration, AutoModelForSeq2SeqLM\n",
    "from transformers import AlbertTokenizer, AutoTokenizer\n",
    "model = \"google/mt5-base\"\n",
    "tokenizer = AutoTokenizer.from_pretrained(model, \n",
    "                                               do_lower_case=False, \n",
    "                                               use_fast=False, \n",
    "                                               keep_accents=True)\n",
    "\n",
    "model = AutoModelForSeq2SeqLM.from_pretrained(model).to(device)\n"
   ]
  },
  {
   "cell_type": "code",
   "execution_count": 9,
   "id": "53ed0372",
   "metadata": {
    "execution": {
     "iopub.execute_input": "2024-04-24T22:23:32.818398Z",
     "iopub.status.busy": "2024-04-24T22:23:32.817637Z",
     "iopub.status.idle": "2024-04-24T22:23:32.822639Z",
     "shell.execute_reply": "2024-04-24T22:23:32.821719Z"
    },
    "papermill": {
     "duration": 0.031649,
     "end_time": "2024-04-24T22:23:32.824615",
     "exception": false,
     "start_time": "2024-04-24T22:23:32.792966",
     "status": "completed"
    },
    "tags": []
   },
   "outputs": [],
   "source": [
    "bos_id = tokenizer._convert_token_to_id_with_added_voc(\"<s>\")\n",
    "eos_id = tokenizer._convert_token_to_id_with_added_voc(\"</s>\")\n",
    "pad_id = tokenizer._convert_token_to_id_with_added_voc(\"<pad>\")\n"
   ]
  },
  {
   "cell_type": "code",
   "execution_count": null,
   "id": "efb0bd5f",
   "metadata": {
    "papermill": {
     "duration": 0.023346,
     "end_time": "2024-04-24T22:23:32.871040",
     "exception": false,
     "start_time": "2024-04-24T22:23:32.847694",
     "status": "completed"
    },
    "tags": []
   },
   "outputs": [],
   "source": []
  },
  {
   "cell_type": "code",
   "execution_count": null,
   "id": "61904fe1",
   "metadata": {
    "papermill": {
     "duration": 0.023062,
     "end_time": "2024-04-24T22:23:32.917494",
     "exception": false,
     "start_time": "2024-04-24T22:23:32.894432",
     "status": "completed"
    },
    "tags": []
   },
   "outputs": [],
   "source": []
  },
  {
   "cell_type": "code",
   "execution_count": null,
   "id": "70b8eaa9",
   "metadata": {
    "papermill": {
     "duration": 0.023706,
     "end_time": "2024-04-24T22:23:32.965084",
     "exception": false,
     "start_time": "2024-04-24T22:23:32.941378",
     "status": "completed"
    },
    "tags": []
   },
   "outputs": [],
   "source": []
  },
  {
   "cell_type": "code",
   "execution_count": null,
   "id": "a85170c7",
   "metadata": {
    "papermill": {
     "duration": 0.023353,
     "end_time": "2024-04-24T22:23:33.012387",
     "exception": false,
     "start_time": "2024-04-24T22:23:32.989034",
     "status": "completed"
    },
    "tags": []
   },
   "outputs": [],
   "source": [
    "\n"
   ]
  },
  {
   "cell_type": "code",
   "execution_count": null,
   "id": "01db90d9",
   "metadata": {
    "papermill": {
     "duration": 0.022935,
     "end_time": "2024-04-24T22:23:33.058703",
     "exception": false,
     "start_time": "2024-04-24T22:23:33.035768",
     "status": "completed"
    },
    "tags": []
   },
   "outputs": [],
   "source": []
  },
  {
   "cell_type": "code",
   "execution_count": 10,
   "id": "b9410f85",
   "metadata": {
    "execution": {
     "iopub.execute_input": "2024-04-24T22:23:33.107646Z",
     "iopub.status.busy": "2024-04-24T22:23:33.107302Z",
     "iopub.status.idle": "2024-04-24T22:23:35.045321Z",
     "shell.execute_reply": "2024-04-24T22:23:35.044335Z"
    },
    "papermill": {
     "duration": 1.965851,
     "end_time": "2024-04-24T22:23:35.047906",
     "exception": false,
     "start_time": "2024-04-24T22:23:33.082055",
     "status": "completed"
    },
    "tags": []
   },
   "outputs": [],
   "source": [
    "train_path=\"/kaggle/input/text-rank/hindi_train_final_TEXTRANK.csv\"\n",
    "val_path=\"/kaggle/input/text-rank/hindi_val_final_TEXTRANK.csv\"\n",
    "test_path=\"/kaggle/input/text-rank/hindi_test_final_TEXTRANK.csv\"\n",
    "df_train=pd.read_csv(train_path)[[\"Article\", \"Summary\"]]\n",
    "df_val=pd.read_csv(val_path)[[\"Article\", \"Summary\"]]\n",
    "df_test=pd.read_csv(test_path)[[\"Article\", \"Summary\"]]\n"
   ]
  },
  {
   "cell_type": "code",
   "execution_count": 11,
   "id": "57938b06",
   "metadata": {
    "execution": {
     "iopub.execute_input": "2024-04-24T22:23:35.100325Z",
     "iopub.status.busy": "2024-04-24T22:23:35.099697Z",
     "iopub.status.idle": "2024-04-24T22:23:35.119392Z",
     "shell.execute_reply": "2024-04-24T22:23:35.118615Z"
    },
    "papermill": {
     "duration": 0.04763,
     "end_time": "2024-04-24T22:23:35.121598",
     "exception": false,
     "start_time": "2024-04-24T22:23:35.073968",
     "status": "completed"
    },
    "tags": []
   },
   "outputs": [],
   "source": [
    "df_train = df_train.dropna()\n",
    "df_val = df_val.dropna()\n",
    "df_test = df_test.dropna()"
   ]
  },
  {
   "cell_type": "code",
   "execution_count": 12,
   "id": "3b4e9a08",
   "metadata": {
    "execution": {
     "iopub.execute_input": "2024-04-24T22:23:35.173691Z",
     "iopub.status.busy": "2024-04-24T22:23:35.172881Z",
     "iopub.status.idle": "2024-04-24T22:23:35.679978Z",
     "shell.execute_reply": "2024-04-24T22:23:35.678958Z"
    },
    "papermill": {
     "duration": 0.53565,
     "end_time": "2024-04-24T22:23:35.682606",
     "exception": false,
     "start_time": "2024-04-24T22:23:35.146956",
     "status": "completed"
    },
    "tags": []
   },
   "outputs": [],
   "source": [
    "train_data = Dataset.from_pandas(df_train)\n",
    "val_data = Dataset.from_pandas(df_val)\n",
    "test_data = Dataset.from_pandas(df_test)"
   ]
  },
  {
   "cell_type": "code",
   "execution_count": 13,
   "id": "05c5552d",
   "metadata": {
    "execution": {
     "iopub.execute_input": "2024-04-24T22:23:35.732677Z",
     "iopub.status.busy": "2024-04-24T22:23:35.732265Z",
     "iopub.status.idle": "2024-04-24T22:23:35.740848Z",
     "shell.execute_reply": "2024-04-24T22:23:35.739965Z"
    },
    "papermill": {
     "duration": 0.036297,
     "end_time": "2024-04-24T22:23:35.742880",
     "exception": false,
     "start_time": "2024-04-24T22:23:35.706583",
     "status": "completed"
    },
    "tags": []
   },
   "outputs": [],
   "source": [
    "def compute_metrics(eval_pred):\n",
    "    predictions, labels = eval_pred\n",
    "    # Decode generated summaries into text\n",
    "    decoded_preds = tokenizer.batch_decode(predictions, skip_special_tokens=True)\n",
    "    # Replace -100 in the labels as we can't decode them\n",
    "    labels = np.where(labels != -100, labels, tokenizer.pad_token_id)\n",
    "    # Decode reference summaries into text\n",
    "    decoded_labels = tokenizer.batch_decode(labels, skip_special_tokens=True)\n",
    "    # ROUGE expects a newline after each sentence\n",
    "    decoded_preds = [\"\\n\".join(sent_tokenize(pred.strip())) for pred in decoded_preds]\n",
    "    decoded_labels = [\"\\n\".join(sent_tokenize(label.strip())) for label in decoded_labels]\n",
    "    # Compute ROUGE scores\n",
    "    result = rouge_score.compute(\n",
    "        predictions=decoded_preds, references=decoded_labels, use_stemmer=True\n",
    "    )\n",
    "    # Extract the median scores\n",
    "    result = {key: value * 100 for key, value in result.items()}\n",
    "    return {k: round(v, 4) for k, v in result.items()}"
   ]
  },
  {
   "cell_type": "code",
   "execution_count": 14,
   "id": "aa4e4f8a",
   "metadata": {
    "execution": {
     "iopub.execute_input": "2024-04-24T22:23:35.792054Z",
     "iopub.status.busy": "2024-04-24T22:23:35.791624Z",
     "iopub.status.idle": "2024-04-24T22:23:35.798029Z",
     "shell.execute_reply": "2024-04-24T22:23:35.797113Z"
    },
    "papermill": {
     "duration": 0.033855,
     "end_time": "2024-04-24T22:23:35.800036",
     "exception": false,
     "start_time": "2024-04-24T22:23:35.766181",
     "status": "completed"
    },
    "tags": []
   },
   "outputs": [],
   "source": [
    "def tokenize_helper(dat):\n",
    "    print(\"Article:\", type(dat[\"Article\"]))\n",
    "    print(\"Summary:\", type(dat[\"Summary\"]))\n",
    "    \n",
    "    model_inputs = tokenizer(\n",
    "        dat[\"Article\"],\n",
    "        truncation=True,\n",
    "        max_length=512  # Maximum length for articles\n",
    "    )\n",
    "    true_sent = tokenizer(\n",
    "        dat[\"Summary\"],\n",
    "        truncation=True,\n",
    "        max_length=64  # Maximum length for summaries\n",
    "    )\n",
    "    model_inputs[\"labels\"] = true_sent[\"input_ids\"]\n",
    "    return model_inputs\n",
    "\n"
   ]
  },
  {
   "cell_type": "code",
   "execution_count": 15,
   "id": "7fa679b2",
   "metadata": {
    "execution": {
     "iopub.execute_input": "2024-04-24T22:23:35.899137Z",
     "iopub.status.busy": "2024-04-24T22:23:35.898280Z",
     "iopub.status.idle": "2024-04-24T22:23:35.904348Z",
     "shell.execute_reply": "2024-04-24T22:23:35.903322Z"
    },
    "papermill": {
     "duration": 0.083651,
     "end_time": "2024-04-24T22:23:35.907147",
     "exception": false,
     "start_time": "2024-04-24T22:23:35.823496",
     "status": "completed"
    },
    "tags": []
   },
   "outputs": [],
   "source": [
    "def add_words(example):\n",
    "    # Modify the column 'column_name' by adding words to each entry\n",
    "    example['input'] = [entry + \"  </s> <2hi>\" for entry in example['Article']]\n",
    "    example['target'] = [\"<2hi> \" + entry + \" </s>\" for entry in example['Summary']]\n",
    "    return example\n"
   ]
  },
  {
   "cell_type": "code",
   "execution_count": 16,
   "id": "d71b3c45",
   "metadata": {
    "execution": {
     "iopub.execute_input": "2024-04-24T22:23:35.960044Z",
     "iopub.status.busy": "2024-04-24T22:23:35.959674Z",
     "iopub.status.idle": "2024-04-24T22:23:36.948293Z",
     "shell.execute_reply": "2024-04-24T22:23:36.947221Z"
    },
    "papermill": {
     "duration": 1.018549,
     "end_time": "2024-04-24T22:23:36.950771",
     "exception": false,
     "start_time": "2024-04-24T22:23:35.932222",
     "status": "completed"
    },
    "tags": []
   },
   "outputs": [
    {
     "data": {
      "application/vnd.jupyter.widget-view+json": {
       "model_id": "d875c71f61024eebb36fa9a471f13cc0",
       "version_major": 2,
       "version_minor": 0
      },
      "text/plain": [
       "Map:   0%|          | 0/19087 [00:00<?, ? examples/s]"
      ]
     },
     "metadata": {},
     "output_type": "display_data"
    },
    {
     "data": {
      "application/vnd.jupyter.widget-view+json": {
       "model_id": "03556ef85c2e47efbca597d843fa9bb8",
       "version_major": 2,
       "version_minor": 0
      },
      "text/plain": [
       "Map:   0%|          | 0/1061 [00:00<?, ? examples/s]"
      ]
     },
     "metadata": {},
     "output_type": "display_data"
    }
   ],
   "source": [
    "train_data=train_data.map(add_words, batched=True)\n",
    "val_data=val_data.map(add_words, batched=True)"
   ]
  },
  {
   "cell_type": "code",
   "execution_count": 17,
   "id": "84771a93",
   "metadata": {
    "execution": {
     "iopub.execute_input": "2024-04-24T22:23:37.004879Z",
     "iopub.status.busy": "2024-04-24T22:23:37.004411Z",
     "iopub.status.idle": "2024-04-24T22:24:44.853120Z",
     "shell.execute_reply": "2024-04-24T22:24:44.852025Z"
    },
    "papermill": {
     "duration": 67.878624,
     "end_time": "2024-04-24T22:24:44.855610",
     "exception": false,
     "start_time": "2024-04-24T22:23:36.976986",
     "status": "completed"
    },
    "tags": []
   },
   "outputs": [
    {
     "data": {
      "application/vnd.jupyter.widget-view+json": {
       "model_id": "4ba5440e7e28440cad01d4f292d5fce5",
       "version_major": 2,
       "version_minor": 0
      },
      "text/plain": [
       "Map:   0%|          | 0/19087 [00:00<?, ? examples/s]"
      ]
     },
     "metadata": {},
     "output_type": "display_data"
    },
    {
     "name": "stdout",
     "output_type": "stream",
     "text": [
      "Article: <class 'list'>\n",
      "Summary: <class 'list'>\n",
      "Article: <class 'list'>\n",
      "Summary: <class 'list'>\n",
      "Article: <class 'list'>\n",
      "Summary: <class 'list'>\n",
      "Article: <class 'list'>\n",
      "Summary: <class 'list'>\n",
      "Article: <class 'list'>\n",
      "Summary: <class 'list'>\n",
      "Article: <class 'list'>\n",
      "Summary: <class 'list'>\n",
      "Article: <class 'list'>\n",
      "Summary: <class 'list'>\n",
      "Article: <class 'list'>\n",
      "Summary: <class 'list'>\n",
      "Article: <class 'list'>\n",
      "Summary: <class 'list'>\n",
      "Article: <class 'list'>\n",
      "Summary: <class 'list'>\n",
      "Article: <class 'list'>\n",
      "Summary: <class 'list'>\n",
      "Article: <class 'list'>\n",
      "Summary: <class 'list'>\n",
      "Article: <class 'list'>\n",
      "Summary: <class 'list'>\n",
      "Article: <class 'list'>\n",
      "Summary: <class 'list'>\n",
      "Article: <class 'list'>\n",
      "Summary: <class 'list'>\n",
      "Article: <class 'list'>\n",
      "Summary: <class 'list'>\n",
      "Article: <class 'list'>\n",
      "Summary: <class 'list'>\n",
      "Article: <class 'list'>\n",
      "Summary: <class 'list'>\n",
      "Article: <class 'list'>\n",
      "Summary: <class 'list'>\n",
      "Article: <class 'list'>\n",
      "Summary: <class 'list'>\n"
     ]
    },
    {
     "data": {
      "application/vnd.jupyter.widget-view+json": {
       "model_id": "7f4b009d6c7c4058993f39dfbdc40e05",
       "version_major": 2,
       "version_minor": 0
      },
      "text/plain": [
       "Map:   0%|          | 0/1061 [00:00<?, ? examples/s]"
      ]
     },
     "metadata": {},
     "output_type": "display_data"
    },
    {
     "name": "stdout",
     "output_type": "stream",
     "text": [
      "Article: <class 'list'>\n",
      "Summary: <class 'list'>\n",
      "Article: <class 'list'>\n",
      "Summary: <class 'list'>\n"
     ]
    }
   ],
   "source": [
    "tokenized_train = train_data.map(tokenize_helper, batched=True)\n",
    "tokenized_val = val_data.map(tokenize_helper, batched=True)"
   ]
  },
  {
   "cell_type": "code",
   "execution_count": 18,
   "id": "f044f7fe",
   "metadata": {
    "execution": {
     "iopub.execute_input": "2024-04-24T22:24:44.917786Z",
     "iopub.status.busy": "2024-04-24T22:24:44.917330Z",
     "iopub.status.idle": "2024-04-24T22:24:44.928964Z",
     "shell.execute_reply": "2024-04-24T22:24:44.928066Z"
    },
    "papermill": {
     "duration": 0.045884,
     "end_time": "2024-04-24T22:24:44.931158",
     "exception": false,
     "start_time": "2024-04-24T22:24:44.885274",
     "status": "completed"
    },
    "tags": []
   },
   "outputs": [],
   "source": [
    "data_collator = DataCollatorForSeq2Seq(tokenizer, model = model)\n",
    "tokenized_train = tokenized_train.remove_columns(train_data.column_names)\n",
    "tokenized_val = tokenized_val.remove_columns(val_data.column_names)"
   ]
  },
  {
   "cell_type": "code",
   "execution_count": null,
   "id": "1c154e40",
   "metadata": {
    "papermill": {
     "duration": 0.029975,
     "end_time": "2024-04-24T22:24:44.992575",
     "exception": false,
     "start_time": "2024-04-24T22:24:44.962600",
     "status": "completed"
    },
    "tags": []
   },
   "outputs": [],
   "source": []
  },
  {
   "cell_type": "code",
   "execution_count": null,
   "id": "3774c27c",
   "metadata": {
    "papermill": {
     "duration": 0.030371,
     "end_time": "2024-04-24T22:24:45.055240",
     "exception": false,
     "start_time": "2024-04-24T22:24:45.024869",
     "status": "completed"
    },
    "tags": []
   },
   "outputs": [],
   "source": []
  },
  {
   "cell_type": "code",
   "execution_count": 19,
   "id": "abf2fd63",
   "metadata": {
    "execution": {
     "iopub.execute_input": "2024-04-24T22:24:45.119536Z",
     "iopub.status.busy": "2024-04-24T22:24:45.118440Z",
     "iopub.status.idle": "2024-04-24T22:24:46.716173Z",
     "shell.execute_reply": "2024-04-24T22:24:46.714934Z"
    },
    "papermill": {
     "duration": 1.632594,
     "end_time": "2024-04-24T22:24:46.718872",
     "exception": false,
     "start_time": "2024-04-24T22:24:45.086278",
     "status": "completed"
    },
    "tags": []
   },
   "outputs": [
    {
     "name": "stderr",
     "output_type": "stream",
     "text": [
      "Asking to truncate to max_length but no maximum length is provided and the model has no predefined maximum length. Default to no truncation.\n"
     ]
    },
    {
     "name": "stdout",
     "output_type": "stream",
     "text": [
      "<extra_id_0> उल्कापिंड हो गया।\n"
     ]
    }
   ],
   "source": [
    "temp = tokenizer(test_data[\"Article\"][0], truncation = True, padding=True, return_tensors='pt').input_ids.to(device)\n",
    "out = model.generate(temp, max_length=150, num_beams=4, early_stopping=True) \n",
    "decoded_output = tokenizer.decode(out[0], \n",
    "                                    skip_special_tokens=True, \n",
    "                                    clean_up_tokenization_spaces=False)\n",
    "\n",
    "print(decoded_output)\n"
   ]
  },
  {
   "cell_type": "code",
   "execution_count": 20,
   "id": "6d88d671",
   "metadata": {
    "execution": {
     "iopub.execute_input": "2024-04-24T22:24:46.779922Z",
     "iopub.status.busy": "2024-04-24T22:24:46.779199Z",
     "iopub.status.idle": "2024-04-24T22:24:46.798786Z",
     "shell.execute_reply": "2024-04-24T22:24:46.797744Z"
    },
    "papermill": {
     "duration": 0.052705,
     "end_time": "2024-04-24T22:24:46.801336",
     "exception": false,
     "start_time": "2024-04-24T22:24:46.748631",
     "status": "completed"
    },
    "tags": []
   },
   "outputs": [
    {
     "data": {
      "text/plain": [
       "\"दरअसल, उल्कापिंड जब धरती पर गिरते हैं, तो इनकी चमक इतनी ज्यादा होती है कि लगभग  200 से 300 किलोमीटर के दायरे के लोग आसमान में इसे देख सकते हैं। वहीं लोग इस घटना को देखने के बाद कई तरह की बात कह रहे हैं। इस फुटेज को महाराष्ट्र के नागपुर और मध्य प्रदेश के झाबुआ एवं बड़वानी जिलों में देखे जाने की खबर है। माना जा रहा है बिजली की चमक जैसी ये लकीरें उल्का हैं। वैसे तो इसे उल्का पिंड बताया जा रहा है, लेकिन खगोलविदों ने अनुमान लगाया है कि उपग्रह दुर्घटनाग्रस्त हो गया होगा। हालांकि इस घटना ने सबको आश्चर्य में डाल दिया है। वहीं कुछ खगोलविदों का मानना है कि यह घटना 'चीनी रॉकेट चरण का पुन: प्रवेश' थी, जिसे फरवरी 2021 में लॉन्च किया गया था। वीडियो देखने पर ऐसा लगता है मानों कोई उल्का पिंड या पुच्छल तार हो। आम लोगों से लेकर खगोलविद तक अलग-अलग बात कह रहे हैं, परंतु इस घटना से अभी तक किसी तरह का नुकसान नहीं हुआ है।। इस रोशनी को देखने वालों की मानें तो आकाश से ज़मीन की तरफ उन्हें तेज़ रफ्तार से रोशनी आती दिखी। ये सौर मंडल में चक्कर लगाते हुए किसी भी ग्रह के वायुमंडल में प्रवेश कर सकते हैं। छोटे-छोट उल्कापिंड की उम्र 100 साल या उसके आसपास होती है। Meteor falls: मध्य प्रदेश और महाराष्ट्र से आश्चर्यजनक फुटेज सामने आए हैं। इसके वीडियो सोशल मीडिया पर खूब वायरल हो रहे हैं। \""
      ]
     },
     "execution_count": 20,
     "metadata": {},
     "output_type": "execute_result"
    }
   ],
   "source": [
    "test_data[\"Article\"][0]"
   ]
  },
  {
   "cell_type": "code",
   "execution_count": 21,
   "id": "b784641d",
   "metadata": {
    "execution": {
     "iopub.execute_input": "2024-04-24T22:24:46.863624Z",
     "iopub.status.busy": "2024-04-24T22:24:46.862620Z",
     "iopub.status.idle": "2024-04-24T22:24:46.898515Z",
     "shell.execute_reply": "2024-04-24T22:24:46.897582Z"
    },
    "papermill": {
     "duration": 0.069545,
     "end_time": "2024-04-24T22:24:46.901033",
     "exception": false,
     "start_time": "2024-04-24T22:24:46.831488",
     "status": "completed"
    },
    "tags": []
   },
   "outputs": [],
   "source": [
    "batch_size = 2\n",
    "epochs = 4\n",
    "args = Seq2SeqTrainingArguments(\n",
    "    output_dir = \"/kaggle/working/\",\n",
    "    evaluation_strategy = \"epoch\",\n",
    "    save_strategy='epoch',  # Save model on last epoch\n",
    "    save_total_limit=1,\n",
    "    learning_rate = 1e-3,\n",
    "    per_device_train_batch_size = batch_size,\n",
    "    per_device_eval_batch_size = batch_size,\n",
    "    predict_with_generate=True,\n",
    "    num_train_epochs = epochs,\n",
    "    report_to=\"none\"\n",
    ")"
   ]
  },
  {
   "cell_type": "code",
   "execution_count": 22,
   "id": "d9425fde",
   "metadata": {
    "execution": {
     "iopub.execute_input": "2024-04-24T22:24:46.962387Z",
     "iopub.status.busy": "2024-04-24T22:24:46.961994Z",
     "iopub.status.idle": "2024-04-24T22:24:47.000535Z",
     "shell.execute_reply": "2024-04-24T22:24:46.999532Z"
    },
    "papermill": {
     "duration": 0.072306,
     "end_time": "2024-04-24T22:24:47.003214",
     "exception": false,
     "start_time": "2024-04-24T22:24:46.930908",
     "status": "completed"
    },
    "tags": []
   },
   "outputs": [],
   "source": [
    "trainer = Seq2SeqTrainer(\n",
    "    model,\n",
    "    args,\n",
    "    train_dataset=tokenized_train,\n",
    "    eval_dataset=tokenized_val,\n",
    "    data_collator=data_collator,\n",
    "    tokenizer=tokenizer,\n",
    "    compute_metrics=compute_metrics,\n",
    ")"
   ]
  },
  {
   "cell_type": "code",
   "execution_count": 23,
   "id": "077e7d82",
   "metadata": {
    "execution": {
     "iopub.execute_input": "2024-04-24T22:24:47.064570Z",
     "iopub.status.busy": "2024-04-24T22:24:47.063624Z",
     "iopub.status.idle": "2024-04-24T22:24:47.084539Z",
     "shell.execute_reply": "2024-04-24T22:24:47.083445Z"
    },
    "papermill": {
     "duration": 0.053288,
     "end_time": "2024-04-24T22:24:47.086789",
     "exception": false,
     "start_time": "2024-04-24T22:24:47.033501",
     "status": "completed"
    },
    "tags": []
   },
   "outputs": [],
   "source": [
    "import torch\n",
    "torch.cuda.empty_cache()"
   ]
  },
  {
   "cell_type": "code",
   "execution_count": 24,
   "id": "5d6c977d",
   "metadata": {
    "execution": {
     "iopub.execute_input": "2024-04-24T22:24:47.146903Z",
     "iopub.status.busy": "2024-04-24T22:24:47.146484Z",
     "iopub.status.idle": "2024-04-24T22:24:48.334899Z",
     "shell.execute_reply": "2024-04-24T22:24:48.333138Z"
    },
    "papermill": {
     "duration": 1.22192,
     "end_time": "2024-04-24T22:24:48.337815",
     "exception": false,
     "start_time": "2024-04-24T22:24:47.115895",
     "status": "completed"
    },
    "tags": []
   },
   "outputs": [],
   "source": [
    "!rm -rf /kaggle/working/*"
   ]
  },
  {
   "cell_type": "code",
   "execution_count": 25,
   "id": "a34c2f19",
   "metadata": {
    "execution": {
     "iopub.execute_input": "2024-04-24T22:24:48.401223Z",
     "iopub.status.busy": "2024-04-24T22:24:48.400174Z",
     "iopub.status.idle": "2024-04-25T04:10:06.911000Z",
     "shell.execute_reply": "2024-04-25T04:10:06.910011Z"
    },
    "papermill": {
     "duration": 20718.545602,
     "end_time": "2024-04-25T04:10:06.913955",
     "exception": false,
     "start_time": "2024-04-24T22:24:48.368353",
     "status": "completed"
    },
    "tags": []
   },
   "outputs": [
    {
     "name": "stderr",
     "output_type": "stream",
     "text": [
      "/opt/conda/lib/python3.10/site-packages/transformers/optimization.py:411: FutureWarning: This implementation of AdamW is deprecated and will be removed in a future version. Use the PyTorch implementation torch.optim.AdamW instead, or set `no_deprecation_warning=True` to disable this warning\n",
      "  warnings.warn(\n",
      "/opt/conda/lib/python3.10/site-packages/torch/nn/parallel/_functions.py:68: UserWarning: Was asked to gather along dimension 0, but all input tensors were scalars; will instead unsqueeze and return a vector.\n",
      "  warnings.warn('Was asked to gather along dimension 0, but all '\n"
     ]
    },
    {
     "data": {
      "text/html": [
       "\n",
       "    <div>\n",
       "      \n",
       "      <progress value='19088' max='19088' style='width:300px; height:20px; vertical-align: middle;'></progress>\n",
       "      [19088/19088 5:45:15, Epoch 4/4]\n",
       "    </div>\n",
       "    <table border=\"1\" class=\"dataframe\">\n",
       "  <thead>\n",
       " <tr style=\"text-align: left;\">\n",
       "      <th>Epoch</th>\n",
       "      <th>Training Loss</th>\n",
       "      <th>Validation Loss</th>\n",
       "      <th>Rouge1</th>\n",
       "      <th>Rouge2</th>\n",
       "      <th>Rougel</th>\n",
       "      <th>Rougelsum</th>\n",
       "    </tr>\n",
       "  </thead>\n",
       "  <tbody>\n",
       "    <tr>\n",
       "      <td>1</td>\n",
       "      <td>1.544600</td>\n",
       "      <td>1.436609</td>\n",
       "      <td>9.253100</td>\n",
       "      <td>2.707300</td>\n",
       "      <td>9.036400</td>\n",
       "      <td>9.093000</td>\n",
       "    </tr>\n",
       "    <tr>\n",
       "      <td>2</td>\n",
       "      <td>1.280900</td>\n",
       "      <td>1.265425</td>\n",
       "      <td>10.245300</td>\n",
       "      <td>3.256000</td>\n",
       "      <td>9.890500</td>\n",
       "      <td>9.943800</td>\n",
       "    </tr>\n",
       "    <tr>\n",
       "      <td>3</td>\n",
       "      <td>1.045000</td>\n",
       "      <td>1.210453</td>\n",
       "      <td>11.804400</td>\n",
       "      <td>3.933100</td>\n",
       "      <td>11.179800</td>\n",
       "      <td>11.247200</td>\n",
       "    </tr>\n",
       "    <tr>\n",
       "      <td>4</td>\n",
       "      <td>0.837700</td>\n",
       "      <td>1.237283</td>\n",
       "      <td>12.226600</td>\n",
       "      <td>4.305100</td>\n",
       "      <td>11.663100</td>\n",
       "      <td>11.753900</td>\n",
       "    </tr>\n",
       "  </tbody>\n",
       "</table><p>"
      ],
      "text/plain": [
       "<IPython.core.display.HTML object>"
      ]
     },
     "metadata": {},
     "output_type": "display_data"
    },
    {
     "name": "stderr",
     "output_type": "stream",
     "text": [
      "/opt/conda/lib/python3.10/site-packages/torch/nn/parallel/_functions.py:68: UserWarning: Was asked to gather along dimension 0, but all input tensors were scalars; will instead unsqueeze and return a vector.\n",
      "  warnings.warn('Was asked to gather along dimension 0, but all '\n",
      "/opt/conda/lib/python3.10/site-packages/torch/nn/parallel/_functions.py:68: UserWarning: Was asked to gather along dimension 0, but all input tensors were scalars; will instead unsqueeze and return a vector.\n",
      "  warnings.warn('Was asked to gather along dimension 0, but all '\n",
      "/opt/conda/lib/python3.10/site-packages/torch/nn/parallel/_functions.py:68: UserWarning: Was asked to gather along dimension 0, but all input tensors were scalars; will instead unsqueeze and return a vector.\n",
      "  warnings.warn('Was asked to gather along dimension 0, but all '\n"
     ]
    },
    {
     "data": {
      "text/plain": [
       "TrainOutput(global_step=19088, training_loss=1.2769897769502703, metrics={'train_runtime': 20718.0383, 'train_samples_per_second': 3.685, 'train_steps_per_second': 0.921, 'total_flos': 9.051388478466048e+16, 'train_loss': 1.2769897769502703, 'epoch': 4.0})"
      ]
     },
     "execution_count": 25,
     "metadata": {},
     "output_type": "execute_result"
    }
   ],
   "source": [
    "trainer.train()"
   ]
  },
  {
   "cell_type": "code",
   "execution_count": 26,
   "id": "c0b86533",
   "metadata": {
    "execution": {
     "iopub.execute_input": "2024-04-25T04:10:06.971173Z",
     "iopub.status.busy": "2024-04-25T04:10:06.970382Z",
     "iopub.status.idle": "2024-04-25T04:14:49.306527Z",
     "shell.execute_reply": "2024-04-25T04:14:49.305518Z"
    },
    "papermill": {
     "duration": 282.366991,
     "end_time": "2024-04-25T04:14:49.308709",
     "exception": false,
     "start_time": "2024-04-25T04:10:06.941718",
     "status": "completed"
    },
    "tags": []
   },
   "outputs": [
    {
     "name": "stderr",
     "output_type": "stream",
     "text": [
      "/opt/conda/lib/python3.10/site-packages/torch/nn/parallel/_functions.py:68: UserWarning: Was asked to gather along dimension 0, but all input tensors were scalars; will instead unsqueeze and return a vector.\n",
      "  warnings.warn('Was asked to gather along dimension 0, but all '\n"
     ]
    },
    {
     "data": {
      "text/html": [
       "\n",
       "    <div>\n",
       "      \n",
       "      <progress value='266' max='266' style='width:300px; height:20px; vertical-align: middle;'></progress>\n",
       "      [266/266 04:36]\n",
       "    </div>\n",
       "    "
      ],
      "text/plain": [
       "<IPython.core.display.HTML object>"
      ]
     },
     "metadata": {},
     "output_type": "display_data"
    },
    {
     "data": {
      "text/plain": [
       "{'eval_loss': 1.2372831106185913,\n",
       " 'eval_rouge1': 12.2266,\n",
       " 'eval_rouge2': 4.3051,\n",
       " 'eval_rougeL': 11.6631,\n",
       " 'eval_rougeLsum': 11.7539,\n",
       " 'eval_runtime': 282.3269,\n",
       " 'eval_samples_per_second': 3.758,\n",
       " 'eval_steps_per_second': 0.942,\n",
       " 'epoch': 4.0}"
      ]
     },
     "execution_count": 26,
     "metadata": {},
     "output_type": "execute_result"
    }
   ],
   "source": [
    "trainer.evaluate()"
   ]
  },
  {
   "cell_type": "code",
   "execution_count": 27,
   "id": "4c0f68e4",
   "metadata": {
    "execution": {
     "iopub.execute_input": "2024-04-25T04:14:49.367342Z",
     "iopub.status.busy": "2024-04-25T04:14:49.367030Z",
     "iopub.status.idle": "2024-04-25T04:14:49.371433Z",
     "shell.execute_reply": "2024-04-25T04:14:49.370497Z"
    },
    "papermill": {
     "duration": 0.036245,
     "end_time": "2024-04-25T04:14:49.373870",
     "exception": false,
     "start_time": "2024-04-25T04:14:49.337625",
     "status": "completed"
    },
    "tags": []
   },
   "outputs": [
    {
     "name": "stdout",
     "output_type": "stream",
     "text": [
      "model evaluation done\n"
     ]
    }
   ],
   "source": [
    "print(\"model evaluation done\")"
   ]
  },
  {
   "cell_type": "code",
   "execution_count": 28,
   "id": "6eca50d1",
   "metadata": {
    "execution": {
     "iopub.execute_input": "2024-04-25T04:14:49.428183Z",
     "iopub.status.busy": "2024-04-25T04:14:49.427905Z",
     "iopub.status.idle": "2024-04-25T04:47:00.153074Z",
     "shell.execute_reply": "2024-04-25T04:47:00.151935Z"
    },
    "papermill": {
     "duration": 1930.755126,
     "end_time": "2024-04-25T04:47:00.156330",
     "exception": false,
     "start_time": "2024-04-25T04:14:49.401204",
     "status": "completed"
    },
    "tags": []
   },
   "outputs": [],
   "source": [
    "actual=[]\n",
    "pred=[]\n",
    "for i in range(len(test_data)):\n",
    "    actual.append(test_data[\"Article\"][i])\n",
    "    temp = tokenizer(test_data[\"Article\"][i], truncation = True, padding=True, return_tensors='pt').input_ids.to(device)\n",
    "    out = model.generate(temp, max_length=150, num_beams=4, early_stopping=True) \n",
    "    decoded_output = tokenizer.decode(out[0], \n",
    "                                    skip_special_tokens=True, \n",
    "                                    clean_up_tokenization_spaces=False)\n",
    "    pred.append(decoded_output)\n",
    "\n",
    "# print(decoded_output)"
   ]
  },
  {
   "cell_type": "code",
   "execution_count": 29,
   "id": "b730172f",
   "metadata": {
    "execution": {
     "iopub.execute_input": "2024-04-25T04:47:00.303405Z",
     "iopub.status.busy": "2024-04-25T04:47:00.302983Z",
     "iopub.status.idle": "2024-04-25T04:47:00.307822Z",
     "shell.execute_reply": "2024-04-25T04:47:00.306710Z"
    },
    "papermill": {
     "duration": 0.035505,
     "end_time": "2024-04-25T04:47:00.309922",
     "exception": false,
     "start_time": "2024-04-25T04:47:00.274417",
     "status": "completed"
    },
    "tags": []
   },
   "outputs": [],
   "source": [
    "import pickle"
   ]
  },
  {
   "cell_type": "code",
   "execution_count": 30,
   "id": "6a062ec1",
   "metadata": {
    "execution": {
     "iopub.execute_input": "2024-04-25T04:47:00.366904Z",
     "iopub.status.busy": "2024-04-25T04:47:00.366522Z",
     "iopub.status.idle": "2024-04-25T04:47:00.374140Z",
     "shell.execute_reply": "2024-04-25T04:47:00.373025Z"
    },
    "papermill": {
     "duration": 0.038085,
     "end_time": "2024-04-25T04:47:00.376516",
     "exception": false,
     "start_time": "2024-04-25T04:47:00.338431",
     "status": "completed"
    },
    "tags": []
   },
   "outputs": [
    {
     "name": "stdout",
     "output_type": "stream",
     "text": [
      "predictions\n"
     ]
    }
   ],
   "source": [
    "with open(\"/kaggle/working/pred\", 'wb') as file:\n",
    "    # Dump the list into the file using pickle\n",
    "    pickle.dump(pred, file)\n",
    "    \n",
    "    \n",
    "print(\"predictions\")"
   ]
  },
  {
   "cell_type": "code",
   "execution_count": 31,
   "id": "26b7570f",
   "metadata": {
    "execution": {
     "iopub.execute_input": "2024-04-25T04:47:00.433162Z",
     "iopub.status.busy": "2024-04-25T04:47:00.432822Z",
     "iopub.status.idle": "2024-04-25T04:47:00.447253Z",
     "shell.execute_reply": "2024-04-25T04:47:00.446246Z"
    },
    "papermill": {
     "duration": 0.044654,
     "end_time": "2024-04-25T04:47:00.449114",
     "exception": false,
     "start_time": "2024-04-25T04:47:00.404460",
     "status": "completed"
    },
    "tags": []
   },
   "outputs": [
    {
     "name": "stdout",
     "output_type": "stream",
     "text": [
      "actuals\n"
     ]
    }
   ],
   "source": [
    "with open(\"/kaggle/working/actual\", 'wb') as file:\n",
    "    # Dump the list into the file using pickle\n",
    "    pickle.dump(actual, file)\n",
    "    \n",
    "    \n",
    "print(\"actuals\")"
   ]
  },
  {
   "cell_type": "code",
   "execution_count": 32,
   "id": "edd117d9",
   "metadata": {
    "execution": {
     "iopub.execute_input": "2024-04-25T04:47:00.504738Z",
     "iopub.status.busy": "2024-04-25T04:47:00.503858Z",
     "iopub.status.idle": "2024-04-25T04:47:00.517501Z",
     "shell.execute_reply": "2024-04-25T04:47:00.516691Z"
    },
    "papermill": {
     "duration": 0.066885,
     "end_time": "2024-04-25T04:47:00.543104",
     "exception": false,
     "start_time": "2024-04-25T04:47:00.476219",
     "status": "completed"
    },
    "tags": []
   },
   "outputs": [
    {
     "name": "stdout",
     "output_type": "stream",
     "text": [
      "['इस फुटेज को महाराष्ट्र के नागपुर और मध्य प्रदेश के झाबुआ एवं बड़वानी जिलों में देखे जाने की खबर है। इस फुटेज को महाराष्ट्र के नागपुर और मध्य प्रदेश के झाबुआ एवं बड़वानी जिलों में', 'रूस के डिप्टी फॉरेन मिनिस्टर ने बुधवार को ऐलान किया है कि वो अब से न्यू START ट्रीटी के तहत अपने नए परमाणु हथियारों की टेस्टिंग की जानकारी अमेरिका को नहीं देगा।', 'पूर्व रक्षा मंत्री और समाजवादी पार्टी के सरंक्षक मुलायम सिंह यादव कोरोना संक्रमित पाए गए हैं। इसकी जानकारी समाजवादी पार्टी के ट्वीटर हैंडल से ट्वीट करके दी गई है।', 'कर्नाटक में भारतीय जनता पार्टी के विधायक बसनगौड़ा पाटिल यतनाल ने दावा किया है कि कुछ लोगों ने उनसे संपर्क कर 2,500 करोड़ रुपये (2500 crore to become CM) में राज्य के मुख्यमंत्री', 'उत्तर प्रदेश में सीतापुर जिले के विकास भवन रजिस्ट्री कार्यालय में एक बंदर ने हंगामा खड़ा कर दिया। यहां बंदर एक बुजुर्ग आदमी से करेंसी नोटों से भरा बैग छीन कर पेड़ पर चढ़', 'Rajasthan Junaid Nasir Murder Case - Follow Junaid Nasir Murder Latest News, Reports and Updates On Dainik Bhaskar. सलूणी सब डिवीजन में धारा 144 होने की वजह से उन्हें चौहड़ा में ही रोक दिया', 'पाकिस्तान की अपनी अर्थव्यवस्था अनिश्चितता के दौर से गुजर रही है और अफगानिस्तान की अर्थव्यवस्था को सुधारने की प्लानिंग कर रहा है। पिछले 20 वर्षों में अफगानिस्तान में अमेरिकी सैन्य कार्रवाई', 'अरुणाचल प्रदेश के पासीघाट नगर परिषद (पीएमसी) की आठ में से छह सीटें जीत कर भाजपा ने स्थानीय निकाय का शासन कांग्रेस से छीन लिया है वहीं ईटानगर में हुए नगर निगम चुनाव', 'पुलिस ने कहा कि एसडीएम ने गायों को बचाए जाने के काम पर गौर फरमाया और इसी के मद्देनजर छह घायल मवेशियों को इलाज के लिए पास की गौशाला में स्थानांतरित कर दिया।', 'कानपुर के बिकरू गांव में हुए विकास दुबे कांड के मामले से कथित रूप से जुड़ा एक ऑडियो वायरल हो रहा है। कथित वायरल ऑडियो बिकरू कांड में शहीद CO देवेंद्र मिश्रा और', 'प्रतापगढ़ जिले के थाना कोतवाली लालगंज क्षेत्र के बाबूतारा गांव में शनिवार की रात पुलिस और बदमाशों के बीच मुठभेड़ के दौरान हुई गोलीबारी में दो पुलिस आरक्षी और एक', 'उत्तर प्रदेश में ऐतिहासिक जीत के बाद योगी आदित्यनाथ के शपथ ग्रहण समारोह की तैयारियां जोरों पर चल रही हैं। हाल ही में डिप्टी सीएम को लेकर बड़ी जानकारी सामने आई है।', 'स्वास्थ्य मंत्रालय ने एक बयान में कहा कि इलेक्ट्रॉनिक और सूचना प्रौद्योगिकी मंत्रालय की कम्प्यूटर इमरजेंसी रिस्पॉन्स टीम को-विन प्रणाली को कथित तौर पर हैक करने के मामले की जा', 'किसान आंदोलन शुरू हुए चार सप्ताह हो चुके हैं और इसके कारण सीमा पर कई बिंदुओं पर यातायात का मार्ग परिवर्तित किया गया है जिसकी वजह से यात्रियों को असुविधा का साम', 'दिल्ली से नोएडा जाने वाले लोगों का रैंडम कोरोना टेस्ट किया जाएगा। रैंडम सैंपलिंग का फैसला मंगलवार को जिलाधिकारी सुहास एलवाई के साथ वरिष्ठ प्रशासन और स्वास्थ्य विभाग के', 'Rajasthan Vidhan Sabha (Assembly) Election 2023 Strategy - राजनीतिक पार्टियों को चुनाव जीतने और सत्ता में आने के अलावा कुछ सूझता ही नहीं है।', 'अमिताभ बच्चन ने दिया हेल्थ अपडेट सेहत के बारे में बात करते हुए अमिताभ ने बताया कि वो आजकल सार्वजनिक जगहों पर नहीं जा पा रहे हैं। अपने लेटेस्ट ब्लॉग में बिग', 'काबुल पर तालिबान के नियंत्रण के साथ ही विदेश मंत्री एस. जयशंकर ने बुधवार को कहा कि भारत अफगानिस्तान में बदलते घटनाक्रम पर ‘‘काफी सावधानीपूर्वक’’ नजर रख रहा है', 'दादर और नगर हवेली के दिवंगत सांसद मोहन डेलकर के बेटे अभिनव डेलकर ने मुंबई में महाराष्ट्र के मुख्यमंत्री उद्धव ठाकरे से मुलाकात की।', 'Petrol Diesel Price Today - [Aaj Petrol Diesel Ka Rate Kya Rahega]. पेट्रोल-डीजल की कीमतों में कोई बदलाव नहीं हुआ है। फिलहाल दिल्ली में पेट्रोल 96.72 रुपए लीटर है तो डीजल 89.62 रुपए लीटर', 'पूर्वी लद्दाख में चीन के साथ गतिरोध पर भारत ने बृहस्पतिवार को कहा कि क्षेत्र में सैनिकों के पीछे हटने की प्रक्रिया जल्द पूरी होनी चाहिए तथा सीमावर्ती इलाकों में पूर्ण', 'अमरिंदर सिंह ने सभी दलों से किसानों की सहायता और पंजाब के हित में एकता की भावना से बैठक में शामिल होने का आग्रह किया।', 'Uttar Pradesh Umesh Pal Murder Case - Follow Uttar Pradesh Umesh Pal Murder Case Latest News, Updates On Dainik Bhaskar. गुड् डू मुस्लिम लखनऊ में रहने के दौरान फैजाबाद के हिस्ट्रीशीटर सत्येंद्र', 'हैदराबाद में एक दुल्हन ने दूल्हे से कम दहेज मिलने पर शादी तोड़ दी। मृतका के परिजनों ने ससुराल पक्ष पर हत्या का आरोप लगाते हुए हंगामा कर दिया था और मृतका के ससु', 'Russia Ukraine War Video Goes Viral - यूक्रेन जंग शुरू होने के बाद पहली बार अमेरिका और रूस में सीधा टकराव हुआ है। अब अमेरिकी एयरफोर्स ने इस घटना का वीडियो जारी किया है', 'एक्जिमा और सोरायसिस में हो सकता है खतरनाक एक्जिमा और सोरायसिस स्किन से जुड़ी गंभीर बीमारियां हैं। लेकिन क्या आप जानते हैं कि नींबू का रस पीने से सेहत भी खराब हो सकती है', 'राजस्थान में कोरोना वायरस संक्रमण के 2089 नये मामले रविवार को आये। इसके बाद शादी करने के लिए जोड़े ने सरकार के कोरोना वायरस प्रोटोकॉल फॉलो करते हुए विवाह समारोह आ', 'भाजपा के बागी विधायक बसनगौड़ा पाटिल यतनाल ने कर्नाटक के मुख्यमंत्री बी एस येदियुप्पा पर फिर से निशाना साधते हुए रविवार को दावा किया कि पांच राज्यों में विधानसभा चु', 'एक्टर विक्की कौशल ने एक इंटरव्यू में अपने और अपने पैरेंट्स के स्ट्रगलिंग डेज पर बात की। इस इंटरव्यू में विक्की ने पैरेंट्स और अपने स्ट्रगल के अलावा मां से मिलने वा', \"Dainik Bhaskar Morning News and Latest Headlines; Here are today's top stories for you On Dainik Bhaskar. महाराष्ट्र के अहमदनगर जिले में सोमवार शाम बोरवेल में गिरे पांच साल के बच्चे की मौत हो गई है।\", 'प्रधानमंत्री नरेंद्र मोदी ने शुक्रवार को सरदार वल्लभभाई पटेल राष्ट्रीय पुलिस अकादमी के दीक्षांत समारोह में वीडियो कॉन्फ्रेंसिंग के जरिए आईपीएस प्रोबेशनर्स को संबोधित किया।', 'बांग्लादेश के वनडे कप्तान तमीम इकबाल ने एक ही दिन में अपने संन्यास के फैसले को वापस ले लिया है। जिसके बाद तमीम इकबाल ने गुरुवार को प्रेस कांफ्रेंस में वनडे इंटर', 'Apple Watch 10 with iOS 17 in March 2023 टेक कंपनी एपल ने एनुअल डेवलपर्स कॉन्फ्रेंस में iOS 17 के फीचर्स अनवील किए हैं। अब एपल वॉच यूजर्स डिजिटल क्राउन से ‘स्मार्ट स्ट', 'कांग्रेस महासचिव प्रियंका गांधी वाड्रा ने उत्तर प्रदेश के सीतापुर जिले में एक डॉक्टर की हत्या की घटना को लेकर बुधवार को राज्य की भाजपा सरकार पर निशाना साधा और आरोप लगाया कि प्रदेश में सु', 'Gujarat Titans vs Sunrisers Hyderabad Match LIVE Score Update; Follow IPL 2023 Latest News, RCB Vs SRH IPL LIVE Updates with Dainik Bhaskar (दैनिक भास्कर).', 'पिछले वर्ष 27 दिसंबर को भारतीय जनता पार्टी के पीलीभीत के सांसद वरुण गांधी ने अपनी ही पार्टी की सरकार के रात्रिकालीन कर्फ्यू के फैसले और चुनावी रैलियों पर सवाल उठाते', 'India Vs Australia (IND VS AUS) Indore Test Squad - भारत को एक अंडर-19 वर्ल्ड कप जिताने और 2 बार रनर-अप बनाने वाले कोच राहुल द्रविड़ अगर इनमें भी फेल रहे तो टीम इंडिया', 'दैनिक भास्कर ने 21 मई को मध्यप्रदेश के सरकारी स्कूलों में बच्चों को घटिया ड्रेस दिए जाने के मामले को प्रमुखता से छापा था। भास्कर द्वारा प्रकशित इस खबर से जुड़ा एक स्क्रीन', 'गुजरात से कांग्रेस के राज्यसभा सांसद अहमद पटेल कोरोना संक्रमित पाए गए हैं।', 'ट्विटर के सीईओ एलन मस्क को अपने ही पूर्व कर्मचारी से माफी मांगनी पड़ी। कई कर्मचारियों ने ट्विटर के अधिकारियों से लेकर मालिक यानी एलन मस्क तक को मेल किया लेकिन कोई', 'भारत में तेंदुओं की संख्या बढ़कर 2018 में 12,000 से अधिक हो गई जबकि 2014 में यह करीब 8,000 थी।', 'Rajasthan Udaipur Indore Murder Case - गैंगस्टर रणिया, उसके अपराधी बेटे का इलाके में खौफ रणिया नाम के व्यक्ति और उसके पुत्र खाजरू का पूरे कोटड़ा क्षेत्र में खौफ है। इन अप', 'पूर्व राष्ट्रपति प्रणब मुखर्जी का सोमवार को निधन हो गया। उनके फेफड़े में इंफेक्शन भी बढ़ गया था, जिस कारण उन्हें वेंटिलेटर सपोर्ट पर रखा गया था।', 'केंद्रीय स्वास्थ्य मंत्रालय की तरफ से जारी किए गए आंकड़ों के मुताबिक पिछले 24 घंटों के दौरान देशभर में कोरोना की वजह से 336 लोगों की जान गई है और अबतक कोरोना की', 'Bollywood Actor Sanjay Dutt Speaks About His Daughter Sanjay Dutt. सुनील भैया को उस मैडम (दिव्या मित्तल) ने 12 दिनों तक जो सवाल पर सवाल किए और उल्टा-सीधा जो फंसाया तो', 'Parliament Session Updates; Rahul Gandhi London Speech Controversy विपक्षी एकता की बैठक शुक्रवार को पटना में मुख्यमंत्री आवास में होगी। विपक्षी एकता की बैठक शुक्रवार को पटना में मुख्यमंत्री आवास में हो', 'शुक्रवार, 18 जुलाई को मेष राशि के लोगों को सफलता मिल सकती है। मिथुन राशि के लोगों को सफलता मिल सकती है। कर्क राशि के लोगों को सफलता मिल सकती है। मिथुन रा', 'नेवल शिपयार्ड मुंबई ने 281 अप्रेंटिसशिप की सीधी भर्ती के लिए आवेदन मांगे हैं। स्टाइपेंड सिलेक्टेड कैंडिडेट्स को 6 हजार रुपये से लेकर 7 हजार रुपये स्टाइपेंड', 'उत्तराखंड में बेकाबू होते जा रहे कोरोना वायरस को देखते हुए सरकार ने देहरादून समेत सर्वाधिक प्रभावित तीन जिलों में बृहस्पतिवार से 10 मई तक कर्फ्यू लगा दिया है तथा बाकी जिल', 'गोवा सरकार ने कोरोना वायरस संक्रमण के प्रसार को रोकने के लिए राज्य में 9 मई से 15 दिनों के कर्फ्यू लगाने की शुक्रवार को घोषणा की।', 'कंगना जल्द ही फिल्म चंद्रमुखी 2 में नजर आने वाली हैं। हाल ही में उन्होंने फिल्म की शूटिंग पूरी की है, जिसके बाद एक्ट्रेस ने फिल्म के को-एक्टर राघव', 'उत्तर प्रदेश में सभी सरकारी और प्राइवेट स्कूलों में कक्षा 6 से कक्षा 8 के छात्रों की  Class 10 फरवरी 2021 और प्राथमिक स्तर कक्षा 1 से कक्षा 5 की  Class संचालित करने के निर्देश दिए हैं', 'LAC पर फॉरवर्ड बेस से इंडिया टीवी के संवाददाता अमित पालित की Super Exclusive रिपोर्ट के मुताबिक, मुखपरी में भारत और चीन की सेना बिल्कुल आमने-सामने सिर्फ 170-200 मीटर की दूरी पर', 'जयपुर के नगर निगम हेरिटेज की मेयर सहित 50 पार्षदों ने इस्तीफा दे दिया है और अपनी ही सरकार के खिलाफ 16 घंटे से धरने पर हैं।', 'खालसा कॉलेज में पंजाब के मुख्यमंत्री भगवंत मान पहुंचे और कार्यक्रम का आगाज किया। मुख्यमंत्री भगवंत मान ने कहा कि पंजाब शिक्षा की नीति में सुधार ला रहा है।', \"LG's initial public offering (LG) to invest Rs 300 crore in the world. कोरियाई इलेक्ट्रॉनिक्स इंडस्ट्री की दो पावर हाउस कंपनियां सैमसंग और LG रोबोट्स बनाने में लगी हुई हैं। कंप\", 'अमित शाह के बाद केंद्रीय पेट्रोलियम मंत्री धर्मेंद्र प्रधान और अर्जुन मेघवाल भी कोरोना संक्रमित पाए जा चुके हैं। 51 साल के धर्मेंद्र प्रधान ने ट्वीट कर अपने कोरोना संक्रमित होने की जान', 'पुलिस की FIR में कहा गया है कि इन सभी लोगों ने ट्विटर पर घटना की सत्यता को जांचे बिना ही घटना को सांप्रदायिक रंग दे दिया और इनके द्वारा शांति को अस्त व्यस्त करने', 'भारतीय जनता पार्टी ने शनिवार को संगठन में बड़ा फेरबदल करते हुए कई बड़े नेताओं को उनके पद से हटा दिया है। पार्टी ने प्रवक्ताओं की अपनी सूची को भी विस्तारित किया है।', 'IPL 2023 Kolkata Knight Riders vs Gujarat Titans IPL Match LIVE Score Update; Follow IPL 2023 Latest News, KKR vs GT IPL Match Updates with Dainik Bhaskar (दैनिक भास्कर).', 'आंध्र प्रदेश के मुख्यमंत्री वाई एस जगन मोहन रेड्डी ने सोमवार को राज्य मंत्रिमंडल का पुनर्गठन किया, जिसमें 13 नए चेहरों को शामिल किया गया और 11 लोगों को फिर से', 'जीवन में सुख-शांति तभी मिल सकती है, जब हमारे पास अपनी जरूरतें पूरी करने के लिए पर्याप्त धन है। पैसों की कमी होगी तो दिक्कतें बनी रहेंगी। जब से कोई व्यक्ति', 'भारत के सभी प्रधानमंत्रियों के बारे में जागरूकता पैदा करने के लिए विकसित किया गया है। इसे भारत के सभी प्रधानमंत्रियों के बारे में जागरूकता पैदा करने के लिए विकसित किया गया है।', 'Manipur Women Paraded Naked Video Controversy - मणिपुर में मैतेई और कुकी समुदाय के बीच हिंसा की मुख्य वजह हाईकोर्ट का एक आदेश है। इस आदेश में मणिपुर हाईकोर्ट ने राज्य के', 'खेलो इंडिया यूनिवर्सिटी गेम्स 2023 को अब तक का सबसे बड़ा खेल आयोजन माना जा रहा है। इस इवेंट का एक वीडियो सोशल मीडिया पर वायरल है जिसमें कैलाश आयोजकों को खरी-ख', 'याचिका में छात्राओं और कामकाजी महिलाओं के लिए पीरियड्स से होने वाले दर्द के लिए अवकाश दिए जाने की मांग की गई है।', 'कृषि संबंधित विधेयकों को राज्यसभा में पेश किए जाने के बीच कांग्रेस ने रविवार को इस मुद्दे को लेकर केंद्र पर हमला तेज कर दिया और उसपर न्यूनतम समर्थन मूल्य को कानूनी जि', 'रक्षा मंत्रालय ने मंगलवार को कहा कि भारतीय वायुसेना के 75 विमानों का भव्य फ्लाई-पास्ट, प्रतिस्पर्धी प्रक्रिया के माध्यम से चयनित 480 नर्तकों द्वारा सांस्कृतिक प्रदर्शन, 75 मीटर लं', 'कर्नाटक के मुख्यमंत्री बसवराज बोम्मई ने बुधवार को छात्रों से अदालत के आदेश का पालन करने की अपील की और स्थानीय और कॉलेज प्रशासन से छात्रों को शिक्षा प्राप्त करने की अनुमति', 'कर्नाटक विधान परिषद में आज गौरक्षक कानून को लेकर भारी हंगामा हुआ। विधान परिषद में आज एक दिन का विशेष सत्र बुलाया गया लेकिन सत्र शुरू होने से पहले ही भाजपा और', 'पंजाब प्रदेश कांग्रेस कमेटी के अध्यक्ष पद से इस्तीफा देने वाले नवजोत सिंह सिद्धू आज शाम 7 बजे पार्टी के संगठन महासचिव के सी वेणुगोपाल और प्रदेश प्रभारी हरीश रावत से पं', 'कांग्रेस महासचिव प्रियंका गांधी ने आरएसएस के खाकी-नेकर वाले पारंपरिक गणवेश (पहनावा) वाली प्रधानमंत्री नरेंद्र मोदी, संघ प्रमुख मोहन भागवत और केंद्रीय मंत्री नितिन गडकरी की', 'कर्नाटक कांग्रेस प्रमुख डी. के. शिवकुमार की संपत्तियों पर केंद्रीय जांच ब्यूरो (सीबीआई) की छापेमारी का कड़ा विरोध करते हुए पार्टी ने सोमवार को कहा कि वह राजनीति का शिकार हुए हैं', 'Khalistani Amritpal Singh Case Update; Follow Waris Punjab De Chief and Amritpal Singh Latest News, Videos and Report On Dainik Bhaskar (दैनिक भास्कर)', 'Gender Discrimination in North Korea - Gender Discrimination In North Korea. नॉर्थ कोरिया और किम जोंग उन की तानाशाही किसी से छिपी नहीं है। किम जोंग के एक नए फरमान ने देश की कई महिलाओं को', 'Parliament Monsoon Session 2023 Update. Follow Lok Sabha Session Live News, Debates Reports On Dainik Bhaskar (दैनिक भास्कर) लोकसभा में बुधवार को कांग्रेस ने सरकार के खिलाफ अविश्वास प्रस्ताव पेश किया।', 'पाकिस्तान और इंटरनेशनल मॉनेटरी फंड (IMF) के बीच फिर तनातनी शुरू हो गई है। IMF की मांग है कि पाकिस्तान अपनी इकोनॉमी को बेहतर करने के लिए एक्सपोर्ट पर टैक्स', 'प्रधानमंत्री आवास योजना के तहत लाखों लोगों को कल (बुधवार 20 जनवरी) को धन लाभ होने वाला है। प्रधानमंत्री नरेंद्र मोदी प्रधानमंत्री आवास योजना के तहत 6.1 लाख लोगों को 2691 करोड़ रुपए', 'सहारनपुर जिले में रामलीला के दौरान कुर्सी उठाने को लेकर हुए मामूली विवाद के बाद दो युवक आपस में भिड़ गए और एक ने चाकू से वार कर दूसरे को लहुलुहान कर दिया', 'एनडीए के सहयोगी दल राष्ट्रीय लोकतांत्रिक पार्टी से सांसद हनुमान बेनीवाल ने किसान बिलों के विरोध में एनडीए छोड़ने की बड़ी घोषणा की है।', 'ईरान में लड़कियां हिजाब की हिफाजत के लिए भी सड़क पर उतरती हैं, लेकिन मीडिया में ये कोई नहीं दिखाता।', 'RBI की इस घोषणा के बाद लोगों ने अपने नोट बाजार में खपाने शुरू कर दिए हैं। RBI की इस घोषणा के बाद लोगों ने अपने नोट बाजार में खपाने शुरू कर दिए हैं।', \"Uttar Pradesh (UP) Bageshwar Dham Sarkar Dhirendra Krishna Shastri Controversial Remark - तुलसी पीठाधीश्वर जगदगुरु स्वामी रामभद्राचार्य महाराज ने शुक्रवार को आगरा में कहा, 'हिंदुत्व देवो भव और राष्ट्र\", 'अपने ही शहर में मुखिया के कार्यक्रमों से दूर रहे मंत्री सत्ताधारी पार्टी में इन दिनों अंदरखाने बहुत कुछ चल रहा है। अपने ही शहर में मुखिया के कार्यक्रमों से दूर रहे मंत्री सत्ताधारी', 'कोरोना वैक्सीन चोरी के आरोप में दो लोग गिरफ्तार नोएडा ईकोटेक- 3 क्षेत्र के खेड़ा चौगानपुर गांव में अवैध तरीके से कोविड-19 का टीका लगाकर लोगों से पैसा वसूलने के आ', 'Titanic Tourist Submarine Missing In Atlantic Ocean - टाइटैनिक जहाज के मलबे को देखने के लिए लोगों को ले जाने वाली टाइटन पनडुब्बी रविवार दोपहर से लापता है।', 'रक्षा मंत्री राजनाथ सिंह ने कहा कि कारगिल में भारतीय ध्वज इसलिए लहरा रहा है क्योंकि 1999 में भारतीय सैनिकों ने अपने शौर्य का परिचय देते हुए दुश्मनों की छाती पर अपना तिं', 'झारखंड के देवघर में त्रिकुट पर्वत पर रोप-वे का रेस्क्यू ऑपरेशन पूरा हो गया। सुरक्षा की दृष्टि से रोप-वे को हफ्ते में एक बार प्रोपर तरीके से मेंटेनेंस करना जरूरी है।', 'टेक्नो ने फोन में नया टर्बो मेका (Turbo Mecha) डिजाइन लेकर आई है। कंपनी ने 4G स्मार्टफोन को अपनी ऑफिशियल वेबसाइट पर लिस्ट कर दिया है। कंपनी ने 4G स्म', 'कविनगर थाना पुलिस ने सोमवार (5 अक्टूबर) को एनसीआर में तस्करी के लिए ओड़िशा से लाया जा रहा करीब 02 करोड़ रुपए कीमत का करीब 650 किलो गांजा व घटना में इस्तेमाल', 'Uttar Pradesh Umesh Pal Murder Case - उमेश पाल मर्डर केस में दोनों भाई की कोर्ट में पेशी अतीक के साथ ही बरेली जेल में बंद उसके भाई अशरफ को भी उमेश पाल हत्याकांड में पुलिस प्रय', 'प्रधानमंत्री नरेंद्र मोदी लखनऊ में कल्याण सिंह के घर जाकर उन्हें श्रद्धांजलि दी। प्रधानमंत्री इस समय मॉल एवेन्यू में मौजूद कल्याण सिंह के आवास पर हैं।', 'उत्तर प्रदेश में कोरोना टीकाकरण का आंकड़ा 2.23 करोड़ पहुंच गया है। वहीं, प्रदेश में रविवार को 3.10 लाख टेस्ट में सिर्फ 1100 नए संक्रमित मरीज मिले जिसकी वजह से अब 71 जि', 'रतलाम से इंदौर जा रही डेमू ट्रेन में रविवार सुबह भीषण आग लग गई। बस पकड़ने के लिए कई यात्री हाईवे तक पैदल गए ट्रेन में आग लगने के बाद यात्रियों के', 'WFI President Brij Bhushan Sharan Singh Sexual Harassment Case भारतीय कुश्ती संघ (WFI) अध्यक्ष बृजभूषण शरण सिंह के खिलाफ दिल्ली के जंतर-मंतर पर बजरंग पूनिया, साक्षी मलिक और विनेश फो', \"Mukesh Ambani's Birthday Special Story; What is the story of Mukesh Ambani's Birthday? Follow Mukesh Ambani's Birthday Special Story On Dainik Bhaskar (दैनिक भास्कर)\", 'जम्मू कश्मीर के राजौरी में आतंकी हमले में शहीद हुए हिमाचल प्रदेश के नायक अरविंद कुमार का आज अंतिम संस्कार किया गया। इस मौके पर बहू को लाल जोड़े में देख शह', 'देश में संक्रमण से अभी तक कुल 4,46,050 लोगों की मौत हुई है, जिनमें से महाराष्ट्र के 1,38,664 लोग, कर्नाटक के 37,658 लोग, तमिलनाडु के 35,400 लोग, दिल्ली के 22,089 लो', 'सरकारी नौकरी की तलाश में जुटे युवाओं के लिए हम फिर से 5 लेटेस्ट सरकारी नौकरियों की जानकारी के साथ हाजिर हैं। पहली नौकरी: दिल्ली हाईकोर्ट में सीनियर पर्सनल अस', 'भागवत का भाषण और संगठन मुखिया की झपकी नेताओं का जीवन आज के दौर में कैमरे के सामने है, इसलिए फूक फूंक कर कदम रखना जरूरी होता है। छवि चमकाने वालों ने राय', 'केदारनाथ तीर्थ पुरोहित समाज के अनुसार, मुख्यमंत्री तीरथ सिंह रावत ने मुख्यमंत्री बनने के तुरंत बाद बोर्ड पर फिर से विचार करने का आश्वासन दिया था।', 'WFI President Brij Bhushan Sharan Singh Sexual Harassment Case भारतीय कुश्ती संघ (WFI) के पूर्व अध्यक्ष बृजभूषण सिंह और रेसलर बजरंग पूनिया, साक्षी मलिक व विनेश फोगाट केस में नया', 'संसद का शीतकालीन सत्र 29 नवंबर से शुरू होगा और इसके 23 दिसंबर को समाप्त होने की संभावना है। राज्यसभा के सभापति एम वेंकैया नायडू ने रविवार शाम को संसद के उच्च सद', 'राहुल ने टीना को राखी से मिलवाया और बताया कि यह भी तुम्हारी ही तरह गोलगप्पे की शौकीन है। टीना को कई बार टाइम चेक करते देखकर छोटू बोल पड़ा, “क्या हु', 'फतेहपुर जिले में एक मां और बेटी ने तेज रफ्तार ट्रेन के सामने कूदकर आत्महत्या कर ली है। इस हादसे में दोनों को कई चोटें आई हैं, जिससे मौके पर ही इन', 'नए नए कानून के खिलाफ सरकार स्ट्रगल कर रही लोकल न्यूज इंडस्ट्री को सपोर्ट करना चाहती है। इसके जरिए कनाडा टेक्नोलॉजी कंपनियों पर स्ट्रिक रेगुलेशन चाहता है,', 'Madhya Pradesh BJP MLA Pravesh Shukla Case - मध्यप्रदेश के सीधी में आदिवासी पर पेशाब करने के मामले में राजनीति गरमा गई है। बुधवार को जहां आरोपी प्रवेश शुक्ला के घर पर प्रशासन ने तोड़', 'केंद्रीय स्वास्थ्य मंत्रालय ने रविवार को विदेशों से भारत आने वाले अंतरराष्ट्रीय यात्रियों के लिए नई गाइडलाइंस जारी की है जो कि 1 दिसंबर (बुधवार) से लागू हो जाएगी।', 'सोनीपत पुलिस ने संयुक्ता किसान मोर्चा द्वारा कुंडली-गाजियाबाद-पलवल (केजीपी)- कुंडली मानेसर पलवल एक्सप्रेसवे (केएमपी) पर जाम के मद्देनजर किसी भी अ', 'संसद के बजट सत्र में शामिल होने के दौरान अमित शाह और कांग्रेस के वरिष्ठ नेता पी. चिदंबरम आमने-सामने आ गए तो दोनों नेताओं ने एक-दूसरे का मुस्कुराते हुए अभिवाद', 'चीन की पीपुल्स लिबरेशन आर्मी (PLA) यहां लगातार अपनी ताकत बढ़ाने की कोशिश कर रही है। अमेरिकी थिंक टैंक चेटहेम हाउस ने दावा किया है कि चीन ने अक्', 'Alibaba Founder Mahendra Singh Dhami Speaks About Dream 11 In India. Follow BIB Latest News, Reports and Updates On Dainik Bhaskar (दैनिक भास्कर) अमित जैन: फर्स्ट सीजन में के दौरान मैंने देखा कि मेरे आसपास', 'निसान मोटर्स ने अपनी पॉप्युलर कॉम्पेक्ट SUV मैग्नाइट को रियल ड्राइविंग एमिशन (RRE) नोर्म्स के अनुसार अपडेट कर दिया है। कंपनी ने कार में से कुछ खास फीचर्स', 'हिमाचल के मनाली में वेब सीरीज सरजमीं की शूटिंग के लिए फिल्म अभिनेत्री काजोल शुक्रवार को स्पेन रिजॉर्ट पहुंची, जहां होटल स्टाफ ने उनका कुल्लवी परंपरा अनुसार स्वा', 'राष्ट्रपति भवन ने कहा कि इस दौरान राष्ट्रपति ने केंद्र और राज्य सरकारों के 63 विधेयकों को मंजूरी दी और महामारी के दौरान लोगों की जान बचाने के लिए कोविड-19 योद्धाओं के कार्यों की भी सराह', 'Bollywood Actress Ooltah Chashmah Wedding Anniversary Special Story. Follow Bollywood News in Hindi, Latest Headlines, Videos On Dainik Bhaskar (दैनिक भास्कर)', 'Uttar Pradesh Mafia Atiq Ahmed Ashraf Ahmed Murder Case - Follow Atiq Ahmed Killers Latest News On Dainik Bhaskar. उत्तर प्रदेश के अतीक अहमद के बेटे असद को यूपी पुलिस ने एनकाउंटर में मार गिराया। इसमें कौन-', 'RBI Bank Recruitment 2023 - बैंकिंग क्षेत्र में नौकरी की तैयारी कर रहे युवाओं के लिए अच्छी खबर है। IDBI बैंक की ऑफिशियल वेबसाइट idBI Bank.in पर जाकर 7 जून तक अ', 'पूरा देश कोरोना वायरस संक्रमण महामारी की दूसरी लहर से जूझ रहा है। ऐसे में कांग्रेस के पूर्व अध्यक्ष राहुल गांधी ने सोमवार को केंद्र सरकार पर कोरोना संकट से निपटने और जनता के', 'किसानों के आंदोलन को विभिन्न विपक्षी दलों की ओर से समर्थन दिए जाने और प्रधानमंत्री नरेन्द्र मोदी के नेतृत्व वाली केंद्र सरकार पर हमले किए जाने के बाद भाजपा ने इन कार्यक्रमों की', 'भारतीय मूल के अजय बंगा को वर्ल्ड बैंक का नया अध्यक्ष चुना गया है। मास्टरकार्ड के CEO रह चुके बंगा वर्ल्ड बैंक के अध्यक्ष बनने वाले भारतीय मूल के पहले व्यक्ति होंगे।', 'हिसार सेना भर्ती कार्यालय के निदेशक कर्नल मोहित सिंह (सेना मेडल) ने बताया कि ऑनलाइन परीक्षा के लिए अभ्यर्थी द्वारा आवेदक परीक्षा शुल्क 250 रुपए का भुगतान किया जाना है', 'भारतीय कुश्ती संघ के पूर्व अध्यक्ष बृजभूषण शरण सिंह के खिलाफ दिल्ली पुलिस के अधीन विचाराधीन यौन शोषण के केसों में कोई कार्रवाई न होने की बात कहते हुए पहलवानों का', 'Khalistani Amritpal Singh NRI Wife Kirandeep Kaur Exclusive Interview. Follow Waris Punjab De Chief and Amritpal Singh Latest News, Reports and Updates On Dainik Bhaskar (दैनिक भास्कर)', 'Aग्निपथ योजना आने से पहले एयरफोर्स में नियुक्ति के लिए इंतजार कर रहे उम्मीदवारों की याचिका पर सुप्रीम कोर्ट 17 अप्रैल को सुनवाई करेगा।', 'भारत सरकार ने सीरम इंस्टीट्यूट ऑफ इंडिया के उस आग्रह को ठुकरा दिया है, जिसके तहत उसने ब्रिटेन को कोविशिल्ड की 50 लाख डोज एक्सपोर्ट करने की इजाजत मांगी थी।', \"चाइनीज टेक कंपनी शाओमी ने मंगलवार (13 जून) को भारत में 'शाओमी पैड 6' टैबलेट लॉन्च कर दिया है। बायर्स इसे 21 जून से कंपनी की ऑफिशियल वेबस\", 'कोरोनावायरस दुनिया की पहली सबसे बड़ी महामारी है जिसने इतनी बड़ी संख्या में लोगों को प्रभावित किया है। इस बीच लोगों की एक मात्र आशा कोरोना वैक्सीन पर टिकी है।', 'गो फर्स्ट की वेबसाइट के अनुसार एयरलाइन एक समय रोजाना 27 डोमेस्टिक और 8 इंटरनेशनल डेस्टिनेशन के लिए 200 से ज्यादा फ्लाइट ऑपरेट करती थी। एयरलाइन के CEO कौशिक खोना', 'बॉलीवुड एक्ट्रेस रकुल प्रीत सिंह ने राम चरण और उपासना को इंस्टाग्राम स्टोरी पर पोस्ट करते हुए बधाई दी है। इस खुशी के मौके पर राम चरण के माता-पिता मेगास्टार', 'प्रधानमंत्री नरेंद्र मोदी पश्चिम बंगाल के श्रीधाम ठाकुरनगर में मतुआ समुदाय की प्रख्यात हस्ति श्री श्री हरिचंद ठाकुर की 211 जयंती पर आयोजित ‘ मतुआ धर्म महा मेला’ को आज यानी मंगलवार को वीडियो', 'मैकेंजी की हाल में आई रिपोर्ट में खुलासा हुआ है कि दुनियाभर में पुरुषों को जिस पद पर जिस काम के लिए सौ रुपए मिलते हैं, महिलाओं को उसी पद पर उसी काम के लिए केवल 73 रुपए', 'आज रील टू रियल में हम अंशुका से जानेंगे कि बॉलीवुड के सितारे कैसे योग के जरिए अपनी फिटनेस का ध्यान रखते हैं, कैसे योग उनकी ट्रांसफॉर्मेशन जर्नली में उनकी', 'हिमाचल प्रदेश के शिमला में मंगलवार देर रात एक अस्पताल में कोरोना वायरस से संक्रमित 54 वर्षीय एक महिला ने फांसी लगाकर कथित तौर पर आत्महत्या कर ली।', 'Prime Minister Narendra Modi US Visit Latest News Update; Follow Prime Minister Narendra Modi US Visit Latest News, Reports and Updates On Dainik Bhaskar (दैनिक भास्कर)', 'लंदन के वेंबली स्टेडियम में अपनी चैम्पियनशिप बेल्ट डिफेंड करने उतरेंगी। खिताब जीतने के बाद ह्य्गेज पहली बार शनिवार को लंदन के वेंबली स्टेडियम में अपनी', 'Sarkari Naukri 2023 Latest Sarkari Job Alert (01 July 2023) - Government Jobs Latest Govt Jobs Vacancies Eligibility And Selection Process Latest Details सरकारी नौकरी की तलाश में जुटे युवाओं के लिए हम फिर से 5 लेट', 'वेस्टर्न रेलवे द्वारा यात्रियों की सहूलियत को देखते हुए 4 जोड़ी नई स्पेशल ट्रेनें चलाने का फैसला किया है। ये सभी ट्रेनें पूरी तरह से आरक्षित हैं, इनमें यात्रा करने के', 'उत्तराखंड की राजनीति में उठा-पठक के बीच मुख्यमंत्री त्रिवेंद्र सिंह रावत ने मंगलवार को राजभवन जाकर गवर्नर बेबी रानी मौर्य को अपना इस्तीफा सौंप दिया।', 'Rajasthan Congress Internal Crisis - Dainik Bhaskar [Ground Report] From Dainik Bhaskar. सचिन और गहलोत की लड़ाई जिस मुक़ाम पर पहुँच गई है, वहाँ किसी तरह के कोई समझौते की', 'केंद्रीय गृह मंत्री अमित शाह ने गुरुवार को कम समय में मुख्यमंत्री बसवराज बोम्मई द्वारा उठाए गए ‘छोटे लेकिन महत्वपूर्ण कदमों’ की सराहना की।', 'उच्च सदन में विधेयक पर हुई चर्चा का जवाब देते हुए गृह राज्य मंत्री जी किशन रेड्डी ने कहा कि संविधान के अनुसार सीमित अधिकारों वाली दिल्ली विधानसभा से युक्त एक केंद्रशासित राज्य है।', 'प्रधानमंत्री नरेंद्र मोदी की अध्यक्षता में बुधवार को हुई कैबिनेट मीटिंग में चुनाव सुधार से जुड़े एक बिल को मंजूरी दी गई। बिल के मुताबिक, आने वाले समय में वोटर आईडी कार्ड को', 'भारतीय रेलवे द्वारा कई स्पेशल रेल गाड़ियों को यात्रियों की संख्या में बेहद कमी होने व परिचालनिक व अन्य वजहों से निरस्त कर दिया है।', 'अमेरिका के सर्जन जनरल विवेक मूर्ति ने एक रिपोर्ट में कहा था कि सामाजिक जुड़ाव की कमी का मानव स्वास्थ्य पर वैसा ही प्रभाव पड़ता है, जैसा एक दिन में 15 सिगरेट पीने से पड़ता है', 'Bollywood Actress Deepika Padukone Speaks About Ranveer Singh And Ranveer Singh. हाल ही में दीपिका पादुकोण ने रणवीर सिंह के साथ अपने रिलेशनशिप और करियर पर TIME मैगजीन से बात की।', 'Parineeti Chopra Raghav Chadha Engagement - परिणीति चोपड़ा ने 13 मई को राज्यसभा सांसद राघव चड्ढा से सगाई की है। जिसके बाद से लगातार कपल की फोटोज और वीडियो सोशल मीडिया', 'Rakhi Sawant Kissing Case - राखी सावंत पिछले दिनों अपनी शादी को लेकर काफी सुर्खियों में थीं। राखी ने कहा है कि वो पूरी सच्चाई के साथ इस्लाम को फॉलो कर रही हैं', '‘कहो पाखी आज मॉर्निंग वॉक पर नहीं गईं’ ‘गई थी दीदी, परंतु अभी वहां पर भी छंटनी शुरू हो रही है इस वजह से एक चिंता है, तो खर्चे सीमित करने', 'एटा जिले में मलावन थानाक्षेत्र के नगला भूपाल गांव में 27 वर्षीय एक महिला ने पति से फोन पर झगड़ा होने के बाद फांसी लगाकर कथित रूप से आत्महत्या कर ली।', 'केन्द्रीय स्वास्थ्य मंत्रालय ने एक बयान में कहा कि एक जून तक देश में केवल एक लाख लोग संक्रमणमुक्त हुए थे जिसमें अब काफी वृद्धि हुई है और आखिरी 10 लाख लोग केवल 11 दिन', 'पांच राज्यों में कांग्रेस की करारी हार के बाद सोनिया गांधी ने सोशल मीडिया से लोकतंत्र हैक करने का गंभीर मुद्दा लोकसभा में उठाया। पॉलिटिकल नैरेटिव सेट करने के लिए नेताओं,', 'US President Joe Biden Attacks On Joe Biden - अमेरिकी राष्ट्रपति की यह हरकत कैमरों में कैद हो गई और अब इस पर सवाल उठ रहे हैं। अमेरिकी राष्ट्रपति की यह हरकत कैमरों में कैद हो ग', \"स्मार्टफोन मेकर कंपनी मोटोरोला 3 जुलाई को भारत में 'मोटोरोला रेजर 40' और 'मोटोरोला रेजर 40 अल्ट्रा' लॉन्च करेगी। कंपनी ने लॉन्चिंग से पहले\", 'उत्तर प्रदेश में गत 24 घंटो में कोविड-19 से 19 और रोगियों की मौत हो गई जिन्हें मिलाकर प्रदेश में इस महामारी से अबतक कुल 7,760 लोगों की जान जा चुकी है।', 'बेंगलुरु के चिकपेटे मार्केट में नीदरलैंड के एक यूट्यूबर से बदतमीजी का मामला सामने आया है। यूट्यूबर प्रेडो मोटा ने रविवार को इस घटना का वीडियो अपने यूट्यूब चैनल', 'उत्तर प्रदेश के बाहुबली मुख्तार अंसारी पर पोटा (आतंकवाद निरोधक अधिनियम) लगाने वाले पूर्व उप पुलिस अधीक्षक शैलेन्द्र सिंह पर वर्ष 2004 में दर्ज तोड़फोड़ और मारपीट का मुकदमा वापस ले', 'उत्तर प्रदेश एटीएस ने एक मोबाइल नंबर जारी किया और ऐसे लोगों से उस मोबाइल नंबर पर अपनी जानकारी देने के लिए कहा गया है जिनका जबरन धर्म परिवर्तन कराया गया है।', 'पाकिस्तान में अब एक चीन के नागरिक पर ईशनिंदा का आरोप लगा है। जिस शख्स पर ईशनिंदा का आरोप लगा है उसे गिरफ्तार कर लिया गया है।', 'मृत छात्र के परिजनों के हवाले से उन्होंने बताया कि छात्र शुक्रवार तड़के करीब 4 बजे पेशाब करने के लिए घर से बाहर निकला था, तभी से लापता था।', 'Bollywood Actress Malaika Arora Spotted At Mumbai Airport. 5 साल से एक-दूसरे को डेट कर रहे अर्जुन-मलाइका अर्जुन कपूर और मलाइका 5 साल से एक-दूसरे को डेट कर रहे हैं।', 'ईरान में 9 साल की उम्र पार करने के बाद लड़कियों को मौत की सजा दी जा सकती है। फांसी के तख्त पर पहुंचने से पहले ईरान का हर युवा जिसे मौत की सजा सुनाई', 'अंतरराष्ट्रीय साइबर क्राइम गैंग से जुड़े दो चीनी नागरिकों को उत्तर प्रदेश पुलिस के आतंकवाद निरोधक दस्ते (एटीएस) ने नोएडा से गिरफ्तार किया है।', \"ट्विटर ने साल 2021 से मौजूद 'सुपर फॉलो' के ऑप्शन को 'सब्सक्रिप्शन' के रूप में रीब्रांड किया है। इससे पहले ये यूजर्स प्लेटफॉर्म पर 1 घंटे\", 'कांग्रेस नेता और वरिष्ठ एडवोकेट कपिल सिब्बल ने ये मामले सुप्रीम कोर्ट के समक्ष मेंशन किया और साथ ही इससे जुड़े विवाद का भी जिक्र कोर्ट में किया।', 'मुंबई के छत्रपति शिवाजी स्टेशन के पुनर्विकास को अडाणी रेलवेज, जीएमआर सहित नौ कंपनियों ने लगाई बोलीये पुनर्विकसित स्टेशन यात्रियों को अत्याधुनिक सुविधाएं प्रदान करेंगे और उन', 'भारतीय नागरिक कुलभूषण जाधव को किडनैप करके पाकिस्तान की सेना को सौंपने वाले आतंकी मुल्ला उमर ईरानी की मौत हो गई है।', 'भारत मौसम विज्ञान विभाग के एक अधिकारी ने यहां बताया कि पंजाब और हरियाणा की संयुक्त राजधानी चंडीगढ़ में न्यूनतम तापमान 11.4 डिग्री सेल्सियस दर्ज किया गया जो कि सामान्य से छह', 'China China China सेंसरशिप का इतिहास पुराना है, लेकिन AI पर सेंसरशिप को लेकर चीन की सरकार भी पसोपेश में है। चीन में सेंसरशिप का इतिहास पुराना है', 'उत् तर प्रदेश में पिछले 24 घंटे में कोविड-19 से 23 और लोगों की मौतें होने के साथ महामारी से मरने वाले लोगों की कुल संख्या बढ़ कर बढ़ कर शनिवार को 7900 हो गई।', 'अफगानिस्तान के लिए संयुक्त राष्ट्र की विशेष दूत ने शुक्रवार को कहा कि पिछले एक महीने के दौरान तालिबान द्वारा 1,000 से अधिक नागरिकों की हत्या के साथ ही जंग अब एक बेहद ही ख', 'BSE NSE Sensex Today, Stock Market Latest Updates; अडाणी एंटरप्राइजेज का शेयर 5% से ज्यादा चढ़ा सेंसेक्स के 30 शेयरों में से 24 में तेजी और 6 में गिरावट रही।', \"जौनपुर जिले के बक्शा क्षेत्र के चितौड़ी गांव निवासी दीक्षा सिंह ने शुक्रवार को एक होटल में पत्रकारों से बातचीत में कहा, 'मैने गांव से कक्षा तीन तक की पढ़ाई पूरी की\", 'प्रधानमंत्री नरेन्द्र मोदी आज डिजिटल माध्यम से पांच देशों के समूह ब्रिक्स (ब्राजील, रूस, चीन, भारत और दक्षिण अफ्रीका) के सालाना शिखर सम्मेलन की अध्यक्षता करेंगे।', 'उत्तर प्रदेश में कोरोना की चाल अब थमने लगी है। प्रदेश सरकार इसी क्रम में 600 बाल रोग विशेषज्ञ डॉक्टर्स भर्ती कर रही है।', 'राष्ट्रीय जांच एजेंसी (एनआईए) ने प्रतिबंधित आतंकवादी संगठन जूंद अल अक्सा के कथित सदस्यों के खिलाफ अपनी जांच के सिलसिले में केरल में सात स्थानों पर मंगलवार को छापे', 'हिमाचल प्रदेश के शिमला और मनाली में जोरदार बर्फबारी हुई। पहाड़ी इलाकों में हुई बर्फबारी के बाद दिल्ली में भी पारा 2-3 डिग्री नीचे आ गया है।', 'पंजाब प्रदेश कांग्रेस कमेटी के पूर्व प्रधान नवजोत सिंह सिद्धू ने निकाय मंत्री डॉ. इंद्रबीर सिंह निज्जर के इस्तीफे के बाद सीएम भगवंत मान को अहंकारी मुख्यमंत्री बताते हुए ट्वीट', 'देश की राजधानी दिल्ली से उत्तर प्रदेश की राजधानी लखनऊ का सफर बहुत जल्द ही सिर्फ ढाई घंटे में पूरा किया जा सकेगा। यह ट्रेन अपने आखिरी स्टेशन वाराणसी तक पहुंचने में', \"बीआर चोपड़ा की 'महाभारत' में मामा शकुनि का किरदार निभाने वाले एक्टर गूफी पेंटल की हालत नाजुक है। 78 वर्षीय गूफी पिछले काफी वक्त से बीमार चल रहे थे\", 'सूत्रों ने बताया था कि कांग्रेस अध्यक्ष सोनिया गांधी की अगुवाई में हुई इस बैठक में इस बात पर जोर दिया कि तीनों कृषि कानूनों को निरस्त करने संबंधी विधेयक सत्र के पहले', 'सनी लियोनी ने हाल ही में कांस फिल्म फेस्टिवल में डेब्यू किया था। अब वह इन दिनों अपने पति डेनियल वेबर और बच्चों के साथ मालदीव्स में वेकेशन मना रही हैं', 'बॉलीवुड एक्टर अजय देवगन ने मुंबई के अंधेरी वेस्ट इलाके में नया ऑफिस खरीदा है। उन्होंने हाल ही में अभिषेक कपूर की अगली फिल्म के लिए शूटिंग शुरू की है', 'ओडिशा में शनिवार को बीते 24 घंटों में कोरोना वायरस से संक्रमण के452 नए मामले सामने आए हैं।', 'सुप्रीम कोर्ट ने शुक्रवार को उत्तर-पूर्वी दिल्ली दंगों के मामलों में नताशा नरवाल, देवांगना कलिता और आसिफ इकबाल तन्हा को जमानत देने के दिल्ली हाईकोर्ट के फैसले पर गंभीर मुद्', 'प्रधानमंत्री नरेंद्र मोदी के पंजाब दौरे के दौरान हुई सुरक्षा में चूक पर सुप्रीम कोर्ट ने बड़ा फैसला लिया है। कोर्ट ने जस्टिस इंदु मल्होत्रा की अध्यक्षता में एक कमेटी बनाई है', 'उत्तर प्रदेश में कोरोना वायरस संक्रमण के बढ़ते मामलों के मद्देनजर कांग्रेस ने फिलहाल अपनी आगामी सभी बड़ी रैलियां और कार्यक्रम स्थगित कर दिए हैं।', \"British Royal Family Queen Elizabeth II नीलामी में दुनिया का सबसे पुराना हीरा 'ब्रोलिटी ऑफ इंडिया' भी शामिल होगा। नीलामी से आए पैसों को सामाजिक कल्याण के कामों में लगाए जाने की\", 'Maharashtra Nationalist Congress Party (NCP) Crisis - Ajit Pawar Vs Sharad Pawar Latest Update. Follow Nationalist Congress Party (NCP) Crisis Story On Dainik Bhaskar. शरद पवार ने चुनाव आयोग को पत्र लिखकर सवाल किया है', 'शुरुआती रुझानों में जम्मू क्षेत्र में भारतीय जनता पार्टी को बढ़त है और कश्मीर में गुपकार गठबंधन को बढ़त मिली हुई है। शुरुआती रुझानों में जम्मू क्षेत्र में भारतीय जन', 'कंगना रनौत ने एक के बाद एक कई ट्वीट किए और उद्धव सरकार पर जमकर निशाना साधा। कंगना ने एक के बाद एक कई ट्वीट कर उद्धव सरकार पर निशाना साधा है।', 'Nationalist Congress Party (NCP) Chief Sharad Pawar Vs Sharad Pawar Latest News Update. Follow Nationalist Congress Party (NCP) Dispute, News And Headlines On Dainik Bhaskar. महाराष्ट्र के डिप्टी सीएम अजित पवार और प्रफुल्ल प', 'Bollywood Actor Shah Rukh Khan Birthday Special - 1993 में रिलीज हुई फिल्म बाजीगर के लिए शाहरुख खान ने अपने करियर का पहला बेस्ट एक्टर अवॉर्ड जीता था। इस अवॉर्ड को जीतने के बाद शाहरु', 'Punjab Jalandhar Lok Sabha Bypoll 2023 - Follow Jalandhar Lok Sabha Bypoll 2023 Latest News, Reports On Dainik Bhaskar. जालंधर लोकसभा उपचुनाव के लिए सुबह 8 बजे से मतदान जारी है। विधानसभा सीटों के', 'सीबीआई की विशेष अदालत ने छह दिसम्बर 1992 को अयोध्या में बाबरी मस्जिद ढहाए जाने के मामले में बहुप्रतीक्षित फैसला सुनाते हुए सभी आरोपियों को बरी कर दिया।', 'सूत्रों ने कहा कि अधिकांश शवों की पहचान नहीं हो पा रही थी क्योंकि वे या तो भारी पत्थर या और बोल्डर के भार से कुचल गए थे या पानी के कारण फूल गए थे या पानी के', 'पीएम मोदी ने कहा कि देश की जनता ने 2014 में एक नया इतिहास लिखने का फैसला किया था। उन्होंने कार्यकर्ताओं से कहा कि कभी भी आलस आ जाए तो कमल के पुष्प को अपने मोबाइल', 'नेशनल कॉन्फ्रेंस के नेता फारूक अब्दुल्ला ने मंगलवार को सरकार से जम्मू-कश्मीर के लोगों को ‘दिल से लगाने’ और प्रदर्शनकारी किसानों की बात सुनने का आग्रह करते हुए', 'कोएत्जी ने कहा कि कोविड-19 वैश्विक महामारी अभी समाप्त नहीं हुई है और आगामी दिनों में यह ‘एंडेमिक’ (स्थानीय स्तर पर फैलने वाला संक्रमण) बन जाएगी।', 'चंद ने बताया कि सरकार किसानों के साथ इन कानूनों पर धारा-दर-धारा विचार करने को तैयार है। उन्हें वहां बदलाव की मांग करनी चाहिए जहां उन्हें लगता है कि यह उनके हित के', 'उत्तर प्रदेश के बरेली से भी कुछ इसी तरह का मामला सामने आया है जहां एक साइबर ठग खुद को बरेली का जिलाधिकारी बताकर विभाग के ही अधिकारियों को चूना लगाने की कोशिश कर रहा था।', 'कांग्रेस के वरिष्ठ नेता शशि थरूर ने शनिवार को विश्वास जताया कि कांग्रेस के खिलाफ बोलने वाले विपक्षी दल एक साथ आएंगे क्योंकि उन सबका लक्ष्य भारतीय जनता पार्टी (BJP) को हर', 'रामपुर से सपा सांसद आजम खान और उनके बेटे अब्दुल्लाह आजम को कोरोना संक्रमित होने के कारण नौ मई को सीतापुर जेल से मेदांता लखनऊ में भर्ती कराया गया था।', 'बीते 24 घंटे में भारत में कोरोना के 1421 नए मामले सामने आए हैं और 149 लोगों की मौत हुई है। इससे पहले देश में 24 घंटे के अंदर 1660 नए केस सामने आए थे', 'तमिलनाडु के कुन्नूर में हुए हेलीकॉप्टर हादसे को प्रधानमंत्री नरेंद्र मोदी से जोड़ने वाला पोस्ट सोशल मीडिया पर डालने को लेकर शहर पुलिस ने एक व्यक्ति के खिलाफ मामला दर्ज किया', 'चंडीगढ़ प्रशासन के अधिकारियों से मीटिंग रक्षा मंत्री राजनाथ सिंह ने एयरफोर्स फैमिली वेलफेयर एसोसिएशन की शॉप भी विजिट की। रक्षामंत्री राजनाथ सिंह के शहर में आने पर एयरपोर्ट ल', 'पंजाब के मुख्यमंत्री भगवंत मान ने उत्तर प्रदेश के गैंगस्टर मुख्तार अंसारी से जुड़े लाखों रुपए के कानूनी खर्च देने से इनकार करने के बाद अब उसे पूर्व मुख्यमंत्री कैप्टन अमरिंदर व', 'हरियाणा के यमुना नगर में यमुना में नहाने गए 11 युवकों पर दूसरे गुट के लोगों ने हमला कर दिया। जगाधरी के रहने वाले इन युवकों में सन्नी, सुलेमान, अलाउद्दीन,', 'कांग्रेस नेता पवन खेड़ा की याचिका पर सुप्रीम कोर्ट में सुनवाई 20 मार्च तक टल गई। कांग्रेस नेता पवन खेड़ा की याचिका पर सुप्रीम कोर्ट में सुनवाई 20 मार्च तक टल गई।', 'नॉर्थ दिल्ली के बारापुला-नोएडा लिंक रोड इलाके में एक निर्माणाधीन फ्लाईओवर पर कार समेत गिरने से 42 साल के एक व्यक्ति की मौत हो गई। शुक्रवार की दुर्घटना के बाद पीडब्ल्यू', 'उत्तर प्रदेश में 2022 के विधानसभा चुनाव से पहले दलितों को लुभाने के प्रयास में मुख्यमंत्री योगी आदित्यनाथ ने घोषणा की है कि वह दलित नेता डॉ बी.आर. अम्बेडकर का एक भव्य स्मारक बनवाए', 'WFI President Brij Bhushan Sharan Singh Sexual Harassment Case भारतीय कुश्ती संघ (WFI) के अध्यक्ष बृजभूषण शरण सिंह पर सेक्सुअल हैरेसमेंट का आरोप लगाया है।', 'देश के प्रमुख वामपंथी दलों ने मंगलवार को प्रदर्शनकारी किसानों की ट्रैक्टर परेड के दौरान हुई हिंसा की निंदा की और आरोप लगाया कि सरकार ने समय रहते हालात नहीं संभाले तथा स्थिति बि', 'राकेश टिकैत के बयान उस दिन आया है जब केन्द्र के तीन नए कृषि कानूनों के खिलाफ दिल्ली की सीमाओं- टीकरी, गाजीपुर और सिंघू बॉर्डर पर प्रदर्शन कर रहे किसानों ने अप', 'हमें संसार में रहते हुए ये रिश्ते अलग-अलग लोगों से निभाना चाहिए। और जब भगवान से जुड़ें, तो सारे रिश्ते उसमें उतार दें। लेकिन ये सारे रिश्ते कि', 'एक संसदीय समिति ने नागरिक उड्डयन मंत्रालय से विमानन क्षेत्र में साइबर हमलों का मुकाबला करने के लिए मजबूत तंत्र बनाने के लिए कहा है। समिति ने विमानन क्षेत्र में साइबर सुरक्षा के लिए', 'कर्नाटक के मुख्यमंत्री बी.एस. येदियुरप्पा ने गुरुवार को कहा कि सरकार शादी के लिए धर्म परिवर्तन पर प्रतिबंध लगाने संबंधी कानून लाने के लिए विशेषज्ञों से बातचीत कर रही है।', 'राहुल गांधी ने कहा, वाल्मीकि जी ने देश और दुनिया को एक रास्ता दिखाया। संविधान, वाल्मीकि जी के विचार और दलित भाई-बहनों पर हमले हो रहे हैं।', 'पश्चिम बंगाल के राज्यपाल जगदीप धनखड़ ने बृहस्पतिवार को केंद्रीय गृह मंत्री अमित शाह से मुलाकात की और माना जाता है कि उन्होंने शाह को राज्य में कानून एवं व्यवस्था की स्थिति से अव', 'Bollywood Actor Annu Kapoor Special Column - Dainik Bhaskar [Ground Report] From Ghaziabad. दानियाल और अकबर के भाई मिर्जा हाकिम पर लगा बीरबल को मारने का इल्जाम सीरीज में दिखाया गया', 'एम्स के निदेशक डॉ. रणदीप गुलेरिया ने संवाददाता सम्मेलन में कहा कि अस्पताल की सुविधाओं के इष्टतम उपयोग के लिए सामुदायिक भागीदारी अहम है और लोगों में अनावश्यक घ', 'कोरोना काल में जहां लोगों के जीवन पर प्रभाव पड़ा है वहीं, सिनेमाघरों और थिएटर्स पर भी ताले लग गए। थिएटर खोलने से पहले उनको सावधानीपूर्वक पूरी तरह से सैनिटाइ', 'पंजाब पुलिस की गिरफ्त से भागे वारिस पंजाब दे के मुखी अमृतपाल सिंह के साथ उसका साथी पपलप्रीत साए की तरह चल रहा है।', 'उत्तराखंड के चमोली में ग्लेशियर फटने से हुई तबाही के मद्देनजर उत्तर प्रदेश के बिजनौर, मुजफ्फरनगर, अमरोहा, संभल, मेरठ, बुलंदशहर, हापुड़, अलीगढ़', 'पुलवामा में शहीद हुए अपने पति मेजर विभूति शंकर ढौंडियाल के पदचिह्नों पर चलते हुए निकिता कौल शनिवार को सेना में शामिल हो गईं।', 'कांग्रेस ने लोकसभा चुनाव से पहले पंजाब में पॉलिटिकल अफेयर्स कमेटी (PAC) के 31 मेंबरों की लिस्ट जारी कर दी है। इसमें पंजाब में कांग्रेस के 9 विधायक और 5 सांसदों को शामिल', \"Dainik Bhaskar Morning News and Latest Headlines; Here are today's top stories for you On Dainik Bhaskar. क्रिकेट वेबसाइट क्रिक बज की रिपोर्ट के मुताबिक, भारत और पाकिस्तान का मैच 15 अक्टूबर को हो सकता है। रिपोर्ट\", 'Pakistani Adivasi Couple Murder Case - पाकिस्तानी लड़की के पिता को नागवार गुजरी और उसने अपने भाई यानी लड़कियों के ससुर के साथ मिलकर दोनों की हत्या कर दी। उसने अप', 'Breaking News Headlines Update; Dainik Bhaskar Breaking News Headlines Today, India and World Latest Pictures Videos, Pictures, and More From Dainik Bhaskar (दैनिक भास्कर), narendra modi, rahul gandhi, amit shah, priyanka gandhi', 'असम और अरुणाचल प्रदेश ने शांतिपूर्ण संबंध सुनिश्चित करने के लिए सीमा पर यथास्थिति बनाए रखने के साथ अवैध गतिविधियों की रोकथाम के लिए अंतर-राज्यीय सीमा पर संयुक्त', 'कृषि कानूनों के खिलाफ दिल्ली की विभिन्न सीमाओं पर प्रदर्शन कर रहे 40 किसान यूनियनों के मुख्य संगठन संयुक्त किसान मोर्चा की एक बैठक में यह फैसला किया गया।', 'उत्तर प्रदेश अपर मुख्य सचिव स्वास्थ्य अमित मोहन प्रसाद ने गुरुवार को बताया कि पिछले 24 घंटे में प्रदेश में कोरोना के 3121 नए मामले सामने आए हैं और संक्रमित मामलों में से 1 व्यक्ति की म', 'US Florida Shooting Case - अमेरिका में फायरिंग की घटना से जुड़ी ये खबरें भी सामने आ रही हैं। इसके बाद मौके पर पहुंची पुलिस ने देखा की कई लोगों पर फायरिंग हुई है।', 'ओडिशा महिला आयोग ने परिवहन विभाग से कहा है कि वह अपने बस ऑपरेटरों को निर्देश दे कि वे हर उस महिला को बस में चढ़ने दें, जो पहले यात्री के तौर पर आती है।', 'Delhi Ex-Deputy CM Manish Sisodia Liquor Policy Case - Follow Delhi Liquor Scam Latest News Updates On Dainik Bhaskar दिल्ली शराब नीति केस में गिरफ्तार मनीष सिसोदिया और सत्येंद्र जैन के पद से इस्तीफा दे', 'Sushmita Sen Heart Attack Case - डॉक्टर राजीव ने कहा कि सुष्मिता फिजीकली एक्टिव थीं इसलिए उन्हें कम से कम नुकसान झेलना पड़ा। डॉक्टर का कहना है कि सुष्मिता पहले', 'सूत्रों ने बताया कि शुरुआत में रक्षा मंत्रालय एमडीएल और एल एंड टी को आरएफपी जारी करेगा तथा दोनों कंपनियां दस्तावेज मिल जाने के बाद अपनी विस्तृत निविदा पेश करेंगी।', 'पंजाब में कोरोना वायरस के लगातार बढ़ते मामलों की वजह से राज्य सरकार को एक बार फिर से पाबंदियां लगानी बड़ रही है, राज्य सरकार ने कुछ और जिलों में नाइट कर्फ्यू लगाने का फैस', 'नए कानून के मुताबिक विनायक हेमाडे ने मंडी जाने के बजाए खेत से ही फसल को बेचने की कोशिश की और वो कामयब रहे। नए कानून के मुताबिक विनायक हेमाडे ने मं', 'दिल्ली में बुधवार को 27 हजार के ज्यादा नए कोरोना मरीजों की पुष्टि हुई है। नए मामले बढ़ने के साथ दिल्ली के अस्पतालों में मरीजों के भर्ती होने का आंकड़ा भी तेजी से', 'Indian Cricketer Yuzvendra Chahal Dance Video - इंडियन क्रिकेटर युजवेंद्र चहल की वाइफ एक बेहतरीन कोरियोग्राफर और डांसर भी हैं। अब अक्सर अपने डांस वीडियो सोशल मीडिया पर फैं', 'Rajasthan Bureaucracy Politics Unheard Stories विपक्षी पार्टी की केंद्रीय टीम में राजस्थान के दिग्गजों के नाम विपक्षी पार्टी में इन दिनों अंदरखाने बहुत कुछ ऐसी तैयारियां चल रही हैं जिसका अस', 'कर्मचारी राज्य बीमा निगम ने एक भर्ती नोटिफिकेशन जारी कर संस्थान में भर्ती निकाली है. कर्मचारी राज्य बीमा निगम ने एक भर्ती नोटिफिकेशन जारी कर संस्थान में भर्ती निकाली है. इसके लिए उ', 'प्रधानमंत्री नरेंद्र मोदी की अगुवाई वाली सरकार के दूसरे कार्यकाल के पहले मंत्रिपरिषद विस्तार में मंत्री बनने वाले कुल 43 नेताओं में 32 ऐसे चेहरे हैं जो पहली बार केंद्रीय मंत्री की जिम्मेदार', 'सोमवार से शुरू हो कर पांच दिनों तक चलने वाले समारोह के दौरान रामलीलाओं का मंचन, थ्री डी होलोग्राफिक प्रदर्शन, लेजर शो और आतिशबाजी भी होगी।', 'चाइनीज टेक कंपनी शाओमी (Xiaomi) ने भारत में लेटेस्ट TV स्टिक 4k लॉन्च कर दिया है। इसमें क्वाड कोर कॉर्टेक्स ए35 प्रोसेसर और ड्यूल बैंड वाई-फाई का सपोर्ट', \"शिवसेना ने अपने मुखपत्र 'सामना' के जरिए एक बार फिर से अभिनेत्री कंगना रनौत पर निशाना साधा। इतना ही नहीं, इस बार शिवसेना ने कंगना के हवाले से बॉलीवुड पर भी हमला\", 'भारत ने जॉनसन एंड जॉनसन की सिंगल डोज कोविड-19 वैक्सीन के आपातकालीन इस्तेमाल के लिए मंजूरी दे दी है। भारत ने जॉनसन एंड जॉनसन की सिंगल डोज कोविड-19 वैक्सीन के', 'Uttarakhand Sri Navratri Puja Vidhi Muhurat 2023 Time; What is the story behind Sri Navratri? Follow Sri Navratri Accurate Information On Dainik Bhaskar (दैनिक भास्कर)', 'रेलवे का कर्मचारी होने की वजह से उन्हें और दुख हुआ कि विदेश में चलने वाली खटारा मालगाड़ी हमारे देश की सबसे अच्छी ट्रेन जैसी थी।', 'बागपत के छपरौली में रविवार को पूर्व केन्द्रीय मंत्री चौधरी अजित सिंह की रस्म पगड़ी और श्रद्धांजलि सभा का आयोजन किया गया जिसमें उत् तर प्रदेश के कई जिलों के अलावा ह', 'संजय दत्त की ब्लॉकबस्टर फिल्म खलनायक को रिलीज हुए आज 30 साल हो गए हैं। खैर संजय दत्त ने आज सोशल मीडिया पर पोस्ट कर फिल्म से जुड़े लोगों को बधाई दी है। खैर', 'पीएम मोदी पूरे ओलंपिक दस्ते को निमंत्रण देंगे और व्यक्तिगत तौर पर सभी खिलाड़ियों से मुलाकात करेंगे। प्रधानमंत्री मोदी पूरे ओलंपिक दस्ते को निमंत्रण देंगे और व्यक्तिगत तौर पर', 'हरिद्वार के साधु-संतों ने सोमवार को ओटीटी प्लेटफार्म अमेजन प्राइम वीडियो पर प्रसारित हो रही वेब सिरीज तांडव पर हिंदू देवी-देवताओं का कथित रूप से मजाक उड़ाने', 'Russia Ukraine War Latest News Update - शी जिनपिंग ने रूस यात्रा के दूसरे दिन पुतिन से दोनों देशों के बीच व्यापक और रणनीतिक साझेदारी बढ़ाने पर चर्चा की। न्यूज एजेंसी AFP के मु', 'Sarkari Naukri 2023 Latest Sarkari Job Alert (21 July 2023) - Government Jobs Latest Govt Jobs Vacancies Eligibility And Selection Process Latest Details राजस्थान कर्मचारी चयन बोर्ड ने कंप्यूटर ऑपरेटर के 583 पदों पर वैकें', \"Haryana High Court Hearing Update - Supreme Court Verdict On High Court's Order. Follow Haryana High Court Latest News, Reports and Updates On Dainik Bhaskar (दैनिक भास्कर)\", 'महंत नरेंद्र गिरि के शिष्य होने के कारण आनंद गिरि का अपनी बिरादरी के भीतर और भक्तों के बीच बहुत दबदबा था, लेकिन कुछ महीने पहले गुरु और शिष्य के बीच मतभेद पै', 'Rajasthan Government Recruitment 2023 - Government Jobs Latest Govt Jobs Vacancies Eligibility And Selection Process Latest Details केंद्र और राज्यों में सरकारी नियुक्तियां 1 साल में 8% घटीं...', 'सूबे में अब तक 12.2 करोड़ से ज्यादा लोगों को वैक्सीन लगाई जा चुकी है जिसमें से 9.4 करोड़ लोगों को पहली डोज और2.8 करोड़ लोगों को दोनों डोज लग चुकी हैं।', 'त्रिस्तरीय पंचायत चुनाव में भाजपा ग्राम प्रधान और क्षेत्र पंचायत सदस्य के पद पर सीधे अपने उम्मीदवार नहीं उतार रही है, लेकिन जिला पंचायत सदस्य के लिए तीन हजार से अधिक सभी वार्ड', 'मैं 27 साल की उम्र में सिंगल मां बनी मैंने दो महीने की एक अनाथ बच्ची को गोद लिया है। मां और बच्ची का शव देखकर मेरी रूह कांप गई 9 महीने की प्रेग्नेंट महिला को', 'ऑक्सफोर्ड के कोविड-19 टीके का मानव पर दूसरे चरण का क्लीनिकल परीक्षण यहां बुधवार को एक मेडिकल कॉलेज अस्पताल में शुरू हो गया।', 'ब्रिटेन में एक दिन में 10 हजार से अधिक ओमिक्रॉन के केस सामने आए हैं, यहां ओमिक्रॉन 12 मरीजों की जान ले चुका है। कोरोना के इस सुपरस्प्रेडर वेरिएंट ने तबाही मचाना श', 'Russia Ukraine War Latest News Update - रूस-यूक्रेन जंग के बीच जपोरीजिया क्षेत्र में हुए यूक्रेन के हमले में एक रूसी जर्नलिस्ट की मौत हो गई। उनके तीन सहयोगियों को यूक्रेन के ज', 'जम्मू-कश्मीर के पुलवामा जिले में सुरक्षा बलों और आतंकवादियों के बीच मंगलवार को हुई मुठभेड़ में लश्कर ए तैयबा का एक आतंकवादी मारा गया।', \"Dainik Bhaskar Morning News and Latest Headlines; Here are today's top stories for you On Dainik Bhaskar. वाराणसी में गोवर्धन पुरी मठ के पीठाधीश्वर जगतगुरु शंकराचार्य स्वामी निश्चलानंद सरस्वती ने कहा है कि\", 'पुलिस अधिकारी ने शनिवार को इस बारे में जानकारी देते हुए बताया कि ABVP नेता शिबाजी सेनगुप्ता पर कुछ स्थानीय मुद्दों को लेकर हमला करने के आरोप में एक व्यक्ति को गिरफ्तार किया गया', 'नई दिल्ली के शाहबाद डेयरी इलाके में 20 साल के साहिल नाम के व्यक्ति ने नाबालिग की कई बार चाकुओं से वार करके हत्या कर दी और सिर को पत्थर से कुचल दिया था।', 'पुलिस से मिली जानकारी के मुताबिक, थाना फेस-3 की पुलिस शुक्रवार रात को हर रोज की तरफ पुस्ता रोड बहलोलपुर पर पेट्रोलिंग कर रही थी। पुलिस ने उसके पास से 315 बोर का एक', '“मुझे स्टेज से भी डर लगता है और करोके के साथ गाने में भी कंफर्टेबिल नहीं हूं।”', 'कृषि मंत्री नरेंद्र सिंह तोमर ने किसानों के आंदोलन जारी रखने के फैसले पर कहा कि तीन कृषि कानूनों को निरस्त करने की घोषणा के बाद किसानों के आंदोलन को जारी रखने का को', 'किसान आंदोलन के दिल्ली की सीमाओं पर 6 महीने पूरा होने पर व केंद्र की मोदी सरकार को 7 साल पूरा होने पर संयुक्त किसान मोर्चा ने इस दिन मोदी सरकार के विरोध स्वरूप काले झंडे लगाने का फैस', 'अमेठी के गौरीगंज विधानसभा क्षेत्र से समाजवादी पार्टी के विधायक राकेश प्रताप सिंह ने रविवार को सरकार पर वादाखिलाफी का आरोप लगाते हुए अपनी विधानसभा सदस्यता से इस्तीफा दे दिया और', 'चीन की संसद नेशनल पीपल्स कांग्रेस ने रविवार को अपनी सालाना बैठक की शुरुआत कर दी है। रिपोर्ट्स के मुताबिक इस बैठक में शी जिनपिंग का कार्यकाल तीसरी बार बढ़ाया जाए', 'भारतीय लड़ाकू विमानों द्वारा पाकिस्तान के बालाकोट के अंदर घुसकर जैश-ए-मोहम्मद के आतंकवादी प्रशिक्षण शिविर को निशाना बनाये जाने के अभियान में तत्कालीन थल सेना अध्यक्ष', 'इस अवसर पर मौजूद पूर्व मंत्री और वरिष्ठ भाजपा नेता मनीष ग्रोवर ने कहा कि यह उनका ड्रीम प्रोजेक्ट था और वह उद्घाटन के लिए इसके काम के पूरा होने का बेसब्री से', 'एक्ट्रेस यामी गौतम के करियर में विक्की डोनर, बाला, उरी, काबिल जैसी सफल फिल्मों के अलावा वैसी फिल्में भी रही हैं', 'Chennai Super Kings (CSK) vs Kolkata Knight Riders (KKR) IPL Match LIVE Score Update; Follow IPL 2023 Latest News, KKR vs GT IPL Match Updates with Dainik Bhaskar (दैनिक भास्कर)', 'सीजेआई डी वाई चंद्रचूड़ ने कहा है कि फेक न्यूज डिजिटल युग में समुदायों के बीच तनाव पैदा कर सकती हैं। जस्टिस चंद्रचूड़ ने कहा कि हर संस्थान की तरह पत्रकारिता भी चुनौत', 'केंद्रीय स्वास्थ्य मंत्रालय ने राज्यों और केंद्रशासित प्रदेशों को यह सुनिश्चित करने के लिए कहा है कि कोविड-19 को नियंत्रित करने के लिए उनके द्वारा आवाजाही पर लगायी गई पाबंदियों से टीका', 'US Former President Donald Trump Indictment - अमेरिका के पूर्व राष्ट्रपति डोनाल्ड ट्रम्प ने अपने ही समर्थकों को धोखा दे दिया। मंगलवार को मियामी कोर्ट में पेशी से लौटते वक्त वो सपोट', 'उत्तराखंड के चमोली में कुदरत ने जो भीषण तबाही मचाई है उससे हर कोई सन्न है। ग्लेशियर फटने के बाद जो सैलाब आया है उसमें क़रीब 150 मज़दूर लाप', 'रिलायंस इंडस्ट्रीज लिमिटेड के चेयरमैन मुकेश अंबानी के घर के पास इन छड़ों के मिलने की सूचना के बाद बम निरोधक दस्ता, डॉग स्क्वॉड और पुलिस अधिकारी घटनास्थल पर', 'गो फर्स्ट एयरलाइन ने अपने पायलटों को नौकरी छोड़ने से रोकने के लिए हर महीने 1 लाख रुपए एक्स्ट्रा सैलरी देने का ऑफर दिया है।', 'कांग्रेस सांसद कार्ति चिदंबरम ने कहा है कि राजनीतिक दलों को चुनाव में हार के लिए इलेक्ट्रॉनिक वोटिंग मशीन (EVM) को दोष देना बंद करना चाहिए।', 'Bollywood Actor Annu Kapoor Special Column - Kuchh Dil Ne Kaha; डायरेक्टर अद्वैत इस रीमेक को जुलाई तक फ्लोर पर ले जाने का विचार कर रहे हैं। डायरेक्टर अद्वैत इस रीमेक को जुलाई तक', 'अनलॉक 4.0 में संचालन की अनुमति मिलने के बाद दिल्ली सहित पूरे देश में मेट्रो सात सितंबर को पटरी पर फिर से दौड़ते हुए नजर आएगी। केंद्रीय शहरी मंत्री हरदीप सिंह पु', 'पाकिस्तान क्रिकेट टीम के पूर्व कप्तान शाहिद अफरीदी ने एक बड़ा दावा किया है। अफरीदी ने सोमवार को कहा कि एक भारतीय ने पाकिस्तानी टीम को धमकी दी थी कि हम भारत नहीं जा सकते।', 'आगामी अंतर्राष्ट्रीय योग दिवस- 2022 के लिए कमर कसते हुए, भारत-तिब्बत सीमा पुलिस (आईटीबीपी) के जवान उत्तराखंड हिमालय में 15,000 फीट की ऊंचाई पर बर्फ और हवा', 'Rajasthan Sarkari Naukri 2023 Latest Sarkari Job Alert - Dainik Bhaskar (दैनिक भास्कर) राजस्थान सरकार के इतने बड़े समारोह का संचालन किया करती थी तो उनकी तरफ से ही मुझे लैंग्वेज ए', 'बहुजन समाज पार्टी की राष्ट्रीय अध्यक्ष मायावती ने कानून व्यवस्था को लेकर योगी सरकार पर बड़ा हमला बोला और कहा कि मुख्यमंत्री योगी आदित्यनाथ को तत्काल इस्तीफा दे देना चाहिए।', 'अपने भाषण में जनरल रावत ने कहा कि आज भारत बढ़ी हुई सुरक्षा चुनौतियों का सामना कर रहा है और शांति और स्थिरता के लिए सबसे अच्छा गारंटर है।', 'दिवंगत फिल्म निर्माता यश चोपड़ा की वाइफ पामेला चोपड़ा का निमोनिया से 20 अप्रैल को निधन हो गया है। वहीं, पामेला भी शाहरुख की फैन रही हैं।', 'पंजाब में शनिवार को छह और कोविड मरीजों की मौत हो गयी वहीं संक्रमण के 124 नए मामले सामने आए।', 'गाजीपुर बॉर्डर पर प्रशासन की कार्रवाई के बीच राकेश टिकैत के रोने से भाकियू सुप्रीमो नरेश टिकैत गुस्से में हैं, जिसके बाद ही उन्होंने सरकार और प्रशासन से आर-पार की', 'Nepali Seema Haider Case - नेपाल के एक शेरपा ने माउंट एवरेस्ट के डेथ जोन में फंसे मलेशिया के एक पर्वतारोही की जान बचाई है। नेपाल सरकार ने इस सीजन में 478 लोगों को एवरेस्ट च', 'Russia Ukraine War Latest News Update - रूस से जंग लड़ने में मदद के लिए जर्मनी ने लेपर्ड 2 टैंक का पहला बैच यूक्रेन भेज दिया है। इस वीडियो में सैनिक ने टैंक की गन', 'Prime Minister Narendra Modi US Visit Update - प्रधानमंत्री नरेंद्र मोदी 21 से 24 जून तक अमेरिका दौरे पर रहेंगे। वे 21 जून को न्यूयॉर्क पहुंचेंगे, जहां वे योग दिवस के मौके पर होने वाले कार्यक्रम', 'पंजाब मंत्रिमंडल ने बुधवार को मौजूदा वित्त वर्ष में 50 हजार सरकारी पदों पर भर्ती की प्रक्रिया को तेज करने के साथ ही 10 विभागों के पुनर्गठन को भी मंजूरी दी है।', 'जम्मू कश्मीर के पुलिस प्रमुख दिलबाग सिंह ने पुलिस अधिकारियों को अपने-अपने इलाकों में खुफिया और सुरक्षा तंत्र को मजबूत करने का निर्देश दिया है।', 'टीम इंडिया के स्टार बल्लेबाज और कप्तान रोहित शर्मा ने अपने साले कुणाल सजदेह की शादी में जम कर डांस किया। पहले वनडे में रोहित की जगह टीम के उपकप्तान हार्दिक पंड्या क', 'राहुल गांधी ने कृषि संबंधी कानूनों को लेकर मंगलवार को एक बार फिर सरकार पर निशाना साधा और कहा कि देश के भविष्य के लिए इन कानूनों का विरोध करना पड़ेगा।', \"India Vs Australia (IND VS AUS) World Test Championship Final 2023 - Virat Kohli's Most Influential Players List. कोहली अब वर्ल्ड टेस्ट चैंपियनशिप (WTC) फाइनल के लिए लंदन पहुंच गए\", 'सीबीआई ने कथित बैंक धोखाधड़ी से जुड़े दो अलग-अलग मामलों में बुधवार को कई स्थानों पर छानबीन की। कंपनी ने रकम के लिए आईएफसीआई को जाली दस्तावेज सौंपे।', 'Bollywood Actress Kangana Ranaut Speaks About Her Working With Anu Darshan. कोलकाता में सेट पर जया दी और रितु दा के साथ शूटिंग करते हुए हमारी बहुत अच्छी बातचीत हुई। इंटरव्यू के', 'Symptoms, Causes And Treatment. All You Need To Know. हम जरूरत की खबर में आपको सॉल्यूशन देंगे कि सस्ती दवाइयां कहां मिलेंगी... हम जरूरत की खबर में आपको सॉल्यूशन देंगे कि', \"क्रिस्टोफर नोलन की फिल्म 'ओपेनहाइमर' में इंटिमेट सीन के दौरान भगवत गीता दिखाने पर विवाद शुरू हो गया है। फिल्म में एक्टर सिलियन मर्फी ने साइंटिस्ट जे. रॉ\", 'Breaking News Headlines Today, Pictures, Videos and More From Dainik Bhaskar (दैनिक भास्कर), narendra modi, rahul gandhi, amit shah, priyanka gandhi', \"Sri Lanka President Ranil Wickremesinghe Speaks About India's Situation. श्रीलंका के राष्ट्रपति रानिल विक्रमसिंघे ने कहा है कि उनके देश का इस्तेमाल कभी भारत के खिलाफ नहीं किया जा सकेगा। कोई भी देश श्रीलं\", 'वाराणसी की ज्ञानवापी मस्जिद परिसर के सर्वे के दौरान बीते रोज यानी 16 मई को एक शिवलिंग दिखने की बात चर्चा में है। यह वीडियो ज्ञानवापी परिसर के वजूखाने का बताया जा रहा', 'आज का करिअर फंडा यह है कि हमारे ये पांच हीरो शिक्षण के प्रति उनके समर्पण, इनोवेशन और जुनून से न केवल व्यक्तिगत जीवन को बदल रहे हैं बल्कि हमारे देश के शैक्षिक परिदृ', 'पूर्व राष्ट्रपति प्रणब मुखर्जी की सर्जरी के बाद भी हालत नाजुक बनी हुई है और वह जीवनरक्षक प्रणाली (वेंटिलेटर) पर हैं।', 'Uttar Pradesh Mafia Atiq Ahmed Murder Case - उमेश पाल मर्डर केस में शूटर्स के संपर्क में रहीं और उन्हें एक-एक लाख रुपए देने वाली शाइस्ता पर इनाम की राशि 50 हजार से बढ़ाकर', 'राष्ट्रपति रामनाथ कोविंद शुक्रवार को सुबह सीने में तकलीफ होने के बाद यहां सेना के रिसर्च एंड रेफरल अस्पताल में इलाज करा रहे हैं।', '“बहुत तुम्हारे लिए तुम्हारे लिए तुम्हारी बात करनी चाहिए। तुम्हारे लिए तुम्हारी बात करनी चाहिए। तुम्हारे लिए तुम्हारी बात करनी चाहिए।', \"SIAM डायरेक्टर जनरल राजेश मेनन ने कहा, 'मई-2023 में पैसेंजर व्हीकल्स की बिक्री मई महीने में अब तक की सबसे अधिक रही है। मेनन ने बताया कि यूटिलिटी व्हीकल से\", 'Prime Minister Narendra Modi Karnataka Visit Latest News Update. Follow Karnataka Vidhan Sabha Chunav Latest News, Reports On Dainik Bhaskar (दैनिक भास्कर)', 'लखीमपुर खीरी पुलिस की ओर से जो FIR दर्ज की गई है उसमें साफ तौर पर केंद्रीय मंत्री के बेटे आशीष मिश्रा का नाम मुख्य आरोपी के रूप में दर्ज है।', 'What are the symptoms of stomach heat? What are the symptoms of stomach heat? Everything You Need to Know. पेरेंट्स को लगता है कि बच्चा दूध नहीं पी रहा है तो कई तरह से दिक्कत होगी, इसलिए दूध पि', 'Petrol Price Today; What is the petrol rate today in Jaipur Delhi Bhopal Raipur Indore? Follow Petrol Price Latest Information On Dainik Bhaskar अंतरराष्ट्रीय मार्केट में कच्चे तेल की कीमत, एक्सचेंज रेट, टैक्स, पेट्रोल-डी', 'आलिया भट्ट और रणवीर सिंह इन दिनों अपनी आने वाली फिल्म रॉकी और रानी की प्रेम कहानी के प्रमोशन के लिए दिल्ली पहुंचे। फिल्म में रणवीर और आलिया की जबरदस्त रोमांटिक', 'पोस्ट ग्रेजुएट इंस्टीट्यूट ऑफ चाइल्ड हेल्थ (बाल चिकित्सा एवं स्नातकोत्तर शैक्षणिक संस्थान, SSPHPGTI) ने एक नोटिफिकेशन जारी किया है। उम्मीदवार ऑफिशियल', 'भाजपा नेता देवेंद्र फडणवीस ने मंगलवार को प्रस्तावित भारत बंद का समर्थन करने वाले कांग्रेस, राकांपा और अन्य दलों पर निशाना साधते हुए सोमवार को कहा कि केवल नरेंद्र मोदी', 'उत्तर प्रदेश के सीतापुर जिले में छेड़खानी के आरोप में हिरासत में लिए गए एक युवक द्वारा जहर खाकर खुदकुशी करने की खबर सामने आई है।', 'केंद्रीय वस्त्र और महिला एवं बाल विकास मंत्री और उत्तर प्रदेश के अमेठी की सांसद स्मृति ईरानी ने शनिवार को अपने लोकसभा क्षेत्र को बड़ा गिफ्ट दिया।', 'अभद्र टिप्पणी के आरोप में गिरफ्तार किए गए आम आदमी पार्टी (AAP) के विधायक और दिल्ली के पूर्व मंत्री सोमनाथ भारती की जमानत याचिका पर अब गुरुवार को सुनवाई होगी।', 'शास्त्री पार्क में एक घर में गुरुवार रात परिवार के 8 लोगों में से 6 की दम घुटने से मौत हो गई। कॉइल के कारण गद्दे में आग लग गई थी, जिसके चलते दो लोगों की जलने', 'सैनी ने कहा कि भारतीय सेना ने आधुनिक हथियारों, गोलाबारूद, रक्षा उपकरणों, कपड़ों और कई अन्य क्षेत्रों में व्यापक बदलाव किया है लेकिन अब भी काफी कुछ किया जाना बाकी', 'Union Law Minister Kiren Rijiju On PM Narendra Modi Defamation Case - केंद्रीय कानून मंत्री किरेन रिजिजू ने मंगलवार को कहा कि भारत में लोकतंत्र की हत्या सिर्फ एक बार 1975 में हुई थी। उन्होंने कहा कि', 'जनता दल (सेकुलर) के कर्नाटक प्रमुख एच के कुमारस्वामी ने बुधवार को कहा कि दो विधानसभा सीटों के लिए हुए उपचुनाव के वास्ते पार्टी को और संगठित किया जा सकता था।', 'कोवैक्सिन में बछड़े का सीरम मिलाए जाने के आरोपों पर अब सियासत तेज हो गई है। कंपनी ने कहा है कि लोगों को जो वैक्सीन की डोज लगाई जा रही है, उस फाइनल', \"Rahul Gandhi's Defamation Case; Follow Defamation Case Latest News, Reports and Updates On Dainik Bhaskar (दैनिक भास्कर)\", 'वर्ष 1995 बैच के भारतीय विदेश सेवा अधिकारी बागची वर्तमान में विदेश मंत्रालय मुख्यालय में संयुक्त सचिव (उत्तर) के पद पर कार्यरत हैं। सूत्रों ने गुरुवार को यह जानकारी दी।', 'Parliament Session Updates; Rahul Gandhi London Speech Controversy संसद के बजट सत्र के दूसरे दिन राहुल गांधी के लंदन में दिए गए बयान को लेकर भाजपा ने माफी की मांग की।', 'Karnataka Assembly (Vidhan Sabha) Budget Session 2023 Latest News Update. Follow Budget Session Latest News, Reports On Dainik Bhaskar (दैनिक भास्कर)', 'पाकिस्तान के विदेश मंत्री बिलावल भुट्टो ने माना है कि उनका देश संयुक्त राष्ट्र संघ यानी UN के एजेंडा में कश्मीर के मुद्दे को शामिल नहीं करवा पा रहा है।', 'Haryana CM Manohar Lal Khattar Case - हरियाणा के मुख्यमंत्री मनोहर लाल खट् टर के उत्तर प्रदेश से फर्जी डेथ सर्टिफिकेट जारी होने के मामले का यूपी पुलिस ने खुलासा कर दिया है।', 'वारिस पंजाब दे का मुखी अमृतपाल सिंह साथियों के साथ असम की डिब्रूगढ़ जेल में भूख हड़ताल पर बैठ गया है। दरअसल, पंजाब सरकार उन्हें डिब्रूगढ़ जेल में टेलीफो', 'हरियाणा में 7 जिलों के 239 गांवों में बाढ़ का पानी घुस गया है और 20 से ज्यादा गांव पर बाढ़ का खतरा बना हुआ है। यमुनानगर के 30 से ज्यादा गांवों में बाढ़ का पानी घु', 'उत्तर प्रदेश की सीमा से सटे कुछ राज्यों में कोविड संक्रमण के बढ़ते मामलों के मद्देनजर राज्य की राजधानी लखनऊ समेत सात जिलों में सार्वजनिक स्थलों पर मास्क लगाने को फिर से', 'भारतीय जनता पार्टी की जम्मू-कश्मीर इकाई के प्रमुख रविंदर रैना ने कहा, सशस्त्र बलों ने घाटी में आतंकी संगठनों की कमर तोड़कर रख दी है और यही वजह है', 'क्रिकेटर हार्दिक पांड्या और एक्ट्रेस नताशा स्टेनकोविक फिर से शादी करने वाले हैं। हार्दिक और नताशा 13 फरवरी को पूरे परिवार के साथ मुंबई एयरपोर्ट पर देखे गए', 'Khalistani Amritpal Singh Arrest Update; Follow Waris Punjab De Chief and Amritpal Singh Latest News, Videos and Report On Dainik Bhaskar (दैनिक भास्कर)', 'Sarkari Naukri 2023 Latest Sarkari Job Alert (20 July 2023) - Government Jobs Latest Govt Jobs Vacancies Eligibility And Selection Process Latest Details नौकरी की तैयारी में जुटे युवाओं के लिए हम आज फिर से 5 नौ', 'Sarkari Naukri 2023 Latest Sarkari Job Alert (18 July 2023) - Government Jobs Latest Govt Jobs Vacancies Eligibility And Selection Process Latest Details राजस्थान स्टाफ सिलेक्शन बोर्ड (RSMSSB) ने कृषि पर्यवेक्षक (एग्रीकल्', 'Breaking News Headlines Update; Dainik Bhaskar Breaking News Headlines Today, India and World Latest Pictures Videos, Pictures, and More From Dainik Bhaskar. दिल्ली भाजपा किसान मोर्चा के नेता की हत्या के मामले में छह गिरफ्तार, भगो', 'उत्तर प्रदेश के गौतमबुद्ध नगर जिले में कोरोना वायरस संक्रमण से एक व्यक्ति की मौत हो गयी, जिसके बाद जनपद में मरने वालों की संख्या बढ़ कर अब 77 हो गई है।', 'कांग्रेस की पंजाब इकाई में व्याप्त कलह को दूर करने के प्रयासों के बीच पूर्व मंत्री नवजोत सिंह सिद्धू बुधवार को पार्टी के पूर्व अध्यक्ष राहुल गांधी से मुलाकात की।', 'समाजवादी पार्टी (सपा) अध्यक्ष अखिलेश यादव ने उत्तर प्रदेश की योगी आदित्यनाथ सरकार पर किसानों को परेशान करने का आरोप लगाते हुए बुधवार को कहा कि भाजपा सरकार को किसानों की रत्ती भर भी', 'Indian Premier League (IPL) 2023 - RCB Vs SRH IPL Match. Follow Indian Premier League (IPL) Team Players Latest News, Reports and Updates On Dainik Bhaskar (दैनिक भास्कर)', 'भारतीय आयुर्विज्ञान अनुसंधान परिषद (ICMR) के अनुसार बुधवार को देशभर में 8.72 लाख से ज्यादा कोरोना टेस्ट हुए हैं और देश में कुल टेस्टिंग का आंकड़ा 15 करोड़ को पार कर गया है।', 'इंडिया टीवी डिजिटल हर जरूरी खबर को कवर करता है और यह सुनिश्चित करता है कि उसके पाठकों से कोई भी जरूरी जानकारी छूट न जाए। देश-दुनिया से जुड़ी ताजा खबरें पा', 'दिल्ली की केजरीवाल सरकार के अधिकारों की लड़ाई बढ़ती जा रही है। केजरीवाल ने नीति आयोग की बैठक के बहिष्कार की सूचना देते हुए प्रधानमंत्री नरेन्द्र मोदी को एक चिट्ठी लिखी है।', 'केंद्र सरकार ने शुक्रवार को प्रमुख मुस्लिम नेता एवं हैदराबाद के सांसद असदुद्दीन ओवैसी को केन्द्रीय रिजर्व पुलिस बल (सीआरपीएफ) के कमांडो द्वारा ‘जेड’ श्रेणी की सुरक्षा मु', 'Pakistan Tehreek-e-Insaf (PTI) Imran Khan Arrest Update पाकिस्तान के पूर्व प्रधानमंत्री इमरान खान ने एक बार फिर भारत की तारीफ की है। पिछले साल अप्रैल में सत्ता से बेदखल होने के बाद से', 'प्रधानमंत्री नरेंद्र मोदी अमेरिका और इजिप्ट के दौरे के बाद भारत वापस लौट आए हैं। इस दौरान अमेरिकी राष्ट्रपति जो बाइडेन ने PM मोदी को लाल रंग की एक टी-शर्ट गिफ्ट की', 'कंगना रनोट के भाई अक्षत रनोट की पत्नी रितु रनोट मां बनने वाली हैं। रविवार को रनोट फैमिली ने रितु की गोद भराई सेरेमनी होस्ट की।', 'राहुल गांधी ने कहा, \"मैं हिंदुस्तान के युवाओं से जनता से पूछना चाहता हूं कि आपके फोन के अंदर नरेंद्र मोदी जी ने एक हथियार डाला है, मेरे खिलाफ वो हथियार का', 'केंद्र सरकार के पशुपालन और डेयरी विभाग ने भी यहां एक नियंत्रण कक्ष बनाया है जिसमें रोजाना आधार पर प्रदेशों से बर्ड फ्लू की स्थिति और किए जा रहे रोकथाम के उपायों का जाय', 'छत्तीसगढ़ राज्य के नक्सल विरोधी अभियान के पुलिस उप महानिरीक्षक ओपी पाल ने शनिवार को बताया था कि शुक्रवार रात बीजापुर और सुकमा जिले से केंद्रीय रिजर्व पुलिस बल (सीआरपीएफ)', 'पुणे के भारती विद्यापीठ मेडिकल कॉलेज एवं अस्पताल में ऑक्सफोर्ड कोविड-19 के टीके के दूसरे चरण के क्लिनिकल परीक्षण के तहत बृहस्पतिवार को तीन और लोगों को टी', 'उप मुख्यमंत्री डॉ. दिनेश शर्मा ने मुख्यमंत्री योगी आदित्यनाथ को जन्मदिन की बधाई देते हुए कहा कि सुशासन और विकास के पर्याय, उत्तर प्रदेश को प्रगति के पथ पर अग्रसर करने वाले मुख्यमंत्री', 'अगर देश की इन बेटियों ने इस मैच को जीत लिया होता तो यह एक ऐतिहासिक क्षण होता जब देश की पुरुष और महिला, दोनों हॉकी टीमें ब्रॉन्ज मेडल के साथ स्वदेश लौटती', 'भारत की पूर्वी सीमा पर युद्ध चल रहा था, पाकिस्तानी सेना को बांग्लादेश में उसके कर्मों का फल मिल रहा है, बांग्लादेश के लोगों और भारतीय फौज ने पाकिस्तानी सेना को लगभग उ', 'ग्रेटर नोएडा के खुदरा सब्जी विक्रेता पप्पू कुमार ने कहा कि किसान आंदोलन के कारण बीते दो दिनों से फलों और सब्जियों की आवक घट गई है', 'उत्तर प्रदेश के मुख्यमंत्री योगी आदित्यनाथ के गढ़ गोरखपुर में अब अवैध असलहा बनाने, बेचने और रखने वालों की खैर नहीं।', 'फ्रांस ने भारत में उत्पादित कोविड-19 के टीके एस्ट्राजेनेका (भारत में कोविशील्ड नाम से) की खुराक लेने वाले अंतरराष्ट्रीय यात्रियों को देश में आने की अनुमति दे दी है।', 'महाराष्ट्र में धार्मिक स्थलों को खोले जाने की मांग के बीच प्रधानमंत्री नरेंद्र मोदी ने मंगलवार को मुख्यमंत्री उद्धव ठाकरे की मौजूदगी में राज्य में कोरोना की स्थिति को लेकर चिंता जताई।', 'महबूबा मुफ्ती ने केंद्र पर आरोप लगाया था कि लड़कियों को शिक्षित करने का उसका नारा खोखला है क्योंकि मुस्लिम लड़कियों को हिजाब पहनने के लिए शिक्षा से वंचित किया जा', 'केरल के विभिन्न हिस्सों में शनिवार रात से हो रही भारी बारिश के मद्देनजर भारत मौसम विज्ञान विभाग (IMD) ने रविवार के लिए मध्य केरल के एर्णाकुलम, इडुक्की और त्रि', 'India Vs Australia (IND VS AUS) Indore Test Match Moments Update; Follow India Vs Australia 4th ODI Latest Photos and Video Updates on Dainik Bhaskar (दैनिक भास्कर)', 'पाकिस्तानी सैनिकों ने शुक्रवार को जम्मू कश्मीर के कमलकोट सेक्टर में नियंत्रण रेखा (एलओसी) पर संघर्ष विराम समझौते का उल्लंघन किया जिससे तीन नागरिकों की मौत हो ग', 'BSE NSE Sensex Today, Stock Market Latest Updates आज यानी मंगलवार (21 मार्च) को शेयर बाजार में तेजी देखने को मिल रही है। सेंसेक्स 500 अंक चढ़कर 58,074 पर खुला। वहीं निफ्टी भी 111 अ', 'देश के पहले आम चुनावों से लेकर अब तक, 17 आम चुनावों में कांग्रेस ने 7 में पूर्ण बहुमत हासिल किया और 3 में सत्तारूढ़ गठबंधन का नेतृत्व किया।', 'बिहार के मुख्यमंत्री नीतीश कुमार और डिप्टी CM तेजस्वी यादव बुधवार को दिल्ली में कांग्रेस अध्यक्ष मल्लिकार्जुन खड़गे के घर राहुल गांधी से मिले।', 'प्रधानमंत्री ने कहा कि युवा पीढ़ी स्टार्टअप और यूनिकॉर्न के जरिए देश की सेवा कर रही है। पीएम मोदी ने कहा कि युवा पीढ़ी स्टार्टअप और यूनिकॉर्न के जरिए देश की सेवा कर रही है।', 'छत्तीसगढ़ में पिछले 24 घंटों के दौरान 247 नए लोगों में कोरोना वायरस संक्रमण की पुष्टि हुई है। राज्य में इस वायरस से संक्रमित हुए लोगों की संख्या बढ़कर 3,11,', 'झारखंड के देवघर जिले में एक कार के पेड़ से टकराने पर शुक्रवार को चार लोगों की मौत हो गई, जबकि दो लोग गंभीर रूप से घायल हो गये।', 'फ्रांस की एक कोर्ट ने लेबनान और कनाडा की नागरिकता वाले प्रोफेसर हसन दियाब को उम्र कैद की सजा दी है। उसे 3 साल तक प्री ट्रायल डिटेंशन में रखने के बाद सबूत', 'HinduConversion Case - Hindu Conversion Reasons Behind HinduConversions. इंडियन कैथोलिक चर्च ने पहली बार माना था कि दलित ईसाइयों के साथ छुआछूत और भेदभाव होता है।', 'श्रीनगर और बारामूला के मध्य और उत्तरी कश्मीर के जिलों में 14 अगस्त और 17 अगस्त को हुए दो घातक आतंकवादी हमलों में पांच सुरक्षाकर्मी शहीद हो गए, जिससे यह संकेत मिलता है', 'कोरोना के नए वैरीएंट ओमिक्रोन को लेकर यूपी स्वास्थ्य विभाग सतर्क हो गया है और सभी जिलों के लिए निर्देश जारी किए हैं। अपर मुख्य सचिव स्वास्थ्य अमित मोहन प्रसाद ने प्रदेश', 'Uttar Pradesh Mafia Atiq Ahmed Ashraf Murder Case - Follow Atiq Ahmed Killers Latest News On Dainik Bhaskar. अतीक अहमद के वकील दयाशंकर मिश्र का कहना है- मैं अतीक अहमद और अशरफ का', 'राष्ट्रीय राजधानी में गणतंत्र दिवस पर किसानों की ट्रैक्टर परेड के दौरान हुई हिंसा के बाद बृहस्पतिवार को भी दिल्ली से लगी सीमाओं पर पुलिस बल की भारी तैनाती है।', 'भारत में अभी तक कोरोना वायरस के नए वेरिएंट ‘ओमिक्रॉन’ के 1700 मामले सामने आए हैं, जिनमें से 639 लोग संक्रमण मुक्त हो चुके हैं या अन्य स्थानों पर चले गए हैं।', 'पंजाब के मुख्यमंत्री भगवंत मान ने आज समिट में पंजाब में निवेश की इच्छुक विभिन्न कंपनी के मालिकों/संचालकों और कॉन्ट्रैक्टरों से वन-टू-वन मीटिंग की।', 'आज ही के दिन 1962 में ‘आधुनिक भारत के विश्वकर्मा’ नाम से विख्यात मोक्षगुंडम विश्वेश्वरैया का निधन हो गया था। यह नेता और कोई नहीं बल्कि संविधान निर्माता बाबा साहब भीमराव अ', 'DRDO ने शुक्रवार को अथॉरिटी होल्डिंग सील्ड पर्टिकुलर (AHSP) रेस्पोंसिबिलिटी को DGQA को सौंप दिया है।', 'मुख्यमंत्री मनोहल लाल खट्टर ने ऑनलाइन संवाददाता सम्मेलन को संबोधित करते हुए कहा कि भले ही राज्य में कोविड-19 की स्थिति में सुधार हुआ हो, लेकिन यह फैसला किया गया', 'एसएसपी अलीगढ़ के नेतृत्व में गठित टीम ने 25,000 हजार रुपए के इनामी नीरज चौधरी (अनिल चौधरी का साला) सहित अपमिश्रित शराब का सामान सप्लाई करने वाले ठे', 'बॉलीवुड फिल्मों, रियलिटी शो और ऐड को देखकर आज कल भारत के अपर मिडिल क्लास लोगों में ऑलिव ऑयल खाने का चलन बढ़ा है। लेकिन लॉन्ग टर्म में सरसों का', 'हरियाणा के पंचायत मंत्री देवेंद्र बबली ने कहा है कि उनकी सरपंचों के साथ हुई मीटिंग में सरपंचों ने एक मांग पत्र रखा था, जिसमें बहुत सी मांगों पर विचार करके इम्प्ली', 'केंद्रीय कृषि मंत्री नरेन्द्र सिंह तोमर ने कांग्रेस के पूर्व अध्यक्ष राहुल गांधी पर पलटवार करते हुए शुक्रवार को कहा कि उन्हें उनकी ही पार्टी में लोग गंभीरता से नहीं लेते और उन', 'नेशहरी विकास विभाग के अनुसार निर्धारित मानकों का पालन नहीं करने पर कई जिलों में प्रतिदिन 300, 400 और 500 पशुओं को वध करने की क्षमता वाले 150 बूचड़खानों को बंद कर दिया गया', 'भारतीय वायुसेना के दो विमान काबुल से लाए गए लोगों के साथ गाजियाबाद के हिंडन एयरबेस पर उतर चुके हैं। तालिबान ने 9/11 के हमलों के बाद अमेरिका नीत सेना के', 'India Vs Australia (IND VS AUS) Indore Holkar Stadium IPL Match LIVE Score Update; Follow IPL 2023 Latest News, RCB Vs LSG IPL Match Updates with Dainik Bhaskar (दैनिक भास्कर).', 'किसान संगठनों ने सितंबर में लागू किये गये नये कृषि कानूनों को वापस लेने के लिए तौर तरीके सहित एजेंडे पर मंगलवार, 29 दिसंबर, को वार्ता करने का पिछले हफ्', 'केंद्र सरकार ने पंजाब में अंतरराष्ट्रीय सीमा से 50 किलोमीटर के दायरे में तलाशी लेने और गिरफ्तारी करने का अधिकार बीएसफ को दे दिया है।', 'Salman Khan Vicky Kaushal Viral Video - सुपरस्टार सलमान खान इस समय आईफा 2023 के लिए आबू धाबी में हैं। इस बीच हाल ही में सोशल मीडिया पर एक वीडियो सामने आया है, जिसमें सल', \"Gender Discrimination in Women - Understanding the Benefits of Pregnant Women's Health. महिलाओं को प्लास्टिक से डायबिटीज का खतरा ज्यादा 'यूनिवर्सिटी ऑफ मिशिगन' की एक नई रिसर्च में\", 'उत्तर प्रदेश प्रशासन ने आखिरकार हाथरस में मीडिया को जाने की अनुमति दे दी है। आज जब इंडिया टीवी की टीम परिवार वालों से मिली तो उन्होंने न सिर्फ पिछले तीन दिनों की बंदिश', 'सुनील शेट्टी ने कहा कि एक रेस्टोरेंट मालिक होने के तौर पर उन्हें भी टेस्ट के साथ समझौता करना पड़ रहा है। सुनील ने कहा कि वे इन दिनों कम टमाटर खा रहे हैं। सुनील ने कहा कि', 'कांग्रेस के वरिष्ठ नेता पी चिदंबरम ने बुधवार को आरोप लगाया कि मुस्लिमों के बाद अब हिंदुत्व ब्रिगेड का नया निशाना ईसाई हैं।', 'बहुजन समाज पार्टी (BSP) अध्यक्ष मायावती ने रविवार को कहा कि वह किसी भी पार्टी की ओर से मिले राष्ट्रपति पद के प्रस्ताव को कभी स्वीकार नहीं करेंगी।', 'पाकिस्तानी एक्ट्रेस उशना शाह ने इस नेकलेस के बहाने पाकिस्तान में चल रही मौजूदा राजनीतिक उठापटक को निशाने पर लिया। लेकिन पाकिस्तानी एक्ट्रेस उशना शाह ने इस नेकलेस के बह', 'IT कंपनी विप्रो (Wipro) ने गुरुवार (13 जुलाई) को Q1FY24 यानी फाइनेंशियल ईयर 2024 की पहली तिमाही के नतीजे जारी कर दिए हैं।', 'हिंदूवादी नेता साध्वी ऋतंभरा ने देश की सभी हिंदू महिलाओं से चार-चार बच्चे पैदा करने का आह्वान करते हुए कहा है कि इनमें से दो बच्चे राष्ट्र को समर्पित कर दिए जाएं।', 'कांग्रेस पार्टी के पूर्व अध्यक्ष राहुल गांधी और प्रियंका गांधी एक बार फिर यूपी के हाथरस में पीड़ित परिवार से मिलने के लिए दिल्ली से निकल चुके हैं।', 'Iran Foreign Minister Hussein Al Qadir Trust Scam - ईरान ने मंगलवार को 7 साल बाद सऊदी अरबी में अपनी एम्बेसी खोली। वो सऊदी और ईरान की दुश्मनी की वजह से वादा', '\"मुझे अचार भी ले जाना है।\" \"अरे भाई नाश्ता कहां है।\"', \"डॉ रणदीप गुलेरिया ने कहा कि 'मामले घटने की सबसे बड़ी वजह लॉकडाउन ही है। इस बार जो नए वेरिएंट आए थे वह ज्यादा फैलाते थे और शायद उनकी\", 'Breaking News Headlines Update; Dainik Bhaskar Breaking News Headlines Today, India and World Latest Pictures Videos, Pictures, and More From Dainik Bhaskar. बिजनेसमैन गौतम अडाणी ने गुरुवार (1 जून) को राष्ट्रवादी कांग्रेस पार्टी (NCP', 'Taarak Mehta Ka Ooltah Chashmah Controversy - तारक मेहता का उल्टा चश्मा फेम एक्ट्रेस जैनिफर मिस्त्री ने हाल ही में शो के प्रोजेक्ट हेड सुहेल रामानी द्वारा धम', 'नदियों का क्या होगा? नदियों का क्या होगा? नदियों का क्या होगा? नदियों का क्या होगा? नदियों का क्या होगा? नदियों का क्या होगा? नदियों का क्या होगा? नदियों का क्या होगा', 'शिरोमणि अकाली दल (SAD) के प्रमुख सुखबीर सिंह बादल ने मंगलवार को अपनी पार्टी की पूर्व सहयोगी भारतीय जनता पार्टी (BJP) पर जमकर हमला बोला है।', 'भारत और अमेरिका के बीच तीसरी 2+2 वार्ता 26-27 अक्टूबर को दिल्ली में होने जा रही है। अमेरिकी विदेश मंत्री माइक पोम्पिओ और रक्षा मंत्री मार्क एस्पर वार्ता के लिए भारत आए', 'दिल्ली से 85 किलोमीटर दूर हरियाणा में पानीपत जिले के पट्टीकल्याणा गांव में एक बड़ी बिल्डिंग तैयार हो रही है। यहां रखे प्रोजेक्ट के मॉडल में बिल्डिंग डिजाइन करने', 'बसपा सुप्रीमो मायावती ने अपने ट्वीट में कांग्रेस पर निशाना साधते हुए कहा कि राजस्थान में एक दलित की पीट-पीट कर हत्या की निन्दा पूरे देश में हुई, लेकिन इस मसले पर न तो कांग्रेस', 'Kisi Ka Bhai Kisi Ki Jaan Movie Promotion - एक्ट्रेस पूजा हेगड़े इन दिनों अपनी अपकमिंग फिल्म किसी का भाई किसी की जान के प्रमोशन में बिजी हैं। इस बीच एक्ट्रेस ने अपने और सलमान के', 'इस सवाल पर कि क्या मंत्री पद मिलना उनके लिए अप्रत्याशित था, उन्होंने कहा, ऐसा नहीं था। मैं विश्वास दिलाता हूं कि पूरी ईमानदारी से अपने कर्तव्य का निर्वहन करुंगा।', 'एक रिपोर्ट के मुताबिक, कोरोना वायरस महामारी के पहले 14 महीनों के दौरान भारत के 1,19,000 बच्चों समेत 21 देशों में 15 लाख से अधिक बच्चों ने संक्रमण के कारण अपने माता-पिता या उन', 'पश्चिम बंगाल की मुख्यमंत्री ममता बनर्जी ने शनिवार को संसद में विद्युत (संशोधन) विधेयक 2020 रखने संबंधी केंद्र के कदम का विरोध करते हुए प्रधानमंत्री नरेंद्र मोदी को पत्र लिखा है।', 'मेरठ के हस्तिनापुर इलाके के गांव पलड़ा में रविवार को 24 साल के विशु की ताबड़तोड़ गोलियां बरसाकर हत्या कर दी गई। ग्रामीणों ने शव को अंतिम संस्कार पर ले जाने के', 'उत्तर प्रदेश के कौशांबी जिले के सैनी थाना क्षेत्र स्थित राष्ट्रीय राजमार्ग संख्या दो पर अजमेर शरीफ से कोलकाता जा रही तीर्थयात्रियों की एक बस शनिवार सुबह सड़क किनारे पेड़ से टकरा गई', 'IPL 2023 - Chennai Super Kings vs Sunrisers Hyderabad Match. Follow IPL 2023 Latest News, CSK Vs RR IPL Match Updates with Dainik Bhaskar (दैनिक भास्कर)', 'कोविड-19 के मामलों में वृद्धि को देखते हुए प्रशासन ने नोएडा और गाजियाबाद में धारा 144 लागू कर दिया है। इस अवधि के दौरान, लोगों को आदेश के अनुसार, सार्वजनिक', 'पंजाब एवं हरियाणा हाईकोर्ट ने अपने एक आदेश में कहा है कि लिव-इन जोड़ों के जीवन और स्वतंत्रता की रक्षा की जानी चाहिए, भले ही उनमें से किसी एक की उम्र विवाह योग्य', \"Dainik Bhaskar Morning News and Latest Headlines; Here are today's top stories for you On Dainik Bhaskar. कांग्रेस ने PM से यह 9 सवाल किए... 1. इकोनॉमी ऐसा क्यों है कि भारत में महंगाई और बेरोजगारी\", 'जम्मू-कश्मीर के रियासी जिले में त्रिकुटा पहाड़ियों पर स्थित प्रसिद्ध माता वैष्णो देवी मंदिर के कपाट श्रद्धालु के लिए खोल दिए गए हैं।', 'Delhi Ex-Deputy CM Manish Sisodia Liquor Policy Case - Follow Delhi Liquor Scam Latest News Updates On Dainik Bhaskar दिल्ली शराब नीति केस में गिरफ्तार अरविंद केजरीवाल सरकार के दो मंत्रियों मनीष सिसोदिया और', 'पंजाब में शराब कारोबारी दीप मल्होत्रा के घर गुरूवार सुबह 7 बजे इनकम टैक्स की रेड हुई है। दीप मल्होत्रा दिल्ली और पंजाब के बड़े शराब कारोबारियों में शामिल हैं।', 'किरण रिजिजू ने एक कार्यक्रम के दौरान बच्चियों द्वारा प्रस्तुत किए गए सुंदर डांस का वीडियो भी अपने ट्वीटर अकाउंट पर शेयर किया। अब लोगों को केंद्र सरकार की योजनाओं का वास्तविक ला', 'Aryan Khan Drugs Case - NCB Ex-Zone Officer Samir Wankhede NCB Case. Follow Aryan Khan Drugs Case Latest News, Reports and Updates On Dainik Bhaskar (दैनिक भास्कर)', \"Dainik Bhaskar Morning News and Latest Headlines; Here are today's top stories for you On Dainik Bhaskar. बिहार में पुलिस पर हमले आम हो चुके हैं...इससे जुड़ी अन्य खबरें पढ़िए... 1. पटना में पार्किंग को लेकर\", 'India सेक्सटॉर्शन के कईं मामले सामने आ रहे हैं। NCRB की रिपोर्ट के मुताबिक, साइबर क्राइम के 52,974 रजिस्टर्ड केस में 33% सेक्सटॉर्शन से जुड़े मामले हैं।', 'अश्वगंधा की खूबियों से त्वचा और बालों की सुंदरता बढ़ाने के लिए जानें कुछ आसान ब्यूटी टिप्स, जिनसे आप बिना किसी साइडइफेक्ट्स के स्किन और हेयर केयर के आ', 'Uniform Civil Code (UCC) Controversy देश में यूनिफॉर्म सिविल कोड (UCC) को लेकर शनिवार को कांग्रेस की बैठक हुई। 14 जून को 22वें लॉ कमीशन ने एक बार फिर से यूनिफॉर्म सिविल', 'गृहमंत्री अमित शाह ने कहा कि प्रधानमंत्री नरेंद्र मोदी ने 135 करोड़ जनसंख्या वाले देश के सभी नागरिकों के निशुल्क टीकाकरण का बहुत बड़ा और ऐतिहासिक निर्णय लिया है, जिसका आज योग दिवस के', 'पंजाब में बीते दिनों हुई घटनाओं के बाद अब अमृतसर में 15 से 17 मार्च और 19-20 मार्च को होने जा रहे G20 सम्मेलन पर रद्द होने का खतरा मंडराने लगा है।', 'कोरोना पर लगाम लगाने के लिए छत्तीसगढ़ सरकार जांच की संख्या बढ़ाने के साथ साथ बाहर से आने वाले लोगों की विशेष निगरानी पर जोर दे रही है।', 'कर्नाटक पुलिस ने बहरीन के एक पूर्व पुलिसकर्मी को गिरफ्तार किया है, जिसने कैंसर से पीड़ित अपने बेटे का इलाज करने के लिए अपराध किया था।', 'Madhya Pradesh Vidhan Sabha (Assembly) Session 2023 Latest News Update - मध्यप्रदेश में इसके चुनावी मायने सीएसडीएस के संस्थापक प्रो. संजय कुमार कहते हैं कि अगर समान नागरिक संहिता लागू होती है, तो', 'पीपुल्स डेमोक्रेटिक पार्टी (पीडीपी) की अध्यक्ष महबूबा मुफ्ती ने रविवार को दावा किया कि अनुच्छेद 370 को निरस्त करने के बाद जम्मू-कश्मीर में स्थिति खराब हो गई है और', 'BMW X5 Price Update; Features, Mileage And More On Dainik Bhaskar. जर्मन ऑटोमेकर कंपनी ने कार को दो इंजन ऑप्शन और चार वैरिएंट में पेश किया है। नई BMW X5 का प्रोडक्शन चेन्नई', 'एलएसी पर तनावपूर्ण स्थिति में आसानी से भारी मशीनरी और अन्य हथियारों को आवश्यक स्थान पर ले जाने में सेना को कोई दिक्कत न हो, सीमा सड़क संगठन (बीआरओ) ने ले', 'Uttar Pradesh (UP) Jagannath Puri Rath Yatra 2023 - भगवान जगन्नाथ की पत्नी देवी लक्ष्मी से जुड़ी है। रथ बनाने के तरीके का जिक्र जय जगन्नाथ नाम की किताब में है।', 'Karnataka Assembly (Vidhan Sabha) Election 2023 - Follow Karnataka Assembly Election 2023 Latest News, Reports On Dainik Bhaskar. कर्नाटक के पूर्व मुख्यमंत्री और JDS नेता एचडी कुमारस्वामी ने सोमवार को कहा कि किसान', 'सुशांत केस की जांच के दौरान इस तरह की जानकारी सामने आई है कि उनकी गर्लफ्रेंड रिया चक्रवर्ती उनके साथ नशा करतीं थी और इसके बाद नार्कोटिक्स कंट्रोल ब्यू', 'Manipur Violence Situation Update; मणिपुर में 3 मई से मैतेई और कुकी समुदाय के लोगों के बीच झड़प हो रही है। मौजूदा कानून के अनुसार मैतेई समुदाय को राज्य के पहाड़ी इ', 'विभिन्न मीडिया रिपोर्ट्स में दावा किया गया कि सतनाम की तबियत पिछले कुछ दिनों से खराब थी। विभिन्न मीडिया रिपोर्ट्स में दावा किया गया कि सतनाम की तबियत पिछले कुछ दिन', 'मंगलवार रात पॉप स्टार रिहाना ने भारत में चल रहे किसान आंदोलन को लेकर एक ट्वीट किया था, जिसके जवाब में पूरा भारत एक साथ खड़ा हुआ दिखाई दिया।', 'Pakistan Economic Crisis - पाकिस्तानी सेना का खर्च और आतंकी कैंप का बजट दोनों नशे के कारोबार से लगातार आर्थिक संकट से गुजर रहे पाकिस्तान में सैन्य बजट कभी कम नहीं होता है।', 'Bollywood Actor Annu Kapoor Special Column - Kuchh Dil Ne Kaha; सलमान एक नॉर्मल इंसान की तरह शाम में एक या दो ड्रिंक लेते हैं और अपने काम पर फोकस करते हैं। एक प्रमोशनल इंटरव', \"नवजोत सिद्धू ने प्रेस कॉन्फ्रेंस शुरू होते ही कहा-'आज सच्चाई सबके सामने रखूंगा तो पता चल जाएगा कि किसानों का असली गुनहगार कौन है और यह भी पता चल जाए\", 'पाकिस्तानी तस्कर भारत में अपने नापाक इरादों को अंजाम देने के लिए लगातार कोशिशों में जुटे हुए हैं। बुधवार-गुरुवार की मध्यरात्रि को भी भारतीय सरहद में पाकिस्तानी ड्रोन घु', 'सीएम योगी ने कहा है कि दीपावली के दिन प्रदेश में ऐसा कोई गरीब का घर न रहे जहां, दीप न जले और दीपावली की मिठाई न पहुंचे।', 'ग्रोफर्स जॉइन किया तो मैंने ब्यूटी और पर्सनल केयर डिपार्टमेंट के जरिए समझा कि कस्टमर्स को ब्यूटी और पर्सनल केयर में क्या चाहिए?', 'Bollywood Actress Raveena Sakhu Speaks About Her Husband. चारू तलाक के बाद एक्ट्रेस राजीव सेन ने अपनी शादीशुदा जिंदगी को पब्लिक करने पर अफसोस भी जताया। साथ ही एक्ट्रेस', 'राहुल गांधी ने ट्विटर पर लिखा, \"भारत में बीजेपी, आरएसएस भारत में फेसबुक और वॉट्सएप जैसे सोशल मीडिया प्लेटफार्म को नियंत्रित करते हैं और इसके माध्यस से फर्जी', 'दिल्ली की एक विशेष एनआईए अदालत ने दिल्ली समेत भारत के विभिन्न स्थानों पर आतंकवादी हमले करने की साजिश रचने के लिए लश्कर-ए-तैयबा के एक पाकिस्तानी आतंकवादी को 10 साल', 'Sarkari Naukri 2023 Latest Sarkari Job Alert (09 July 2023) - Government Jobs Latest Govt Jobs Vacancies Eligibility And Selection Process Latest Details भारतीय आयुर्विज्ञान संस्थान (AIIMS) में नॉन टीचिंग स्टाफ के लिए 358 पद', 'रंधावा ने कहा कि कैप्टन अमरिंदर सिंह को बार-बार आगाह करने के बावजूद उनकी पाक महिला मित्र साढ़े चार साल तक सरकारी कोठी में रही।', 'राज्य के उप निर्वाचन आयुक्त वेद प्रकाश वर्मा ने बताया अपर जिला अधिकारियों की अगुवाई में तीन सदस्य समितियां गठित की गई हैं जो आयोग द्वारा जारी दिशा निर्देशों का अनुपालन सुनिश्चित कराएंगी', 'नजीबाबाद स्टेशन हाउस ऑफिसर (एसएचओ), सत्य प्रकाश ने कहा, गांव की एक लड़की और एक युवक दो दिन पहले हरिद्वार गए थे। प्रेमी युगल को पकड़ कर गांव लाने के बाद', 'उत्तर प्रदेश के विशेष कार्य बल (एसटीएफ) ने कुख्यात अपराधी विकास दुबे के साथी और 50 हजार रूपये के इनामी बदमाश बाल गोविन्द दुबे उर्फ लालू को गिरफ्तार किया है।', 'मायावती आईएएस अधिकारी बनना चाहती थीं, लेकिन कांशी राम ने उनसे कहा कि अगर तुम राजनीति में प्रवेश करोगी तो अनेक आईएएस तुम्हें रिपोर्ट करेंगे।', 'पंजाब पुलिस ने मंगलवार को बंबीहा ग्रुप, जग्गू भगवानपुरिया गैंगस्टों पर बड़ी कार्रवाई की। पंजाब पुलिस ने मंगलवार को बंबीहा ग्रुप, जग्गू भगवानपुरिया गै', 'केंद्रीय स्वास्थ्य मंत्रालय ने शुक्रवार को कहा कि सार्स-सीओवी-2 के नये स्वरूप ओमीक्रोन (Omicron) पर मौजूदा टीकों के काम नहीं करने के बारे में कोई साक्ष्य नहीं है, हालांकि कु', 'उत्तर प्रदेश में कोरोना वायरस के संक्रमण से 290 मरीजों की मौत हो गई और 30,983 नये मरीज पाए गये। स्वास्थ्य बुलेटिन के अनुसार, प्रदेश की राजधानी लखनऊ में पिछले 24 घंटे', 'आगरा और दिल्ली के बीच सफर करनेवाले यात्रियों के लिए अच्छी खबर है। नॉर्दन रेलवे ने देश की राजधानी दिल्ली और ऐतिहासिक शहर आगरा के बीच रोजना एक स्पेशल ट्रेन चल', 'नेशनल टेस्टिंग एजेंसी ने एकलव्य मॉडल रेजिडेंशियल स्कूल (ईएमआरएस) में निकली भर्ती का नोटिस जारी कर दिया है। इसके तहत ईएमआरएस में 38 480 टीचिंग', 'विराट कोहली और अनुष्का शर्मा बेंगलुरु में एक इवेंट के दौरान बैडमिंटन खेलते नजर आए। कपल का बैडमिंटन खेलते हुए एक वीडियो सोशल मीडिया पर सामने आया है।', 'राष्ट्रीय राजधानी और उत्तर-पश्चिम भारत के आसपास के क्षेत्रों में 29 अगस्त से बारिश होने का अनुमान है। आईएमडी ने बुधवार को एक बयान में कहा, “मॉनसून का कम दबाव वाला क्षेत्र हिमालय की तलह', 'छत्तीसगढ़ के नक्सल प्रभावित नारायणपुर जिले में सुरक्षा बलों और नक्सलियों के बीच हुई मुठभेड़ में भारत तिब्बत सीमा पुलिस (आईटीबीपी) का एक जवान शहीद हो गया तथा एक अधिकारी', 'गुड्डी ने बताया कि उनके सबसे बड़े बेटे अजय (20) ने दिहाड़ी मजदूर के तौर पर काम शुरू किया लेकिन पिछले अप्रैल में महामारी की दूसरी लहर के मद्देनजर लागू कोरोना कर्फ', 'उत्तर प्रदेश पुलिस ने समाजवादी पार्टी नेता उन्मेद पहलवान की गिरफ्तारी के लिए छापेमारी भी कर रही है और वह पुलिस के डर से कहीं छिपा हुआ है।', 'पंजाब के लुधियाना से कांग्रेस के सांसद रवनीत सिंह बिट्टू की मौत की खबर से बुधवार को हड़कंप मच गया। इस पोस्ट के वायरल होने के बाद आनंदपुर साहिब से जानकार ने सां', 'दुनिया का सबसे ताकतवर देश संयुक्त राज्य अमेरिका (usa) का आज 247वां स्वतंत्रता दिवस है। इस अवसर पर देश डिक्लेरेशन ऑफ इंडिपेंडेंस का सालाना समारोह मना रहा है। इस अवसर पर देश', 'BSE NSE Sensex Today, Stock Market Latest Updates; टाटा ग्रुप की दिग्गज कंपनी टाटा कंसल्टेंसी सर्विसेज (TCS) के शेयर ने अपने इन्वेस्टर्स को पिछले कुछ सालों यानी लॉ', 'तेजस्वी यादव ने कहा है कि बिहार विधानसभा चुनाव का जो फैसला आया है वह एक तरह से महागठबंधन के पक्ष में रहा है लेकिन नतीजा उनके (NDA) के पक्ष में गया है।', 'सागर की हत्या के आरोप में ओलंपियन सुशील पहलवान जमानत पर है। मां सविता और पिता अशोक धनखड़ को धमकियां मिल रही हैं कि वे सागर हत्याकांड में समझौता कर लें।', 'कांग्रेस के पूर्व अध्यक्ष राहुल गांधी ने मंगलवार को आरोप लगाया कि वर्ष 2022-23 के लिए पेश आम बजट में वेतनभोगी वर्ग, मध्य वर्ग, गरीबों, किसानों, युवाओं और छोटे कारोबारियों के', 'अमिताभ बच्चन ने मंगलवार को अपना हेल्थ अपडेट शेयर करते हुए बताया कि वो ठीक हैं, धीरे-धीरे रिकवर कर रहे हैं', 'मानसून सत्र के दौरान संसद की प्रसिद्ध कैंटीन में इस बार सांसद लजीज व्यंजन का लुफ्ज नहीं उठा सकेंगे। सेंट्रल हॉल स्थित स्नैक्स बार कैंटीन में इन पैक्ड खाद्य सामग्रियों', 'Rashifal (Horoscope Today) | Daily Rashifal (24th June 2023), Daily Zodiac Forecast: Singh Rashi, Kanya, Aries, Taurus, Gemini Cancer Libra, And Other Signs, 24 जून, शनिवार के ग्रह-नक्ष नक्ष', 'Aaj Ka Rashifal (Horoscope Today) | Daily Rashifal (20th June 2023), Daily Zodiac Forecast: Singh Rashi, Kanya, Aries, Taurus, Gemini Cancer Libra, And Other Signs, 20 जून, रविवार के ग्रह-नक्ष', 'पिछले दो सालों के दौरान कोविड-19 के कारण बाधित रही चारधाम यात्रा में इस बार श्रद्धालुओं की भारी भीड़ उमड़ने के मद्देनजर उत्तराखंड के मुख्यमंत्री पुष्कर सिंह धामी ने शु', 'Bollywood Actor And Actress Arpita Sharma Black Outfit - एवरग्रीन एक्टर अनिल कपूर इस दौरान ब्लैक ओवरसाइज कुर्ते में दिखाई दिए। इस ट्रेडिशनल आउटफिट में कटरीना बेहद खूब', 'HMD ग्लोबल ने भारत में नोकिया 110 4G और नोकिया 110 2G फीचर फोन लॉन्च किए हैं। इन दोनों फोन में कंपनी ने बिल्ट-इन UPI पेमेंट ऐप दिया है, इससे यूजर्स ऑ', 'स्वास्थ्य मंत्रालय के अनुसार पिछले 24 घंटे में उपचाराधीन मरीजों की संख्या में 1,562 की कमी दर्ज की गई है। पिछले साल चार मई को संक्रमितों की संख्या दो करोड़ के पार और 23 ज', 'मदर्स डे स्पेशल स्टोरी में आज एनिमल मदर्स के कुछ रोचक किस्से...। मदर्स डे स्पेशल स्टोरी में आज एनिमल मदर्स के कुछ रोचक किस्से...', 'Indian Air Force ( INS) Commander Rafel Malik - इंडियन डिफेंस एक्सपर्ट ने रफाल एम को INS विक्रांत की जरूरतों के हिसाब से फिट पाया,', 'वैज्ञानिकों ने अस्पताल से घर लौटने के कम से कम तीन महीने बाद कोविड-19 मरीजों के फेफड़ों में लगातार हो रहे नुकसान को पहचाना है और कुछ मरीजों में यह नुकसान', 'हरियाणा के मुख्यमंत्री मनोहर लाल खट्टर ने शुक्रवार को आंदोलनकारी किसानों को आश्वासन दिया कि केन्द्र सरकार उनसे बातचीत के लिए हमेशा तैयार है और बातचीत के जरिये', 'नींबू के हेल्थ बेनिफिट्स नींबू का जूस सभी को पसंद आता है। नींबू के ब्यूटी बेनिफिट्स नींबू के छिलके में पोटैशियम, कैल्शियम, विटामिन', 'जम्मू-कश्मीर को विशेष दर्जा देने वाले संविधान के अनुच्छेद 370 के अधिकतर प्रावधानों को समाप्त करने के केन्द्र के कदम के खिलाफ एकजुट होने वाले 6 राजनीतिक दलों के गुपकर घो', 'भारत बायोटेक ने बुधवार को कहा कि कोविड टीकों की आपूर्ति के संबंध में कंपनी की नीयत को लेकर कुछ राज्यों द्वारा शिकायत किया जाना काफी निराशाजनक है।', 'Pakistan Tehreek-e-Insaf (PTI) Imran Khan Arrest Update; Follow Imran Khan Toshakhana Case News, Latest Updates On Dainik Bhaskar (दैनिक भास्कर)', 'Aaj Ka Rashifal (Horoscope Today) | Daily Rashifal (20th June 2023), Daily Zodiac Forecast: Singh Rashi, Kanya, Aries, Taurus, Gemini Cancer Libra, And Other Signs, 20 किलोवाट और ज्यादा मांग वाले', 'दिल्ली के बॉर्डर पर पिछले 5 दिनों से जारी किसानों के आंदोलन के बीच सुलह के लिए आज सरकार और 32 किसान संगठनों के बीच अहम बैठक होने जा रही है।', 'देश के डॉक् टरों की शीर्ष संस् था, इंडियन मेडिकल एसोसिएशन (आईएमए) ने केंद्र और राज् य सरकारों से कोविड के खिलाफ जंग में कोई ढिलाई नहीं बरतने की अपील', 'भारत ने जापान में आयोजित महिला जूनियर एशिया कप का खिताब जीतकर इतिहास रचा। टीम में कप्तान प्रीति व उपकप्तान दीपिका समेत 5 खिलाड़ी हरियाणा की हैं। टीम में कप्तान प्री', 'शुरुआती सूचना के अनुसार, मुख्यमंत्री आवास के पास स्थित रेलवे कॉलोनी में रेलवे में सीनियर अधिकारी राजीव द बाजपेयी की पत्नी और उनके 20 साल के बेटे की घर में घुसकर ह', 'केंद्रीय खाद्य एवं उपभोक्ता मामलों के मंत्री रामविलास पासवान के निधन से बिहार की राजनीति में एक बड़ा शून्य पैदा हो गया है।', 'आरोपी तारिकजोत सिंह ने 5 मार्च 2021 को शहर में स्थित उसके वर्क-स्पेस (काम करने की जगह) से उसे किडनैप किया था। आरोपी ने विक्टिम के हाथ-पैर बांधकर', \"Women's contribution to the Indian Cricket Board of India (BCCI) has added the latest rankings for Women's participation in the 2023. BCCI ने 17 में से 3 खिलाड़ियों हरमनप्रीत कौर, स्मृति मंधाना और दीप्ती श\", 'आम आदमी पार्टी (आप) के राष्ट्रीय संयोजक अरविंद केजरीवाल ने गोवा में कांग्रेस विधायकों के इस्तीफे को लेकर मंगलवार को पार्टी की गोवा इकाई पर कटाक्ष करते हुए कहा था कि 15 विधायक', 'Ram Sethu Supreme Court Hearing Update सुप्रीम कोर्ट राम सेतु को राष्ट्रीय धरोहर घोषित करने के लिए सरकार को निर्देश देने की मांग वाली याचिका पर सुनवाई के लिए तैयार हो गया है।', 'Rocky Aur Rani Ki Prem Kahani Box Office Collection Update करण जौहर की डायरेक्शन में बनी ये सातवीं फिल्म है। फिल्म ने अब तक डिजिटल राइट्स से 80 करोड़ और सेटेलाइट राइट्स से 50 कर', 'Sudan Plane Crash Latest News Update - पोर्ट सूडान एयरपोर्ट पर रविवार को एक सिविल एयरक्राफ्ट क्रैश हो गया। इस हादसे में चार सैन्यकर्मियों सहित 9 लोगों की मौत हो गई।', 'दिल्ली पुलिस कमिश्नर ने कहा कि किसानों की ट्रैक्टर रैली के दौरान 26 जनवरी को राजधानी दिल्ली में हिंसा फैलाने की बड़ी साजिश थी लेकिन दिल्ली पुलिस की समझदारी के चलते साजिशकर्ता अपने', 'पाकिस्तान ने शुक्रवार को आतंकवाद के खिलाफ ऑपरेशन ऑल आउट लॉन्च करने की घोषणा की। इसके लिए मिलिट्री के इस्तेमाल के अलावा राजनीतिक, डिप्लोमैटिक, आर्थिक और', 'सूत्रों ने बताया कि कांग्रेस अध्यक्ष सोनिया गांधी की अगुवाई में सीडब्ल्यूसी की डिजिटल बैठक शुक्रवार सुबह 11 बजे होगी जिसमें दोनों वरिष्ठ नेताओं के सम्मान में प्रस्ताव पारित किया जा सकता', 'पैगसस जासूसी मामले को लेकर चल रहे विवाद के बीच कांग्रेस के वरिष्ठ नेता पी चिदंबरम ने सोमवार को कहा कि केंद्र सरकार को इसका जवाब देने में इतनी मुश्किल क्यों रही है कि क्या वह', 'टोक्यो ओलिंपिक के गोल्ड मेडलिस्ट नीरज चोपड़ा दुनिया के नंबर-वन जेवलिन थ्रोअर बन गए हैं। वे इस साल 23 सितंबर से 8 अक्टूबर तक चीन के हांगझोऊ में', 'भारतीय रेलवे पेशेंट्स के किराए में 100% तक की छूट देती है। गंभीर बीमारियों के इलाज के लिए पेशेंट्स को एक शहर से दूसरे शहर जाना पड़ता है और ट्रैवलिंग', 'अक्षय कुमार को हाल ही में मुंबई एयरपोर्ट पर स्पॉट किया गया, जिसका एक वीडियो सामने आया है। वीडियो में अक्षय कैजुअल लुक में नजर आ रहे हैं। इसी के साथ उन्होंने एक', 'बाल गवाह के साक्ष्य की पुष्टि रिकॉर्ड में उपलब्ध अन्य साक्ष्यों से की जानी चाहिए और न्यायालय द्वारा यह देखा जाना चाहिए कि वे सिखाए गए गवाह नहीं हैं।', 'विदेश मंत्री एस जयशंकर सोमवार 24 मई से पांच दिवसीय यात्रा पर अमेरिका जायेंगे जहां वे अमेरिकी कंपनियों के साथ कोविड-19 रोधी टीके की खरीद और बाद में इसके संयुक्त', 'राहुल गांधी ने प्रधानमंत्री नरेंद्र मोदी के लोकसभा में बुधवार को दिए वक्तव्य का हवाला देते हुए कहा, ‘‘प्रधानमंत्री जी ने अपने भाषण में कहा था कि विपक्ष केवल आंदोलन की बात कर रहा है लेकिन', 'कांग्रेस पार्टी की अंतरिम अध्यक्ष सोनिया गांधी ने आज समान विचारधारा के 19 पार्टियों को न्योता भेजा है, जिसमें करीब 15 दलों के नेता भाग लेंगे।', 'Rocky Aur Rani Ki Prem Kahani - फिल्ममेकर करण जौहर की फिल्म ‘रॉकी और रानी की प्रेम कहानी’ जल्द ही रिलीज होने वाली है। हाल ही में एक्ट्रेस को एयरपोर्ट पर स्पॉ', 'नए कृषि कानूनों को लेकर नए कृषि कानूनों के खिलाफ नए कृषि कानूनों के खिलाफ किसानों के खिलाफ नजर आ रहे हैं। नए कृषि कानूनों के खिलाफ किसान', 'प्रधानमंत्री नरेंद्र मोदी ने राजस्थान में कहा था कि राज्य सरकार यहाँ मुफ़्त की रेवड़ियाँ बाँटने में जुटी हुई है। इसे देखते हुए भाजपा भी केंद्र की योजनाओं के साथ राज्यों के लिए अलग-', 'रजा अकादमी ने बंद बुलाया तो महाराष्ट्र के चार शहरों में जमकर बवाल हुआ और शनिवार को जब वीएचपी और बीजेपी के स्थानीय नेताओं ने बंद बुलाया तो अमरावती और मालेगांव', 'Karnataka Assembly Election 2023 BJP Candidates List - कर्नाटक में विधानसभा चुनाव के लिए भाजपा 30 अप्रैल को चुनाव अभियान शुरू करेगी। इसमें प्रधानमंत्री नरेंद्र मोदी, गृह मंत्री अमित शाह और उत्तर', 'जम्मू कश्मीर में केंद्र सरकार द्वारा सुरक्षा के पुख्ता इंतजाम किए गए हैं और भारी सुरक्षाबलों की तैनाती के जरिए आतंकवाद पर भी नकेल कसी गई है।', 'Bollywood Actress Kangana Ranaut Speaks About Her Career. अरविंद गौर ने कंगना रनोट को भी मेंटॉर किया है। हाल ही में फिल्म ‘तू झूठी मैं मक्कार’ में नजर आई मोनिका चौध', 'पीएम मोदी सरकार के दूसरे कार्यकाल का यह दूसरा वर्ष है और सरकार ने अर्थव्यवस्था में व्यापक सुधार की पहल शुरू की है जबकि कोविड-19 से यह बुरी तरह प्रभावित हुई है।', 'शर्बरी सुबह घर के पास के पार्क में टहलने जा रही थी, जहां रोज़ की तरह उसकी मुलाक़ात विशी, पाखी और शन्मुखा से हुई। चारों बतियाती हुई पार्क के च', 'सुप्रीम कोर्ट ने गुरुवार को मद्रास उच्च न्यायालय के उस फैसले को बरकरार रखा, जिसमें वन्नियार समुदाय को सर्वाधिक पिछड़ा वर्ग की श्रेणी में 10.5 फीसदी आरक्षण देने वाले कान', 'पश्चिम बंगाल के उत्तर 24 परगना जिला के सीमावर्ती इलाके में सीमा सुरक्षा बल (बीएसएफ) के जवानों ने एक मां-बेटी को उस वक्त धर दबोचा जब वो दोनों सीमा पार कर बांग्ला', 'तमिलनाडु की कुल 139 जेलों में से 15 जेलें 100% से ज्यादा भरी हैं। इसके बाद हिमाचल प्रदेश की सभी जेलों में से 14 जेल 100% से ज्यादा भरी हैं। वहीं 17 राज्य/केंद्र शासित प्रदेश में जेलों', 'Understanding the Benefits of Passive Juiceमुखी माउंट एटना जानना जरूरी है में हम बात कर रहे हैं यूरोप के इसी सबसे ऊंचे ज्वालामुखी माउंट एटना की। ये वो कुछ चीज', 'Petrol Diesel Price Today - [Aaj Petrol Diesel Ka Rate Kya Rahega]. पेट्रोल और डीजल की कीमतों में आज यानी 17 अप्रैल को भी कोई बदलाव नहीं हुआ है। दिल्ली में पेट्रोल की कीमत 96.72 रुपए, जबकि', 'प्रधानमंत्री नरेंद्र मोदी ने जब शुक्रवार को तीनों कृषि कानूनों का वापस लेने का ऐलान किया तब यह उम्मीद की जा रही थी कि किसान एक साल से ज्यादा समय से चल रहे अपने आंदो', 'US Violence Situation Update - अमेरिकी राज्य वर्मोन्ट में तेज बारिश की वजह से बाढ़ आ गई है। पानी के सैलाब की वजह से मंगलवार को राज्य में करीब 100 सड़कों को बंद कर दिया ग', 'जान्हवी कपूर को हालही में मुंबई एयरपोर्ट पर स्पॉट किया गया, जहां वह स्टाइलिश लुक में नजर आईं। इसी से जुड़ा एक वीडियो सोशल मीडिया पर सामने आया है। वीडियो में', 'आज वे बता रही हैं कि क्यों कंपनियों के लिए डेटा कल्चर बनाना अब जरूरी हो गया है... आज बढ़ती ब्याज दरों और लागत के बीच बाजार की चुनौतियों से निपटना कंपनियों के', 'Manipur Women Paraded Naked Video Controversy - मणिपुर में मैतेई और कुकी समुदाय के बीच हिंसा की मुख्य वजह हाईकोर्ट का एक आदेश है। इस आदेश में मणिपुर हाईकोर्ट ने राज्य के', 'हरियाणा भाजपा के नेता और पूर्व मुख्य संसदीय सचिव रामपाल माजरा ने गुरुवार को केंद्र सरकार के नए कृषि कानूनों के खिलाफ प्रदर्शन कर रहे किसानों के साथ एकजुटता व्यक्त करने के', \"मानसून का साइंटिफिक डेफिनिशन यह है कि 'मौसम बदलने से हवाओं की दिशा बदलना और बारिश इन्हीं हवाओं के दिशा बदलने का नतीजा है।’\", 'रेलवे बोर्ड के अध्यक्ष विनोद कुमार यादव ने शनिवार को बताया कि भारतीय रेलवे 12 सितंबर से 80 और स्पेशल ट्रनें 40 जोड़ी) चलाने वाला है।', 'ओडिशा के जाजपुर जिले के एक आदिवासी व्यक्ति ने एक जहरीले सांप को काट लिया, जिसने उसे कथित तौर पर काट लिया था।', \"TMC Election Results: Reasons Behind Election Commission's Decision ममता बनर्जी ने तृणमूल कांग्रेस को स्टेट पार्टी का दर्जा नहीं हासिल है। अब जानिए, कैसे ये हालात TMC की कमाई पर ग्रहण\", \"मध्य प्रदेश के पूर्व मुख्यमंत्री और राज्यसभा सांसद दिग्विजय सिंह ने राष्ट्रीय स्वयं सेवक संघ (RSS) के प्रमुख मोहन भागवत के 'सभी भारतीयों का डीएनए एक होने' के बयान को लेकर एक बार फिर स\", 'इजराइल के हवाई हमलों ने कई बार सीरिया के एयर-डिफेंस सिस्टम को टारगेट किया है। इजराइल के हवाई हमलों ने कई बार सीरिया के एयर-डिफेंस सिस्टम को टारग', 'भारतीय एयर फोर्स ने अभिनेता अनिल कपूर की अपकमिंग फिल्म AK Vs AK के उस प्रोमोशनल वीडियो पर आपत्ति जताई है जिसमें अनिल कपूर एक एयर फोर्स अधिकारी की वर्दी पहने हुए हैं', 'हाल ही में पानीपत जिले के इसराना क्षेत्र के गांव शाहपुर में एक 17 वर्षीय नाबालिग किशोर को दो बच्चों की मां ने प्रेमजाल में फंसा लिया और फिर दिल्ली ले जाकर उससे मंदिर में शा', 'भारत में कोविड-19 संक्रमण के कुल मामलों की संख्या 10 लाख से 20 लाख (7 अगस्त 2020 को) तक पहुंचने में 21 दिनों का समय लगा था, जबकि 20 से 30 लाख (23 अगस्त 2020) की संख्या', 'वह साल 2013 बैच के आईएएस प्रदीप गवांडे से शादी करने जा रही हैं। उन्होंने खुद अपने इंस्टाग्राम अकाउंट पर इस बात की जानकारी दी है और अपने होने वाले पति के साथ फ', 'सीएम योगी आदित्यनाथ ने धार्मिक स्थलों से उतारे गए लाउडस्पीकरों को स्कूलों में लगाने के निर्देश दिए हैं। उन्होंने स्कूली बच्चों को यातायात नियमों से अवगत कराने पर जो', 'गुजरात के पूर्व मुख्यमंत्री केशुभाई पटेल का निधन हो गया है, हार्ट अटैक के बाद उन्हें अहमदाबाद के स्टर्लिगं अस्पताल में भर्ती कराया गया था लेकिन उपचार के दौरान उनकी', 'जिन शूटर्स ने गैंगस्टर जीतेंद्र गोगी पर गोली चलाई थी वे दोनों वकील के वेष में कोर्ट परिसर में घुसे थे और जैसे ही गोगी को पेशी के लिए कोर्ट के अंदर दाखिल', 'इंडो-इस्लामिक कल्चरल फाउंडेशन (आईआईसीएफ) के सचिव अतहर हुसैन ने बताया, ‘‘ट्रस्ट ने 26 जनवरी 2021 या 15 अगस्त 2021 को अयोध्या मस्जिद की आधारशिला रखने का फैसला', 'मौसम विभाग ने साफ किया है कि अब एक सप्ताह तक पंजाब में कहीं भी बारिश के आसार नहीं बन रहे हैं, लेकिन 14 मई के करीब दोबारा एक दो दिन बारिश के आसार बन रहे हैं।', 'चीनी नौसेना की गतिविधियों में असामान्य ढंग से हाल के समय में बहुत तेजी आई है। सूत्रों के अनुसार भारतीय नौसेना ने PLA-नेवी की बढ़ी हलचल पर अपने निगरानी तंत्र को हा', 'केशव प्रसाद मौर्य ने कहा है कि रामभक्त, शिवभक्त और कृष्णभक्त होने की वजह से उन्होंने अपना भाव व्यक्त किया था, उन्होंने कहा, \"अयोध्या में राम लला का भव्य मंदिर बन', 'हरियाणा में बहादुरगढ़ के बादली में बड़ा दर्दनाक सड़क हादसा हुआ है। पुलिस से मिला जानकारी के मुताबिक, बहादुरगढ़ के बादली के पास तेज़ रफ़्तार कार और ट्रक की', 'लखनऊ शहर को बम धमाकों से दहलाने के इरादे से केरल से आए पॉपुलर फ्रंट ऑफ इंडिया (PFI) के दो अभियुक्तों को गिरफ्तार किया गया है।', 'भारतीय रेल ने यात्रियों की सुरक्षा के लिए कई नियम बनाए हैं, उन्हीं में से एक नियम है- चलती ट्रेन में न चढ़ना, लेकिन फिर भी बड़ी संख्या में यात्री इस नियम का उल्लंघन', 'ईडी ने एक बयान में कहा कि यह संपत्तियां बौद्ध वेलफेयर ट्रस्ट के अध्यक्ष सुरेंद्र कुमार, उनकी पत्नी सीता कुमारी और बेटी लिप्सा कुमार से संबंधित हैं।', '1 जून को इंग्लैंड टीम आयरलैंड के खिलाफ लॉर्ड्स मैदान पर टेस्ट मैच खेलेगी। हाल ही में हुए बिग बैश लीग में वे प्लेयर ऑफ द टूर्नामेंट थे, जहां एडि', 'Delhi Police Arrest Postar; दिल्ली में प्रधानमंत्री नरेंद्र मोदी के खिलाफ पोस्टर लगाने के मामले में पुलिस ने 36 FIR दर्ज की हैं। पुलिस ने प्रिंटिंग प्रेस का नाम प्रकाशित न करने के आरोप में मालिकों को गिर', 'रूसी विदेश मंत्री सर्गेई लावरोव ने सोमवार को कहा कि भारत और रूस के बीच एस-400 मिसाइल रक्षा सौदा भारतीय रक्षा क्षमता के लिए खासा मायने रखता है तथा सहयोग को कमजोर', 'स्वास्थ्य मंत्रालय ने शुरू में जिले में वैक्सीन प्राप्त करने वालों की सूची के अनुसार खुराक भेजी है, जिसमें अतिरिक्त दस प्रतिशत खुराक भेजी जाती है ताकि ऐसी घटना होने पर कोई भी वै', 'कूनो नेशनल पार्क में मादा चीता आशा की ट्रैकिंग में लगी टीम को ग्रामीणों ने डकैत समझकर पीट दिया। ग्रामीणों ने टीम को वहां से भगाने के लिए पहले फाय', 'केजरीवाल ने कहा कि किसानों को सफलता प्राप्त करने के लिये कोविड, खराब मौसम और डेंगू जैसी परिस्थितियों से गुजरना पड़ा।', 'संजय राउत ने ट्वीट करके इस बात की जानकारी दी थी और कहा कि ये मुंबई पाकिस्तान अधिकृत कश्मीर की रह लग रही है। कंगना को मुंबई ने बहुत कुछ दिया और वो अब मुंबई की', 'सरकारी नौकरी की तैयारी कर रहे युवाओं के लिए अच्छी खबर है। ओबीसी उम्मीदवार को 3 साल की छूट मिलेगी। सिलेक्ट होने पर उन्हें हर महीने 19 हजार 900 रुपए से लेकर', 'देश में एक दिन में कोरोना वायरस के 41,322 नए मामले सामने आने के साथ संक्रमण के मामले 93.71 लाख के पार चले गए।', 'मौसम केंद्र जयपुर के अनुसार, बुधवार तड़के पांच बजकर 24 मिनट पर आए भूकंप की तीव्रता रिक्टर पैमाने पर 5.3 मापी गई। राजस्थान के बीकानेर में आज सुबह 5.24 बजे', 'राज्यसभा में कृषि बिल के पारित होने के दौरान सांसदों के अनियंत्रित व्यवहार दुखी राज्यसभा के उपसभापति हरिवंश ने राष्ट्रपति को चिट्ठी लिखी है। हरिवंश ने अपनी चिट्ठी में लिखा है कि सां', 'गुरुग्राम में दो लड़कियों ने एक-दूसरे के साथ शादी कर ली थी। दोनों कहते हैं कि हम दोनों प्यार के उतार-चढ़ाव, पेरेंट्स की नाराजगी और समाज के रिजेक्शन से गु', 'राजधानी दिल्ली में कोरोना वायरस संक्रमण कंट्रोल होता नजर आ रहा है। शनिवार को दिल्ली में कोरोना के 213 नए केस मिले हैं, जो एक मार्च के बाद से एक दिन में मिले वाले मामलों', 'स्वामी अग्निवेश को बीते मंगलवार को नई दिल्ली के इंस्टीट्यूट ऑफ लिवर एंड बायिलरी साइंसेज (आईएलबीएस) अस्पताल में भर्ती कराया गया था, जहां हालत ज्यादा बिगड़', 'राउरकेला इस्पात संयंत्र की एक इकाई में जहरीली गैस रिसाव से बुधवार को कम से कम चार श्रमिकों की मौत हो गई और कई अन्य बीमार हो गए।', 'जम्मू-कश्मीर में बड़ा हादसा हो गया है। माता वैष्णो देवी मंदिर में भगदड़ मच गई है। इस हादसे में अब तक 12 लोगों के मारे जाने की खबर है।', 'Samsung Galaxy Z 5 and Galaxy Z फ्लिप 5 और गैलेक्सी Z फ्लिप 5 को लॉन्च कर दिया है। कंपनी ने गैलेक्सी Z फ्लिप 5 की शुरुआती कीमत 9,999 रुपए और गैलेक्सी Z फोल्ड 5 की शु', 'कोरोना से ठीक होने वाले लोगों की संख्या देखें तो 24 घंटों के दौरान देशभर में 58648 लोग ठीक हुए हैं और अबतक देशभर में कुल 7,491,513 लोग पूरी तरह से ठी', 'प्रधानमंत्री नरेंद्र मोदी ने आज दिल्ली के एम्स में कोरोना वैक्सीन की दूसरी डोज ली। इस दौरान पीएम मोदी ने हमसे बात की। पीएम मोदी ने टीका लगवाने के बाद ट्विटर पर अपनी', 'राष्ट्रीय हरित अधिकरण ने कहा कि गंगा की सहायक नदी हिंडन बहुत प्रदूषित नदी है और इसे साफ करने के लिए कोई सार्थक कदम नहीं उठाए गए।', 'Australian Universities Students Protest - कनाडा की बॉर्डर सर्विस एजेंसी CBSA ने 700 भारतीय स्टूडेंट्स के लिए डिपोर्टेशन, यानी देश से निकाले जाने का लेटर जारी कर दिया है।', 'Uttar Pradesh Mafia Atiq Ahmed Ashraf Ahmed Murder Case - माफिया अतीक और उसके भाई अशरफ की शनिवार रात प्रयागराज में हत्या कर दी गई है। माफिया अतीक और उसके भाई अशरफ की', 'पीएम मोदी ने कहा कि आज दाल के किसान को भी ज्यादा पैसा मिल रहा है, दाल की कीमतें भी कम हुई हैं, जिससे गरीब को सीधा फायदा हुआ है।', 'Delhi Municipal Corporation (MCD) Election Update; Follow Delhi Municipal Corporation (MCD) Election Latest News, Reports and Updates On Dainik Bhaskar (दैनिक भास्कर)', 'मुलायम सिंह ने दहाड़कर कहा, किसी माई के लाल में दम नहीं जो हमारे रहते विजय मिश्रा को गिरफ्तार कर सके। उस वक्त विजय मिश्रा ने कहा, नेताजी को जब तक विजय', 'Prime Minister Narendra Modi Karnataka Visit Latest News Update. Follow Karnataka Vidhan Sabha Chunav Parinam Latest News, Reports and Analysis On Dainik Bhaskar (दैनिक भास्कर)', 'Bollywood Actress Ashish Yadav Wedding Anniversary - एक इंटरव्यू में आशीष ने बताया कि वे रुपाली से कैसे और कब मिले। उन्होंने कहा था, ‘लाेग एक ही स्टीरियोटाइप से बंधे हुए', 'बांग्लादेश अब से भारतीय दूतावास के काफिले और टॉप डिप्लोमैट्स को एक्स्ट्रा सिक्योरिटी कवर नहीं देगा। इस फैसले की घोषणा बांग्लादेश के विदेश मंत्री डॉक्टर अब्दुल', 'कृषि कानून के विरोध में किसानों के समर्थन में पहली बार महापंचायत में पहुंचे समाजवादी पार्टी के अध्यक्ष अखिलेश यादव अलीगढ़ के टप्पल में पूरी लय में थे।', 'पुलिस के एक अधिकारी ने बताया कि आतंकवादियों की मौजूदगी की खुफिया जानकारी मिलने के बाद सुरक्षा बलों ने आज तड़के पुलवामा जिले के टिकन इलाके में घेराबंदी कर तलाश अभियान', 'हिमाचल प्रदेश की लाहौल स्पीति घाटी जहां अपनी खूबसूरती के विख्यात है, वहीं हिम तेंदुओं के लिए भी काफी चर्चित है। रविवार को भी एक मादा तेंदुआ अपने 2 शाव', 'दिल्ली एनसीआर में रात से जमकर बारिश हो रही है। बारिश की वजह से जहां पारा गिरने से लोगों को राहत मिली है, वहीं कई जगहों पर जलभराव की वजह से लोगों को परेशा', 'असम में जिन लोगों के नाम एनआरसी के फाइनल लिस्ट में नहीं आए उन्होंने इसके खिलाफ नागरिक ट्रिब्यूनल की ओर रूख किया था और उनके दावों पर सुनवाई चल रही है।', 'मुरादाबाद के एक गांव में सात साल की बच्ची का अपहरण, उसके साथ दुष्कर्म और हत्या का मामला सामने आया है। लड़की की मां ने कहा कि मैंने अपनी बेटी को हर जगह खो', 'फ्रांस के क्लब पेरिस सेंट जर्मन के साथ 30 जून को खत्म हो जाएगा। मेसी का अनुबंध फ्रांस के क्लब पेरिस सेंट जर्मन के साथ 30 जून को खत्म हो जाएगा। माना जा रहा है कि फ्र', 'गौतम बुद्ध नगर जिले में शनिवार को कोविड-19 के 70 नए मामले आए और इनमें 14 बच्चे संक्रमित पाए गए हैं। स्वास्थ्य विभाग के अधिकारियों के अनुसार आठ दिनों में 58 बच्चे संक्रम', 'भारत सरकार ने पाकिस्तान के उस कदम पर कड़ी आपत्ति जताई है जिसमें पाकिस्तान करतारपुर गुरुद्वारे का प्रबंधन सिख गुरुद्वारा प्रबंधक कमेटी से छीनकर वहां की खूफिया एजेंसी ISI के कंट्रो', 'India Vs Australia (IND VS AUS) Indore Test Match Moments Update; Follow India Vs Australia 4th Test Latest Photos and Video Updates on Dainik Bhaskar (दैनिक भास्कर)', 'उत्तर प्रदेश में अनलॉक 4 के संबंध में गाइडलाइन की घोषणा कर दी गई है। उन्होंने बताया कि पिछले 24 घंटों के दौरान राज्य में संक्रमण के 6,233 नए मामले सामने आए हैं।', 'सरकार ने मंगलवार को कहा कि कोविड-19 का टीका वायरस के नए स्वरूप के खिलाफ भी काम करेगा और ऐसे कोई साक्ष्य नहीं मिले हैं कि मौजूदा टीका ब्रिटेन या दक्षिण अफ्रीका से आ', 'राष्ट्रीय परीक्षण एजेंसी (NTA) ने दिसंबर 2022 और जून 2023 के लिए सीएसआईआर नेट की फाइनल आंसर की 2023 सोमवार 17 जुलाई 2023 को जारी कर दी है। राष्ट्रीय परीक्षण एजेंसी (', 'सैमसंग इंडिया ने गुरुवार (27 जुलाई) गैलेक्सी टैब S9 सीरीज और गैलेक्सी वॉच 6 सीरीज के प्राइस भारत में रिवील कर दिए हैं। सैमसंग गैलेक्सी वॉच 6 सीरीज को भारत में 30 ह', 'Prime Minister Narendra Modi Hiroshima Visit Update - प्रधानमंत्री नरेंद्र मोदी हिरोशिमा में जारी G7 की बैठक में गेस्ट के तौर पर शामिल हुए हैं। इस दौरान एल्बनीज ने बताया कि जब वे भारत दौरे पर', 'Indian Space Research Organisation (ISRO) Chandrayaan Mission - अंतरिक्ष एजेंसी CNES के साथ मिलकर 12 अक्टूबर 2011 को ट्रॉपिकल वेदर व जलवायु की स्टडी करने के लिए लो ऑर्बिट में लॉन्च किया', 'उत्तर प्रदेश के गाजियाबाद में एक स्कूल की दीवार ढह जाने पर तीन मजदूरों की मौत हो गई, जबकि दो अन्य गंभीर रूप से घायल हो गये।', 'Maharashtra Pune Murder Case - पुणे में एक युवक ने एक लड़की पर चाकू से हमला कर दिया। पुलिस ने यह भी बताया कि उन्होंने आशीष की हत्या करने वाले दोनों आरोपियों को गिरफ्', 'Nawazuddin Siddiqui Domestic Violence - पाकिस्तानी के नामी न्यूज चैनल जियो टीवी के अनुसार 13 अगस्त को हुई नाजिया की मौत के बाद 5 महीनों तक जांच के लिए उनका शव लं', 'आसाराम के वकील गोकुलेश बोहरा ने कहा कि अब तक सभी मामलों में आसाराम को सजा मिली है, लेकिन फर्जी सर्टिफिकेट मामले में बेल मिलने से आसाराम को राहत मिली है। आसाराम', 'भारत मौसम विज्ञान विभाग (आईएमडी) ने यह जानकारी दी। आईएमडी ने कहा कि बुधवार को न्यूनतम तापमान 9 डिग्री और अधिकतम तापमान 27 डिग्री सेल्सियस रहने का अनुमान है।', 'प्रदेश के उच्च शिक्षा मंत्री एवं उपमुख्यमंत्री डॉक्टर दिनेश शर्मा ने बुधवार को संवाददाता सम्मेलन में कहा कि पिछले साढे़ तीन वर्षों के दौरान प्रदेश की उच् च शिक्षा का स् वरूप बदल ग', 'ब्रिटेन में कोरोना के नए वायरस के मिलने के बाद से ही भारत सहित दुनिया के कई देशों ने ब्रिटेन आने जाने वाली उड़ानों को रद्द कर दिया है।', \"Bollywood Actor Naseeruddin Shah Speaks About Her Father's Death. नसीरुद्दीन शाह ने हाल ही में अपने बेटे के साथ अपने रिश्ते के बारे में बात की। उन्होंने इस बात पर जोर दिया कि\", 'गोवा के स्वास्थ्य मंत्री विश्वजीत राणे ने कहा कि प्रशासनिक त्रुटियों और पर्यटन को बिना प्रतिबंधों के खोलने की वजह से गोवा पॉजिटिविटी रेट मामले में देश में शीर्ष पर पहुंच', 'इस केस में सीबीआई ने 49 लोगों को अभियुक्त बनाया था,जिनमें से 17 की मौत हो गयी। 28 साल चले इस मुकदमें में 351 गवाह पेश किए गए और क़रीब 600 दस्तावेज़ हुए।', 'कोरोना वायरस के कारण पैदा हुई स्थिति के बीच 30 सितंबर को अनलॉक-4 खत्म हो रहा है और 1 अक्टूबर से अनलॉक-5 शुरू होगा।', 'प्रवर्तन निदेशालय (ईडी) ने बाहुबली नेता मुख्तार अंसारी और माफिया अतीक अहमद से बांदा और साबरमती जेल में घंटों पूछताछ की।', 'चोर चोरी करने के एक से एक नए आईडिया ढूंढकर ला रहे है। चोर चोरी करने के एक से एक नए आईडिया ढूंढकर ला रहे है। चोर चोरी करने के एक से एक नए आईडिया ढूं', 'उत्तर प्रदेश सरकार ने रविवार को कोरोना कर्फ्यू संबंधी नया दिशा-निर्देश जारी करते हुए कर्फ्यू में और दो घंटे की ढील दी गई है।', 'प्रियंका गांधी ने आरोप लगाया कि जिस समय प्रधानमंत्री नरेंद्र मोदी कोरोना महामारी से युद्ध जीत लेने की घोषणा कर रहे थे उसी समय देश में ऑक्सीजन, आईसीयू एवं वेंटिलेटर बेडों', 'रक्षा मंत्री राजनाथ सिंह ने शनिवार को कहा कि चीन के साथ सीमा विवाद से भारत जिस तरह से निपटा है, उसने साबित किया है कि भारत कमजोर नहीं है और सीमा पर उल्लंघन,', 'कांग्रेस के वरिष्ठ नेता कपिल सिब्बल द्वारा पार्टी के कामकाज पर सवाल उठाने और पंजाब के पूर्व मुख्यमंत्री अमरिंदर सिंह की केंद्रीय गृह मंत्री अमित शाह के साथ बैठक के एक दिन बाद', 'Bollywood Actor Vivek Agnihotri Case - दिल्ली हाईकोर्ट के चीफ जस्टिस रहे एस मुरलीधर ने भीमा कोरेगांव हिंसा मामले में एक्टिविस्ट गौतम नवलखा को राहत देने और पक्षपात करने का', 'डायरेक्टर अयान मुखर्जी ने अपनी अपकमिंग फिल्म ‘ब्रह्मास्त्र 2’ और ‘ब्रह्मास्त्र 3’ के बारे में जानकारी शेयर की है। अयान ने बताया कि इस बार वो ‘ब्रह्मास्त्र’ के दोनों पार्ट', 'जब हरिद्वार में कुंभ मेला शुरू हुआ तो उस वक्त भी मैंने कहा था कि कुंभ के आयोजन को रद्द करना चाहिए क्योंकि इससे इंसानों की जिंदगी पर असर पड़ता है, और आज की', 'प्रधानमंत्री नरेंद्र मोदी 74वें स्वतंत्रता दिवस के मौके पर लाल किले से तिरंगा फहराकर सातवीं बार राष्ट्र को संबोधित किया। इस दौरान चीन और पाकिस्तान पर बिना नाम लिए निशाना', 'BSE NSE Sensex Today, Stock Market Latest Updates; शेयर बाजार में इस हफ्ते गिरावट देखने को मिल सकती है। एनालिस्टों के मुताबिक इस हफ्ते मानसून, FII इनफ्लो और ग्लोबल ट्रेंड्स पर', 'उत्तर प्रदेश की राजधानी लखनऊ, प्रयागराज, वाराणसी, कानपुर नगर, गौतमबुद्ध नगर, गाजियाबाद, मेरठ, गोरखपुर सहित 2000 से अधिक एक्टिव केस वाले सभी 10 जनपदों में अब', 'दिल्ली की सीमाओं पर किसानों का आंदोलन लगातार जारी है, हालांकि शनिवार देर रात्रि नोएडा को दिल्ली से जोड़ने वाली चिल्ला बॉर्डर को किसान ने अपने नेता भानु प्रताप सिंह की रक्षा', 'बोडोलैंड क्षेत्रीय परिषद (बीटीसी) के संस्थापक सदस्य और सांसद बिस्वजीत दारमारी ने शनिवार को राज्यसभा की सदस्यता से इस्तीफा दे दिया और ऐलान किया कि वह रविवार को भाज', 'साउथ सुपरस्टार जूनियर एनटीआर 95वें एकेडमी अवॉर्ड सेरेमनी में हिस् सा लेने के लिए अमेरिका रवाना हो गए हैं। एक्टर को आज यानी 6 मार्च को हैदराबाद एयरपोर्ट पर स्प', 'Bollywood Actress Parveen Dosu On Salman Khan And Shah Rukh Khan. एक्ट्रेस और एयर होस्टेस परवीन दस्तूर ने हाल ही में फिल्म में सलमान और शाहरुख खान के साथ काम करने का एक्सपीरिएंस श', 'पाकिस्तान तहरीक ए इंसाफ पार्टी की कई महिला नेताओं ने पार्टी छोड़ी है या फिर राजनीति से संन्यास लिया है। हाल के दिनों में पाकिस्तान तहरीक ए इंसाफ पार्टी की कई महिला नेताओं ने', 'जब हम किसी अपने को परेशान या थका हुआ देखकर सवालों से उन्हें परेशान नहीं करते हैं तो इससे पता चलता है कि हम उन्हें कितनी अच्छी तरह से समझते हैं। जब', 'Aaj Ka Rashifal (Horoscope Today) | Daily Rashifal (20th June 2023), Daily Zodiac Forecast: Singh Rashi, Kanya, Aries, Taurus, Gemini Cancer Libra, And Other Signs, 20 जून, रविवार को मेष राशि वा', 'जैव प्रौद्योगिकी विभाग, दो प्रमुख कार्यक्रमों राष्ट्रीय बायोफार्मा मिशन (एनबीएम) और इंड-सीईपीआई मिशन के कार्यान्वयन को सहायता प्रदान कर रहा है, जिसने राष्ट्रीय वैक्सीन', 'एआरसीओवी रिसेप्टर बाइंडिंग डोमेन (आरबीडी) की प्रतियां बनाती है, जो वायरस के स्पाइक प्रोटीन का एक प्रमुख उप-भाग है, जिसे यह कोशिकाओं से जुड़ने और प्रवेश करने के', 'सांसद किरोड़ीलाल मीणा की शिकायत के बाद हाउसिंग बोर्ड ने कार्रवाई करते हुए आईएएस नीरज के पवन को पिछले 10 साल से आवंटित बंगले को खाली कराने के निर्देश जारी कर दिए', 'बेंगलुरु से बेलूर करीब 220 किमी दूर है। यह चोटी कर्नाटक की सबसे ऊंची चोटी है और इसकी ऊंचाई लगभग 1901 मीटर है। यह चोटी कर्नाटक की सबसे ऊंची चोटी है', 'गर्म खाना स्वाद में भी बेहतर होता है। ऐसे में यह जान लेना जरूरी है कि खाना कब खतरनाक हो जाता है और इसे नेचुरली कैसे गर्म रखा जा सकता है।', 'नई वी-क्लास लाइनअप की रीडिजाइन किया गया है। कंपनी ने बताया कि नए मॉडलों में वी-क्लास, वी-क्लास मार्को पोलो, EQV, वीटो और ईवीटो शा', 'पू्र्वोत्तर के राज्य त्रिपुरा में बांस के बने बिस्कुट लॉन्च हुए हैं और खुद राज्य के मुख्यमंत्री बिप्लब देव ने शुक्रवार को विश्व बांस दिवस के मौके पर यह बिस्कुट लॉन्च किए', 'पटना हाई कोर्ट के 7 जजों का GPF (जनरल प्रॉविडेंट फंड) खाता बंद हो गया है। याचिका में जजों से भेदभाव की बात कही गई याचिका में कहा गया है कि हाई', 'Uddhav Thackeray Vs Eknath Shinde Group Dispute - उद्धव ठाकरे ने कहा कि कुछ लोगों ने शिवसेना का नाम चुराया, पार्टी का चिन्ह चुराया, बाप चुराने की कोशिश की, लेकिन आज', 'Madhya Pradesh Zayka Special Story; What is the story of Zayka Special Story? Follow Zayka Special Story On Dainik Bhaskar (दैनिक भास्कर)', 'England Vs England (ENG NZ) 1st ODI Match LIVE Score Update; Follow ENG Vs ENG Latest Photos and Video Updates on Dainik Bhaskar (दैनिक भास्कर)', 'Narendra Modi Narendra Modi Narendra Modi Narendra Modi Narendra Modi Narendra Modi Narendra Modi Narendra Modi Narendra Modi Parliament Building - 28 मई को पीएम नरेंद्र मोदी ने नई संसद भवन बिल्डिंग का उद्घाटन किया। उन्हों', 'बेंगलुरु में सिलिकॉन वैली सहित राज्य में संभावित तीसरी कोविड लहर को गंभीरता से लेते हुए, ब्रुहत बेंगलुरु महानगर पालिका (बीबीएमपी) कर्नाटक को सप्ताह के अंत में प्रतिबंध', 'उत्तर प्रदेश विधानसभा चुनाव को लेकर पहले चरण की वोटिंग में अब मुश्किल से दो हफ्ते का वक्त बचा है। सियासी दावों के बीच जनता के मन में उत्तर प्रदेश विधानसभा चुनाव को लेकर कई तर', 'सूबे के कानपुर में एक कॉन्स्टेबल पर रेप का आरोप लगाने वाली महिला ने उसकी मौत के बाद आत्महत्या कर ली।', 'युवा क्रांति मंच के शिवांग तिवारी ने बताया कि आज हमने अपनी गली के अंदर लाउडस्पीकर के माध्यम से हनुमान चालीसा पाठ का आयोजन किया था, क्योंकि हमने एसीएम फर्स्ट', 'Bollywood Actress Sara Ali Khan Mahakal Mandir Photos - बॉलीवुड एक्ट्रेस सारा अली खान 14 जनवरी 2022 को मां अमृता सिंह के साथ उज्जैन आई थीं। वे महाकालेश्वर मंदिर में भगवान महाकाल की भस्म', 'Delhi Ex-Deputy CM Shraddha Walkar Murder Case - श्रद्धा मर्डर केस में दिल्ली पुलिस ने आफताब पूनावाला पर लगे आरोपों को लेकर कोर्ट में सोमवार को अपनी दलीलें पूरी कर लीं।', 'कांग्रेस नेता राहुल गांधी ने मोदी सरकार पर हमला बोलते हुए कहा कि सरकार चीन के सामने झुक गई और भारत की जमीन चीन को सौंप दिया।', 'शीर्ष अदालत ने इलाहाबाद उच्च न्यायालय की उस व्यवस्था के खिलाफ दायर अपील पर विचार करने से बुधवार को इंकार कर दिया, जिसमें कहा गया था कि ‘‘सिर्फ विवाह के लिये ही धर्मान्तरण', 'Karnataka Deputy CM DK Shivakumar देश के सबसे अमीर विधायक हैं। कर्नाटक भाजपा के वरिष्ठ नेता सुरेश कुमार ने पलटवार करते हुए कहा कि कांग्रेस को अमीर लोगों से प्यार है।', 'Odisha BJP Chief Jaishankar Murder Case - ओडिशा में वीरेंद्र सचदेव और बिहार में सम्राट चौधरी को अध्यक्ष बनाया गया है। उन्हें समीर मोहंती की जगह राज्य का पार्टी अध्यक्ष बनाया गया', 'दिल्ली हाईकोर्ट के अधिकारियों के अनुसार कोर्ट दोबारा शुरू होना तभी संभव है जबकि दिल्ली में कोरोना के मामले घट रहे हों और सार्वजनिक परिवहन उपलब्ध हो।', 'Rajasthan Mahashivratri 2023 Latest News Update. Follow Mahashivratri 2023 Latest News, Reports On Dainik Bhaskar (दैनिक भास्कर)', 'Twitter Removes Verified Followers From Verified Accounts. All You Need To Know. ट्विटर ने पिछले महीने यूजर्स के पोस्ट लिखने और पढ़ने को लेकर एक बड़ा अपडेट किया है। ऐसे में आज भास्कर एक्स', 'Aaj Ka Rashifal (Horoscope Today) | Daily Rashifal (20th June 2023), Daily Zodiac Forecast: Singh Rashi, Kanya, Aries, Taurus, Gemini Cancer Libra, And Other Signs, 20 जून, शुक्रवार के ग्रह-नक्ष', 'बिहार के शिक्षा मंत्री डॉ. चंद्रशेखर ने एक बार फिर रामचरित मानस पर सवाल खड़े किए हैं। उन्होंने कहा कि विधानसभा में किसी की हिम्मत नहीं कि मेरे बयान पर सवाल खड़ा कर सके', 'वायुसेना प्रमुख वी.आर. चौधरी ने तमिलनाडु के कुन्नूर में हेलिकॉप्टर हादसे की जगह का दौरा किया। बुधवार को कुन्नूर के पास हुए हादसे में सीडीएस बिपिन', 'उत्तराखंड में 7 फरवरी को आई जल प्रलय का एक और दिल दहलाने वाला वीडियो सामने आया है। दरअसल जब सैलाब आया तो कई मजदूर तपोवन प्रोजेक्ट में काम कर रहे थे, ये लोग', 'अमेरिका में एक महिला ने तीन बच्चों की गोली मारकर हत्या कर दी। चारों की लाशें बरामद कर ली गई हैं। चारों की लाशें बरामद कर ली गई हैं। चारों की लाशें बरा', 'Bageshwar Dham Dhirendra Krishna Shastri Shrimad Bhagwat Katha ग्रेटर नोएडा में बागेश्वर वाले बाबा पंडित धीरेंद्र कृष्ण शास्त्री के दिव्य दरबार में बुधवार को भीड़ ज्यादा होने से अफरा-तफरी', 'आज 21 फरवरी को स्वास्थ्य मंत्रालय द्वारा जारी किए गए डाटा के अनुसार, देश में पिछले 24 घंटों में 14 हजार 264 नए मरीज सामने आए हैं और 90 मरीजों की मौत हुई है।', 'टेक कंपनी गूगल (Google) ने I/O-2023 इवेंट में अपना पहला फोल्डेबल स्मार्टफोन पिक्सल फोल्ड (Pixelfold) और पिक्सल टैबलेट (Pixel Tablet) ग्लोबल मार्केट के लिए', 'केरल हाईकोर्ट की डिवीजन बेंच ने सुनवाई के दौरान कहा कि जब बात राज्य की सुरक्षा से जुड़ी हो तो सरकार बिना वजह बताए लाइसेंस रिन्यू करने से मना कर सकती है।', 'रात करीब 12 बजे के बाद इस बच्चे का क्षत-विक्षत शव बरामद हो सका है। यहां के कतर्नियाघाट जंगल से सटे गूढ़ गांव के एक तालाब में शनिवार को 8 साल', 'हरियाणा में बढ़ते कोरोना संक्रमण को देखते हुए सरकार ने सख्त फैसले लेना शुरू कर दिया है। सरकार के इस नए आदेश में कहा गया है कि जहां भी 100 से अधिक की भीड़ होती है वहां', 'प्रियंका ने ट्वीट किया, \"उत्तर प्रदेश की मेरी प्रिय बहनों, आपका हर दिन संघर्षों से भरा है। साथ ही प्रदेश की सरकारी बसों में महिलाओं के लिए मुफ्त यात्रा का प्रबंध होगा।\"', 'Maharashtra Political Crisis - Eknath Shinde Vs Eknath Shinde. महाराष्ट्र में बागी विधायकों की आयोग्यता से संबंधित मामले से जुड़ी ये खबरें भी सामने आई हैं। याचिकाकर्ता की ओर से अधिवक्ता देवद', 'भारत की ऑफसेट नीति के तहत, विदेशी रक्षा उत्पाद बनाने वाली कंपनियों को कुल खरीद अनुबंध मूल्य का कम से कम 30 प्रतिशत भारत में खर्च करना होता है।', 'शिक्षक भर्ती घोटाला मामले में 10 साल कैद की सजा काट रहे और फिलहाल पेरोल पर बाहर हरियाणा के पूर्व मुख्यमंत्री ओम प्रकाश चौटाला तिहाड़ जेल से रिहा कर दिए जाएंगे क्योंकि दिल्ली सरकार ने', 'देशभर में ओमिक्रॉन के 21 मरीज सामने आ चुके हैं जबकि शनिवार को देश में सिर्फ 4 ओमिक्रॉन वेरिएंट के मरीज थे। महाराष्ट्र में ओमिक्रॉन के अबतक कुल 8 मामले सामने आ चुके', 'कांग्रेस इस बार प्रदेश में कर्नाटक मॉडल पर चुनाव लड़ने जा रही है। गुरुवार को सीएम हाउस पर दिन भर रणनीति तय करने के लिए बैठकों का दौर चलता रहा।', 'उत्तराखंड के चमोली जिले में स्थित बद्रीनाथ मंदिर के कपाट आठ मई को सुबह 6.15 बजे खोले जाएंगे। पुजारियों ने शनिवार को यह घोषणा की।', 'विभिन्न खेलों के खिलाड़ियों के प्रदर्शन में निखार आया है और खेलों की दुनिया में भारत का सितारा पहले से बुलंद हुआ है। विभिन्न खेलों के खिलाड़ियों के प्रदर्शन में निखार आया है', \"पूर्व कांग्रेस नेता और वरिष्ठ वकील कपिल सिब्बल ने वेबसाइट 'इंसाफ के सिपाही' लॉन्च की है। उन्होंने बीजेपी पर तंज करते हुए कहा कि वह पीएम मोदी का विरोध\", 'हरियाली अमावस्या पर कौन-कौन से शुभ काम किए जा सकते हैं... हर महीने की अमावस्या पर कौन-कौन से शुभ काम किए जा सकते हैं... हर महीने की अमावस्या पर नदी स्', 'कर्नाटक के मुख्यमंत्री बीएस येदियुरप्पा ने उन दावों को बकवास करार दिया है जिनमें कहा जा रहा है कि उनके बेटे बीवाई विजयेंद्र प्रशासन में हस्तक्षेप कर रहे हैं।', \"खालिस्तान समर्थक 'वारिस पंजाब दे' के जत्थेदार अमृतपाल सिंह के समर्थकों की तरफ से अमृतसर के अजनाला पुलिस स्टेशन पर हुए हमले के 24 घंटों बाद DGP पंजाब ने\", 'गोरखपुर में हिंदुओं का धर्मपरिवर्तन कराए जाने का एक बड़ा मामला सामने आया है जिसमें पिपराइच थाना क्षेत्र एक गांव चिलबिलवा में कुछ दलित परिवारों का धर्म परिवर्तन करा रहे दो लोगों को', 'कृषि कानूनों के खिलाफ आंदोलन के दौरान जान गंवाने वाले 11 किसानों के परिजनों को शनिवार को पंजाब में सरकारी नौकरियों के लिए नियुक्ति पत्र दिए गए।', 'चीन को मकैक बंदर देने से पहले ही श्रीलंका के पर्यावरणविदों ने इसका विरोध करना शुरू कर दिया है। अब वहां की सरकार अपने टोक मैकाक बंदरों पर होने वाले खर्च', 'देश के ज्वालामुखी और भूगर्भीय खतरा न्यूनीकरण केंद्र के अधिकारियों ने क्षेत्र में सतर्कता के स्तर को तीन से चार तक बढ़ा दिया।', 'Bollywood Actor Ranveer Singh Birth Anniversary Special Story - Who Is Ranveer Singh. रणवीर सिंह और उनका जुनून बाजीराव बनने के लिए एक महीने तक खुद को कर लिया था कमरे में बंद 2015 में आई फिल्म बा', 'किसान महापंचायत से पहले बीकेयू के नेता राकेश टिकैत का बयान आया है। इस इलाके में किसान महापंचायत का मकसद भी बहुत साफ है, तीनों कृषि कानूनों के विरोध के नाम पर', 'हरियाणा सरकार ने इतिहास में पहली बार 22 में से 12 जिलों में बाढ़ की घोषणा कर दी है। ऐसे में सरकार की ओर से राज्य के 22 जिलों में से 12 जिलों को बाढ़ ग्रस्त घोषित किया गया है।', 'Breaking News Headlines Update; Dainik Bhaskar Breaking News Headlines Today, India and World Latest Pictures Videos, Pictures, and More From Dainik Bhaskar. महाराष्ट्र के छत्रपति संभाजीनगर में बुधवार रात दंगे करने वालों में 10 लोगों', 'एनसीबी अधिकारी ने कहा कि एनसीबी ने इस जहाज से पांच पिस्तौल और मैगजीन भी जब्त किए थे। छह श्रीलंकाई लोगों की गिरफ्तारी की गई है, जो इस वक्त न्यायिक हि', 'दिल्ली के टिकरी बॉर्डर और गाजीपुर बॉर्डर से दिल्ली पुलिस ने अपनी बैरिकेडिंग हटा ली है लेकिन इन मार्गों पर अभी भी किसानों का कब्जा है।', 'आजकल लोग इसका गलत अर्थ लगा लेते हैं। आजकल लोग इसका गलत अर्थ लगा लेते हैं। यदि आप अपने कर्मयोग में इन बातों को उतारें, तो करना भी आसान और किए हुए का फल पाना', 'अपर जिलाधिकारी (वित्त) विधान जायसवाल ने शुक्रवार रात बताया था कि जिला प्रशासन की जांच में पाया गया है कि शराब से प्रभावित अधिकतर लोग तीन थाना क्षेत्रों-लोढा, खैर और जां', 'केंद्रीय स्वास्थ्य सचिव राजेश भूषण ने कहा कि देश में कोविड-19 के कुल 63 प्रतिशत मामले पुरुषों में सामने आए जबकि 37 प्रतिशत महिलाएं संक्रमित हुईं।', 'Delhi Lalbaug Woman Murder Case Update दिल्ली में लड़की की चाकू से गोदकर हत्या करने वाला आरोपी साहिल (20) पकड़ा गया है। साहिल ने 20 बार चाकू मारे साहिल जब साक्षी पर हमला कर रहा था', 'वेस्टर्न रेलवे की तरफ से यात्रियों की डिमांड को देखते हुए नई ट्रेनें चलाने का फैसला लिया गया है, उनमें बांद्र टर्मिनस- जयपुर, बांद्रा टर्मिनस- गोरखपुर,', 'शाहरुख खान की अपकमिंग फिल्म ‘जवान’ को लेकर फैंस बेहद एक्साइटेड हैं। चर्चा है कि उन्होंने इस फिल्म में म्यूजिक देने के लिए 10 करोड़ रुपए चार्ज किए हैं।', 'रामगढ़ के मंडलीय वन अधिकारी (डीएफओ) ने मंगलवार को बताया कि हाथियों के एक समूह ने गोला क्षेत्र के जंगल में जयंतीबेड़ा गांव में सुबह 65 वर्षीय सुलेमान अंसारी को कुचल कर मार', 'उत्तर प्रदेश के आतंकवाद निरोधक दस्ते (एटीएस) ने धर्मांतरण रैकेट में शामिल गिरोह के एक अन्य सदस्य को महाराष्ट्र के यवतमाल से गिरफ्तार किया है।', 'कोरोना वायरस की दूसरी लहर से जूझ रहा है। यहां कोरोना के 80 प्रतिशत मरीज ऐसे हैं जिनमें कोरोना का कोई लक्षण नहीं है। ये सही है कि बंगाल और असम में रैलियां हो', 'IPL में क्रुणाल पंड्या के शानदार ऑलराउंड प्रदर्शन की बदौलत शनिवार रात को लखनऊ सुपर जायंट्स ने सनराइजर्स हैदराबाद को 5 विकेट से हराया। मैच के बाद उन्होंने', 'पंजाब के डेराबस्सी में बरवाला रोड पर गुरुवार रात 2 बजे सौरव केमिकल नाम की फैक्ट्री में गैस लीक हो गई है। गैस लीक होने से सभी मजदूरों की तबीयत खराब हो', 'मोदी सरकार में नए कैबिनेट मंत्री बने अश्विनी वैष्णव को रेल मंत्रालय और आईटी मंत्रालय दिया गया है। रेल मंत्रालय और आईटी मंत्रालय, दोनों ही अश्विनी वैष्णव को दिए गए', 'असम में रविवार को कांग्रेस, एआईयूडीएफ और वाम सहित कुल 14 विपक्षी दलों ने नए कृषि कानूनों को निरस्त करने की मांग कर रहे किसान संगठनों द्वारा आठ दिसंबर को बुल', 'शोधकर्ताओं ने पाया कि शुरुआती संक्रमण से ठीक होने के बाद, बीमारी के पहले 30 दिनों के बाद- कोविड-19 से ठीक हुए लोगों में अगले छह महीनों तक आम आबाद', 'हिमाचल प्रदेश के कांगड़ा जिले में स्थित पोंग बांध झील में मृत पाये गये प्रवासी पक्षी बर्ड फ्लू से संक्रमित पाये गये हैं। हाल ही में राजस्थान में बर्ड फ्लू की चेतावनी दी गयी', \"संसद के चल रहे मौजूदा मानसून सत्र में सरकार ने 'लॉकडाउन के दौरान कितने प्रवासी मजदूरों की जान गई है' जानकारी दी है।\", 'Parineeti Chopra Raghav Chadha Engagement - परिणीति चोपड़ा- AAP सांसद राघव चड्ढा ने 13 मई को दिल्ली के कपूरथला हाउस में धूमधाम से सगाई की। सगाई का एक वीडियो सोश', \"केरल उच्च न्यायालय ने कहा है कि पॉपुलर फ्रंट ऑफ इंडिया (पीएफआई) और सोशल डेमोक्रेटिक पार्टी ऑफ इंडिया (एसडीपीआई) 'चरमपंथी संगठन' थे, लेकिन प्रतिबंध\", 'मुख्तार अंसारी को लाने के लिए यूपी पुलिस की टीम पंजाब के रोपड़ में है और पुलिस ने रोपड़ जेल प्रशासन से संपर्क किया है। मुख्तार अंसारी को लाने के लिए यूपी पुलिस की टी', 'टिकैत ने आरोप लगाया कि यदि कृषि कानूनों को लागू किया जाता है, तो किसानों को अंततः छोटी-मोटी नौकरियां करने के लिए मजबूर किया जाएगा क्योंकि उनकी जमीन बड़े', 'भारतीय वायुसेना के एयर चीफ मार्शल आरकेएस भदौरिया ने कहा है कि देश की उत्तरी सीमा पर सुरक्षा के लिहाज से हालात कुछ ठीक नहीं हैं।', 'पुणे के देखु रोड के आदर्श नगर में रहने वाले रवि ने शादी के लिए लड़की ढूंढने के लिए मेट्रोमोनियल साइट पर अकाउंट बनाया था। रवि ने अपने निवेश पर रिटर्न पाने', 'प्रधानमंत्री नरेंद्र मोदी ने आज वीडियो कॉन्फ्रेंसिंग के माध्यम से वेस्टर्न डेडिकेटेड फ्रेट कॉरिडोर का उद्घाटन करते हुए कहा कि जब नए साल में देश का आगाज अच्छा है तो आने वा', 'Bollywood Actor Annu Kapoor Special Column - Kuchh Dil Ne Kaha; अमीरबाई और उस दौर की कुछ गायिकाओं और अभिनेत्रियों ने समाज में अपने सम्मान के लिए काफी संघर्ष किया। अमीरबाई और', 'हरियाणा सरकार ने सोमवार को 1967 और 1980 में जारी दो आदेशों को वापस ले लिया, जिसके तहत सरकारी कर्मचारियों के राष्ट्रीय स्वयंसेवक संघ (RSS) की गतिविधियों में भाग लेने पर रोक थी।', 'फ्रांस में एक 17 साल के लड़के की पुलिस के हाथों मौत हो गई। इस घटना से नाराज लोगों ने राजधानी पेरिस समेत देश के कई शहरों में उग्र प्रदर्शन किया।', 'Uttar Pradesh Mafia Atiq Ahmed Murder Case - Follow Dainik Bhaskar [Ground Report] From Dainik Bhaskar (दैनिक भास्कर) मैथा तहसील के मड़ौली गांव में मां प्रमिला दीक्षित (37) और बेटी नेहा (21) की म', 'राहुल गांधी को याद है कि उनकी पार्टी के रक्षा मंत्री ए.के. एंटनी ने 2013 में संसद में क्या कहा था?', 'पूर्व मंत्री ओमप्रकाश राजभर की अगुवाई वाली सुहेलदेव भारतीय समाज पार्टी (सुभासपा) के साथ गठबंधन के बारे में पूछे जाने पर सपा अध्यक्ष ने कहा कि यह एक स्वाभाविक गठबंधन है', 'अक्षय कुमार ने एक स्टेज परफॉर्मेंस के दौरान सोनम बाजवा और मौनी रॉय के साथ शर्टलेस होकर डांस किया। इस वीडियो में अक्षय कुमार, सोनम बाजवा और मौनी रॉय', \"Dainik Bhaskar Morning News and Latest Headlines; Here are today's top stories for you On Dainik Bhaskar. त्रिपुरा में भाजपा गठबंधन को बहुमत का अनुमान लगाया गया: त्रिपुरा में भाजपा गठबंधन को बहुमत का अनु\", 'मोदी की तीन सीटों में से दो कांग्रेस और एक सीट निर्दलीय के कब्जे में है। बाकी की तीन सीटों में से दो कांग्रेस और एक सीट निर्दलीय के कब्जे में है।', 'पुलिस अधीक्षक (ग्रामीण) श्रीश चंद्र ने बताया कि मृतकों व घायलों के परिजनों को सूचना दे दी गई है तथा सभी घायलों को जिला अस्पताल में भर्ती कराया गया है।', 'Himachal Pradesh Weather Update हिमाचल में मानसून की एंट्री के साथ ही मूसलाधार बारिश ने कहर बरपाना शुरू कर दिया है। प्रदेश में आज और कल के लिए मौसम विभाग ने ऑरेंज अलर्ट जारी कर रखा', 'कांग्रेस ने पैगसस को लेकर सुप्रीम कोर्ट द्वारा सरकार से सवाल किये जाने के बाद सोमवार को कहा कि केंद्र को यह स्पष्ट करना चाहिए कि उसकी किसी एजेंसी ने इस स्पाईवेयर को खरीदा', 'लखीमपुर खीरी में किसानों का एक समूह उत्तर प्रदेश के उपमुख्यमंत्री केशव प्रसाद मौर्य की यात्रा के खिलाफ तीन अक्टूबर को प्रदर्शन कर रहा था, तभी एक एसयूवी (कार) ने चार कि', 'स्किन के इस हिस्से पर स्ट्राटम कोरनियम की लेयर होती है जो त्वचा के सुरक्षा कवच का काम करती है और यही लेयर शरीर को इन्फेक्शन से बचाती है।', 'Pakistan Super League (PSL) - पाकिस्तान सुपर लीग (PSL) में शुक्रवार को कीरोन पोलार्ड ने एक शानदार कैच पकड़ कर सभी को हैरान कर दिया। इस मैच में वेस्टइंडीज के ऑलराउंडर', 'AIIMS के ऑर्गन रिट्रीवल बैंकिंग ऑर्गनाइजेशन (ORBO) के मुताबिक, हमारे देश में हर साल 1.5 से 2 लाख लोगों को किडनी ट्रांसप्लाट की जरूरत होती है, लेकिन सिर्फ 8000', 'India Pakistan BRICS Meeting Update - पाकिस्तान के ब्रिक्स में शामिल होने वाले ब्रिक्स समिट में शामिल होने की मांग को आगे बढ़ा सकता है। इस बीच रिपोर्ट में दावा किया गया है कि पाकिस्तान अगस्त में साउथ', 'उत्तर प्रदेश में अगले साल होने वाले विधानसभा चुनाव को लेकर अभी से शुरू हुई अटकलों के बीच केंद्रीय गृह मंत्री अमित शाह से सांसद अनुप्रिया पटेल और संजय निषाद ने मुलाकात की', 'मृतकों में मोहरी देवी (76) पत्नी गोरधन पिंगोलिया, मालूराम (52) पुत्र गोरधन पिंगोलिया, महेंद्र (39) पुत्र गोरधन पिंगोलिया, आशीष (9) पुत्र मालू राम और सुगना (47) पत्', 'केंद्रीय गृह मंत्री अमित शाह ने हरियाणा में 2024 के लोकसभा चुनाव कैंपेन का आगाज कर दिया है। केंद्रीय गृह मंत्री अमित शाह ने हरियाणा में 2024 के लोकसभा चुनाव कैंपेन का आ', 'एक्टर आर माधवन के बेटे वेदांत माधवन ने फिर से देश का नाम रोशन किया है। वेदांत ने मलेशिया इनविटेशनल एज ग्रुप स्विमिंग चैंपियनशिप में पांच गोल्ड मेडल जीते हैं', 'Indian Premier League (IPL) 2023 - Indian Premier League (IPL) Opening Ceremony. Follow Indian Premier League Latest News, Reports and Updates On Dainik Bhaskar (दैनिक भास्कर)', '“क्या आपकी कार में चंपा के फूल रखे हैं तो इसका मतलब यह तो नहीं कि आपको हर कोई चंपा लगे?” यह तो नहीं कि आपको हर कोई चंपा लगे?”', 'इंडियन एयरफोर्स की ओर से एयरफोर्स कॉमन एडमिशन टेस्ट (AFCAT) 2023 के लिए ऑनलाइन एप्लीकेशन प्रोसेस 1 जून से शुरू कर दी गई है। इस टेस्ट के लिए जरिए 276 पद', 'प्रवर्तन निदेशालय (ईडी) ने बुधवार को एक अवैध खनन घोटाले के संबंध में उत्तर प्रदेश के पूर्व मंत्री गायत्री प्रसाद प्रजापति, उनके ड्राइवर और बेटों के कई आवासीय और अ', 'राष्ट्रीय स्वयंसेवक संघ के आरक्षण का ‘पुरजोर समर्थक’ होने की बात करते हुए संगठन के सह-सरकार्यवाह दत्तात्रेय होसबाले ने मंगलवार को कहा कि यह सकारात्मक कार्रवाई का जरिया है', 'न्यूजीलैंड ने पाकिस्तान को पांच मैचों की वनडे सीरीज के पांचवें और अंतिम मुकाबले में 47 रन से हरा दिया है। न्यूजीलैंड ने पाकिस्तान को पांच मैचों की वनडे सीरीज के पांचवें', \"चायनीज टेक कंपनी iQoo ने भारत में 'iQoo नियो 7 प्रो 5G' स्मार्टफोन लॉन्च कर दिया है। कंपनी ने लॉन्च इवेंट में बताया है कि गेमिंग के दौरान\", 'ममता बनर्जी 2024 के लोकसभा चुनाव से पहले राष्ट्रीय स्तर पर बड़ी भूमिका निभाने की तैयारी में हैं जिसके तहत वो संसद के मानसून सत्र के बीच पश्चिम बंगाल की मुख्यमंत्री अपने पा', 'Bollywood Singer Arijit Singh Spotted At Rocky Aur Rani Chopra. रायपुर में शनिवार देर रात तक चले मशहूर बॉलीवुड सिंगर अरिजीत सिंह के लाइव कॉन्सर्ट शो में रायपुरियंस उनके', 'कोविड-19 टीकाकरण अभियान का अगला चरण 60 वर्ष से अधिक आयु के लोगों और कुछ विशेष बीमारियों से पीड़ित 45 वर्ष या उससे अधिक आयु के लोगों के लिए एक मार्च से शुरू होगा।', 'कर्नाटक के स्वास्थ्य मंत्री के. सुधाकर ने कहा है कि राज्य में तीसरी लहर के दौरान 3 दिनों में कोविड के मामले दोगुने हो गए हैं, जो पहली दो लहरों की तुलना में बहुत तेज', 'केरल उच्च न्यायालय (Kerala High Court) ने केंद्र और राज्य सरकार (Kerala government) को एक जनहित याचिका ( PIL) पर नोटिस जारी किया है। याचिका को स्वीकार करते हुए केरल उच्च न्यायालय ने केंद्र', 'नितिन गडकरी ने बताया कि स्वदेशी जागरण मंच की एक ऑनलाइन वीडियो कॉन्फ्रेंस में उन्होंने वैक्सीन का उत्पादन बढ़ाने को लेकर सुझाव दिया था लेकिन उन्हें यह जानकारी नहीं थी', 'चन्नी ने टि्वटर पर कुछ तस्वीरें भी साझा कीं, जिसमें वह गोलकीपर की वेशभूषा में खिलाड़ियों के साथ दिखाई दे रहे हैं।', 'मौलाना महमूद मदनी ने कहा कि हिंदुस्तान में मुसलमानों को अपनी वफादारी साबित करने की जरूरत नहीं और जो कोई सवाल करता है उससे पूछना चाहिए।', 'Indian Space Research Organisation (ISRO) Chandrayaan 3 Launch Update - भारत का स्पेस मिशन कैसे दुनिया का ध्यान अपनी तरफ खींच रहा है', 'योगी ने कहा कि डीआरडीओ के सहयोग से लखनऊ और वाराणसी में कोविड अस्पताल की स्थापना का काम पूर्ण होने वाला है, सभी आवश्यक चिकित्सीय सुविधाओं से युक्त इन दोनों अस्पता', 'पिछले छह महीनों में क्या आपको याद है, आपने अपना आधार कार्ड कब कहां कितनी बार इस्तेमाल किया है? इसका पता आप यूनीक आइडेंटिफिकेशन अथॉरिटी ऑफ इंडिया (UIDAI', 'उत्तर प्रदेश के मुख्यमंत्री योगी आदित्यनाथ ने सभी नागरिकों को बेहतर सुविधाएं मुहैया कराने के लिए गुरुवार को जनसंख्या नियंत्रण की जरूरतों पर जोर दिया।', 'Breaking News Headlines Update; Dainik Bhaskar Breaking News Headlines Today, India and World Latest Pictures Videos, Pictures, and More From Dainik Bhaskar. ट्रांसपोर्ट एंड हाईवे मिनिस्टर नितिन गडकरी ने मंगलवार (27 जून) को कहा कि', 'उन् होंने लिखा है, \"एक किसान और एक यूनियन नेता के तौर पर, किसान यूनियनों और जनता के बीच फैली शंकाओं को ध् यान में रखते हुए, मैं किसी भी पद का', 'कांग्रेस की उत्तर प्रदेश प्रभारी ने कहा कि पंजाब और हरियाणा जैसे प्रदेशों में गेहूं की सरकारी ख़रीद कुल उत्पादन का 80-85 प्रतिशत तक होती है, जबकि उत्तरप्रदेश में उत्पादित 378 लाख मीट्रिक', 'Rajasthan Teacher Eligibility Test (REET) Mains Exam शिक्षक भर्ती परीक्षा के पहले दिन 25 फरवरी को दूसरी पारी में लेवल-2 का साइंस-मैथ्स का एग्जाम हुआ। इस परीक्षा के पहले दिन 25 फरवरी', 'बिहार में निकले पुलिस कॉन्सटेबल के पदों पर अप्लाई करने के लिए आवेदन शुरू हो गए हैं। इन पदों पर आवेदन करने की लास्ट डेट 20 जुलाई 2023 है। ये भर्तियां विज्ञापन संख्या 01/2', 'भारतीय रेलवे ने नया कीर्तीमान स्थापित करते हुए बड़ी उपलब्धि हासिल की है। रेल मंत्रालय ने ट्विटर के जरिए हॉस्पिटल ट्रेन की फोटो शेयर कर इसके बारे में जानकारी दी है।', 'लखीमपुर खीरी के तिकोनिया क्षेत्र में हुई हिंसा में कई किसानों समेत आठ लोगों की मौत के बाद सोमवार तड़के मौके पर जा रहीं कांग्रेस महासचिव प्रियंका गांधी', 'Bollywood Actress Kangana Ranaut Speaks About Kangana Ranaut. मयंक मधुर ने हाल ही में अपनी फिल्म तेजस का रोल किया है। मयंक ने कहा कि कंगना और तेजस के मेकर्स ने उनके', 'देश में बीते 24 घंटों में 11 लाख से अधिक नमूनों की कोविड-19 संबंधी जांच की गई है जिसके साथ देश में अब तक इस जांच से गुजरने वाले नमूनों की कुल संख्या 16 करोड़', 'मोहन भागवत ने कहा कि नागरिकता संशोधन कानून (CAA) को आधार बनाकर समाज में विद्वेष व हिंसा फैलाने का षडयंत्र चल रहा है। इस मौके पर नागपुर स्थित संघ कार्यालय में परंपरागत', 'जीवन के इस पड़ाव पर परिवार को वित्तीय सुरक्षा देने के लिए टर्म प्लान के साथ ही लॉन्ग टर्म सेविंग प्लान काफी मददगार साबित होते हैं। ये किफायती प्र', 'अनिल विज ने ट्वीट कर कहा, \"नादान महबूबा मुफ्ती तुमको इतना भी नहीं मालूम कि अमेरिका तो किसी दूसरे देश अफगानिस्तान में बैठा हुआ था, हम तो अपने देश में बैठे हुए हैं', 'डेरा सच्चा सौदा प्रमुख राम रहीम के प्रेमी अब दो से ज्यादा बच्चे पैदा नहीं करेंगे। डेरा सच्चा सौदा प्रमुख राम रहीम के प्रेमी अब दो से ज्यादा बच्चे पैदा नहीं करेंगे', \"पूर्व राष्ट्रपति प्रणब मुखर्जी की हालत लगातार नाजुक बनी हुई है और वह जीवनरक्षक प्रणाली पर हैं। सेना के रिसर्च एंड रेफरल अस्पताल ने बुधवार को एक बयान में कहा, '\", 'हैदराबाद जुबली हिल्स स्थित अपोलो हॉस्पिटल के सीनियर कंसल्टेंट न्यूरोलॉजिस्ट डॉ. सुधीर कुमार बताते हैं कि रोज ऐसी डार्क चॉकलेट खाने से हाई ब्लड प्रेशर की पर', 'रेलवे स्टेशन पर जूते पॉलिश करने वालों के लिए 35 स्टेशन पर जगह किराए से देगा, जो ऊपर जिक्र आरक्षित कीमत की बोली लगा सकेंगे', 'पहली बार या बार-बार आरोप लगाया जा रहा है कि एक बार नहीं बल्कि कई बार दिनेश बिश्नोई, मनोज और भागीरथ ने इस युवती को परेशान किया है। आरोप है कि दिनेश कुछ गलत काम कर', 'Acharya Swami Avdheshanand Giri Maharaj Ji Life Lessons स्वामी अवधेशानंद जी गिरि के जीवन सूत्र / हमारे जीवन में सबसे मूल्यवान क्या है जिसके लिए हमें सतर्क रहना है।', 'मेडिटेरेनियन सी यानी भूमध्य सागर में 500 शरणार्थियों से भरी एक नाव लापता हो गई है। साल 2022 में 133 से ज्यादा भारतीय प्रवासियों ने गैर-कानूनी तरह से इंग्लिश चैनल', 'उद्धव सरकार के गिरने और शिंदे सरकार के गठन के कई मामलों में सुप्रीम कोर्ट ने राज्यपाल की ग़लतियाँ गिनाई। कोर्ट ने आदेश दिया कि तुरंत इमरान खान को कोर्ट में पेश किया', 'उत्तर प्रदेश से बीजेपी की सीनियर नेता और प्रयागराज से सांसद रीता बहुगुणा जोशी की पोती की पटाखे से झुलस कर मौत हो गई है। जानकारी के मुताबिक रीता बहुगुणा जोशी के बे', 'अंडमान और निकोबार द्वीप समूह पर जल्दी पहुंचने के बाद दक्षिण पश्चिम मॉनसून केरल की ओर बढ़ रहा है और मौसम विभाग ने अगले सप्ताह के मध्य तक प्रदेश में इसके दस्', 'दिग्विजय सिंह के ऑडियो चैट पर बीजेपी के नेता संबित पात्रा ने इंडिया टीवी से बातचीत में कहा कि दिग्विजय सिंह की भाषा कांग्रेस पार्टी के लिए नई नहीं है।', 'फॉरेस्ट एंड क्लाइमेट चेंज डिपार्टमेंट (वन विभाग), छत्तीसगढ़ की ओर से जारी किए गए नोटिफिकेशन के अनुसार 144 पदों पर नियुक्ति की जाएंगी। इन पदों के लिए आवेदन की आ', 'कांग्रेस प्रवक्ता पवन खेड़ा ने अपना ट्विटर अकाउंट बहाल होने के बाद ट्वीट किया, ‘‘प्रिय ट्विटर, आपने मेरा अकाउंट लॉक क्यों किया, जबकि आप मेरा पोस्ट हटा सकते', 'Rajasthan Congress Crisis - कांग्रेस के राष्ट्रीय अध्यक्ष राहुल गांधी और राष्ट्रीय अध्यक्ष मल्लिकार्जुन खड़गे ने राजस्थान के नेताओं को एकजुट होकर चुनाव लड़ने को कहा है।', 'महात्मा गांधी अंग्रेजी मीडियम स्कूल सरकार की ब्रांडिंग और सीएम गहलोत की फ्लैगशिप योजना है, लेकिन टीचर्स के अभाव में अब अभिभावकों का रुझान कम हुआ है।', 'ऋषि गंगा नदी में जलस्तर बढ़ने की वजह से चमोली के पास तपोवन टनल में रेस्क्यू ऑपरेशन कुछ समय के लिए रुकने के बाद अब फिर से शूरू कर दिया ग', 'पीएम मोदी ने कहा कि पूर्ववर्ती सरकारों ने असम के नॉर्थ बैंक के प्रति ‘सौतेली मां’ की तरह व्यवहार किया और संपर्क सुविधाओं, स्वास्थ्य, शिक्षा एवं उद्योग को नजरअंदाज किया', 'कश्मीर के पुलिस महानिरीक्षक विजय कुमार ने ट्वीट किया, ‘‘मारे गए आतंकवादी की पहचान पाकिस्तान के कराची निवासी सैफुल्ला के रूप में हुई है जो प्रतिबंधित आतंकवादी संगठन लश्', 'आवेदन पर सुनवाई करते हुए अदालत ने छोटी तकनीकी गलती के कारण उन्हें बेवजह इतने महीनों तक जेल में रहने के मामले को गंभीरता से लेते हुए आवेदक को रिहा', 'US Military Empire - Everything You Need To Know. अमेरिकी खुफिया एजेंसी ओएसएस ने 1943 में ही हिटलर के आत्महत्या की भविष्यवाणी कर दी थी दूसरे विश्व युद्ध के दौरान अमेरिका ने', 'प्रभास-कृति सेनन स्टारर फिल्म आदिपुरुष के ट्रेलर का इंतजार लगभग खत्म हो चुका है। फिल्म में प्रभास भगवान राम का किरदार निभाएंगे, जबकि कृति मां सीता के रोल में', 'परिणीति चोपड़ा- आम आदमी पार्टी के नेता राघव चड्ढा की सगाई का एक खूबसूरत वीडियो सोशल मीडिया पर सामने आया है, जिसमें दोनों की सगाई के कुछ यादगार पल देख', 'केंद्रीय स्वास्थ्य मंत्रालय ने मंगलवार को कहा कि राष्ट्रव्यापी टीकाकरण अभियान के तहत कोविड-19 का टीका लेने वाले स्वास्थ्य कर्मियों की संख्या 41 लाख से अधिक हो गई है।', 'गोवा के मुख्यमंत्री प्रमोद सावंत ने शनिवार को कहा कि भारतीय जनता पार्टी 2022 के राज्य विधानसभा चुनाव में आसानी से जीत हासिल करने को लेकर आश्वस्त है।', 'प्रधानमंत्री नरेंद्र मोदी ने अंतरराष्ट्रीय महिला दिवस पर मंगलवार को नारी शक्ति को नमन किया और कहा कि केंद्र सरकार सम्मान और अवसरों पर विशेष जोर के साथ अपनी विभिन्न योजनाओं के माध', 'Bollywood Actor Sanjay Dutt Speaks About Her Husband Raj Kundra. करिश्मा कपूर और कमल हासन तक को बच्चों की कस्टडी के लिए अपने एक्स पार्टनर से कानूनी लड़ाई लड़नी पड़ी थी', 'हरियाणा के भिवानी की इंटरनेशनल बॉक्सर पूजा बोहरा जींद के आकाश के साथ शादी के बंधन में बंधने जा रही हैं। शादी के निमंत्रण दिए जा चुके हैं। शादी के निमंत्रण दिए', 'उत्तर प्रदेश के कानपुर में मंगलवार को बड़ा हादसा हो गया। यहां एक बस पुल से नीचे गिर गई, जिसमें सवाल 16 यात्रियों की मौत हो गई।', 'देश दुनिया के इतिहास में 25 अप्रैल की तारीख पर दर्ज अन्य प्रमुख घटनाओं का सिलसिलेवार ब्यौरा इस प्रकार है:- 1806: ब्रिटिश ईस्ट इंडिया कंपनी और पंजाब के सि', 'बिजनेसवुमन और राम चरण की वाइफ उपासना कमिनेनी ने हाल ही में अपनी प्रेग्नेंसी के बारे में बात की है। उन्होंने बताया है कि वो प्रेग्नेंसी में कन्वेंशनल तौर-', 'अंसारी के अनुसार, उन्होंने मुख्य चिकित्सा अधिकारी, जिलाधिकारी से लेकर भाजपा जिला अध्यक्ष और क्षेत्रीय अध्यक्ष तक को फोन किया लेकिन सभी ने अस्पताल में बेड खाली न होने की', 'पंजाब के मुख्यमंत्री कैप्टन अमरिंदर सिंह ने अयोध्या राम मंदिर निर्माण के लिए 2 लाख रुपए का दान दिया है। राम मंदिर निर्माण के लिए देशभर से लोगों ने दान दिया है और ऐसा', 'असम पुलिस भर्ती घोटाला के सिलसिले में आठ और लोगों को गिरफ्तार किया गया है और 5.28 करोड़ रुपये से अधिक की नकदी जब्त की गयी है।', 'सुषमा सैतवाल बताती हैं कि उम्र से ज्यादा आपकी पर्सनैलिटी तय करती है कि आप किस तरह के और किस रंग के कपड़े पहनें। कपड़े पहनने की चॉइस जानने के बाद ही बताया', 'केंद्र सरकार ने सुप्रीम कोर्ट को बताया है कि भारत 1965 और 1971 के 62 युद्ध कैदियों सहित 83 लापता सैन्य कर्मियों की राजनयिक एवं अन्य उपलब्ध माध्यमों के जरिए रिहाई और उन्हें स्वदेश', 'हिमाचल प्रदेश उच्च न्यायालय ने राज्य के मुख्य सचिव को निर्देश दिया है कि वह राज्य सरकार, विभिन्न बोर्डों और निगमों के कम से कम क्लास तीन स्तर के कर्मचारियों की अनिवार्य रूप से ई-', 'हॉर्वर्ड मेडिकल स्कूल की नई रिसर्च में पाया गया है कि अब मिडिल एज के लोगों में भी ऐसी समस्या देखी जा रही है और वे भी डिमेंशिया के शिकार हो रहे हैं। लेकिन ह', 'गुजरात दंगों के मामले में अहमदाबाद क्राइम ब्रांच ने तीस्ता सीतलवाड़, पूर्व IPS संजीव भट्ट और DGP आरबी श्रीकुमार के खिलाफ फर्जी दस्तावेज बनाकर साजिश रचने का मामला द', 'मारुति सुजुकी इंडिया ने ग्रैंड विटारा की प्राइस में 4 हजार रुपए की बढ़ोतरी की है। कंपनी ने हाइब्रिड SUV में एक नया सेफ्टी फीचर एड किया है, जिससे इसकी की', 'कर्नाटक हाईकोर्ट ने शुक्रवार को उत्तर प्रदेश पुलिस द्वारा ट्विटर इंडिया के प्रबंध निदेशक मनीष माहेश्वरी को जारी उस नोटिस को रद्द कर दिया, जिसमें ट्विटर मंच पर एक व्यक्ति', 'दिल्ली के आनंद विहार के ठीक सामने यूपी की सीमा में बने कौशांबी बस अड्डे से ये बस शाम 5 बजे पटना के लिए रवाना होगी।', 'तीन केंद्रीय मंत्रियों के साथ शुक्रवार को हुई नौवें दौर की वार्ता में प्रदर्शनकारी किसान तीनों नए विवादित कृषि कानूनों को निरस्त करने की अपनी मांग पर अड़े रहे जबकि सरकार ने', 'प्रशांत किशोर ने एक ट्वीट संदेश में यह बयान दिया है और लोगों से कहा है कि उनके ट्वीट को सेव करके रख लें और अगर भारतीय जनता पार्टी का प्रदर्शन इससे अच्छा रहता है', 'महाराष्ट्र राजस्व और वन विभाग की ओर से पटवारी (तलाठी) के पदों पर भर्ती के लिए ऑनलाइन आवेदन प्रक्रिया 26 जून 2023 से शुरू हो गई है। उम्मीदवार ऑफिशियल वेबसाइट mahabhumi.', 'हरियाणा के लोगों के लिए निजी क्षेत्र में नौकरियों में 75 प्रतिशत आरक्षण प्रदान करने संबंधी कानून लागू हो गया है।', 'सलमान खान ने कहा कि आज कल कल 15-16 साल के बच्चे तक ऐसे कंटेंट देख रहे हैं। उन्होंने कहा कि आज कल कल के एक्टर्स मेहनती हैं साथ ही टैलेंटेड भी हैं, लेकिन वो (सल', 'मांडविया ने आरोप लगाया कि इस गंभीर आपदा के काल में कुछ राजनीतिक दलों ने वैक्सीन पर संशय फैलाने का प्रयास करके, वैक्सीनेशन अभियान पर सवाल उठाकर एवं प्रधानमंत्री पर आरोप लगाकर कोर', 'अमेरिका के साइंटिस्ट्स का मानना है कि उनके देश में कोरोनावायरस को लेकर लगाए गए प्रतिबंधों में जो छूट दी दी जा रही है या दी जाने वाली है, उसकी वजह से पूरे देश में कोरोना', 'कश्मीरी पंडितों ने हाल के दिनों में अधिक सुरक्षित महसूस किया है, जैसा कि इस तथ्य से स्पष्ट है कि 3,841 कश्मीरी प्रवासी युवा कश्मीर वापस चले गए हैं और उन्होंने प्रधान', 'Understanding the Benefits of Smoking - Everything You Need To Know. अमेरिकन कैंसर सोसायटी के मुताबिक ज्यादा मात्रा में ऐसा खाना खाने से पेट का कैंसर भी हो सकता है। इस स्टोरी में जान', 'लापता होने के 5 दिन बाद प्रधान पिंकी चौधरी रविवार को अपने प्रेमी अशोक चौधरी के साथ अपने घर वापस लौटीं तो सब हैरान हो गए।', 'मनोज कुमार की फिल्म शोर को थिएटर में रिलीज होने के 2 हफ्ते पहले दूरदर्शन पर रिलीज कर दिया। इसका बदला लेने के लिए वी.सी.शुक्ल ने मनोज कुमार की फिल्म शोर को', \"प्रधानमंत्री नरेंद्र मोदी ने गोल्फ खिलाड़ी अदिति अशोक की शनिवार को तारीफ की और कहा कि वह 'टोक्यो ओलंपिक में पदक जीतने से भले चूक गई हों लेकिन उन्होंने एक\", 'राष्ट्रीय राजधानी में रविवार को न्यूनतम तापमान 14.4 डिग्री सेल्सियस दर्ज किया गया और मौसम विभाग ने गरज के साथ छींटे पड़ने का अनुमान जताया है।', 'अजय देवगन और काजोल की बेटी न्यासा देवगन को हाल ही में मुंबई एयरपोर्ट पर स्पॉट किया गया, जिससे जुड़ा एक वीडियो सोशल मीडिया पर सामने आया है।', 'Karnataka Assembly Election 2023 BJP Candidates List - कर्नाटक चुनाव में उम्मीदवार तय करने के लिए रविवार शाम भाजपा की केंद्रीय चुनाव समिति (CEC) की बैठक हुई। बैठक में कर्ना', 'कर्नाटक के मुख्यमंत्री सिद्धारमैया और डिप्टी CM डीके शिवकुमार ने गुरुवार को कर्नाटक के इंचार्ज रणदीप सुरजेवाला और पार्टी महासचिव केसी वेणुगोपाल के साथ मीटिंग की।', 'Rajasthan Congress Crisis - राजस्थान कृषि उद्योग बोर्ड के अध्यक्ष और पूर्व नेता प्रतिपक्ष रामेश्वर डूडी ने बीजेपी राज के करप्शन पर कार्रवाई नहीं होने को लेकर सचिन पायलट के आरोपों पर सवाल उठाए', 'Madhya Pradesh Varanasi Gopal Holi 2023 Celebration - मथुरा में विभिन्न तरह की होलियों में से एक छड़ीमार होली का आयोजन शनिवार को भगवान श्रीकृष्ण की जन्मस्थली पर किया गया। इस दौरान होली के', 'Adipurush Movie Controversy; What is the story of Adipurush Movie? Follow Bollywood News in Hindi, Latest Headlines On Dainik Bhaskar. सुदिप्तो सेन ने कहा है कि जिन लोगों ने फिल्म देखी ही नहीं है', 'असम में विपक्षी कांग्रेस ने शुक्रवार को पूर्वोत्तर राज्य की जनसंख्या को नियंत्रित करने के मुख्यमंत्री हिमंत बिस्वा सरमा के बयान को लेकर उनकी आलोचना की।', 'उत्तर प्रदेश के मुख्यमंत्री योगी आदित्यनाथ 17 से 25 अक्टूबर तक गोरखनाथ मंदिर में परंपरा के अनुसार दशहरा के दौरान आयोजित होने वाले विजयादशमी के सभी महत्वपूर्ण अनुष्ठानों में भाग लेंगे', 'पाकिस्तान के विदेश मंत्री बिलावल भुट्टो 4 मई को SCO देशों के विदेश मंत्रियों की बैठक के लिए भारत आएंगे। नवाज शरीफ की भारत यात्रा के बाद साल 2015 में PM मोदी भी पाकिस्तान गए', 'शनिवार, 5 जुलाई को मेष राशि के लोगों को सफलता प्राप्त करने की कोशिश करें। कर्क राशि के लोगों को सफलता प्राप्त न होने से निराशा बनती हुई नजर आ रही है', 'Breaking News Headlines Update; Dainik Bhaskar Breaking News Headlines Today, India and World Latest Pictures Videos, Pictures, and More From Dainik Bhaskar. जम्मू-कश्मीर के राजौरी जिले में शुक्रवार सुबह सुरक्षाबलों और आतंक', 'उत्तर रेलवे (Northern Railway) ने यात्रियों की सहूलियत के लिए कई और स्पेशल ट्रेनों का ऐलान किया है। इस ट्रेन में एसी प्रथम श्रेणी, एसी तृतीय श्रेणी, स्लीपर क्ल', 'RBI withdraws 2000 Notes from circulation, RBI ने अपने सर्कुलर में बताया है कि 2016 में बंद किए गए 500 और 1000 के नोट की कमी को पूरा करने के लिए 2000 के नोट छापे गए थे।', 'देश के इंजीनियरिंग कॉलेजों में प्रवेश के लिए संयुक्त प्रवेश परीक्षा (जेईई)-मुख्य मंगलवार को कोरोना महामारी की वजह से सख्त एहतियाती उपायों और सामाजिक दूरी के बीच हु', 'Russia Ukraine War Latest News Update; रूस ने गुरुवार को वॉल स्ट्रीट जर्नल के लिए काम करने वाले एक अमेरिकी पत्रकार को जासूसी के आरोप में पकड़ा है।', 'उत्तर प्रदेश में सरकारी आंकड़ों के मुताबिक कोविड-19 के नए मामलों में लगातार गिरावट आ रही है। प्रदेश में नए संक्रमित मरीजों की तुलना में ठीक होने वाले रोगियों की संख्या', 'हरियाणा के गुरुग्राम जिले के सेक्टर-79 में रविवार को राहगीरी कार्यक्रम में मुख्यमंत्री मनोहर लाल पहुंचे। इस दौरान उन्होनें साइकिलिंग करके लोगों को फिट इंडिया का संदेश दिया।', 'होंडा एक्टिवा 6G में कंपनी ने 109.51cc का सिंगल-सिलेंडर, 4 स्ट्रोक, एयर-कूल्ड, FI इंजन दिया गया है, जिसे CVT के साथ ट्यून किया गया है। यह इंजन', 'भारत के सेना प्रमुख मनोज मुकुंद नरवणे (Army Chief General Manoj Mukund Naravane) ने पाकिस्तान (Pakistan) की नापाक हरकतों को लेकर भारत की नीति को एक बार फिर से स्पष्ट कर दिया है।', 'मन इंद्रियों सहित शरीर को वश में किए हुए व्यक्ति को भगवान पसंद करते हैं। हमारे शरीर में कुंडलिनी को सर्प जैसी छवि बताया है। हमारे शरीर में कुंडलिनी को सर्प', 'Same Sex Marriage Case Hearing Update - Supreme Court On Same Sex Marriages. केंद्र सरकार ने कहा कि सेम सेक्स मैरिज का मुद्दा ऐसा नहीं है, जिसपर एक पक्ष में बैठे 5 लोग, दूसरे पक्ष में बैठे 5 लोग', 'Weather Forecast State-Wise Update फरवरी में ही देश के कई राज्यों में मौसम गर्म हो चुका है। इस बार फरवरी में दिन का अधिकतम तापमान सामान्य से 3 डिग्री ज्यादा चल रहा है, कई शहरों में 12', 'कश्मीर जोन के IGP विजय कुमार ने बताया कि कृष्णा ढाबा हमले के साजिशकर्ता की गिरफ्तारी के बाद पुलिस और सेना द्वारा अनंतनाग के जंगल में एक ठिकाने का भंडाफोड़ किया', 'China Foreign Minister Xi Jinping Visit Latest News Update - चीन के विदेश मंत्री के गायब होने की दो वजह बताई जा रही... एक रिपोर्टर ने जब पिछले दिनों चीन के विदेश मंत्रालय से गेंग की', 'Bihar Ex-Deputy CM Rajendra Rathore Sexual Harassment Case - बीवीजी कंपनी के बकाया भुगतान के बदले रिश्वत के मामले में RSS प्रचारक निंबाराम को सोमवार को हाईकोर्ट से बड़ी राहत', 'Kisi Ka Bhai Kisi Ki Jaan - सलमान खान की फिल्म ‘किसी का भाई किसी की जान’ इन दिनों बेहद सुर्खियों में है। साथ ही वीडियो के बैकग्राउंड में सिंगर सुखबीर की आवाज', 'Petrol Diesel Price Today - [Aaj Petrol Diesel Ka Rate Kya Rahega]. पेट्रोल-डीजल की कीमतों में कोई बदलाव नहीं हुआ है। फिलहाल दिल्ली में पेट्रोल 96.72 रुपए लीटर है तो डीजल 89.62 रुपए लीटर', 'Rahul Gandhi US Visit Update - इंडियन ओवरसीज कांग्रेस के अध्यक्ष सैम पित्रोदा ने कहा है कि प्रधानमंत्री मोदी हर जगह इज्जत पाने के हकदार हैं और यह देखकर मुझे गर्व होता है।', 'इस नोटिस में बताया गया है कि 7वें चरण का पहला कम्पयूटर बेस्ड एग्जाम 28 जून 2021 से 30 जून 2021 के बीच में करवाया जाएगा, जिसमें करीब 4 लाख कैंडिडेट हिस्सा ले', 'वैष्णवी बोलना शुरू करती है, ‘कालिंदी को यहां रहते हुए 3 साल हो गए है और उसकी शादी को 4 साल हो गए हैं, पहले ही साल में शादी टूट गई और को', 'दलिया एक प्राकृतिक ‘सफाईकर्मी’ है, जो आपकी त्वचा को मुलायम रखने के साथ ही उसे रोगों से लड़ने में मजबूती भी देता है। दलिया एक प्राकृतिक ‘सफाईकर्मी', \"How Mother Can Get Pregnant? Everything You Need To Know About Mother's Custody And Parenthood Information. All You Need To Know. बच्चों की कस्टडी मिली है और पिता को ऐसा लग रहा है कि बच्चे की परवरिश वो ढ\", 'Manipur Violence Situation Update; Follow Manipur Kuki Vs Meitei Riots Latest News, Reports and Updates On Dainik Bhaskar (दैनिक भास्कर)', 'सीरम इंस्टीट्यूट ऑफ इंडिया जुलाई तक 30 करोड़ खुराक के साथ सरकार को आपूर्ति करने की योजना बना रहा है, जो 15 करोड़ लोगों का टीकाकरण करने के लिए पर्याप्त है।', 'हरियाणा के नूंह जिले के कोटला गांव में बकरी पालकों को तेंदुआ नस्ल के 2 शावक (बच्चे) मिले हैं। गुरुवार शाम को जब वह अपनी बकरियों को चरा कर वापस घर के', 'पंजाब की अंबाला केंद्रीय जेल में एक प्रेशर कुकर के फट जाने से तीन कैदी झुलस गए। पुलिस के मुताबिक तत्काल जेल अधिकारियों को इस घटना की सूचना दी गई जो घायल कैदियों', 'इंडिया टीवी ने मुंबई क्रूज ड्रग्स केस (आर्यन खान केस) के गवाह विजय पगारे और मामले के कथित मास्टरमाइंड सुनिल पाटिल से एक्सक्लूसिव बातचीत की है।', 'बॉलीवुड रणबीर कपूर और श्रद्धा कपूर इन दिनों अपनी अपकमिंग फिल्म तू झूठी मैं मक्कार का लगातार प्रमोशन कर रहे हैं। हाल ही में एक्टर फिल्म का प्रमोशन करने के', 'दिल्ली की न्यू फ्रेंड्स कॉलोनी में बुधवार दोपहर DTC बस की ब्रेक फेल हो गई। एक्सीडेंट में घायल हुए ऑटो रिक्शा चालक की मौत हो गई। एक्सीडेंट में घायल हुए ऑटो', 'विश्व स्वास्थ्य संगठन (WHO) ने कहा कि भारत में पिछले साल पहली बार सामने आया कोरोना वायरस का बी.1.617 स्वरूप 44 देशों में पाया गया है और यह ‘स्वरूप चिंताजनक’ है।', 'Prime Minister Narendra Modi Rajasthan Visit Schedule Update - प्रधानमंत्री नरेंद्र मोदी ने मंगलवार को भोपाल में कहा- तीन तलाक से इस्लाम का कोई संबंध नहीं है। PM ने भोपाल के रानी कमलापति रेलवे स्टेशन से देश में 5', 'भारतीय जनता पार्टी की केंद्रीय चुनाव समिति ने जिन प्रत्याशियों के नाम पर स्वीकृति दी है उनमें नौगावन सादत से संगीता चौहान, बुलंदशहर से उषा सिरोगी, टूंडला से प्रेमपाल ध', 'प्रधानमंत्री नरेंद्र मोदी ने शनिवार को पीएसएलवी-सी 49 रॉकेट के सफल प्रक्षेपण के लिए भारतीय अंतरिक्ष अनुसंधान संगठन (इसरो) और भारत के अंतरिक्ष उद्योग को बधाई दी।', 'सुप्रीम कोर्ट ने कहा कि आपने राजधानी में सभी स्कूल खोल दिए हैं और अब बच्चे अब बच्चे प्रदूषण के संपर्क में हैं। सुप्रीम कोर्ट ने किहा कि वायु प्रदूषण को लेकर किसानों को', 'खालिस्तान कमांडो फोर्स (KCF) के चीफ परमजीत सिंह पंजवड़ की शनिवार को लाहौर में हत्या कर दी गई। इस लिस्ट में उसके अलावा बब्बर खालिस्तान कमांडो फोर्स (KCF', 'जब सास और पति चुपके से औरत के पेट के बच्चे का लिंग परीक्षण करवाने के लिए गैरकानूनी ढंग से चल रहे सेंटर्स में जाते हैं, जब औरत बेटे के इंतजार में', 'BSE NSE Sensex Today, Stock Market Latest Updates; अडाणी ग्रुप ने SBI का 1,500 करोड़ रुपए का कर्ज चुकाया इस बीच, हिंडनबर्ग रिपोर्ट के असर को कम करने और निवेशकों का भरोसा कायम', 'Bollywood Actor Manoj Bajpayee Exclusive Interview On Dainik Bhaskar. मनोज बाजपेयी ने हाल ही में एक इंटरव्यू में कहा था कि सत्या करने के बाद वे एक्टर के रूप में स्थापित तो हो गए लेकिन उन', 'भारत की 1971 के युद्ध में जीत और बांग्लादेश के गठन के 50 साल पूरे होने के उपलक्ष्य में स्वर्णिम विजय वर्ष समारोह के एक हिस्से के रूप में पिछले साल 16 दिसम् बर को ही', 'China Spy Balloon Controversy - अमेरिका के बाद अब जापान ने भी चीन का स्पाई बैलून दिखने की पुष्टि की है। अमेरिका के बाद अब जापान ने भी चीन का स्पाई बैलून दिखने', 'उत्तर प्रदेश के गौतमबुद्धनगर से होकर गुजरने वाले ईस्टर्न फेरिफेरल एक्सप्रेस-वे पर एक तेज रफ्तार बस साइड में खड़े ट्रक से टकरा गई, जिस जवह से एक यात्री की', 'ओडिशा के भुवनेश्वर स्थित प्रदेश कांग्रेस मुख्यालय में कांग्रेसी कार्यकर्ता प्रदेश कांग्रेस कमेटी के अध्यक्ष और अन्य नेताओं की मौजूदगी में गुरुवार को आपम में ही भिड़ गए।', 'गुलाम नबी आजाद ने कहा कि कांग्रेस के नेता आम लोगों से पूरी तरह से कटे हुए हैं और पार्टी में ‘‘पांच सितारा संस्कृति’’ घर कर गई है।', 'Madhya Pradesh Kuno National Park Cheetah Cub Photos Update; Follow Kuno National Park Cheetah Cub Photos, Videos And Photos On Dainik Bhaskar. मध्यप्रदेश के कूनो नेशनल पार्क में अफ्रीका के नामीबिया से लाए गए 8 में से 2', 'एक महिला सांसद रंजीता कोहली पर कांग्रेस के गुंडों ने हमला किया, वो बच गईं, लेकिन इससे इरादा साफ होता है, क्यों उनके खिलाफ रोष था क्योंकि वो रोज लो', 'काजोल ने कहा कि उन्हें ये बताते हुए कोई गुरेज नहीं है कि इस देश को चलाने वाले नेताओं के अंदर कोई विजन नहीं है। इस देश में कई महान नेता है , जो रात दिन हमारी बेहतरी के', 'किसान नेता दर्शन पाल ने कहा कि 30 जनवरी को देश भर में आम सभाएं व भूख हड़ताल आयोजित की जाएंगी, हमारा आंदोलन जारी रहेगा।', 'जिन सुखजिंदर सिंह रंधावा का नाम पहले चल रहा था, उनको अब डिप्टी सीएम बनाए जाने की खबर है। जी हां, कैप्टन अमरिंदर को बेदखल किए जाने के बाद अब स', 'टिकैत ने कहा कि किसानों का विरोध राजनीतिक नहीं है और किसी राजनीतिक दल के नेता को मंच पर स्थान या माइक नहीं दिया गया है। शुरू में किसान संगठनों ने कहा था कि उनका आंदोलन राजनीति', 'Adipurush Box Office Day 2 Box Office Collection Update; What is the total box office collection update of Adipurush? आदिपुरुष का बजट शुरुआती दौर में 500 करोड़ रुपए बताया जा रहा था, लेकिन फिल्म के VFX में बदलाव करने के', 'पंजाब की 2 और लड़कियां संयुक्त अरब अमीरात में लापता हो गई हैं। मिली जानकारी के अनुसार, पंजाब की दोनों युवतियां 2 मई को UAE पहुंच गई थीं।', 'Air India Crisis - एअर इंडिया ने क्रू मेंबर्स के साथ बदतमीजी करने वाले एक पैसेंजर पर दो साल का बैन लगा दिया है। ऐसा करने पर पैसेंजर को विमान में बैठने से रोका जा सक', 'Bollywood Actor Sanjay Dutt Birthday - बॉलीवुड एक्टर संजय दत्त आज 64 साल के हो गए हैं। इस खास मौके पर उनकी वाइफ मान्यता दत्त ने एक वीडियो शेयर कर उन्हें बधाई दी है', 'सूत्रों के मुताबिक, पायलट के राहुल गांधी से उनके आवास पर मुलाकात करने के बाद दोनों ने पार्टी महासचिव प्रियंका गांधी की मौजूदगी में एक और मुलाकात की।', 'सोने की कीमतों में बढ़ोतरी स्लो इकोनॉमिक ग्रोथ का भी संकेत है। इंडिया बुलियन एंड ज्वेलर्स एसोसिएशन (IBJA) की वेबसाइट के मुताबिक, 10 ग्राम सोना 1,451 रुप', 'हुंडई मोटर इंडिया लिमिटेड (HMIL) ने भारत में न्यू जनरेशन हुंडई वरना (Hyundai Verna) की बुकिंग आज (2 मार्च) से शुरू कर दी है। कंपनी ने ऑल-न्यू हुंडई वरना का व्ही', 'तेलुगु और तमिल सिनेमा के बेहतरीन एक्टर्स में से एक शरत बाबू का 71 साल की उम्र में निधन हो गया। उनका असली नाम सत्यम बाबू दीक्षित था।', 'जम्मू-कश्मीर के शोपियां जिले में शुक्रवार को सुरक्षाबलों के साथ मुठभेड़ में दो आतंकवादी मारे गए। मारे गए आतंकवादियों की पहचान और उनके समूह के बारे में जान', 'भारतीय वायुसेना के एक विमान में दोनो मंत्री बृहस्पतिवार को राष्ट्रीय राजमार्ग पर कृत्रिम आपातकालीन लैंडिग करेंगे।', '“मैंने कभी नहीं सोचा था कि विदेश में तुम्हें एक लड़का पसंद आएगा, वह भी भारतीय! मैं तुम्हारा भी जीवन है और इस पर सबसे पहला अधिकार तुम्हारा ही है।”', 'गोवा के मुख्यमंत्री प्रमोद सावंत ने सोमवार को कहा कि राज्य में 1 सितंबर से बार्स खोलने की अनुमति दी जाएगी।', 'Breaking News Headlines Update; Dainik Bhaskar Breaking News Headlines Today, India and World Latest Pictures Videos, Pictures, and More From Dainik Bhaskar. श्रीलंका की डिफेंस मिनिस्ट्री ने LTTE चीफ वेलुपिल्लई प्रभाकरन के जिंदा', 'इंडिया टीवी को सूत्रों से मिली जानकारी के अनुसार, उत्तराखंड में विधानसभा चुनाव से पहले नया प्रदेश कांग्रेस कमेटी अध्यक्ष और 3 कार्यकारी अध्यक्ष नियुक्त होने जा रहे हैं।', 'Delhi LG VK Saxena Vs Arvind Kejriwal; Arvind Kejriwal Aam Aadmi Party Vs BJP MLAs Latest News - दिल्ली की मुख्यमंत्री अरविंद केजरीवाल ने शुक्रवार को दिल्ली के मुख्यमंत्री अशोक गहलोत', 'शुक्रवार, 18 जुलाई को मेष राशि के लोगों को नए अवसर मिल सकते हैं। मिथुन राशि के लोगों को नए अवसर मिल सकते हैं। मिथुन राशि के लोगों को नए अवसर मिल', 'केंद्र सरकार और आंदोलन कर रहे किसानों संघों के बीच एक दिन पहले हुई वार्ता नए कृषि कानूनों पर गतिरोध खत्म करने में नाकाम रही और दोनों पक्ष बृहस्पतिवार को फिर मिल', 'जम्मू-कश्मीर के पुलवामा जिले में सुरक्षाबलों और आतंकवादियों के बीच शनिवार को मुठभेड़ में एक शीर्ष पाकिस्तानी आतंकवादी समेत जैश-ए-मोहम्मद के 2 आतंकी ढ', 'पंजाब के फेमस सूफी सिंगर कंवर ग्रेवाल की गाड़ी में फगवाड़ा-गोराया के बीच हाईवे पर पांच लुटेरे बैठ गए। यह किस्सा खुद कंवर ग्रेवाल ने एक अपने एक कार्यक्रम के', 'भारतीय अंतरिक्ष अनुसंधान संगठन (इसरो) के श्रीहरिकोटा स्थित सतीश धवन अंतरिक्ष केंद्र से कल जीएसएलवी-एफ 10 के जरिए धरती पर निगरानी रखने वाले उपग्रह ईओएस-01 का प्र', 'समाजवादी पार्टी के संभल से सांसद डॉ शफीकुर रहमान बर्क ने वाराणसी के ज्ञानवापी मस्जिद परिसर में एक ‘शिवलिंग’ के मिलने के दावों को झूठा प्रचार करार देते हुए सभी बुद्धि', 'Petrol Diesel Price Today - [Aaj Petrol Diesel Ka Rate Kya Rahega]. पेट्रोल-डीजल की कीमतों में कोई बदलाव नहीं हुआ है। फिलहाल दिल्ली में पेट्रोल 96.72 रुपए लीटर है तो डीजल 89.62 रुपए लीटर', 'केंद्र सरकार ने देश की सबसे बड़ी एजुकेशन-टेक्नोलॉजी कंपनी (EdTech) बायजूस की अकाउंट बुक्स की जांच के आदेश दिए हैं। इसके अलावा वित्त वर्ष 2020-21 के बारे में भी कोई', 'बॉलीवुड के सुपरस्टार अक्षय कुमार केदारनाथ धाम पहुंचे हैं। मंगलवार को एक्टर हेलीपैड से केदारनाथ धाम पहुंचे हैं। इसी दौरान का एक वीडियो सोशल मीडिया पर सामने आया', 'राष्ट्रीय जनता दल के सुप्रीमो लालू प्रसाद को चारा घोटाला से जुड़े एक मामले में रांची हाईकोर्ट से जमानत मिल गई है। चारा घोटाला से जुड़े अन्य मामलों जैसे चईबासा', 'सोशल मीडिया पर SDM ज्योति मौर्या के नाम से एक वीडियो वायरल हो रहा है। जिससे पता चलता है कि वायरल वीडियो में दिख रही महिला SDM ज्योति मौर्या नहीं बल्कि कोई', 'Rajasthan Zayka Special Story - Why Is Zayka Special Story? All You Need To Know. दुनिया भर की संस्कृतियों में कद्दू के साथ ही उसके बीज को भी खाने की परंपरा रही है। एक कद्दू में करीब 500 बी', 'रेलवे मंत्रालय के अनुसार, लोगों की सुविधा के लिए, IRCTC लखनऊ-नई दिल्ली तेजस एक्सप्रेस और अहमदाबाद-मुंबई तेजस एक्सप्रेस ट्रेन सेवाओं के संचालन 14 फरवरी 2021 से शुरू', 'कन्नड़ टीवी एक्टर संपथ जे राम ने 22 अप्रैल को 35 साल की उम्र में बेंगलुरु में सुसाइड कर लिया है। इस वजह से उन्होंने सुसाइड कर लिया। इस वजह से उन्होंने सुस', 'नवजोत सिंह सिद्धू का पंजाब कांग्रेस कमेटी अध्यक्ष बनने की संभावना मजबूत होते देख पंजाब के मुख्यमंत्री कैप्टन अमरिंदर सिंह ने शीर्ष नेतृत्व से नाराजगी जतायी है।', \"AIMIM सांसद इम्तियाज जलील ने कहा, 'जब कारोबार, कारखाने, बाजार- हाइवे खोले गए हैं, यहां तक कि बसें, ट्रेन और उड़ानें भी संचालित हो रही हैं, तो सरकार\", 'थाईलैंड में एक महिला को रहस्यमयी तरीके से अपने दोस्त की हत्या करने के आरोप में गिरफ्तार किया गया है। इस मामले का खुलासा महिला के अपने एक दोस्त को जहर देकर मारने से हु', 'Aaj Ka Rashifal (Horoscope Today) | Daily Rashifal (20th June 2023), Daily Zodiac Forecast: Singh Rashi, Kanya, Aries, Taurus, Gemini Cancer Libra, And Other Signs, 20 जून, शुक्रवार के ग्रह-नक्ष', \"केंद्र ने 11 राज्यों को 'गंभीर चिंता वाले राज्यों' के रूप में पहचान की है जहां कोरोना के नए मामले और इससे होनेवाली मौतों में वृद्धि हो रही है, लेकिन रोकथा\", 'Chennai Super Kings vs Rajasthan Royals IPL Match LIVE Score Update; Follow IPL 2023 Latest News, CSK Vs RR IPL Match Updates with Dainik Bhaskar (दैनिक भास्कर)', 'Understanding the Benefits of ChatGPT - Everything You Need To Know About ChatGPT - Everything You Need To Know About ChatGPT - Everything You Need To Know. इंटेलिजेंट रोबॉट और रोबॉट एक ऐसे इंटेलिजेंट हैं,', \"Bangladesh Cricketer Shub Al Haasan Speaks About Bangladesh's Cricket Career. बांग्लादेश के स्टार क्रिकेटर शाकिब अल हसन के साथ दुबई में फैंस ने बदतमीजी की। इस दौरान एक फैन के बदत\", 'केंद्रीय मंत्रिमंडल ने बुधवार को हुई बैठक में रेल मंत्रालय के 2019-20 के लिये अपने सभी पात्र गैर-राजपत्रित कर्मचारियों (आरपीएफ/आरपीएसएफ कर्मचारियों को छोड़कर) को 78 दिन के वे', \"स्वतंत्रता दिवस की पूर्व संध्या पर राष्ट्र के नाम अपने संबोधन में राष्ट्रपति रामनाथ कोविंद ने कहा कि 'मैं हर माता-पिता से आग्रह करता हूं कि वे होनहार बेटियों के परिवारों से शिक्षा लें\", 'Manipur Violence Situation Update; मणिपुर में 2 महीने से जारी हिंसा के बीच बीरेन सिंह ने शुक्रवार यानी 30 जून को इस्तीफा देने की बात सोची। बीरेन सिंह ने कहा कि हालांकि राज्य में मै', 'निर्वाचन आयोग ने देश में कोविड-19 के मौजूदा हालात को ध्यान में रखते हुए लोकसभा की तीन और विधानसभा की आठ सीटों पर होने वाले उपचुनाव को टालने का फैसला ब', 'करगिल युद्ध के दौरान सबसे कठिन अभियानों में से एक का नेतृत्व करने के लिए परमवीर चक्र से सम्मानित दिवंगत कैप्टन बत्रा के पिता 77 वर्षीय जीएल बत्रा ने आईएएनएस को बता', 'समाजवादी पार्टी के पूर्व नेता अमर सिंह के निधन के बाद खाली हुई राज्यसभा की सीट पर 11 सितम्बर को उपचुनाव होगा। चुनाव आयोग ने शुक्रवार को यह घोषणा की।', 'साउथ अफ्रीका क्रिकेट टीम के स्टार बल्लेबाज ऐडन मारक्रम को टीम में नई जिम्मेदारी मिली है। डुमिनी वनडे और टी-20 टीम के कोच बने रहेंगे। वहीं, पिछले', 'चंडीगढ़ प्रेस क्लब के प्रेसिडेंट सौरभ दुग्गल ने लिखित बयान में पुलिस की कार्रवाई पर सवाल उठाते हुए कहा कि अगर किसी की कार से किसी को टक्कर लग जाती है तो कार में सवार पै', 'नए उप-नियम 7ए में कहा गया है कि बच्चा गोद लेने वाले अभिभावक अगर गोद लेने के दो साल के भीतर बच्चे के साथ विदेश जाना चाहते हैं तो उन्हें वहां स्थानीय भारतीय राजनय', 'छत्तीसगढ़ के सरगुजा जिले में स्थित राजकीय चिकित्सा महाविद्यालय अस्पताल में गत दो दिनों में चार नवजात बच्चों की मौत हो गई है जिसके बाद राज्य सरकार ने अधिकारियों की आपात बैठक बुलाई है।', 'Breaking News Headlines Update; Dainik Bhaskar Breaking News Headlines Today, India and World Latest Pictures Videos, Pictures, and More From Dainik Bhaskar. पुणे में गुरुवार को रक्षा अनुसंधान और विकास संगठन (DRDO) के एक साइंटिस्ट', 'संयुक्त राष्ट्र के नई रिपोर्ट में खुलासा हुआ है कि गरीबी कम करने के मामले में भारत को बड़ी कामयाबी मिली है। रिपोर्ट के मुताबिक, दुनिया के 110 देशों के 610 करोड़ लोगों में से 110 करोड़ लो', 'Hyderabad YSR Telangana Party चीफ YS शर्मिला को हिरासत में ले लिया। तेलंगाना पुलिस ने सोमवार को YSR तेलंगाना पार्टी की चीफ YS शर्मिला को हिरासत में ले लिया।', 'पूर्व राष्ट्रपति प्रणब मुखर्जी का अंतिम संस्कार कल लोधी रोड स्थित श्मशान घाट पर किया जाएगा। उनके निधन पर सरकार ने 7 दिन के राष्ट्रीय शोक की घोषणा की है।', 'शीतल के इस इलाके में रहने वालों ने BMC से पीड़ित परिवार को मुआवजा देने की मांग की है, लेकिन मुंबई की मेयर किशोरी पेडनेकर का कुछ और ही मानना है', 'आईएमडी के अनुसार, एक सक्रिय पश्चिमी विक्षोभ 2 फरवरी से उत्तर पश्चिमी भारत को प्रभावित करने की बहुत संभावना है। मौसम एजेंसी ने कहा, \"3 फरवरी को दक्षिण-पश्चिम राजस्थान और', 'कार्तिक आर्यन की फिल्म शहजादा रिलीज हो चुकी है। अब इसी बीच कार्तिक ने फिल्म से जुड़ी कुछ दिलचस्प चीजों पर बात की है। कार्तिक आर्यन ने फिल्म से जुड़ी कुछ दिलचस्प', 'ओडिशा सरकार ने शनिवार को कहा कि इस साल वार्षिक रथयात्रा उत्सव श्रद्धालुओं की भीड़ के बगैर ही होगा और उन्हें रथ के मार्ग में छतों से भी रस्म देखने की अनुमति नहीं', 'महाराष्ट्र के महिला एवं बाल कल्याण मंत्री मंगल प्रभात लोधा ने कहा है कि राज्य में अबतक लव जिहाद के 1 लाख से ज्यादा मामले सामने आ चुके हैं। यह सभी बातें उन्होंने विधानसभा में', 'बैंगनी पत्तागोभी के गहरे रंग के होने का मतलब है उसमें बड़ी मात्रा में एंटी ऑक्सीडेंट्स होना। यह शरीर से टॉक्सिक चीजों को बाहर निकालने में भी मदद कर', 'कांग्रेस के पूर्व अध्यक्ष राहुल गांधी ने बृहस्पतिवार को कहा कि उत्तर प्रदेश विधानसभा चुनाव के लिए 40 फीसदी टिकट महिलाओं को देने का पार्टी का फैसला सिर्फ शुरुआत है।', 'रश्मिका मंदाना के बर्थडे के मौके पर ‘पुष्पा : द रूल’ के मेकर्स ने फिल्म का एक प्रोमो वीडियो जारी किया है। इस फिल्म में पुष्पा नाम के मजदूर की जिंदगी', 'त्रिवेंद्र सिंह रावत ने उत्तराखंड के मुख्यमंत्री पद से 9 मार्च की शाम करीब सवा चार से साढ़े चार बजे के बीच राजभवन में राज्यपाल से मिलकर इस्तीफा सौंप दिया।', 'Sarkari Naukri 2023 Latest Sarkari Job Alert (09 July 2023) - Government Jobs Latest Govt Jobs Vacancies Eligibility And Selection Process Latest Details सरकारी नौकरी की तलाश में जुटे युवाओं के लिए हम फिर से 5 लेट', 'यहां के कांधला कस्बे में सामुदायिक स्वास्थ्य केंद्र पर करोना का टीका लगवाने गई तीन महिलाओं को एंटी रेबीज का टीका लगा दिया गया जिसकी शिकायत सीएमओ से की गई है।', 'पंजाबी सिंगर सिद्धू मूसेवाला हत्याकांड के मुख्य आरोपी गैंगस्टर लॉरेंस के इंटरव्यू के बाद विरोधियों ने पंजाब सरकार को घेरना शुरू कर दिया है।', 'द साउंड ऑफ म्यूजिक अमेरिकी म्यूजिकल ड्रामा है। हाल ही में नीता मुकेश अंबानी कल्चरल सेंटर में द साउंड ऑफ म्यूजिक म्यूजिकल ड्रामा का प्रीमियर हुआ। इस इ', 'उत्तर प्रदेश की योगी सरकार ने राज्य में अनाथ हुए बच्चों की आर्थिक सहायता के लिए बड़ा फैसला किया है। सोमवार को उत्तर प्रदेश कैबिनेट ने उत्तर प्रदेश में अनाथ हुए बच्चों या ऐसे बच्चे जिन', 'संत कबीर नगर जिले की स्थानीय अदालत के आदेश पर मेहदावल के भाजपा विधायक राकेश सिंह बघेल और मुख्य चिकित्सा अधिकारी डॉ हरगोविंद सिंह के खिलाफ धोखाधड़ी और', 'अब तक की सबसे बड़ी 200 करोड़ की रंगदारी तिहाड़ जेल के अंदर से वसूलने वाले आरोपी सुकेश चंद्रशेखर और फिल्म एक्टर्स लीना पॉल के चेन्नई स्थित करोड़ों के बंगले', 'Mukhtar Ansari Wife Mukhtar Ansari Story - Follow Mukhtar Ansari Story On Dainik Bhaskar. मुख्तार अंसारी की पत्नी शाइस्ता के बाद अब पुलिस मुख्तार अंसारी की पत्नी अफशां की तलाश में भी लगा', 'पंजाब के लुधियाना शहर में गुरुवार को जिला कोर्ट परिसर में जोरदार धमाका हुआ। इस घटना में एक की मौत हुई है और तीन लोग गंभीर रूप से घायल हुए हैं।', 'कांग्रेस नेता राहुल गांधी विदेश से लौटकर तमिलनाडु जाएंगे और वहां होने वाले जल्लिकट्टू कार्यक्रम में भाग लेंगे, इंडिया टीवी को कांग्रेस पार्टी के सूत्रों से यह जानकारी मिली है', 'शिवसेना सांसद संजय राउत ने सोमवार को कहा कि केंद्रीय गृह मंत्री अमित शाह का यह दावा \"वास्तविकता से बहुत दूर\" है कि उन्होंने और प्रधानमंत्री नरेंद्र मोदी ने यह स्पष्ट कर', 'India Vs Australia (IND VS AUS) Indore Test Match Moments Update; Follow India Vs Australia 4th Test Latest Photos and Video Updates on Dainik Bhaskar (दैनिक भास्कर)', 'नए मामलों में आई कमी और ठीक होने वाले लोगों की संख्या बढ़ने की वजह से देश में अब कोरोना वायरस के एक्टिव मामले कम रह गए हैं। स्वास्थ्य मंत्रालय के मुताबिक देश', 'पंजाब प्रदेश कांग्रेस कमेटी के पूर्व अध्यक्ष नवजोत सिंह सिद्धू की पत्नी डॉ. नवजोत कौर ने कैंसर पीड़ित होने के बाद अन्य के दर्द को जाना है।', 'ब्रिटेन की विदेश मंत्री लिज ट्रस आज अपने भारतीय समकक्ष एस. जयशंकर से मुलाकात करेंगी और इस दौरान वह यूक्रेन पर रूस के आक्रमण को रोकने के लिए लोकतांत्रिक देशों', 'कांग्रेस में शामिल होने पर भारतीय जनता पार्टी ने सवाल उठाया है। पिछले 2-3 साल से मैं इनके इस तरह के कार्यक्रम से दूरी बनाकर चल रहा था।', 'Petrol Diesel Price Today - [Aaj Petrol Diesel Ka Rate Kya Rahega]. पेट्रोल और डीजल की कीमतों में आज यानी 12 अप्रैल को भी कोई बदलाव नहीं हुआ है। दिल्ली में पेट्रोल की कीमत 96.72 रुपए, जबकि', '200 करोड़ रुपए की ठगी मामले में जेल में बंद सुकेश चंद्रशेखर ने एक्ट्रेस जैकलीन फर्नांडीस को लेटर लिखकर होली की बधाई दी है। इस चिट्ठी में सुकेश ने दावा किया कि', 'Rajasthan Government Recruitment 2023 - राजस्थान के विभागीय जांच विभाग के आयुक्त रहे IAS अजीत सिंह का कहना है कि आम तौर पर राजस्थान प्रशासनिक सेवा ( RAS) से प्रमोट होकर नियमित रूप से अफसर IAS', 'Delhi Rohini Chain 15 Incident - दिल्ली के रोहिणी इलाके में जिम के अंदर वर्कआउट करते हुए एक इंजीनियर की मौत हो गई। पुलिस ने जिम में लगे सीसीटीवी कैमरों की फुटेज', 'मंगलवार को नारेबाजी के दौरान कुछ सदस्यों ने इस घटना को रिकॉर्ड किया और सोशल मीडिया पर पोस्ट कर दिया। विपक्ष ने मंगलवार को कृषि कानूनों के मुद्दे पर जबरदस्त ह', 'फल खाने के पहले या बाद में कब फल खाएं अब सवाल यह उठता है कि हमें फल कब खाना चाहिए। इसका कारण यह है कि दूध के साथ ये फल लेने पर शरीर में टॉक्स', 'ऑल इंडिया इत्तेहादुल मुस्लिमीन के प्रमुख व हैदराबाद के सांसद असदुद्दीन ओवैसी की बेटी की शादी मंगलवार को यहां उनके आवास पर हुई, जिसमें कोरोना के चलते सीमित संख्या में', 'BSE NSE Sensex Today, Stock Market Latest Updates; आज बैंक ऑफ बड़ौदा के शेयरों में 1.82% की तेजी रही और यह BSE पर 187.20 रुपए पर खुला। सेंसेक्स करीब 500 अंकों से ज्यादा', 'केंद्रीय गृह मंत्रालय ने बुधवार को पश्चिम बंगाल सरकार को स्मरण पत्र भेजकर राज्य में चुनाव के बाद हुई हिंसा की विस्तृत रिपोर्ट सौंपने को कहा है।', 'घर पर अपना क्लींजर बनाने के लिए, आधा कप ठंडा दूध लें और उसमें एक चम्मच कोई भी वनस्पति तेल, जैसे तिल, जैतून या सूरजमुखी का तेल अच्छी तर', 'कर्नाटक में शुक्रवार को कोरोना वायरस से तीन और मरीजों की मौत होने से महामारी में जान गंवाने वालों की सख्ंया 12,190 तक पहुंच गई है जबकि कोविड-19 के 324 न', 'लखनऊ में मेट्रो 7 सितंबर से संचालित होने लगेगी और इसके लिए लखनऊ मेट्रो रेल कॉर्पोरेशन ने शुक्रवार यानी आज से ही तैयारी शुरू कर दी है।', 'क्या आप इस बात को लेकर परेशान रहते हैं कि कान और नाक में अधिक बाल उग आए हैं और इससे चेहरे की सुंदरता बिगड़ रही है? कान और नाक में अधिक बाल उग आए हैं और इससे', 'यूट्यूबर पत्रकार ने शिक्षा राज्य मंत्री से ये सवाल किए थे... यूट्यूबर पत्रकार ने शिक्षा राज्य मंत्री से ये सवाल किए थे...', 'प्रधानमंत्री नरेंद्र मोदी ने अमेरिका के नवनिर्वाचित राष्ट्रपति जो बाइडेन से फोन पर बात की और उन्हें जीत की बधाई दी है। पीएम मोदी ने ट्वीट किया कि अमेरिका के नवनिर्वाचित राष्ट्रपति', 'Rajasthan REET Mains Exam Paper Leak Case - राजस्थान में बड़ी प्रतियोगी परीक्षाओं में इंटरनेट बंद करने का मामला अब सुप्रीम कोर्ट पहुंच गया है। इस मामले में नेटबंदी को गलत ठहराते हु', 'BSE NSE Sensex Today, Stock Market Latest Updates; भारतीय शेयर बाजार में हफ्ते के पहले कारोबारी दिन, यानी सोमवार (27 फरवरी 23) को गिरावट देखने को मिल रही है। सेंसेक्स 700 अंकों से ज्या', 'दिल्ली से सटे फरीदाबाद के एक आईटी पेशेवर (25 वर्षीय) युवक में इसके संक्रमण की पुष्टि हुई है। राहत की बात ये है कि मरीज के घर में साथ रह रहे माता-पिता सहित पांचों सदस्य', 'कर्नाटक की जीत के बाद अब कांग्रेस के लिए यह जरूरी हो गया है कि राजस्थान में गहलोत और पायलट को एक साथ लेकर चुनाव में उतरा जाए।', 'Bollywood Actress Kangana Ranaut Attacks On Director Karan Johar - करण जौहर हाल ही में ब्रह्मास्त्र सीक्वल को रिलीज होने जा रहे हैं। कुछ दिन पहले खबर आई थी कि वॉर 2 का डायरेक', 'आम आदमी पार्टी (AAP) द्वारा बुधवार को गौतम बुद्ध नगर में आयोजित की गई तिरंगा यात्रा में शामिल हुए कई लोगों के मोबाइल फोन चोरी हो गए।', 'हॉस्टल्स में गर्ल्स और बॉयज दोनों की एंट्री का टाइम भी बदल चुका है। लेकिन इतना जरूर है कि NIT में जिस बेरहम तरीके से मारपीट का यह कोहराम मचा हुआ था', 'Bollywood Actress Deepika Padukone Mumbai Apartment - रणवीर सिंह और दीपिका पादुकोण मुंबई में अपने पेरेंट्स के साथ अपने नए घर की कंस्ट्रक्शन साइट पर दिखे। इस वीडियो में रणवीर छोटे', 'स्वास्थ्य अधिकारियों द्वारा दर्ज कराई गई एक शिकायत के मुताबिक, इस दौरान उन्हें काम करने से रोक दिया गया और नमूने नहीं दिए गए।', 'इंडिया टीवी डिजिटल हर जरूरी खबर को कवर करता है और यह सुनिश्चित करता है कि उसके पाठकों से कोई भी जरूरी जानकारी छूट न जाए। देश-दुनिया से जुड़ी ताजा खबरें पा', 'Parliament Monsoon Session 2023 Latest Update. Follow Lok Sabha Rajya Sabha Chunav Parinam Latest News, Reports On Dainik Bhaskar (दैनिक भास्कर)', 'Nawazuddin Siddiqui Vs Aaliya Siddiqui Vs Aaliya Siddiqui Domestic Violence नवाजुद्दीन सिद्दीकी और उनकी पत्नी आलिया सिद्दीकी के बीच शुरू हुआ विवाद बढ़ता जा रहा है।', 'पूर्व श्रीलंकाई कप्तान सनथ जयसूर्या ने 27 साल पुरानी ऑडी कार की फोटोज पोस्ट की है। दोनों में जयसूर्या कार के साथ खड़े हैं।', 'जापान की संसद डायट के अपर हाउस में शुक्रवार को नया कानून पारित हो गया। इसके अलावा, कानूनी तौर पर सहमति की उम्र को भी अब 13 साल से बढ़ाकर 16 साल कर दिया', 'Bollywood Actress Kangana Ranaut Speaks About Her Upcoming Movie Tu Kunu Weds Sheru - 28 साल छोटी अवनीत संग रोमांस करते दिखे नवाज वहीं बुधवार को फिल्म ‘टीकू वेड्स शेरू’ का ट्रेलर', 'केरल में बृहस्पतिवार को कोरोना वायरस संक्रमण से 88 और रोगियों की मौत के साथ ही मृतकों की तादाद 11,743 तक पहुंच गई है जबकि 12,469 नए मामले साम', 'Bollywood Actress Kangana Ranaut Attacks On Shah Rukh Khan. करण रनोट ने हाल ही में अपनी अपकमिंग वेब सीरीज लॉन्च कर दी है। हाल ही में उन्होंने अपनी लिस्ट से हटा दी है', 'सारा अली खान को हाल ही में मुंबई एयरपोर्ट पर स्पॉट किया गया, जिसका एक वीडियो सामने आया है। वीडियो में सारा कूल एंड कम्फी लुक में नजर आ रही हैं। वीडियो में सारा', 'आजादी से पहले अंग्रेजों ने कई बार ज्वालामुखी की पहाड़ियों में ज्योति के रहस्य को जानने का प्रयास किया। आजादी से पहले अंग्रेजों ने कई बार ज्वालामुखी की पहाड़ियों में ज्योत', 'राज्य के डिप्टी सीएम सुखजिंदर सिंह रंधावा ने कहा है कि कैप्टन अमरिंदर की पाक महिला मित्र व पाक खुफिया एजेंसी आईएसआई के कनेक्शन की जांच होगी।', 'लंदन के गोविंदपुरी जिले में एक महिला गैंग का लंदन में सक्रिय था। जब यह शबना नाम का महिला गैंग पुलिस की गिरफ्त में आया तो इनके तार दिल्ली के गोविंदपुरी और मध्य', 'स्वास्थ्य मंत्रालय के अनुसार पिछले 24 घंटों के दौरान देशभर में कोरोना वायरस की वजह से 271 लोगों की जान गई है और अबतक यह वायरस पूरे देश में कुल मिलाकर 162114 लोगों', 'प्रधानमंत्री नरेंद्र मोदी ने लोकसभा में अपने भाषण में बुधवार को किसान आंदोलन पर कहा कि मैं किसान आंदोलन को पवित्र मानता हूं। देश को आंदोलनकारी और आंदोलनजीवियों के बीच फर्क करना बहु', 'Breaking News Headlines Update; Dainik Bhaskar Breaking News Headlines Today, India and World Latest Pictures Videos, Pictures, and More From Dainik Bhaskar (दैनिक भास्कर), narendra modi, rahul gandhi, amit shah, priyanka gandhi', 'मुंबई के जेबीसीएन इंटरनेशनल स्कूल के 11 वर्षीय छात्र अंकुल मेहरा के बारे में पढ़ा। कोविड लॉकडाउन में अंकुल के बाल बढ़ गए थे और तब क्लास ऑनलाइन थी इसलिए उसे', 'जम्मू एवं कश्मीर के कुपवाड़ा जिले के वारनोव इलाके में शनिवार को आतंकवादियों और सुरक्षा बलों के बीच मुठभेड़ होने की जानकारी सामने आई है।', 'Bollywood Actress Radhika Apte Speaks About Her Career. सेक्रेड गेम्स एक्ट्रेस राधिका आप्टे ने करियर के शुरुआती दिनों में अपने टाइपकास्ट किए जाने पर बात की। इस दौरान उन्होंने बताया', 'संयुक्त राष्ट्र सुरक्षा परिषद के निंदा प्रस्ताव के खिलाफ रूस ने वीटो पावर का इस्तेमाल किया। दरअसल, रूस की ओर से यूक्रेन पर किए गए हमले के खिलाफ संयुक्त राष्ट्र सुरक्षा परिष', 'अतिरिक्त सत्र न्यायाधीश अमिताभ रावत ने अभियोजन के आपत्ति नहीं जताने पर जरगर को बृहस्पतिवार से उन्हें हरियाणा में अपने मायके जाने की इजाजत दे दी।', 'जम्मू-कश्मीर की एक उच्च सुरक्षा जेल के अंदर से पाकिस्तानी और स्थानीय आतंकवादियों द्वारा चलाए जा रहे एक बड़े नेटवर्क का खुफिया एजेंसियों ने भंडाफोड़ किया है, जिसके दौ', 'क्रिकेटर हार्दिक पंड्या ने पत्नी नताशा स्टेनकोविक के साथ उदयपुर में डेस्टिनेशन वेडिंग की है। अब कपल शादी के बाद मुंबई वापस लौट आया है।', 'उत्तराखंड के मुख्य सचिव ओमप्रकाश द्वारा विभिन्न विभागों व कुंभ मेला अधिकारी को प्रेषित की गई एसओपी के मुताबिक, हरिद्वार कुंभ मेले के लिए पंजीकरण अनिवार्य हो गया है।', 'Karnataka Assembly (Vidhan Sabha) Chunav Parinam Latest News Update. Follow Karnataka Assembly Election 2023 Latest News, Reports On Dainik Bhaskar (दैनिक भास्कर)', 'Rashtriya Swayamsevak Sangh (RSS) Chief Mohan Bhagwat Speaks About Indian National Secretariat. मोहन भागवत ने कहा कि हर गणतंत्र दिवस पर अम्बेडकर के उस संदेश को भी जरूर पढ़ना चाहिए।', 'कोरोना वायरस महामारी के दौरान देश में रोजगार की स्थिति जानने के लिए श्रम ब्यूरो प्रवास, घरेलू सहायक और पेशेवर इकाइयों को लेकर तीन सर्वेक्षण करेगा।', 'गाजियाबाद में ऑनलाइन गेमिंग के जरिए धर्म परिवर्तन का मामला सामने आने के बाद केंद्र सरकार ने सभी गेमिंग ऐप का रिव्यू करने का फैसला लिया है।', 'BSE NSE Sensex Today, Stock Market Latest Updates शेयर बाजार में हफ्ते के चौथे कारोबारी दिन, यानी गुरुवार (15 फरवरी 23) को तेजी देखने को मिल रही है।', 'मुख्यमंत्री ने कहा कि अपराध की ज्यादातर घटनाएं भूमि विवाद व संपत्ति विवाद के कारण हो रही है, यही कारण है कि भूमि विवाद निपटारे के लिए कई तरह के काम किए जा रहे हैं।', 'लालू और शरद पवार की मुलाकात से पहले पिछले बुधवार को राष्ट्रवादी कांग्रेस पार्टी (राकांपा) अध्यक्ष शरद पवार ने राष्ट्रीय जनता दल (राजद) अध्यक्ष लालू प्रसाद यादव से मुलाकात की', 'मुनव्वर राणा का रायबरेली में अपनी पुश्तैनी ज़मीन को लेकर अपने भाइयों से झगड़ा चल रहा है। कल रायबरेली पुलिस अचानक मुनव्वर राणा के घर पहुंची और पूरे घर की', 'इंदिरा कैंटीन का नाम बदलकर अन्नपूर्णेश्वरी कैंटीन किए जाने की अपनी मांग फिर से दोहराते हुए भारतीय जनता पार्टी के नेता सी. टी. रवि ने गुरुवार को कहा, ‘कांग्रेस अपने कार्यालय में', 'BSE NSE Sensex Today, Stock Market Latest Updates; शेयर बाजार में आज यानी सोमवार (24 जुलाई) को गिरावट देखने को मिल रही थी। सेंसेक्स करीब 500 अंक गिरकर 63,629 के स्तर पर खुला। वहीं', 'केंद्रीय स्वास्थ्य मंत्रालय की ओर से सोमवार को कहा गया कि महाराष्ट्र, पंजाब, कर्नाटक, गुजरात और मध्य प्रदेश में कोविड-19 के मामले बढ़ रहे हैं और संक्रमण के नए मामलों में इन', 'इंदौरी के बेटे और युवा शायर सतलज राहत ने अपने पिता की मौत से पहले मंगलवार सुबह \"पीटीआई-भाषा\" को बताया था, \"कोविड-19 के प्रकोप के कारण मेरे पिता पि', 'Sarkari Naukri 2023 Latest Sarkari Job Alert (01 July 2023) - Government Jobs Latest Govt Jobs Vacancies Eligibility And Selection Process Latest Details पहली नौकरी IBPS ने रूरल रीजनल बैंक के 8611 पदों पर निकाली है।', 'ओमिक्रॉन के बढ़ते मामलों को देखते हुए मुंबई पुलिस ने कमर कस ली है। महाराष्ट्र में शुक्रवार को ओमिक्रॉन के सात नए मामले सामने आए हैं, इनमें साढ़े तीन साल का', 'गुजरात के अहमदाबाद जिले के एक गांव में देवर के साथ मिलकर अपने छह साल के बेटे की हत्या करने के आरोप में महिला और उसके देवर को गिरफ्तार कर लिया गया है।', 'कांग्रेस प्रवक्ता पवन खेड़ा ने यहां एक संवाददाता सम्मेलन को संबोधित करते हुए कहा, \"सोशल मीडिया दिग्गज फेसबुक के भारतीय संचालन और नरेंद्र मोदी के नेतृत्व वाली', 'राजस्थान से करीब 50 छात्र प्रियंका गांधी वाड्रा से मिलने लखनऊ पहुंचे हुए हैं। यहां पहुंचने पर उन्होंने राज्य सरकार की कार्यप्रणाली और प्रदेश की कानून व्यवस्था के खिलाफ मौ', 'कृषि कानूनों के विरोध में पंजाब के किसान पिछले कई महीनों से आंदोलन () कर रहे हैं। हाल ही में जाह्नवी कपूर ने इंस्टाग्राम स्टोरी पर किसान आंदोलन से जुड़ा एक पोस्ट', 'भारतीय आयुर्विज्ञान अनुसंधान परिषद (ICMR) के अनुसार सोमवार को देशभर में 9.33 लाख से ज्यादा कोरोना टेस्ट हुए हैं और देश में कुल टेस्टिंग का आंकड़ा 15.55 करोड़ को पार कर गया है', 'कर्नाटक से नवनिर्वाचित राज्यसभा सदस्य और कर्नाटक बीजेपी के नेता अशोक गास्ती का गुरुवार को बेंगलुरु में आकस्मिक निधन हो गया।', 'ग्रेटर हैदराबाद नगर निगम (जीएचएमसी) चुनावों के लिए प्रचार करते हुए, भाजपा नेता ने कहा कि भाजपा के चुनाव जीतने और उसके नेता के मेयर बनने के बाद, पाकिस्तान सम', 'शशि थरूर पर निशाना साधते हुए केरल प्रदेश कांग्रेस कमेटी के कार्यवाहक अध्यक्ष और लोकसभा में पार्टी के मुख्य सचेतक कोडिकुनिल सुरेश ने शुक्रवार को कहा कि पार्टी में सभी को उसकी', 'पूर्वी लद्दाख में पैंगोंग झील के दक्षिणी किनारे की चोटियों पर कब्जा जमाकर अपनी पकड़ मजबूत करने के साथ ही भारत ने बुधवार को चाइनीज ऐप्स पर बैन लगाकर ची', 'उत्तर प्रदेश में कांग्रेस पार्टी को बड़ा झटका लगा है। प्रियंका के सलाहकार हरेन्द्र मलिक और कांग्रेस के प्रदेश उपाध्यक्ष पंकज मलिक ने इस्तीफ़ा दे दिया है।', 'पश्चिम बंगाल की मुख्यमंत्री ममता बनर्जी ने कल देर शाम नंदीग्राम में अपने ऊपर हमले का आरोप लगाया है। ममता बनर्जी के पांव, हाथ, गर्दन और कंधे में गहरी चो', 'कोरोना मरीजों की पहचान के लिए देशभर में टेस्टिंग लगातार बढ़ाई जा रही है, सोमवार को देशभर में 10.72 लाख से ज्यादा कोरोना टेस्ट हुए हैं और कुल कोरोना वायरस टेस्टिंग का', 'रूस ने दावा किया है कि अमेरिका उसकी जासूसी के लिए आईफोन्स को हैक कर रहा है। एप्पल ने कहा- हमने कभी ऐसा नहीं किया न करेंगे हालांकि, उन्होंने इस बात', 'पीएम आवास योजना से बीजेपी ने देश भर में करोड़ों दीदीयों को लखपति दीदी बना दिया है। एक दिन की यात्रा पर गुजरात की राजधानी गांधीनगर पहुंचे प्रधानमंत्री नरेंद्र मोदी ने शुक्रवार को', 'राष्ट्रपति भवन के एट होम कार्यक्रम में इस बार कोरोना वॉरियर्स भी बुलाए जाएंगे। इस बार कार्यक्रम में शामिल होने वाले मेहमानों की संख्या कम होने के चलते राष्ट्रपति और प्रथम महिला सभी से वन', 'India Vs Australia (IND VS AUS) Indore Test Match Moments Update; Follow India Vs Australia 4th Test Latest Photos and Video Updates on Dainik Bhaskar. भारतीय पारी में विराट कोहली के बैटिंग पर आते ही उनके सामने नाथन', 'सुनयना ने बिल्कुल दोस्तों वाले अंदाज में नीलेश का हाथ अपने हाथो में लेकर थपथापाया और सामान लेकर पलट गई। मनपसंद हॉबी को करियर न बना पाने की दोनों की', 'कांग्रेस के वरिष्ठ नेता एम वीरप्पा मोइली ने दावा किया है कि तमिल फिल्मों के सुपरस्टार रजनीकांत दक्षिणी राज्य की राजनीति में सफल नहीं हो पाएंगे।', 'शहरों में स्वच्छता बनाए रखने के लिए 2016 में शुरू किए गए स्वच्छता सर्वेक्षण का 8वां सीजन आज से शुरु हो रहा है। इस बार की थीम वेस्ट टू वेल्थ रखी गई है।', 'जम्मू-कश्मीर के बारामूला जिले के सोपोर इलाके में सुरक्षा बलों और आतंकवादियों के बीच रातभर चली मुठभेड़ में दो आतंकवादी मारे गए।', 'भारत बायोटेक के कोविड-19 टीके के तीसरे चरण के ट्रायल लिए यहां स्थित अखिल भारतीय आयुर्विज्ञान संस्थान (एम्स) को पर्याप्त संख्या में स्वेछा से टीकाकरण कराने वाले लोग (वालंट', 'प्रधानमंत्री नरेंद्र मोदी अगले सप्ताह एक वार्षिक अंतरराष्ट्रीय ऊर्जा सम्मेलन के दौरान CERAWeek वैश्विक ऊर्जा और पर्यावरण नेतृत्व पुरस्कार प्राप्त करेंगे। इसकी जानकारी कार्यक्रम के आयोजक', 'संघ के राष्ट्रीय कोषाध्यक्ष युगल किशोर मिश्र ने मंगलवार को मोदी सरकार पर निशाना साधते हुए दावा किया है कि राष्ट्रीय स्वयंसेवक संघ मोदी सरकार को संचालित नहीं करता है, वरना उनके संगठन को', 'करप्शन और पेपर लीक के मुद्दे पर राजस्थान के पूर्व डिप्टी सीएम सचिन पायलट के अल्टीमेटम में अब एक सप्ताह का वक्त बचा है। यह जो कर्नाटक ने रास्ता दिखाया है, यह', 'प्रधानमंत्री नरेंद्र मोदी ने कहा कि भारत में 80-95 प्रतिशत किसान छोटे किसान हैं। ये सिर्फ बातों तक सीमित नहीं है, बल्कि भारत सरकार के एक्शन्स में भी रिफ्लेक्ट होता है।', 'प्रधानमंत्री नरेंद्र मोदी ने शुक्रवार को ‘ऐतिहासिक’ कोसी रेल महासेतु को राष्ट्र को समर्पित किया और बिहार के रेल यात्रियों की सुविधाओं के लिए 12 रेल परियोजनाओं का शुभारंभ भी किया।', 'नेपाल में भारत के राजदूत विनय मोहन क्वात्रा को सोमवार को नया विदेश सचिव नियुक्त किया गया। मंत्रालय ने 1988 बैच के भारतीय विदेश सेवा (IFS) के अधिकारी क्वात्रा की नियुक्ति की घोषणा कर', \"श्रीनगर में इस सीजन की सबसे ठंडी रात दर्ज की गई। यहां अभी 40 दिन की भीषण ठंड वाली अवधि 'चिल्लई कलां' चल रही है और अब यह अपने चरम पर है।\", 'दिल्ली में सोमवार को कोविड-19 से 31 और रोगियों की मौत के बाद मृतकों की कुल संख्या बढ़कर 6,040 हो गई। इसके अलावा 2,145 और लोगों के वायरस से संक्रमित पाए जाने', 'Pakistan Foreign Minister Khwaja Asif (SCO) Meeting Update - द ट्रिब्यून के मुताबिक, पाकिस्तान ने भारत में हो रही SCO मीटिंग्स में शामिल होने को लेकर चर्चा शुरू हो गई है। इस मीटिंग में पाकिस्तान के भी', 'आयुषी ने बताया कि वो भी यूक्रेन के बॉर्डर पर फंस गई थी और दोस्तों के साथ भारत माता की जय और वंदेमातरम् के नारे लगा रही थी जिससे सभी जोश में', 'भारतीय रिजर्व बैंक ने सोमवार को बताया कि 30 जून तक बैंकों को 2000 रुपए के 76% नोट मिले हैं। रिजर्व बैंक ने अपने सर्कुलर में कहा है कि वो 2000 का नोट सर्कुलेशन से वापस', 'Opportunities for Competitive Exams in India: Everything You Need to Know About Career Funda: Everything You Need to Know. करिअर फंडा में स्वागत: भारत के कॉम्पिटिटिव एग्जाम्स अपने स्केल और वॉल्यूम, डिफिकल्टी ले', 'भारतीय रेलवे ने 1503 से अधिक टैंकरों के माध्यम से 25629 टन तरल मेडिकल ऑक्सीजन से अधिक की आपूर्ति विभिन्न राज्यों एवं केंद्र शासित प्रदेशों में की है।', 'उत्तराखंड सरकार ने चारधाम यात्रा के लिए तय श्रद्धालुओं की दैनिक सीमा को हटवाने के लिए उच्च न्यायालय का रुख किया है।', 'Madhya Pradesh Sagar Dalit Girl Video Goes Viral - पहले सीधी का पेशाब कांड, फिर इंदौर में आदिवासी नाबालिग लड़कों की बेरहमी से पिटाई के बाद अब सागर में दलित युव', 'अब कोविड-19 पर लोगों का ध्यान नहीं पिछले कुछ समय से कोरोना के मामलों ज्यादा नहीं आ रहे हैं। इनमें से किसी एक की वजह से लोगों में संक्रमण फैल रहा है।', 'Uttar Pradesh Mafia Atiq Ahmed Murder Case - Follow Atiq Ahmed Latest News On Dainik Bhaskar. झारखंड के गोड्डा जिले में एक शादी को चार महीने हुए ही थे कि जीजा को अपनी साली से प्यार हो गया', 'यूपी की राजधानी लखनऊ के चिनहट क्षेत्र की एक लड़की ने 15 जून 2022 को चिनहट थाने में गोविंद राय उर्फ मोनू के खिलाफ केस दर्ज कराया था। लड़की का कहना है कि मंगे', 'शुक्रवार, 18 जुलाई को मेष राशि के लोगों को सकारात्मक विचारों से बचें, वर्ना दिक्कतें बढ़ सकती हैं। मिथुन राशि के लोगों के काम को समझने की कोशिश करें, तभी अपने', 'कांग्रेस नेता राहुल गांधी ने पार्टी छोड़कर भाजपा में शामिल हुए ज्योतिरादित्य सिंधिया को लेकर बड़ा बयान दिया है।']\n"
     ]
    }
   ],
   "source": [
    "print(pred)"
   ]
  },
  {
   "cell_type": "code",
   "execution_count": null,
   "id": "afd4aa39",
   "metadata": {
    "papermill": {
     "duration": 0.030533,
     "end_time": "2024-04-25T04:47:00.604114",
     "exception": false,
     "start_time": "2024-04-25T04:47:00.573581",
     "status": "completed"
    },
    "tags": []
   },
   "outputs": [],
   "source": []
  }
 ],
 "metadata": {
  "kaggle": {
   "accelerator": "nvidiaTeslaT4",
   "dataSources": [
    {
     "datasetId": 4869286,
     "sourceId": 8215325,
     "sourceType": "datasetVersion"
    },
    {
     "datasetId": 4873201,
     "sourceId": 8220279,
     "sourceType": "datasetVersion"
    }
   ],
   "dockerImageVersionId": 30699,
   "isGpuEnabled": true,
   "isInternetEnabled": true,
   "language": "python",
   "sourceType": "notebook"
  },
  "kernelspec": {
   "display_name": "Python 3",
   "language": "python",
   "name": "python3"
  },
  "language_info": {
   "codemirror_mode": {
    "name": "ipython",
    "version": 3
   },
   "file_extension": ".py",
   "mimetype": "text/x-python",
   "name": "python",
   "nbconvert_exporter": "python",
   "pygments_lexer": "ipython3",
   "version": "3.10.13"
  },
  "papermill": {
   "default_parameters": {},
   "duration": 23234.029605,
   "end_time": "2024-04-25T04:47:04.479749",
   "environment_variables": {},
   "exception": null,
   "input_path": "__notebook__.ipynb",
   "output_path": "__notebook__.ipynb",
   "parameters": {},
   "start_time": "2024-04-24T22:19:50.450144",
   "version": "2.5.0"
  },
  "widgets": {
   "application/vnd.jupyter.widget-state+json": {
    "state": {
     "014112cfd82341f594bf026dd8c66102": {
      "model_module": "@jupyter-widgets/controls",
      "model_module_version": "1.5.0",
      "model_name": "HTMLModel",
      "state": {
       "_dom_classes": [],
       "_model_module": "@jupyter-widgets/controls",
       "_model_module_version": "1.5.0",
       "_model_name": "HTMLModel",
       "_view_count": null,
       "_view_module": "@jupyter-widgets/controls",
       "_view_module_version": "1.5.0",
       "_view_name": "HTMLView",
       "description": "",
       "description_tooltip": null,
       "layout": "IPY_MODEL_5aba0dba393147e6a2543bf0b4d76171",
       "placeholder": "​",
       "style": "IPY_MODEL_9594455efdca4ced97f30cde60fe1152",
       "value": "Map: 100%"
      }
     },
     "03556ef85c2e47efbca597d843fa9bb8": {
      "model_module": "@jupyter-widgets/controls",
      "model_module_version": "1.5.0",
      "model_name": "HBoxModel",
      "state": {
       "_dom_classes": [],
       "_model_module": "@jupyter-widgets/controls",
       "_model_module_version": "1.5.0",
       "_model_name": "HBoxModel",
       "_view_count": null,
       "_view_module": "@jupyter-widgets/controls",
       "_view_module_version": "1.5.0",
       "_view_name": "HBoxView",
       "box_style": "",
       "children": [
        "IPY_MODEL_dd3e8143961b4d10a745d488a6d0ff34",
        "IPY_MODEL_8011b695a0b4498ebf902440cde042bd",
        "IPY_MODEL_8763972e970747e390aa3f1457492538"
       ],
       "layout": "IPY_MODEL_668a6621bb8d4f16977e9b8e6019639c"
      }
     },
     "045d6ae5099242db8f059ae202f4b9ce": {
      "model_module": "@jupyter-widgets/base",
      "model_module_version": "1.2.0",
      "model_name": "LayoutModel",
      "state": {
       "_model_module": "@jupyter-widgets/base",
       "_model_module_version": "1.2.0",
       "_model_name": "LayoutModel",
       "_view_count": null,
       "_view_module": "@jupyter-widgets/base",
       "_view_module_version": "1.2.0",
       "_view_name": "LayoutView",
       "align_content": null,
       "align_items": null,
       "align_self": null,
       "border": null,
       "bottom": null,
       "display": null,
       "flex": null,
       "flex_flow": null,
       "grid_area": null,
       "grid_auto_columns": null,
       "grid_auto_flow": null,
       "grid_auto_rows": null,
       "grid_column": null,
       "grid_gap": null,
       "grid_row": null,
       "grid_template_areas": null,
       "grid_template_columns": null,
       "grid_template_rows": null,
       "height": null,
       "justify_content": null,
       "justify_items": null,
       "left": null,
       "margin": null,
       "max_height": null,
       "max_width": null,
       "min_height": null,
       "min_width": null,
       "object_fit": null,
       "object_position": null,
       "order": null,
       "overflow": null,
       "overflow_x": null,
       "overflow_y": null,
       "padding": null,
       "right": null,
       "top": null,
       "visibility": null,
       "width": null
      }
     },
     "051c30598d464a139145eaf78da0c27e": {
      "model_module": "@jupyter-widgets/base",
      "model_module_version": "1.2.0",
      "model_name": "LayoutModel",
      "state": {
       "_model_module": "@jupyter-widgets/base",
       "_model_module_version": "1.2.0",
       "_model_name": "LayoutModel",
       "_view_count": null,
       "_view_module": "@jupyter-widgets/base",
       "_view_module_version": "1.2.0",
       "_view_name": "LayoutView",
       "align_content": null,
       "align_items": null,
       "align_self": null,
       "border": null,
       "bottom": null,
       "display": null,
       "flex": null,
       "flex_flow": null,
       "grid_area": null,
       "grid_auto_columns": null,
       "grid_auto_flow": null,
       "grid_auto_rows": null,
       "grid_column": null,
       "grid_gap": null,
       "grid_row": null,
       "grid_template_areas": null,
       "grid_template_columns": null,
       "grid_template_rows": null,
       "height": null,
       "justify_content": null,
       "justify_items": null,
       "left": null,
       "margin": null,
       "max_height": null,
       "max_width": null,
       "min_height": null,
       "min_width": null,
       "object_fit": null,
       "object_position": null,
       "order": null,
       "overflow": null,
       "overflow_x": null,
       "overflow_y": null,
       "padding": null,
       "right": null,
       "top": null,
       "visibility": null,
       "width": null
      }
     },
     "05576d8812fe494e8cfcbd7f06b8c4ff": {
      "model_module": "@jupyter-widgets/base",
      "model_module_version": "1.2.0",
      "model_name": "LayoutModel",
      "state": {
       "_model_module": "@jupyter-widgets/base",
       "_model_module_version": "1.2.0",
       "_model_name": "LayoutModel",
       "_view_count": null,
       "_view_module": "@jupyter-widgets/base",
       "_view_module_version": "1.2.0",
       "_view_name": "LayoutView",
       "align_content": null,
       "align_items": null,
       "align_self": null,
       "border": null,
       "bottom": null,
       "display": null,
       "flex": null,
       "flex_flow": null,
       "grid_area": null,
       "grid_auto_columns": null,
       "grid_auto_flow": null,
       "grid_auto_rows": null,
       "grid_column": null,
       "grid_gap": null,
       "grid_row": null,
       "grid_template_areas": null,
       "grid_template_columns": null,
       "grid_template_rows": null,
       "height": null,
       "justify_content": null,
       "justify_items": null,
       "left": null,
       "margin": null,
       "max_height": null,
       "max_width": null,
       "min_height": null,
       "min_width": null,
       "object_fit": null,
       "object_position": null,
       "order": null,
       "overflow": null,
       "overflow_x": null,
       "overflow_y": null,
       "padding": null,
       "right": null,
       "top": null,
       "visibility": null,
       "width": null
      }
     },
     "05c33ca371b84b22bc7e45cf1b57ca7b": {
      "model_module": "@jupyter-widgets/controls",
      "model_module_version": "1.5.0",
      "model_name": "ProgressStyleModel",
      "state": {
       "_model_module": "@jupyter-widgets/controls",
       "_model_module_version": "1.5.0",
       "_model_name": "ProgressStyleModel",
       "_view_count": null,
       "_view_module": "@jupyter-widgets/base",
       "_view_module_version": "1.2.0",
       "_view_name": "StyleView",
       "bar_color": null,
       "description_width": ""
      }
     },
     "07ac8cecb6ee492ba98804eaf5ef7da6": {
      "model_module": "@jupyter-widgets/base",
      "model_module_version": "1.2.0",
      "model_name": "LayoutModel",
      "state": {
       "_model_module": "@jupyter-widgets/base",
       "_model_module_version": "1.2.0",
       "_model_name": "LayoutModel",
       "_view_count": null,
       "_view_module": "@jupyter-widgets/base",
       "_view_module_version": "1.2.0",
       "_view_name": "LayoutView",
       "align_content": null,
       "align_items": null,
       "align_self": null,
       "border": null,
       "bottom": null,
       "display": null,
       "flex": null,
       "flex_flow": null,
       "grid_area": null,
       "grid_auto_columns": null,
       "grid_auto_flow": null,
       "grid_auto_rows": null,
       "grid_column": null,
       "grid_gap": null,
       "grid_row": null,
       "grid_template_areas": null,
       "grid_template_columns": null,
       "grid_template_rows": null,
       "height": null,
       "justify_content": null,
       "justify_items": null,
       "left": null,
       "margin": null,
       "max_height": null,
       "max_width": null,
       "min_height": null,
       "min_width": null,
       "object_fit": null,
       "object_position": null,
       "order": null,
       "overflow": null,
       "overflow_x": null,
       "overflow_y": null,
       "padding": null,
       "right": null,
       "top": null,
       "visibility": null,
       "width": null
      }
     },
     "0d77bc5b0da54a4e93b17d4d70ccfb09": {
      "model_module": "@jupyter-widgets/base",
      "model_module_version": "1.2.0",
      "model_name": "LayoutModel",
      "state": {
       "_model_module": "@jupyter-widgets/base",
       "_model_module_version": "1.2.0",
       "_model_name": "LayoutModel",
       "_view_count": null,
       "_view_module": "@jupyter-widgets/base",
       "_view_module_version": "1.2.0",
       "_view_name": "LayoutView",
       "align_content": null,
       "align_items": null,
       "align_self": null,
       "border": null,
       "bottom": null,
       "display": null,
       "flex": null,
       "flex_flow": null,
       "grid_area": null,
       "grid_auto_columns": null,
       "grid_auto_flow": null,
       "grid_auto_rows": null,
       "grid_column": null,
       "grid_gap": null,
       "grid_row": null,
       "grid_template_areas": null,
       "grid_template_columns": null,
       "grid_template_rows": null,
       "height": null,
       "justify_content": null,
       "justify_items": null,
       "left": null,
       "margin": null,
       "max_height": null,
       "max_width": null,
       "min_height": null,
       "min_width": null,
       "object_fit": null,
       "object_position": null,
       "order": null,
       "overflow": null,
       "overflow_x": null,
       "overflow_y": null,
       "padding": null,
       "right": null,
       "top": null,
       "visibility": null,
       "width": null
      }
     },
     "0e4905ecc98e4813b31eadbae76f618d": {
      "model_module": "@jupyter-widgets/base",
      "model_module_version": "1.2.0",
      "model_name": "LayoutModel",
      "state": {
       "_model_module": "@jupyter-widgets/base",
       "_model_module_version": "1.2.0",
       "_model_name": "LayoutModel",
       "_view_count": null,
       "_view_module": "@jupyter-widgets/base",
       "_view_module_version": "1.2.0",
       "_view_name": "LayoutView",
       "align_content": null,
       "align_items": null,
       "align_self": null,
       "border": null,
       "bottom": null,
       "display": null,
       "flex": null,
       "flex_flow": null,
       "grid_area": null,
       "grid_auto_columns": null,
       "grid_auto_flow": null,
       "grid_auto_rows": null,
       "grid_column": null,
       "grid_gap": null,
       "grid_row": null,
       "grid_template_areas": null,
       "grid_template_columns": null,
       "grid_template_rows": null,
       "height": null,
       "justify_content": null,
       "justify_items": null,
       "left": null,
       "margin": null,
       "max_height": null,
       "max_width": null,
       "min_height": null,
       "min_width": null,
       "object_fit": null,
       "object_position": null,
       "order": null,
       "overflow": null,
       "overflow_x": null,
       "overflow_y": null,
       "padding": null,
       "right": null,
       "top": null,
       "visibility": null,
       "width": null
      }
     },
     "0f535d7126e94506a94760f8df5a3dee": {
      "model_module": "@jupyter-widgets/controls",
      "model_module_version": "1.5.0",
      "model_name": "DescriptionStyleModel",
      "state": {
       "_model_module": "@jupyter-widgets/controls",
       "_model_module_version": "1.5.0",
       "_model_name": "DescriptionStyleModel",
       "_view_count": null,
       "_view_module": "@jupyter-widgets/base",
       "_view_module_version": "1.2.0",
       "_view_name": "StyleView",
       "description_width": ""
      }
     },
     "10878d1ef6a54e5ebf5c322a0daf4e17": {
      "model_module": "@jupyter-widgets/controls",
      "model_module_version": "1.5.0",
      "model_name": "DescriptionStyleModel",
      "state": {
       "_model_module": "@jupyter-widgets/controls",
       "_model_module_version": "1.5.0",
       "_model_name": "DescriptionStyleModel",
       "_view_count": null,
       "_view_module": "@jupyter-widgets/base",
       "_view_module_version": "1.2.0",
       "_view_name": "StyleView",
       "description_width": ""
      }
     },
     "11dd9894ad0441fdb127808400c5d583": {
      "model_module": "@jupyter-widgets/controls",
      "model_module_version": "1.5.0",
      "model_name": "HBoxModel",
      "state": {
       "_dom_classes": [],
       "_model_module": "@jupyter-widgets/controls",
       "_model_module_version": "1.5.0",
       "_model_name": "HBoxModel",
       "_view_count": null,
       "_view_module": "@jupyter-widgets/controls",
       "_view_module_version": "1.5.0",
       "_view_name": "HBoxView",
       "box_style": "",
       "children": [
        "IPY_MODEL_c727b480ae074670ba0d078bd6e8b7e6",
        "IPY_MODEL_b8c1410203324cdca81e53d4d7b4b57a",
        "IPY_MODEL_69dacea988fa4f73b301d867897c7c01"
       ],
       "layout": "IPY_MODEL_1adce7e52e0c45989dad137e6da27ee2"
      }
     },
     "1378965af58b4813b56258469dd264c0": {
      "model_module": "@jupyter-widgets/controls",
      "model_module_version": "1.5.0",
      "model_name": "HTMLModel",
      "state": {
       "_dom_classes": [],
       "_model_module": "@jupyter-widgets/controls",
       "_model_module_version": "1.5.0",
       "_model_name": "HTMLModel",
       "_view_count": null,
       "_view_module": "@jupyter-widgets/controls",
       "_view_module_version": "1.5.0",
       "_view_name": "HTMLView",
       "description": "",
       "description_tooltip": null,
       "layout": "IPY_MODEL_f42f047b793446bb933aa3643eb2e54e",
       "placeholder": "​",
       "style": "IPY_MODEL_dbd58993728a4210bf9cb61833647981",
       "value": "special_tokens_map.json: 100%"
      }
     },
     "13b21c821c24483ba5235aa9d94c36ce": {
      "model_module": "@jupyter-widgets/controls",
      "model_module_version": "1.5.0",
      "model_name": "DescriptionStyleModel",
      "state": {
       "_model_module": "@jupyter-widgets/controls",
       "_model_module_version": "1.5.0",
       "_model_name": "DescriptionStyleModel",
       "_view_count": null,
       "_view_module": "@jupyter-widgets/base",
       "_view_module_version": "1.2.0",
       "_view_name": "StyleView",
       "description_width": ""
      }
     },
     "1709f8e20efd4c49896119f85c76e3f7": {
      "model_module": "@jupyter-widgets/controls",
      "model_module_version": "1.5.0",
      "model_name": "HTMLModel",
      "state": {
       "_dom_classes": [],
       "_model_module": "@jupyter-widgets/controls",
       "_model_module_version": "1.5.0",
       "_model_name": "HTMLModel",
       "_view_count": null,
       "_view_module": "@jupyter-widgets/controls",
       "_view_module_version": "1.5.0",
       "_view_name": "HTMLView",
       "description": "",
       "description_tooltip": null,
       "layout": "IPY_MODEL_d55459ff2d544da98f7f903b6d5cb8ae",
       "placeholder": "​",
       "style": "IPY_MODEL_50c314126b5c47ac8ca66d486ee76f88",
       "value": "Map: 100%"
      }
     },
     "1729f2c7d8b44843aae2eacdf00e1dec": {
      "model_module": "@jupyter-widgets/base",
      "model_module_version": "1.2.0",
      "model_name": "LayoutModel",
      "state": {
       "_model_module": "@jupyter-widgets/base",
       "_model_module_version": "1.2.0",
       "_model_name": "LayoutModel",
       "_view_count": null,
       "_view_module": "@jupyter-widgets/base",
       "_view_module_version": "1.2.0",
       "_view_name": "LayoutView",
       "align_content": null,
       "align_items": null,
       "align_self": null,
       "border": null,
       "bottom": null,
       "display": null,
       "flex": null,
       "flex_flow": null,
       "grid_area": null,
       "grid_auto_columns": null,
       "grid_auto_flow": null,
       "grid_auto_rows": null,
       "grid_column": null,
       "grid_gap": null,
       "grid_row": null,
       "grid_template_areas": null,
       "grid_template_columns": null,
       "grid_template_rows": null,
       "height": null,
       "justify_content": null,
       "justify_items": null,
       "left": null,
       "margin": null,
       "max_height": null,
       "max_width": null,
       "min_height": null,
       "min_width": null,
       "object_fit": null,
       "object_position": null,
       "order": null,
       "overflow": null,
       "overflow_x": null,
       "overflow_y": null,
       "padding": null,
       "right": null,
       "top": null,
       "visibility": null,
       "width": null
      }
     },
     "1adce7e52e0c45989dad137e6da27ee2": {
      "model_module": "@jupyter-widgets/base",
      "model_module_version": "1.2.0",
      "model_name": "LayoutModel",
      "state": {
       "_model_module": "@jupyter-widgets/base",
       "_model_module_version": "1.2.0",
       "_model_name": "LayoutModel",
       "_view_count": null,
       "_view_module": "@jupyter-widgets/base",
       "_view_module_version": "1.2.0",
       "_view_name": "LayoutView",
       "align_content": null,
       "align_items": null,
       "align_self": null,
       "border": null,
       "bottom": null,
       "display": null,
       "flex": null,
       "flex_flow": null,
       "grid_area": null,
       "grid_auto_columns": null,
       "grid_auto_flow": null,
       "grid_auto_rows": null,
       "grid_column": null,
       "grid_gap": null,
       "grid_row": null,
       "grid_template_areas": null,
       "grid_template_columns": null,
       "grid_template_rows": null,
       "height": null,
       "justify_content": null,
       "justify_items": null,
       "left": null,
       "margin": null,
       "max_height": null,
       "max_width": null,
       "min_height": null,
       "min_width": null,
       "object_fit": null,
       "object_position": null,
       "order": null,
       "overflow": null,
       "overflow_x": null,
       "overflow_y": null,
       "padding": null,
       "right": null,
       "top": null,
       "visibility": null,
       "width": null
      }
     },
     "1b36d03b791e48c0b52162d9d733be6d": {
      "model_module": "@jupyter-widgets/controls",
      "model_module_version": "1.5.0",
      "model_name": "HTMLModel",
      "state": {
       "_dom_classes": [],
       "_model_module": "@jupyter-widgets/controls",
       "_model_module_version": "1.5.0",
       "_model_name": "HTMLModel",
       "_view_count": null,
       "_view_module": "@jupyter-widgets/controls",
       "_view_module_version": "1.5.0",
       "_view_name": "HTMLView",
       "description": "",
       "description_tooltip": null,
       "layout": "IPY_MODEL_b2130b9b41a24c729e9a82962e81591e",
       "placeholder": "​",
       "style": "IPY_MODEL_10878d1ef6a54e5ebf5c322a0daf4e17",
       "value": " 19087/19087 [01:04&lt;00:00, 304.83 examples/s]"
      }
     },
     "1c2af1feecea4eea8269b4b11ab79a24": {
      "model_module": "@jupyter-widgets/controls",
      "model_module_version": "1.5.0",
      "model_name": "HTMLModel",
      "state": {
       "_dom_classes": [],
       "_model_module": "@jupyter-widgets/controls",
       "_model_module_version": "1.5.0",
       "_model_name": "HTMLModel",
       "_view_count": null,
       "_view_module": "@jupyter-widgets/controls",
       "_view_module_version": "1.5.0",
       "_view_name": "HTMLView",
       "description": "",
       "description_tooltip": null,
       "layout": "IPY_MODEL_6c46e5a9faf74ba6916aecb42f899396",
       "placeholder": "​",
       "style": "IPY_MODEL_984a988a9c2d4e9c9a49fe616bafc4d0",
       "value": "config.json: 100%"
      }
     },
     "1e724de17a99415cb44907a83fc6d50c": {
      "model_module": "@jupyter-widgets/controls",
      "model_module_version": "1.5.0",
      "model_name": "FloatProgressModel",
      "state": {
       "_dom_classes": [],
       "_model_module": "@jupyter-widgets/controls",
       "_model_module_version": "1.5.0",
       "_model_name": "FloatProgressModel",
       "_view_count": null,
       "_view_module": "@jupyter-widgets/controls",
       "_view_module_version": "1.5.0",
       "_view_name": "ProgressView",
       "bar_style": "success",
       "description": "",
       "description_tooltip": null,
       "layout": "IPY_MODEL_d698eceeac05410aaed4420344ef59b6",
       "max": 6270.0,
       "min": 0.0,
       "orientation": "horizontal",
       "style": "IPY_MODEL_a785f359a22e40ad839ee5459429dc23",
       "value": 6270.0
      }
     },
     "1ed9ea7b22df4982a12fbf448d39cf67": {
      "model_module": "@jupyter-widgets/controls",
      "model_module_version": "1.5.0",
      "model_name": "HTMLModel",
      "state": {
       "_dom_classes": [],
       "_model_module": "@jupyter-widgets/controls",
       "_model_module_version": "1.5.0",
       "_model_name": "HTMLModel",
       "_view_count": null,
       "_view_module": "@jupyter-widgets/controls",
       "_view_module_version": "1.5.0",
       "_view_name": "HTMLView",
       "description": "",
       "description_tooltip": null,
       "layout": "IPY_MODEL_edcc38ef717142d28d7ffea58df81172",
       "placeholder": "​",
       "style": "IPY_MODEL_b980170e12254f2eb61cd99440f61ef9",
       "value": " 65.0/65.0 [00:00&lt;00:00, 4.52kB/s]"
      }
     },
     "243e7a8171e54d94b094e132e9cd1225": {
      "model_module": "@jupyter-widgets/base",
      "model_module_version": "1.2.0",
      "model_name": "LayoutModel",
      "state": {
       "_model_module": "@jupyter-widgets/base",
       "_model_module_version": "1.2.0",
       "_model_name": "LayoutModel",
       "_view_count": null,
       "_view_module": "@jupyter-widgets/base",
       "_view_module_version": "1.2.0",
       "_view_name": "LayoutView",
       "align_content": null,
       "align_items": null,
       "align_self": null,
       "border": null,
       "bottom": null,
       "display": null,
       "flex": null,
       "flex_flow": null,
       "grid_area": null,
       "grid_auto_columns": null,
       "grid_auto_flow": null,
       "grid_auto_rows": null,
       "grid_column": null,
       "grid_gap": null,
       "grid_row": null,
       "grid_template_areas": null,
       "grid_template_columns": null,
       "grid_template_rows": null,
       "height": null,
       "justify_content": null,
       "justify_items": null,
       "left": null,
       "margin": null,
       "max_height": null,
       "max_width": null,
       "min_height": null,
       "min_width": null,
       "object_fit": null,
       "object_position": null,
       "order": null,
       "overflow": null,
       "overflow_x": null,
       "overflow_y": null,
       "padding": null,
       "right": null,
       "top": null,
       "visibility": null,
       "width": null
      }
     },
     "25d3fce0511244a6ab84533b44730749": {
      "model_module": "@jupyter-widgets/controls",
      "model_module_version": "1.5.0",
      "model_name": "DescriptionStyleModel",
      "state": {
       "_model_module": "@jupyter-widgets/controls",
       "_model_module_version": "1.5.0",
       "_model_name": "DescriptionStyleModel",
       "_view_count": null,
       "_view_module": "@jupyter-widgets/base",
       "_view_module_version": "1.2.0",
       "_view_name": "StyleView",
       "description_width": ""
      }
     },
     "2b02d3b74c2e4e66a35ac41a73892ab5": {
      "model_module": "@jupyter-widgets/base",
      "model_module_version": "1.2.0",
      "model_name": "LayoutModel",
      "state": {
       "_model_module": "@jupyter-widgets/base",
       "_model_module_version": "1.2.0",
       "_model_name": "LayoutModel",
       "_view_count": null,
       "_view_module": "@jupyter-widgets/base",
       "_view_module_version": "1.2.0",
       "_view_name": "LayoutView",
       "align_content": null,
       "align_items": null,
       "align_self": null,
       "border": null,
       "bottom": null,
       "display": null,
       "flex": null,
       "flex_flow": null,
       "grid_area": null,
       "grid_auto_columns": null,
       "grid_auto_flow": null,
       "grid_auto_rows": null,
       "grid_column": null,
       "grid_gap": null,
       "grid_row": null,
       "grid_template_areas": null,
       "grid_template_columns": null,
       "grid_template_rows": null,
       "height": null,
       "justify_content": null,
       "justify_items": null,
       "left": null,
       "margin": null,
       "max_height": null,
       "max_width": null,
       "min_height": null,
       "min_width": null,
       "object_fit": null,
       "object_position": null,
       "order": null,
       "overflow": null,
       "overflow_x": null,
       "overflow_y": null,
       "padding": null,
       "right": null,
       "top": null,
       "visibility": null,
       "width": null
      }
     },
     "2f049af57d644e5a89014553c356b0f2": {
      "model_module": "@jupyter-widgets/base",
      "model_module_version": "1.2.0",
      "model_name": "LayoutModel",
      "state": {
       "_model_module": "@jupyter-widgets/base",
       "_model_module_version": "1.2.0",
       "_model_name": "LayoutModel",
       "_view_count": null,
       "_view_module": "@jupyter-widgets/base",
       "_view_module_version": "1.2.0",
       "_view_name": "LayoutView",
       "align_content": null,
       "align_items": null,
       "align_self": null,
       "border": null,
       "bottom": null,
       "display": null,
       "flex": null,
       "flex_flow": null,
       "grid_area": null,
       "grid_auto_columns": null,
       "grid_auto_flow": null,
       "grid_auto_rows": null,
       "grid_column": null,
       "grid_gap": null,
       "grid_row": null,
       "grid_template_areas": null,
       "grid_template_columns": null,
       "grid_template_rows": null,
       "height": null,
       "justify_content": null,
       "justify_items": null,
       "left": null,
       "margin": null,
       "max_height": null,
       "max_width": null,
       "min_height": null,
       "min_width": null,
       "object_fit": null,
       "object_position": null,
       "order": null,
       "overflow": null,
       "overflow_x": null,
       "overflow_y": null,
       "padding": null,
       "right": null,
       "top": null,
       "visibility": null,
       "width": null
      }
     },
     "3388cfc170104c2982095253e2531902": {
      "model_module": "@jupyter-widgets/controls",
      "model_module_version": "1.5.0",
      "model_name": "HBoxModel",
      "state": {
       "_dom_classes": [],
       "_model_module": "@jupyter-widgets/controls",
       "_model_module_version": "1.5.0",
       "_model_name": "HBoxModel",
       "_view_count": null,
       "_view_module": "@jupyter-widgets/controls",
       "_view_module_version": "1.5.0",
       "_view_name": "HBoxView",
       "box_style": "",
       "children": [
        "IPY_MODEL_92139806a2294172abee9e39f2c4d96f",
        "IPY_MODEL_903fa24d61504e0aafabad1cba7a9530",
        "IPY_MODEL_b7fc192af32f4fb8b22e3160191cc21c"
       ],
       "layout": "IPY_MODEL_4a00a2ee1b4c4c939f103b9f74133240"
      }
     },
     "33d3955f6841440f8f0a97c61301dc27": {
      "model_module": "@jupyter-widgets/base",
      "model_module_version": "1.2.0",
      "model_name": "LayoutModel",
      "state": {
       "_model_module": "@jupyter-widgets/base",
       "_model_module_version": "1.2.0",
       "_model_name": "LayoutModel",
       "_view_count": null,
       "_view_module": "@jupyter-widgets/base",
       "_view_module_version": "1.2.0",
       "_view_name": "LayoutView",
       "align_content": null,
       "align_items": null,
       "align_self": null,
       "border": null,
       "bottom": null,
       "display": null,
       "flex": null,
       "flex_flow": null,
       "grid_area": null,
       "grid_auto_columns": null,
       "grid_auto_flow": null,
       "grid_auto_rows": null,
       "grid_column": null,
       "grid_gap": null,
       "grid_row": null,
       "grid_template_areas": null,
       "grid_template_columns": null,
       "grid_template_rows": null,
       "height": null,
       "justify_content": null,
       "justify_items": null,
       "left": null,
       "margin": null,
       "max_height": null,
       "max_width": null,
       "min_height": null,
       "min_width": null,
       "object_fit": null,
       "object_position": null,
       "order": null,
       "overflow": null,
       "overflow_x": null,
       "overflow_y": null,
       "padding": null,
       "right": null,
       "top": null,
       "visibility": null,
       "width": null
      }
     },
     "354a6cf25c814ca893c5f095a81aa1df": {
      "model_module": "@jupyter-widgets/controls",
      "model_module_version": "1.5.0",
      "model_name": "ProgressStyleModel",
      "state": {
       "_model_module": "@jupyter-widgets/controls",
       "_model_module_version": "1.5.0",
       "_model_name": "ProgressStyleModel",
       "_view_count": null,
       "_view_module": "@jupyter-widgets/base",
       "_view_module_version": "1.2.0",
       "_view_name": "StyleView",
       "bar_color": null,
       "description_width": ""
      }
     },
     "3a78b0f40d94461eb324e00502a22236": {
      "model_module": "@jupyter-widgets/controls",
      "model_module_version": "1.5.0",
      "model_name": "ProgressStyleModel",
      "state": {
       "_model_module": "@jupyter-widgets/controls",
       "_model_module_version": "1.5.0",
       "_model_name": "ProgressStyleModel",
       "_view_count": null,
       "_view_module": "@jupyter-widgets/base",
       "_view_module_version": "1.2.0",
       "_view_name": "StyleView",
       "bar_color": null,
       "description_width": ""
      }
     },
     "3c9a2ad59f1847cfa79873d98b8f1541": {
      "model_module": "@jupyter-widgets/base",
      "model_module_version": "1.2.0",
      "model_name": "LayoutModel",
      "state": {
       "_model_module": "@jupyter-widgets/base",
       "_model_module_version": "1.2.0",
       "_model_name": "LayoutModel",
       "_view_count": null,
       "_view_module": "@jupyter-widgets/base",
       "_view_module_version": "1.2.0",
       "_view_name": "LayoutView",
       "align_content": null,
       "align_items": null,
       "align_self": null,
       "border": null,
       "bottom": null,
       "display": null,
       "flex": null,
       "flex_flow": null,
       "grid_area": null,
       "grid_auto_columns": null,
       "grid_auto_flow": null,
       "grid_auto_rows": null,
       "grid_column": null,
       "grid_gap": null,
       "grid_row": null,
       "grid_template_areas": null,
       "grid_template_columns": null,
       "grid_template_rows": null,
       "height": null,
       "justify_content": null,
       "justify_items": null,
       "left": null,
       "margin": null,
       "max_height": null,
       "max_width": null,
       "min_height": null,
       "min_width": null,
       "object_fit": null,
       "object_position": null,
       "order": null,
       "overflow": null,
       "overflow_x": null,
       "overflow_y": null,
       "padding": null,
       "right": null,
       "top": null,
       "visibility": null,
       "width": null
      }
     },
     "3faeb9430eea414ba10a8063c5be5ae7": {
      "model_module": "@jupyter-widgets/controls",
      "model_module_version": "1.5.0",
      "model_name": "DescriptionStyleModel",
      "state": {
       "_model_module": "@jupyter-widgets/controls",
       "_model_module_version": "1.5.0",
       "_model_name": "DescriptionStyleModel",
       "_view_count": null,
       "_view_module": "@jupyter-widgets/base",
       "_view_module_version": "1.2.0",
       "_view_name": "StyleView",
       "description_width": ""
      }
     },
     "412e9483138942058d46a641b1351cf1": {
      "model_module": "@jupyter-widgets/controls",
      "model_module_version": "1.5.0",
      "model_name": "HBoxModel",
      "state": {
       "_dom_classes": [],
       "_model_module": "@jupyter-widgets/controls",
       "_model_module_version": "1.5.0",
       "_model_name": "HBoxModel",
       "_view_count": null,
       "_view_module": "@jupyter-widgets/controls",
       "_view_module_version": "1.5.0",
       "_view_name": "HBoxView",
       "box_style": "",
       "children": [
        "IPY_MODEL_46f60f5a50e4441bbad382d922d29940",
        "IPY_MODEL_f1a9439f0a69444381c92756bcb02470",
        "IPY_MODEL_cd69785c32ab4ab3a065364e037aaeb7"
       ],
       "layout": "IPY_MODEL_97db4f9534e846689c5b6e923d65f89c"
      }
     },
     "43e7bd9a9d5045e5ab0c5e018108ef3c": {
      "model_module": "@jupyter-widgets/base",
      "model_module_version": "1.2.0",
      "model_name": "LayoutModel",
      "state": {
       "_model_module": "@jupyter-widgets/base",
       "_model_module_version": "1.2.0",
       "_model_name": "LayoutModel",
       "_view_count": null,
       "_view_module": "@jupyter-widgets/base",
       "_view_module_version": "1.2.0",
       "_view_name": "LayoutView",
       "align_content": null,
       "align_items": null,
       "align_self": null,
       "border": null,
       "bottom": null,
       "display": null,
       "flex": null,
       "flex_flow": null,
       "grid_area": null,
       "grid_auto_columns": null,
       "grid_auto_flow": null,
       "grid_auto_rows": null,
       "grid_column": null,
       "grid_gap": null,
       "grid_row": null,
       "grid_template_areas": null,
       "grid_template_columns": null,
       "grid_template_rows": null,
       "height": null,
       "justify_content": null,
       "justify_items": null,
       "left": null,
       "margin": null,
       "max_height": null,
       "max_width": null,
       "min_height": null,
       "min_width": null,
       "object_fit": null,
       "object_position": null,
       "order": null,
       "overflow": null,
       "overflow_x": null,
       "overflow_y": null,
       "padding": null,
       "right": null,
       "top": null,
       "visibility": null,
       "width": null
      }
     },
     "4694d5cc3eb44a7cbbe970188d30cd9e": {
      "model_module": "@jupyter-widgets/controls",
      "model_module_version": "1.5.0",
      "model_name": "DescriptionStyleModel",
      "state": {
       "_model_module": "@jupyter-widgets/controls",
       "_model_module_version": "1.5.0",
       "_model_name": "DescriptionStyleModel",
       "_view_count": null,
       "_view_module": "@jupyter-widgets/base",
       "_view_module_version": "1.2.0",
       "_view_name": "StyleView",
       "description_width": ""
      }
     },
     "46f60f5a50e4441bbad382d922d29940": {
      "model_module": "@jupyter-widgets/controls",
      "model_module_version": "1.5.0",
      "model_name": "HTMLModel",
      "state": {
       "_dom_classes": [],
       "_model_module": "@jupyter-widgets/controls",
       "_model_module_version": "1.5.0",
       "_model_name": "HTMLModel",
       "_view_count": null,
       "_view_module": "@jupyter-widgets/controls",
       "_view_module_version": "1.5.0",
       "_view_name": "HTMLView",
       "description": "",
       "description_tooltip": null,
       "layout": "IPY_MODEL_a2865062a1864e52ace1b8a4ec7db1a4",
       "placeholder": "​",
       "style": "IPY_MODEL_cdcf1dd115b6414faef441e65fb9deab",
       "value": "spiece.model: 100%"
      }
     },
     "47f7474abb784a76adb77de7b767dcd0": {
      "model_module": "@jupyter-widgets/base",
      "model_module_version": "1.2.0",
      "model_name": "LayoutModel",
      "state": {
       "_model_module": "@jupyter-widgets/base",
       "_model_module_version": "1.2.0",
       "_model_name": "LayoutModel",
       "_view_count": null,
       "_view_module": "@jupyter-widgets/base",
       "_view_module_version": "1.2.0",
       "_view_name": "LayoutView",
       "align_content": null,
       "align_items": null,
       "align_self": null,
       "border": null,
       "bottom": null,
       "display": null,
       "flex": null,
       "flex_flow": null,
       "grid_area": null,
       "grid_auto_columns": null,
       "grid_auto_flow": null,
       "grid_auto_rows": null,
       "grid_column": null,
       "grid_gap": null,
       "grid_row": null,
       "grid_template_areas": null,
       "grid_template_columns": null,
       "grid_template_rows": null,
       "height": null,
       "justify_content": null,
       "justify_items": null,
       "left": null,
       "margin": null,
       "max_height": null,
       "max_width": null,
       "min_height": null,
       "min_width": null,
       "object_fit": null,
       "object_position": null,
       "order": null,
       "overflow": null,
       "overflow_x": null,
       "overflow_y": null,
       "padding": null,
       "right": null,
       "top": null,
       "visibility": null,
       "width": null
      }
     },
     "4a00a2ee1b4c4c939f103b9f74133240": {
      "model_module": "@jupyter-widgets/base",
      "model_module_version": "1.2.0",
      "model_name": "LayoutModel",
      "state": {
       "_model_module": "@jupyter-widgets/base",
       "_model_module_version": "1.2.0",
       "_model_name": "LayoutModel",
       "_view_count": null,
       "_view_module": "@jupyter-widgets/base",
       "_view_module_version": "1.2.0",
       "_view_name": "LayoutView",
       "align_content": null,
       "align_items": null,
       "align_self": null,
       "border": null,
       "bottom": null,
       "display": null,
       "flex": null,
       "flex_flow": null,
       "grid_area": null,
       "grid_auto_columns": null,
       "grid_auto_flow": null,
       "grid_auto_rows": null,
       "grid_column": null,
       "grid_gap": null,
       "grid_row": null,
       "grid_template_areas": null,
       "grid_template_columns": null,
       "grid_template_rows": null,
       "height": null,
       "justify_content": null,
       "justify_items": null,
       "left": null,
       "margin": null,
       "max_height": null,
       "max_width": null,
       "min_height": null,
       "min_width": null,
       "object_fit": null,
       "object_position": null,
       "order": null,
       "overflow": null,
       "overflow_x": null,
       "overflow_y": null,
       "padding": null,
       "right": null,
       "top": null,
       "visibility": null,
       "width": null
      }
     },
     "4a68d9081e514d74a418a85a9e73486d": {
      "model_module": "@jupyter-widgets/base",
      "model_module_version": "1.2.0",
      "model_name": "LayoutModel",
      "state": {
       "_model_module": "@jupyter-widgets/base",
       "_model_module_version": "1.2.0",
       "_model_name": "LayoutModel",
       "_view_count": null,
       "_view_module": "@jupyter-widgets/base",
       "_view_module_version": "1.2.0",
       "_view_name": "LayoutView",
       "align_content": null,
       "align_items": null,
       "align_self": null,
       "border": null,
       "bottom": null,
       "display": null,
       "flex": null,
       "flex_flow": null,
       "grid_area": null,
       "grid_auto_columns": null,
       "grid_auto_flow": null,
       "grid_auto_rows": null,
       "grid_column": null,
       "grid_gap": null,
       "grid_row": null,
       "grid_template_areas": null,
       "grid_template_columns": null,
       "grid_template_rows": null,
       "height": null,
       "justify_content": null,
       "justify_items": null,
       "left": null,
       "margin": null,
       "max_height": null,
       "max_width": null,
       "min_height": null,
       "min_width": null,
       "object_fit": null,
       "object_position": null,
       "order": null,
       "overflow": null,
       "overflow_x": null,
       "overflow_y": null,
       "padding": null,
       "right": null,
       "top": null,
       "visibility": null,
       "width": null
      }
     },
     "4ba5440e7e28440cad01d4f292d5fce5": {
      "model_module": "@jupyter-widgets/controls",
      "model_module_version": "1.5.0",
      "model_name": "HBoxModel",
      "state": {
       "_dom_classes": [],
       "_model_module": "@jupyter-widgets/controls",
       "_model_module_version": "1.5.0",
       "_model_name": "HBoxModel",
       "_view_count": null,
       "_view_module": "@jupyter-widgets/controls",
       "_view_module_version": "1.5.0",
       "_view_name": "HBoxView",
       "box_style": "",
       "children": [
        "IPY_MODEL_014112cfd82341f594bf026dd8c66102",
        "IPY_MODEL_f42a6c6a28ae40989360171f245ecd53",
        "IPY_MODEL_1b36d03b791e48c0b52162d9d733be6d"
       ],
       "layout": "IPY_MODEL_81fd25cd271049338b646c9d7649d1b3"
      }
     },
     "50c314126b5c47ac8ca66d486ee76f88": {
      "model_module": "@jupyter-widgets/controls",
      "model_module_version": "1.5.0",
      "model_name": "DescriptionStyleModel",
      "state": {
       "_model_module": "@jupyter-widgets/controls",
       "_model_module_version": "1.5.0",
       "_model_name": "DescriptionStyleModel",
       "_view_count": null,
       "_view_module": "@jupyter-widgets/base",
       "_view_module_version": "1.2.0",
       "_view_name": "StyleView",
       "description_width": ""
      }
     },
     "5326f8e0985a45219eb885bdfc4bb753": {
      "model_module": "@jupyter-widgets/base",
      "model_module_version": "1.2.0",
      "model_name": "LayoutModel",
      "state": {
       "_model_module": "@jupyter-widgets/base",
       "_model_module_version": "1.2.0",
       "_model_name": "LayoutModel",
       "_view_count": null,
       "_view_module": "@jupyter-widgets/base",
       "_view_module_version": "1.2.0",
       "_view_name": "LayoutView",
       "align_content": null,
       "align_items": null,
       "align_self": null,
       "border": null,
       "bottom": null,
       "display": null,
       "flex": null,
       "flex_flow": null,
       "grid_area": null,
       "grid_auto_columns": null,
       "grid_auto_flow": null,
       "grid_auto_rows": null,
       "grid_column": null,
       "grid_gap": null,
       "grid_row": null,
       "grid_template_areas": null,
       "grid_template_columns": null,
       "grid_template_rows": null,
       "height": null,
       "justify_content": null,
       "justify_items": null,
       "left": null,
       "margin": null,
       "max_height": null,
       "max_width": null,
       "min_height": null,
       "min_width": null,
       "object_fit": null,
       "object_position": null,
       "order": null,
       "overflow": null,
       "overflow_x": null,
       "overflow_y": null,
       "padding": null,
       "right": null,
       "top": null,
       "visibility": null,
       "width": null
      }
     },
     "538dab0a309842e29c9a29cd260579ba": {
      "model_module": "@jupyter-widgets/controls",
      "model_module_version": "1.5.0",
      "model_name": "ProgressStyleModel",
      "state": {
       "_model_module": "@jupyter-widgets/controls",
       "_model_module_version": "1.5.0",
       "_model_name": "ProgressStyleModel",
       "_view_count": null,
       "_view_module": "@jupyter-widgets/base",
       "_view_module_version": "1.2.0",
       "_view_name": "StyleView",
       "bar_color": null,
       "description_width": ""
      }
     },
     "560eb3a7e62342c6b75240c9addfefe3": {
      "model_module": "@jupyter-widgets/controls",
      "model_module_version": "1.5.0",
      "model_name": "HTMLModel",
      "state": {
       "_dom_classes": [],
       "_model_module": "@jupyter-widgets/controls",
       "_model_module_version": "1.5.0",
       "_model_name": "HTMLModel",
       "_view_count": null,
       "_view_module": "@jupyter-widgets/controls",
       "_view_module_version": "1.5.0",
       "_view_name": "HTMLView",
       "description": "",
       "description_tooltip": null,
       "layout": "IPY_MODEL_0e4905ecc98e4813b31eadbae76f618d",
       "placeholder": "​",
       "style": "IPY_MODEL_715703fb3b5b4385959db34612bbdd02",
       "value": " 6.27k/6.27k [00:00&lt;00:00, 401kB/s]"
      }
     },
     "58db1f3b42054052812a1a62ecf58738": {
      "model_module": "@jupyter-widgets/base",
      "model_module_version": "1.2.0",
      "model_name": "LayoutModel",
      "state": {
       "_model_module": "@jupyter-widgets/base",
       "_model_module_version": "1.2.0",
       "_model_name": "LayoutModel",
       "_view_count": null,
       "_view_module": "@jupyter-widgets/base",
       "_view_module_version": "1.2.0",
       "_view_name": "LayoutView",
       "align_content": null,
       "align_items": null,
       "align_self": null,
       "border": null,
       "bottom": null,
       "display": null,
       "flex": null,
       "flex_flow": null,
       "grid_area": null,
       "grid_auto_columns": null,
       "grid_auto_flow": null,
       "grid_auto_rows": null,
       "grid_column": null,
       "grid_gap": null,
       "grid_row": null,
       "grid_template_areas": null,
       "grid_template_columns": null,
       "grid_template_rows": null,
       "height": null,
       "justify_content": null,
       "justify_items": null,
       "left": null,
       "margin": null,
       "max_height": null,
       "max_width": null,
       "min_height": null,
       "min_width": null,
       "object_fit": null,
       "object_position": null,
       "order": null,
       "overflow": null,
       "overflow_x": null,
       "overflow_y": null,
       "padding": null,
       "right": null,
       "top": null,
       "visibility": null,
       "width": null
      }
     },
     "5aba0dba393147e6a2543bf0b4d76171": {
      "model_module": "@jupyter-widgets/base",
      "model_module_version": "1.2.0",
      "model_name": "LayoutModel",
      "state": {
       "_model_module": "@jupyter-widgets/base",
       "_model_module_version": "1.2.0",
       "_model_name": "LayoutModel",
       "_view_count": null,
       "_view_module": "@jupyter-widgets/base",
       "_view_module_version": "1.2.0",
       "_view_name": "LayoutView",
       "align_content": null,
       "align_items": null,
       "align_self": null,
       "border": null,
       "bottom": null,
       "display": null,
       "flex": null,
       "flex_flow": null,
       "grid_area": null,
       "grid_auto_columns": null,
       "grid_auto_flow": null,
       "grid_auto_rows": null,
       "grid_column": null,
       "grid_gap": null,
       "grid_row": null,
       "grid_template_areas": null,
       "grid_template_columns": null,
       "grid_template_rows": null,
       "height": null,
       "justify_content": null,
       "justify_items": null,
       "left": null,
       "margin": null,
       "max_height": null,
       "max_width": null,
       "min_height": null,
       "min_width": null,
       "object_fit": null,
       "object_position": null,
       "order": null,
       "overflow": null,
       "overflow_x": null,
       "overflow_y": null,
       "padding": null,
       "right": null,
       "top": null,
       "visibility": null,
       "width": null
      }
     },
     "5ca1a25eceb14bea99bbdd4d4d51a026": {
      "model_module": "@jupyter-widgets/controls",
      "model_module_version": "1.5.0",
      "model_name": "HTMLModel",
      "state": {
       "_dom_classes": [],
       "_model_module": "@jupyter-widgets/controls",
       "_model_module_version": "1.5.0",
       "_model_name": "HTMLModel",
       "_view_count": null,
       "_view_module": "@jupyter-widgets/controls",
       "_view_module_version": "1.5.0",
       "_view_name": "HTMLView",
       "description": "",
       "description_tooltip": null,
       "layout": "IPY_MODEL_5326f8e0985a45219eb885bdfc4bb753",
       "placeholder": "​",
       "style": "IPY_MODEL_3faeb9430eea414ba10a8063c5be5ae7",
       "value": "generation_config.json: 100%"
      }
     },
     "62798a7a64184d3b94d34400c2df4a80": {
      "model_module": "@jupyter-widgets/controls",
      "model_module_version": "1.5.0",
      "model_name": "HTMLModel",
      "state": {
       "_dom_classes": [],
       "_model_module": "@jupyter-widgets/controls",
       "_model_module_version": "1.5.0",
       "_model_name": "HTMLModel",
       "_view_count": null,
       "_view_module": "@jupyter-widgets/controls",
       "_view_module_version": "1.5.0",
       "_view_name": "HTMLView",
       "description": "",
       "description_tooltip": null,
       "layout": "IPY_MODEL_05576d8812fe494e8cfcbd7f06b8c4ff",
       "placeholder": "​",
       "style": "IPY_MODEL_13b21c821c24483ba5235aa9d94c36ce",
       "value": " 147/147 [00:00&lt;00:00, 12.2kB/s]"
      }
     },
     "62a5e0dbede44c1a924b1ff1bb602b06": {
      "model_module": "@jupyter-widgets/controls",
      "model_module_version": "1.5.0",
      "model_name": "FloatProgressModel",
      "state": {
       "_dom_classes": [],
       "_model_module": "@jupyter-widgets/controls",
       "_model_module_version": "1.5.0",
       "_model_name": "FloatProgressModel",
       "_view_count": null,
       "_view_module": "@jupyter-widgets/controls",
       "_view_module_version": "1.5.0",
       "_view_name": "ProgressView",
       "bar_style": "success",
       "description": "",
       "description_tooltip": null,
       "layout": "IPY_MODEL_1729f2c7d8b44843aae2eacdf00e1dec",
       "max": 65.0,
       "min": 0.0,
       "orientation": "horizontal",
       "style": "IPY_MODEL_de792996209a4663935116521a29286f",
       "value": 65.0
      }
     },
     "6391d846133c40c7857e9f4703b03ebf": {
      "model_module": "@jupyter-widgets/controls",
      "model_module_version": "1.5.0",
      "model_name": "FloatProgressModel",
      "state": {
       "_dom_classes": [],
       "_model_module": "@jupyter-widgets/controls",
       "_model_module_version": "1.5.0",
       "_model_name": "FloatProgressModel",
       "_view_count": null,
       "_view_module": "@jupyter-widgets/controls",
       "_view_module_version": "1.5.0",
       "_view_name": "ProgressView",
       "bar_style": "success",
       "description": "",
       "description_tooltip": null,
       "layout": "IPY_MODEL_fbe84fc1b9534f459d278a4c563a259c",
       "max": 702.0,
       "min": 0.0,
       "orientation": "horizontal",
       "style": "IPY_MODEL_354a6cf25c814ca893c5f095a81aa1df",
       "value": 702.0
      }
     },
     "64447a5f380a4b3fa05ee01d44eda98e": {
      "model_module": "@jupyter-widgets/controls",
      "model_module_version": "1.5.0",
      "model_name": "HBoxModel",
      "state": {
       "_dom_classes": [],
       "_model_module": "@jupyter-widgets/controls",
       "_model_module_version": "1.5.0",
       "_model_name": "HBoxModel",
       "_view_count": null,
       "_view_module": "@jupyter-widgets/controls",
       "_view_module_version": "1.5.0",
       "_view_name": "HBoxView",
       "box_style": "",
       "children": [
        "IPY_MODEL_1378965af58b4813b56258469dd264c0",
        "IPY_MODEL_62a5e0dbede44c1a924b1ff1bb602b06",
        "IPY_MODEL_1ed9ea7b22df4982a12fbf448d39cf67"
       ],
       "layout": "IPY_MODEL_0d77bc5b0da54a4e93b17d4d70ccfb09"
      }
     },
     "653e45491f93465399bcb3c997764a49": {
      "model_module": "@jupyter-widgets/base",
      "model_module_version": "1.2.0",
      "model_name": "LayoutModel",
      "state": {
       "_model_module": "@jupyter-widgets/base",
       "_model_module_version": "1.2.0",
       "_model_name": "LayoutModel",
       "_view_count": null,
       "_view_module": "@jupyter-widgets/base",
       "_view_module_version": "1.2.0",
       "_view_name": "LayoutView",
       "align_content": null,
       "align_items": null,
       "align_self": null,
       "border": null,
       "bottom": null,
       "display": null,
       "flex": null,
       "flex_flow": null,
       "grid_area": null,
       "grid_auto_columns": null,
       "grid_auto_flow": null,
       "grid_auto_rows": null,
       "grid_column": null,
       "grid_gap": null,
       "grid_row": null,
       "grid_template_areas": null,
       "grid_template_columns": null,
       "grid_template_rows": null,
       "height": null,
       "justify_content": null,
       "justify_items": null,
       "left": null,
       "margin": null,
       "max_height": null,
       "max_width": null,
       "min_height": null,
       "min_width": null,
       "object_fit": null,
       "object_position": null,
       "order": null,
       "overflow": null,
       "overflow_x": null,
       "overflow_y": null,
       "padding": null,
       "right": null,
       "top": null,
       "visibility": null,
       "width": null
      }
     },
     "668a6621bb8d4f16977e9b8e6019639c": {
      "model_module": "@jupyter-widgets/base",
      "model_module_version": "1.2.0",
      "model_name": "LayoutModel",
      "state": {
       "_model_module": "@jupyter-widgets/base",
       "_model_module_version": "1.2.0",
       "_model_name": "LayoutModel",
       "_view_count": null,
       "_view_module": "@jupyter-widgets/base",
       "_view_module_version": "1.2.0",
       "_view_name": "LayoutView",
       "align_content": null,
       "align_items": null,
       "align_self": null,
       "border": null,
       "bottom": null,
       "display": null,
       "flex": null,
       "flex_flow": null,
       "grid_area": null,
       "grid_auto_columns": null,
       "grid_auto_flow": null,
       "grid_auto_rows": null,
       "grid_column": null,
       "grid_gap": null,
       "grid_row": null,
       "grid_template_areas": null,
       "grid_template_columns": null,
       "grid_template_rows": null,
       "height": null,
       "justify_content": null,
       "justify_items": null,
       "left": null,
       "margin": null,
       "max_height": null,
       "max_width": null,
       "min_height": null,
       "min_width": null,
       "object_fit": null,
       "object_position": null,
       "order": null,
       "overflow": null,
       "overflow_x": null,
       "overflow_y": null,
       "padding": null,
       "right": null,
       "top": null,
       "visibility": null,
       "width": null
      }
     },
     "6994b86bf1c642d9b2943739e674a3e4": {
      "model_module": "@jupyter-widgets/controls",
      "model_module_version": "1.5.0",
      "model_name": "HBoxModel",
      "state": {
       "_dom_classes": [],
       "_model_module": "@jupyter-widgets/controls",
       "_model_module_version": "1.5.0",
       "_model_name": "HBoxModel",
       "_view_count": null,
       "_view_module": "@jupyter-widgets/controls",
       "_view_module_version": "1.5.0",
       "_view_name": "HBoxView",
       "box_style": "",
       "children": [
        "IPY_MODEL_5ca1a25eceb14bea99bbdd4d4d51a026",
        "IPY_MODEL_9cc9012a550244fb90c3b07ebc3d16e5",
        "IPY_MODEL_62798a7a64184d3b94d34400c2df4a80"
       ],
       "layout": "IPY_MODEL_47f7474abb784a76adb77de7b767dcd0"
      }
     },
     "69dacea988fa4f73b301d867897c7c01": {
      "model_module": "@jupyter-widgets/controls",
      "model_module_version": "1.5.0",
      "model_name": "HTMLModel",
      "state": {
       "_dom_classes": [],
       "_model_module": "@jupyter-widgets/controls",
       "_model_module_version": "1.5.0",
       "_model_name": "HTMLModel",
       "_view_count": null,
       "_view_module": "@jupyter-widgets/controls",
       "_view_module_version": "1.5.0",
       "_view_name": "HTMLView",
       "description": "",
       "description_tooltip": null,
       "layout": "IPY_MODEL_8fc23bd8dff34251a77c4d6987bee30e",
       "placeholder": "​",
       "style": "IPY_MODEL_d70e68d4e6e646aa98a6bfb0eabcb297",
       "value": " 2.33G/2.33G [00:11&lt;00:00, 199MB/s]"
      }
     },
     "6c46e5a9faf74ba6916aecb42f899396": {
      "model_module": "@jupyter-widgets/base",
      "model_module_version": "1.2.0",
      "model_name": "LayoutModel",
      "state": {
       "_model_module": "@jupyter-widgets/base",
       "_model_module_version": "1.2.0",
       "_model_name": "LayoutModel",
       "_view_count": null,
       "_view_module": "@jupyter-widgets/base",
       "_view_module_version": "1.2.0",
       "_view_name": "LayoutView",
       "align_content": null,
       "align_items": null,
       "align_self": null,
       "border": null,
       "bottom": null,
       "display": null,
       "flex": null,
       "flex_flow": null,
       "grid_area": null,
       "grid_auto_columns": null,
       "grid_auto_flow": null,
       "grid_auto_rows": null,
       "grid_column": null,
       "grid_gap": null,
       "grid_row": null,
       "grid_template_areas": null,
       "grid_template_columns": null,
       "grid_template_rows": null,
       "height": null,
       "justify_content": null,
       "justify_items": null,
       "left": null,
       "margin": null,
       "max_height": null,
       "max_width": null,
       "min_height": null,
       "min_width": null,
       "object_fit": null,
       "object_position": null,
       "order": null,
       "overflow": null,
       "overflow_x": null,
       "overflow_y": null,
       "padding": null,
       "right": null,
       "top": null,
       "visibility": null,
       "width": null
      }
     },
     "6cd19517671f46c6976289150576bea0": {
      "model_module": "@jupyter-widgets/base",
      "model_module_version": "1.2.0",
      "model_name": "LayoutModel",
      "state": {
       "_model_module": "@jupyter-widgets/base",
       "_model_module_version": "1.2.0",
       "_model_name": "LayoutModel",
       "_view_count": null,
       "_view_module": "@jupyter-widgets/base",
       "_view_module_version": "1.2.0",
       "_view_name": "LayoutView",
       "align_content": null,
       "align_items": null,
       "align_self": null,
       "border": null,
       "bottom": null,
       "display": null,
       "flex": null,
       "flex_flow": null,
       "grid_area": null,
       "grid_auto_columns": null,
       "grid_auto_flow": null,
       "grid_auto_rows": null,
       "grid_column": null,
       "grid_gap": null,
       "grid_row": null,
       "grid_template_areas": null,
       "grid_template_columns": null,
       "grid_template_rows": null,
       "height": null,
       "justify_content": null,
       "justify_items": null,
       "left": null,
       "margin": null,
       "max_height": null,
       "max_width": null,
       "min_height": null,
       "min_width": null,
       "object_fit": null,
       "object_position": null,
       "order": null,
       "overflow": null,
       "overflow_x": null,
       "overflow_y": null,
       "padding": null,
       "right": null,
       "top": null,
       "visibility": null,
       "width": null
      }
     },
     "6e3cb4fb6ac5481ea530fbd5a34c69e0": {
      "model_module": "@jupyter-widgets/controls",
      "model_module_version": "1.5.0",
      "model_name": "HTMLModel",
      "state": {
       "_dom_classes": [],
       "_model_module": "@jupyter-widgets/controls",
       "_model_module_version": "1.5.0",
       "_model_name": "HTMLModel",
       "_view_count": null,
       "_view_module": "@jupyter-widgets/controls",
       "_view_module_version": "1.5.0",
       "_view_name": "HTMLView",
       "description": "",
       "description_tooltip": null,
       "layout": "IPY_MODEL_6cd19517671f46c6976289150576bea0",
       "placeholder": "​",
       "style": "IPY_MODEL_25d3fce0511244a6ab84533b44730749",
       "value": " 1061/1061 [00:03&lt;00:00, 289.86 examples/s]"
      }
     },
     "715703fb3b5b4385959db34612bbdd02": {
      "model_module": "@jupyter-widgets/controls",
      "model_module_version": "1.5.0",
      "model_name": "DescriptionStyleModel",
      "state": {
       "_model_module": "@jupyter-widgets/controls",
       "_model_module_version": "1.5.0",
       "_model_name": "DescriptionStyleModel",
       "_view_count": null,
       "_view_module": "@jupyter-widgets/base",
       "_view_module_version": "1.2.0",
       "_view_name": "StyleView",
       "description_width": ""
      }
     },
     "7203fb444dc14b3eb559fc8a7e3b9de7": {
      "model_module": "@jupyter-widgets/base",
      "model_module_version": "1.2.0",
      "model_name": "LayoutModel",
      "state": {
       "_model_module": "@jupyter-widgets/base",
       "_model_module_version": "1.2.0",
       "_model_name": "LayoutModel",
       "_view_count": null,
       "_view_module": "@jupyter-widgets/base",
       "_view_module_version": "1.2.0",
       "_view_name": "LayoutView",
       "align_content": null,
       "align_items": null,
       "align_self": null,
       "border": null,
       "bottom": null,
       "display": null,
       "flex": null,
       "flex_flow": null,
       "grid_area": null,
       "grid_auto_columns": null,
       "grid_auto_flow": null,
       "grid_auto_rows": null,
       "grid_column": null,
       "grid_gap": null,
       "grid_row": null,
       "grid_template_areas": null,
       "grid_template_columns": null,
       "grid_template_rows": null,
       "height": null,
       "justify_content": null,
       "justify_items": null,
       "left": null,
       "margin": null,
       "max_height": null,
       "max_width": null,
       "min_height": null,
       "min_width": null,
       "object_fit": null,
       "object_position": null,
       "order": null,
       "overflow": null,
       "overflow_x": null,
       "overflow_y": null,
       "padding": null,
       "right": null,
       "top": null,
       "visibility": null,
       "width": null
      }
     },
     "722883b0e0f846749efe781a1dc749c9": {
      "model_module": "@jupyter-widgets/base",
      "model_module_version": "1.2.0",
      "model_name": "LayoutModel",
      "state": {
       "_model_module": "@jupyter-widgets/base",
       "_model_module_version": "1.2.0",
       "_model_name": "LayoutModel",
       "_view_count": null,
       "_view_module": "@jupyter-widgets/base",
       "_view_module_version": "1.2.0",
       "_view_name": "LayoutView",
       "align_content": null,
       "align_items": null,
       "align_self": null,
       "border": null,
       "bottom": null,
       "display": null,
       "flex": null,
       "flex_flow": null,
       "grid_area": null,
       "grid_auto_columns": null,
       "grid_auto_flow": null,
       "grid_auto_rows": null,
       "grid_column": null,
       "grid_gap": null,
       "grid_row": null,
       "grid_template_areas": null,
       "grid_template_columns": null,
       "grid_template_rows": null,
       "height": null,
       "justify_content": null,
       "justify_items": null,
       "left": null,
       "margin": null,
       "max_height": null,
       "max_width": null,
       "min_height": null,
       "min_width": null,
       "object_fit": null,
       "object_position": null,
       "order": null,
       "overflow": null,
       "overflow_x": null,
       "overflow_y": null,
       "padding": null,
       "right": null,
       "top": null,
       "visibility": null,
       "width": null
      }
     },
     "75b8aedccc6a4c1f86c4daad047796a7": {
      "model_module": "@jupyter-widgets/base",
      "model_module_version": "1.2.0",
      "model_name": "LayoutModel",
      "state": {
       "_model_module": "@jupyter-widgets/base",
       "_model_module_version": "1.2.0",
       "_model_name": "LayoutModel",
       "_view_count": null,
       "_view_module": "@jupyter-widgets/base",
       "_view_module_version": "1.2.0",
       "_view_name": "LayoutView",
       "align_content": null,
       "align_items": null,
       "align_self": null,
       "border": null,
       "bottom": null,
       "display": null,
       "flex": null,
       "flex_flow": null,
       "grid_area": null,
       "grid_auto_columns": null,
       "grid_auto_flow": null,
       "grid_auto_rows": null,
       "grid_column": null,
       "grid_gap": null,
       "grid_row": null,
       "grid_template_areas": null,
       "grid_template_columns": null,
       "grid_template_rows": null,
       "height": null,
       "justify_content": null,
       "justify_items": null,
       "left": null,
       "margin": null,
       "max_height": null,
       "max_width": null,
       "min_height": null,
       "min_width": null,
       "object_fit": null,
       "object_position": null,
       "order": null,
       "overflow": null,
       "overflow_x": null,
       "overflow_y": null,
       "padding": null,
       "right": null,
       "top": null,
       "visibility": null,
       "width": null
      }
     },
     "7734714f6acf488f8464bf5c39bd23b1": {
      "model_module": "@jupyter-widgets/base",
      "model_module_version": "1.2.0",
      "model_name": "LayoutModel",
      "state": {
       "_model_module": "@jupyter-widgets/base",
       "_model_module_version": "1.2.0",
       "_model_name": "LayoutModel",
       "_view_count": null,
       "_view_module": "@jupyter-widgets/base",
       "_view_module_version": "1.2.0",
       "_view_name": "LayoutView",
       "align_content": null,
       "align_items": null,
       "align_self": null,
       "border": null,
       "bottom": null,
       "display": null,
       "flex": null,
       "flex_flow": null,
       "grid_area": null,
       "grid_auto_columns": null,
       "grid_auto_flow": null,
       "grid_auto_rows": null,
       "grid_column": null,
       "grid_gap": null,
       "grid_row": null,
       "grid_template_areas": null,
       "grid_template_columns": null,
       "grid_template_rows": null,
       "height": null,
       "justify_content": null,
       "justify_items": null,
       "left": null,
       "margin": null,
       "max_height": null,
       "max_width": null,
       "min_height": null,
       "min_width": null,
       "object_fit": null,
       "object_position": null,
       "order": null,
       "overflow": null,
       "overflow_x": null,
       "overflow_y": null,
       "padding": null,
       "right": null,
       "top": null,
       "visibility": null,
       "width": null
      }
     },
     "787a31402a994b028bf1c0d67558ea09": {
      "model_module": "@jupyter-widgets/controls",
      "model_module_version": "1.5.0",
      "model_name": "DescriptionStyleModel",
      "state": {
       "_model_module": "@jupyter-widgets/controls",
       "_model_module_version": "1.5.0",
       "_model_name": "DescriptionStyleModel",
       "_view_count": null,
       "_view_module": "@jupyter-widgets/base",
       "_view_module_version": "1.2.0",
       "_view_name": "StyleView",
       "description_width": ""
      }
     },
     "7f4b009d6c7c4058993f39dfbdc40e05": {
      "model_module": "@jupyter-widgets/controls",
      "model_module_version": "1.5.0",
      "model_name": "HBoxModel",
      "state": {
       "_dom_classes": [],
       "_model_module": "@jupyter-widgets/controls",
       "_model_module_version": "1.5.0",
       "_model_name": "HBoxModel",
       "_view_count": null,
       "_view_module": "@jupyter-widgets/controls",
       "_view_module_version": "1.5.0",
       "_view_name": "HBoxView",
       "box_style": "",
       "children": [
        "IPY_MODEL_1709f8e20efd4c49896119f85c76e3f7",
        "IPY_MODEL_a2f5a3f137a7480baf14a1e18b72da92",
        "IPY_MODEL_6e3cb4fb6ac5481ea530fbd5a34c69e0"
       ],
       "layout": "IPY_MODEL_07ac8cecb6ee492ba98804eaf5ef7da6"
      }
     },
     "8011b695a0b4498ebf902440cde042bd": {
      "model_module": "@jupyter-widgets/controls",
      "model_module_version": "1.5.0",
      "model_name": "FloatProgressModel",
      "state": {
       "_dom_classes": [],
       "_model_module": "@jupyter-widgets/controls",
       "_model_module_version": "1.5.0",
       "_model_name": "FloatProgressModel",
       "_view_count": null,
       "_view_module": "@jupyter-widgets/controls",
       "_view_module_version": "1.5.0",
       "_view_name": "ProgressView",
       "bar_style": "success",
       "description": "",
       "description_tooltip": null,
       "layout": "IPY_MODEL_d9c0e7f5dee64c89bb07b9892d3bbc53",
       "max": 1061.0,
       "min": 0.0,
       "orientation": "horizontal",
       "style": "IPY_MODEL_c9ca027ee9d0495d9cee77564aadb5d8",
       "value": 1061.0
      }
     },
     "81fd25cd271049338b646c9d7649d1b3": {
      "model_module": "@jupyter-widgets/base",
      "model_module_version": "1.2.0",
      "model_name": "LayoutModel",
      "state": {
       "_model_module": "@jupyter-widgets/base",
       "_model_module_version": "1.2.0",
       "_model_name": "LayoutModel",
       "_view_count": null,
       "_view_module": "@jupyter-widgets/base",
       "_view_module_version": "1.2.0",
       "_view_name": "LayoutView",
       "align_content": null,
       "align_items": null,
       "align_self": null,
       "border": null,
       "bottom": null,
       "display": null,
       "flex": null,
       "flex_flow": null,
       "grid_area": null,
       "grid_auto_columns": null,
       "grid_auto_flow": null,
       "grid_auto_rows": null,
       "grid_column": null,
       "grid_gap": null,
       "grid_row": null,
       "grid_template_areas": null,
       "grid_template_columns": null,
       "grid_template_rows": null,
       "height": null,
       "justify_content": null,
       "justify_items": null,
       "left": null,
       "margin": null,
       "max_height": null,
       "max_width": null,
       "min_height": null,
       "min_width": null,
       "object_fit": null,
       "object_position": null,
       "order": null,
       "overflow": null,
       "overflow_x": null,
       "overflow_y": null,
       "padding": null,
       "right": null,
       "top": null,
       "visibility": null,
       "width": null
      }
     },
     "8763972e970747e390aa3f1457492538": {
      "model_module": "@jupyter-widgets/controls",
      "model_module_version": "1.5.0",
      "model_name": "HTMLModel",
      "state": {
       "_dom_classes": [],
       "_model_module": "@jupyter-widgets/controls",
       "_model_module_version": "1.5.0",
       "_model_name": "HTMLModel",
       "_view_count": null,
       "_view_module": "@jupyter-widgets/controls",
       "_view_module_version": "1.5.0",
       "_view_name": "HTMLView",
       "description": "",
       "description_tooltip": null,
       "layout": "IPY_MODEL_75b8aedccc6a4c1f86c4daad047796a7",
       "placeholder": "​",
       "style": "IPY_MODEL_0f535d7126e94506a94760f8df5a3dee",
       "value": " 1061/1061 [00:00&lt;00:00, 17298.75 examples/s]"
      }
     },
     "8c54c365ef1447489c30459f712a240c": {
      "model_module": "@jupyter-widgets/controls",
      "model_module_version": "1.5.0",
      "model_name": "HBoxModel",
      "state": {
       "_dom_classes": [],
       "_model_module": "@jupyter-widgets/controls",
       "_model_module_version": "1.5.0",
       "_model_name": "HBoxModel",
       "_view_count": null,
       "_view_module": "@jupyter-widgets/controls",
       "_view_module_version": "1.5.0",
       "_view_name": "HBoxView",
       "box_style": "",
       "children": [
        "IPY_MODEL_1c2af1feecea4eea8269b4b11ab79a24",
        "IPY_MODEL_6391d846133c40c7857e9f4703b03ebf",
        "IPY_MODEL_e8a36beaba48479994c4a6dad25d991d"
       ],
       "layout": "IPY_MODEL_7203fb444dc14b3eb559fc8a7e3b9de7"
      }
     },
     "8eabe1c5af324f6380b8bfb10df250b1": {
      "model_module": "@jupyter-widgets/controls",
      "model_module_version": "1.5.0",
      "model_name": "DescriptionStyleModel",
      "state": {
       "_model_module": "@jupyter-widgets/controls",
       "_model_module_version": "1.5.0",
       "_model_name": "DescriptionStyleModel",
       "_view_count": null,
       "_view_module": "@jupyter-widgets/base",
       "_view_module_version": "1.2.0",
       "_view_name": "StyleView",
       "description_width": ""
      }
     },
     "8fc23bd8dff34251a77c4d6987bee30e": {
      "model_module": "@jupyter-widgets/base",
      "model_module_version": "1.2.0",
      "model_name": "LayoutModel",
      "state": {
       "_model_module": "@jupyter-widgets/base",
       "_model_module_version": "1.2.0",
       "_model_name": "LayoutModel",
       "_view_count": null,
       "_view_module": "@jupyter-widgets/base",
       "_view_module_version": "1.2.0",
       "_view_name": "LayoutView",
       "align_content": null,
       "align_items": null,
       "align_self": null,
       "border": null,
       "bottom": null,
       "display": null,
       "flex": null,
       "flex_flow": null,
       "grid_area": null,
       "grid_auto_columns": null,
       "grid_auto_flow": null,
       "grid_auto_rows": null,
       "grid_column": null,
       "grid_gap": null,
       "grid_row": null,
       "grid_template_areas": null,
       "grid_template_columns": null,
       "grid_template_rows": null,
       "height": null,
       "justify_content": null,
       "justify_items": null,
       "left": null,
       "margin": null,
       "max_height": null,
       "max_width": null,
       "min_height": null,
       "min_width": null,
       "object_fit": null,
       "object_position": null,
       "order": null,
       "overflow": null,
       "overflow_x": null,
       "overflow_y": null,
       "padding": null,
       "right": null,
       "top": null,
       "visibility": null,
       "width": null
      }
     },
     "903fa24d61504e0aafabad1cba7a9530": {
      "model_module": "@jupyter-widgets/controls",
      "model_module_version": "1.5.0",
      "model_name": "FloatProgressModel",
      "state": {
       "_dom_classes": [],
       "_model_module": "@jupyter-widgets/controls",
       "_model_module_version": "1.5.0",
       "_model_name": "FloatProgressModel",
       "_view_count": null,
       "_view_module": "@jupyter-widgets/controls",
       "_view_module_version": "1.5.0",
       "_view_name": "ProgressView",
       "bar_style": "success",
       "description": "",
       "description_tooltip": null,
       "layout": "IPY_MODEL_7734714f6acf488f8464bf5c39bd23b1",
       "max": 376.0,
       "min": 0.0,
       "orientation": "horizontal",
       "style": "IPY_MODEL_e1b50c2cd3214d158f69f66c639d462f",
       "value": 376.0
      }
     },
     "92139806a2294172abee9e39f2c4d96f": {
      "model_module": "@jupyter-widgets/controls",
      "model_module_version": "1.5.0",
      "model_name": "HTMLModel",
      "state": {
       "_dom_classes": [],
       "_model_module": "@jupyter-widgets/controls",
       "_model_module_version": "1.5.0",
       "_model_name": "HTMLModel",
       "_view_count": null,
       "_view_module": "@jupyter-widgets/controls",
       "_view_module_version": "1.5.0",
       "_view_name": "HTMLView",
       "description": "",
       "description_tooltip": null,
       "layout": "IPY_MODEL_243e7a8171e54d94b094e132e9cd1225",
       "placeholder": "​",
       "style": "IPY_MODEL_d5ef2578f0ab4f299750aac582159b13",
       "value": "tokenizer_config.json: 100%"
      }
     },
     "93bf25f9fa904778b9db75a09edb555a": {
      "model_module": "@jupyter-widgets/base",
      "model_module_version": "1.2.0",
      "model_name": "LayoutModel",
      "state": {
       "_model_module": "@jupyter-widgets/base",
       "_model_module_version": "1.2.0",
       "_model_name": "LayoutModel",
       "_view_count": null,
       "_view_module": "@jupyter-widgets/base",
       "_view_module_version": "1.2.0",
       "_view_name": "LayoutView",
       "align_content": null,
       "align_items": null,
       "align_self": null,
       "border": null,
       "bottom": null,
       "display": null,
       "flex": null,
       "flex_flow": null,
       "grid_area": null,
       "grid_auto_columns": null,
       "grid_auto_flow": null,
       "grid_auto_rows": null,
       "grid_column": null,
       "grid_gap": null,
       "grid_row": null,
       "grid_template_areas": null,
       "grid_template_columns": null,
       "grid_template_rows": null,
       "height": null,
       "justify_content": null,
       "justify_items": null,
       "left": null,
       "margin": null,
       "max_height": null,
       "max_width": null,
       "min_height": null,
       "min_width": null,
       "object_fit": null,
       "object_position": null,
       "order": null,
       "overflow": null,
       "overflow_x": null,
       "overflow_y": null,
       "padding": null,
       "right": null,
       "top": null,
       "visibility": null,
       "width": null
      }
     },
     "9594455efdca4ced97f30cde60fe1152": {
      "model_module": "@jupyter-widgets/controls",
      "model_module_version": "1.5.0",
      "model_name": "DescriptionStyleModel",
      "state": {
       "_model_module": "@jupyter-widgets/controls",
       "_model_module_version": "1.5.0",
       "_model_name": "DescriptionStyleModel",
       "_view_count": null,
       "_view_module": "@jupyter-widgets/base",
       "_view_module_version": "1.2.0",
       "_view_name": "StyleView",
       "description_width": ""
      }
     },
     "97db4f9534e846689c5b6e923d65f89c": {
      "model_module": "@jupyter-widgets/base",
      "model_module_version": "1.2.0",
      "model_name": "LayoutModel",
      "state": {
       "_model_module": "@jupyter-widgets/base",
       "_model_module_version": "1.2.0",
       "_model_name": "LayoutModel",
       "_view_count": null,
       "_view_module": "@jupyter-widgets/base",
       "_view_module_version": "1.2.0",
       "_view_name": "LayoutView",
       "align_content": null,
       "align_items": null,
       "align_self": null,
       "border": null,
       "bottom": null,
       "display": null,
       "flex": null,
       "flex_flow": null,
       "grid_area": null,
       "grid_auto_columns": null,
       "grid_auto_flow": null,
       "grid_auto_rows": null,
       "grid_column": null,
       "grid_gap": null,
       "grid_row": null,
       "grid_template_areas": null,
       "grid_template_columns": null,
       "grid_template_rows": null,
       "height": null,
       "justify_content": null,
       "justify_items": null,
       "left": null,
       "margin": null,
       "max_height": null,
       "max_width": null,
       "min_height": null,
       "min_width": null,
       "object_fit": null,
       "object_position": null,
       "order": null,
       "overflow": null,
       "overflow_x": null,
       "overflow_y": null,
       "padding": null,
       "right": null,
       "top": null,
       "visibility": null,
       "width": null
      }
     },
     "984a988a9c2d4e9c9a49fe616bafc4d0": {
      "model_module": "@jupyter-widgets/controls",
      "model_module_version": "1.5.0",
      "model_name": "DescriptionStyleModel",
      "state": {
       "_model_module": "@jupyter-widgets/controls",
       "_model_module_version": "1.5.0",
       "_model_name": "DescriptionStyleModel",
       "_view_count": null,
       "_view_module": "@jupyter-widgets/base",
       "_view_module_version": "1.2.0",
       "_view_name": "StyleView",
       "description_width": ""
      }
     },
     "9cc9012a550244fb90c3b07ebc3d16e5": {
      "model_module": "@jupyter-widgets/controls",
      "model_module_version": "1.5.0",
      "model_name": "FloatProgressModel",
      "state": {
       "_dom_classes": [],
       "_model_module": "@jupyter-widgets/controls",
       "_model_module_version": "1.5.0",
       "_model_name": "FloatProgressModel",
       "_view_count": null,
       "_view_module": "@jupyter-widgets/controls",
       "_view_module_version": "1.5.0",
       "_view_name": "ProgressView",
       "bar_style": "success",
       "description": "",
       "description_tooltip": null,
       "layout": "IPY_MODEL_d44a15fe7c194e6caa48e180fc77393a",
       "max": 147.0,
       "min": 0.0,
       "orientation": "horizontal",
       "style": "IPY_MODEL_538dab0a309842e29c9a29cd260579ba",
       "value": 147.0
      }
     },
     "9eacd567b1794d43b578b03b6d7312d7": {
      "model_module": "@jupyter-widgets/controls",
      "model_module_version": "1.5.0",
      "model_name": "HTMLModel",
      "state": {
       "_dom_classes": [],
       "_model_module": "@jupyter-widgets/controls",
       "_model_module_version": "1.5.0",
       "_model_name": "HTMLModel",
       "_view_count": null,
       "_view_module": "@jupyter-widgets/controls",
       "_view_module_version": "1.5.0",
       "_view_name": "HTMLView",
       "description": "",
       "description_tooltip": null,
       "layout": "IPY_MODEL_ff3f828627524475930a507e8f579ba0",
       "placeholder": "​",
       "style": "IPY_MODEL_787a31402a994b028bf1c0d67558ea09",
       "value": " 19087/19087 [00:00&lt;00:00, 21818.72 examples/s]"
      }
     },
     "a198fc762309471aa3a25daff6306e68": {
      "model_module": "@jupyter-widgets/controls",
      "model_module_version": "1.5.0",
      "model_name": "DescriptionStyleModel",
      "state": {
       "_model_module": "@jupyter-widgets/controls",
       "_model_module_version": "1.5.0",
       "_model_name": "DescriptionStyleModel",
       "_view_count": null,
       "_view_module": "@jupyter-widgets/base",
       "_view_module_version": "1.2.0",
       "_view_name": "StyleView",
       "description_width": ""
      }
     },
     "a2865062a1864e52ace1b8a4ec7db1a4": {
      "model_module": "@jupyter-widgets/base",
      "model_module_version": "1.2.0",
      "model_name": "LayoutModel",
      "state": {
       "_model_module": "@jupyter-widgets/base",
       "_model_module_version": "1.2.0",
       "_model_name": "LayoutModel",
       "_view_count": null,
       "_view_module": "@jupyter-widgets/base",
       "_view_module_version": "1.2.0",
       "_view_name": "LayoutView",
       "align_content": null,
       "align_items": null,
       "align_self": null,
       "border": null,
       "bottom": null,
       "display": null,
       "flex": null,
       "flex_flow": null,
       "grid_area": null,
       "grid_auto_columns": null,
       "grid_auto_flow": null,
       "grid_auto_rows": null,
       "grid_column": null,
       "grid_gap": null,
       "grid_row": null,
       "grid_template_areas": null,
       "grid_template_columns": null,
       "grid_template_rows": null,
       "height": null,
       "justify_content": null,
       "justify_items": null,
       "left": null,
       "margin": null,
       "max_height": null,
       "max_width": null,
       "min_height": null,
       "min_width": null,
       "object_fit": null,
       "object_position": null,
       "order": null,
       "overflow": null,
       "overflow_x": null,
       "overflow_y": null,
       "padding": null,
       "right": null,
       "top": null,
       "visibility": null,
       "width": null
      }
     },
     "a2f5a3f137a7480baf14a1e18b72da92": {
      "model_module": "@jupyter-widgets/controls",
      "model_module_version": "1.5.0",
      "model_name": "FloatProgressModel",
      "state": {
       "_dom_classes": [],
       "_model_module": "@jupyter-widgets/controls",
       "_model_module_version": "1.5.0",
       "_model_name": "FloatProgressModel",
       "_view_count": null,
       "_view_module": "@jupyter-widgets/controls",
       "_view_module_version": "1.5.0",
       "_view_name": "ProgressView",
       "bar_style": "success",
       "description": "",
       "description_tooltip": null,
       "layout": "IPY_MODEL_2b02d3b74c2e4e66a35ac41a73892ab5",
       "max": 1061.0,
       "min": 0.0,
       "orientation": "horizontal",
       "style": "IPY_MODEL_05c33ca371b84b22bc7e45cf1b57ca7b",
       "value": 1061.0
      }
     },
     "a785f359a22e40ad839ee5459429dc23": {
      "model_module": "@jupyter-widgets/controls",
      "model_module_version": "1.5.0",
      "model_name": "ProgressStyleModel",
      "state": {
       "_model_module": "@jupyter-widgets/controls",
       "_model_module_version": "1.5.0",
       "_model_name": "ProgressStyleModel",
       "_view_count": null,
       "_view_module": "@jupyter-widgets/base",
       "_view_module_version": "1.2.0",
       "_view_name": "StyleView",
       "bar_color": null,
       "description_width": ""
      }
     },
     "aa3d13eac9e54132942073c72c2eaea2": {
      "model_module": "@jupyter-widgets/base",
      "model_module_version": "1.2.0",
      "model_name": "LayoutModel",
      "state": {
       "_model_module": "@jupyter-widgets/base",
       "_model_module_version": "1.2.0",
       "_model_name": "LayoutModel",
       "_view_count": null,
       "_view_module": "@jupyter-widgets/base",
       "_view_module_version": "1.2.0",
       "_view_name": "LayoutView",
       "align_content": null,
       "align_items": null,
       "align_self": null,
       "border": null,
       "bottom": null,
       "display": null,
       "flex": null,
       "flex_flow": null,
       "grid_area": null,
       "grid_auto_columns": null,
       "grid_auto_flow": null,
       "grid_auto_rows": null,
       "grid_column": null,
       "grid_gap": null,
       "grid_row": null,
       "grid_template_areas": null,
       "grid_template_columns": null,
       "grid_template_rows": null,
       "height": null,
       "justify_content": null,
       "justify_items": null,
       "left": null,
       "margin": null,
       "max_height": null,
       "max_width": null,
       "min_height": null,
       "min_width": null,
       "object_fit": null,
       "object_position": null,
       "order": null,
       "overflow": null,
       "overflow_x": null,
       "overflow_y": null,
       "padding": null,
       "right": null,
       "top": null,
       "visibility": null,
       "width": null
      }
     },
     "b0bcd682039743cda4ee8cfe208a0d6c": {
      "model_module": "@jupyter-widgets/controls",
      "model_module_version": "1.5.0",
      "model_name": "ProgressStyleModel",
      "state": {
       "_model_module": "@jupyter-widgets/controls",
       "_model_module_version": "1.5.0",
       "_model_name": "ProgressStyleModel",
       "_view_count": null,
       "_view_module": "@jupyter-widgets/base",
       "_view_module_version": "1.2.0",
       "_view_name": "StyleView",
       "bar_color": null,
       "description_width": ""
      }
     },
     "b1c5a5f7be034b5db9af4fb2c8cf5e99": {
      "model_module": "@jupyter-widgets/controls",
      "model_module_version": "1.5.0",
      "model_name": "DescriptionStyleModel",
      "state": {
       "_model_module": "@jupyter-widgets/controls",
       "_model_module_version": "1.5.0",
       "_model_name": "DescriptionStyleModel",
       "_view_count": null,
       "_view_module": "@jupyter-widgets/base",
       "_view_module_version": "1.2.0",
       "_view_name": "StyleView",
       "description_width": ""
      }
     },
     "b2130b9b41a24c729e9a82962e81591e": {
      "model_module": "@jupyter-widgets/base",
      "model_module_version": "1.2.0",
      "model_name": "LayoutModel",
      "state": {
       "_model_module": "@jupyter-widgets/base",
       "_model_module_version": "1.2.0",
       "_model_name": "LayoutModel",
       "_view_count": null,
       "_view_module": "@jupyter-widgets/base",
       "_view_module_version": "1.2.0",
       "_view_name": "LayoutView",
       "align_content": null,
       "align_items": null,
       "align_self": null,
       "border": null,
       "bottom": null,
       "display": null,
       "flex": null,
       "flex_flow": null,
       "grid_area": null,
       "grid_auto_columns": null,
       "grid_auto_flow": null,
       "grid_auto_rows": null,
       "grid_column": null,
       "grid_gap": null,
       "grid_row": null,
       "grid_template_areas": null,
       "grid_template_columns": null,
       "grid_template_rows": null,
       "height": null,
       "justify_content": null,
       "justify_items": null,
       "left": null,
       "margin": null,
       "max_height": null,
       "max_width": null,
       "min_height": null,
       "min_width": null,
       "object_fit": null,
       "object_position": null,
       "order": null,
       "overflow": null,
       "overflow_x": null,
       "overflow_y": null,
       "padding": null,
       "right": null,
       "top": null,
       "visibility": null,
       "width": null
      }
     },
     "b305382a87ff43609639d3bddb10ff1c": {
      "model_module": "@jupyter-widgets/controls",
      "model_module_version": "1.5.0",
      "model_name": "DescriptionStyleModel",
      "state": {
       "_model_module": "@jupyter-widgets/controls",
       "_model_module_version": "1.5.0",
       "_model_name": "DescriptionStyleModel",
       "_view_count": null,
       "_view_module": "@jupyter-widgets/base",
       "_view_module_version": "1.2.0",
       "_view_name": "StyleView",
       "description_width": ""
      }
     },
     "b7fc192af32f4fb8b22e3160191cc21c": {
      "model_module": "@jupyter-widgets/controls",
      "model_module_version": "1.5.0",
      "model_name": "HTMLModel",
      "state": {
       "_dom_classes": [],
       "_model_module": "@jupyter-widgets/controls",
       "_model_module_version": "1.5.0",
       "_model_name": "HTMLModel",
       "_view_count": null,
       "_view_module": "@jupyter-widgets/controls",
       "_view_module_version": "1.5.0",
       "_view_name": "HTMLView",
       "description": "",
       "description_tooltip": null,
       "layout": "IPY_MODEL_58db1f3b42054052812a1a62ecf58738",
       "placeholder": "​",
       "style": "IPY_MODEL_f53d94f86b904171b86e811394fe0e35",
       "value": " 376/376 [00:00&lt;00:00, 25.5kB/s]"
      }
     },
     "b8c1410203324cdca81e53d4d7b4b57a": {
      "model_module": "@jupyter-widgets/controls",
      "model_module_version": "1.5.0",
      "model_name": "FloatProgressModel",
      "state": {
       "_dom_classes": [],
       "_model_module": "@jupyter-widgets/controls",
       "_model_module_version": "1.5.0",
       "_model_name": "FloatProgressModel",
       "_view_count": null,
       "_view_module": "@jupyter-widgets/controls",
       "_view_module_version": "1.5.0",
       "_view_name": "ProgressView",
       "bar_style": "success",
       "description": "",
       "description_tooltip": null,
       "layout": "IPY_MODEL_aa3d13eac9e54132942073c72c2eaea2",
       "max": 2329735129.0,
       "min": 0.0,
       "orientation": "horizontal",
       "style": "IPY_MODEL_b0bcd682039743cda4ee8cfe208a0d6c",
       "value": 2329735129.0
      }
     },
     "b95c9f7e231e497eab82b741809abf5d": {
      "model_module": "@jupyter-widgets/controls",
      "model_module_version": "1.5.0",
      "model_name": "DescriptionStyleModel",
      "state": {
       "_model_module": "@jupyter-widgets/controls",
       "_model_module_version": "1.5.0",
       "_model_name": "DescriptionStyleModel",
       "_view_count": null,
       "_view_module": "@jupyter-widgets/base",
       "_view_module_version": "1.2.0",
       "_view_name": "StyleView",
       "description_width": ""
      }
     },
     "b980170e12254f2eb61cd99440f61ef9": {
      "model_module": "@jupyter-widgets/controls",
      "model_module_version": "1.5.0",
      "model_name": "DescriptionStyleModel",
      "state": {
       "_model_module": "@jupyter-widgets/controls",
       "_model_module_version": "1.5.0",
       "_model_name": "DescriptionStyleModel",
       "_view_count": null,
       "_view_module": "@jupyter-widgets/base",
       "_view_module_version": "1.2.0",
       "_view_name": "StyleView",
       "description_width": ""
      }
     },
     "beac396d3b8f43cf8081602ca6c124de": {
      "model_module": "@jupyter-widgets/controls",
      "model_module_version": "1.5.0",
      "model_name": "HTMLModel",
      "state": {
       "_dom_classes": [],
       "_model_module": "@jupyter-widgets/controls",
       "_model_module_version": "1.5.0",
       "_model_name": "HTMLModel",
       "_view_count": null,
       "_view_module": "@jupyter-widgets/controls",
       "_view_module_version": "1.5.0",
       "_view_name": "HTMLView",
       "description": "",
       "description_tooltip": null,
       "layout": "IPY_MODEL_045d6ae5099242db8f059ae202f4b9ce",
       "placeholder": "​",
       "style": "IPY_MODEL_b95c9f7e231e497eab82b741809abf5d",
       "value": "Downloading builder script: 100%"
      }
     },
     "c3c914d838354333a3d8fa380289b5ea": {
      "model_module": "@jupyter-widgets/controls",
      "model_module_version": "1.5.0",
      "model_name": "HBoxModel",
      "state": {
       "_dom_classes": [],
       "_model_module": "@jupyter-widgets/controls",
       "_model_module_version": "1.5.0",
       "_model_name": "HBoxModel",
       "_view_count": null,
       "_view_module": "@jupyter-widgets/controls",
       "_view_module_version": "1.5.0",
       "_view_name": "HBoxView",
       "box_style": "",
       "children": [
        "IPY_MODEL_beac396d3b8f43cf8081602ca6c124de",
        "IPY_MODEL_1e724de17a99415cb44907a83fc6d50c",
        "IPY_MODEL_560eb3a7e62342c6b75240c9addfefe3"
       ],
       "layout": "IPY_MODEL_d1c6c22580314c44808144ed41d3c46d"
      }
     },
     "c727b480ae074670ba0d078bd6e8b7e6": {
      "model_module": "@jupyter-widgets/controls",
      "model_module_version": "1.5.0",
      "model_name": "HTMLModel",
      "state": {
       "_dom_classes": [],
       "_model_module": "@jupyter-widgets/controls",
       "_model_module_version": "1.5.0",
       "_model_name": "HTMLModel",
       "_view_count": null,
       "_view_module": "@jupyter-widgets/controls",
       "_view_module_version": "1.5.0",
       "_view_name": "HTMLView",
       "description": "",
       "description_tooltip": null,
       "layout": "IPY_MODEL_051c30598d464a139145eaf78da0c27e",
       "placeholder": "​",
       "style": "IPY_MODEL_8eabe1c5af324f6380b8bfb10df250b1",
       "value": "pytorch_model.bin: 100%"
      }
     },
     "c9ca027ee9d0495d9cee77564aadb5d8": {
      "model_module": "@jupyter-widgets/controls",
      "model_module_version": "1.5.0",
      "model_name": "ProgressStyleModel",
      "state": {
       "_model_module": "@jupyter-widgets/controls",
       "_model_module_version": "1.5.0",
       "_model_name": "ProgressStyleModel",
       "_view_count": null,
       "_view_module": "@jupyter-widgets/base",
       "_view_module_version": "1.2.0",
       "_view_name": "StyleView",
       "bar_color": null,
       "description_width": ""
      }
     },
     "cd69785c32ab4ab3a065364e037aaeb7": {
      "model_module": "@jupyter-widgets/controls",
      "model_module_version": "1.5.0",
      "model_name": "HTMLModel",
      "state": {
       "_dom_classes": [],
       "_model_module": "@jupyter-widgets/controls",
       "_model_module_version": "1.5.0",
       "_model_name": "HTMLModel",
       "_view_count": null,
       "_view_module": "@jupyter-widgets/controls",
       "_view_module_version": "1.5.0",
       "_view_name": "HTMLView",
       "description": "",
       "description_tooltip": null,
       "layout": "IPY_MODEL_43e7bd9a9d5045e5ab0c5e018108ef3c",
       "placeholder": "​",
       "style": "IPY_MODEL_a198fc762309471aa3a25daff6306e68",
       "value": " 4.31M/4.31M [00:00&lt;00:00, 32.0MB/s]"
      }
     },
     "cdcf1dd115b6414faef441e65fb9deab": {
      "model_module": "@jupyter-widgets/controls",
      "model_module_version": "1.5.0",
      "model_name": "DescriptionStyleModel",
      "state": {
       "_model_module": "@jupyter-widgets/controls",
       "_model_module_version": "1.5.0",
       "_model_name": "DescriptionStyleModel",
       "_view_count": null,
       "_view_module": "@jupyter-widgets/base",
       "_view_module_version": "1.2.0",
       "_view_name": "StyleView",
       "description_width": ""
      }
     },
     "d1c6c22580314c44808144ed41d3c46d": {
      "model_module": "@jupyter-widgets/base",
      "model_module_version": "1.2.0",
      "model_name": "LayoutModel",
      "state": {
       "_model_module": "@jupyter-widgets/base",
       "_model_module_version": "1.2.0",
       "_model_name": "LayoutModel",
       "_view_count": null,
       "_view_module": "@jupyter-widgets/base",
       "_view_module_version": "1.2.0",
       "_view_name": "LayoutView",
       "align_content": null,
       "align_items": null,
       "align_self": null,
       "border": null,
       "bottom": null,
       "display": null,
       "flex": null,
       "flex_flow": null,
       "grid_area": null,
       "grid_auto_columns": null,
       "grid_auto_flow": null,
       "grid_auto_rows": null,
       "grid_column": null,
       "grid_gap": null,
       "grid_row": null,
       "grid_template_areas": null,
       "grid_template_columns": null,
       "grid_template_rows": null,
       "height": null,
       "justify_content": null,
       "justify_items": null,
       "left": null,
       "margin": null,
       "max_height": null,
       "max_width": null,
       "min_height": null,
       "min_width": null,
       "object_fit": null,
       "object_position": null,
       "order": null,
       "overflow": null,
       "overflow_x": null,
       "overflow_y": null,
       "padding": null,
       "right": null,
       "top": null,
       "visibility": null,
       "width": null
      }
     },
     "d44a15fe7c194e6caa48e180fc77393a": {
      "model_module": "@jupyter-widgets/base",
      "model_module_version": "1.2.0",
      "model_name": "LayoutModel",
      "state": {
       "_model_module": "@jupyter-widgets/base",
       "_model_module_version": "1.2.0",
       "_model_name": "LayoutModel",
       "_view_count": null,
       "_view_module": "@jupyter-widgets/base",
       "_view_module_version": "1.2.0",
       "_view_name": "LayoutView",
       "align_content": null,
       "align_items": null,
       "align_self": null,
       "border": null,
       "bottom": null,
       "display": null,
       "flex": null,
       "flex_flow": null,
       "grid_area": null,
       "grid_auto_columns": null,
       "grid_auto_flow": null,
       "grid_auto_rows": null,
       "grid_column": null,
       "grid_gap": null,
       "grid_row": null,
       "grid_template_areas": null,
       "grid_template_columns": null,
       "grid_template_rows": null,
       "height": null,
       "justify_content": null,
       "justify_items": null,
       "left": null,
       "margin": null,
       "max_height": null,
       "max_width": null,
       "min_height": null,
       "min_width": null,
       "object_fit": null,
       "object_position": null,
       "order": null,
       "overflow": null,
       "overflow_x": null,
       "overflow_y": null,
       "padding": null,
       "right": null,
       "top": null,
       "visibility": null,
       "width": null
      }
     },
     "d55459ff2d544da98f7f903b6d5cb8ae": {
      "model_module": "@jupyter-widgets/base",
      "model_module_version": "1.2.0",
      "model_name": "LayoutModel",
      "state": {
       "_model_module": "@jupyter-widgets/base",
       "_model_module_version": "1.2.0",
       "_model_name": "LayoutModel",
       "_view_count": null,
       "_view_module": "@jupyter-widgets/base",
       "_view_module_version": "1.2.0",
       "_view_name": "LayoutView",
       "align_content": null,
       "align_items": null,
       "align_self": null,
       "border": null,
       "bottom": null,
       "display": null,
       "flex": null,
       "flex_flow": null,
       "grid_area": null,
       "grid_auto_columns": null,
       "grid_auto_flow": null,
       "grid_auto_rows": null,
       "grid_column": null,
       "grid_gap": null,
       "grid_row": null,
       "grid_template_areas": null,
       "grid_template_columns": null,
       "grid_template_rows": null,
       "height": null,
       "justify_content": null,
       "justify_items": null,
       "left": null,
       "margin": null,
       "max_height": null,
       "max_width": null,
       "min_height": null,
       "min_width": null,
       "object_fit": null,
       "object_position": null,
       "order": null,
       "overflow": null,
       "overflow_x": null,
       "overflow_y": null,
       "padding": null,
       "right": null,
       "top": null,
       "visibility": null,
       "width": null
      }
     },
     "d5ef2578f0ab4f299750aac582159b13": {
      "model_module": "@jupyter-widgets/controls",
      "model_module_version": "1.5.0",
      "model_name": "DescriptionStyleModel",
      "state": {
       "_model_module": "@jupyter-widgets/controls",
       "_model_module_version": "1.5.0",
       "_model_name": "DescriptionStyleModel",
       "_view_count": null,
       "_view_module": "@jupyter-widgets/base",
       "_view_module_version": "1.2.0",
       "_view_name": "StyleView",
       "description_width": ""
      }
     },
     "d698eceeac05410aaed4420344ef59b6": {
      "model_module": "@jupyter-widgets/base",
      "model_module_version": "1.2.0",
      "model_name": "LayoutModel",
      "state": {
       "_model_module": "@jupyter-widgets/base",
       "_model_module_version": "1.2.0",
       "_model_name": "LayoutModel",
       "_view_count": null,
       "_view_module": "@jupyter-widgets/base",
       "_view_module_version": "1.2.0",
       "_view_name": "LayoutView",
       "align_content": null,
       "align_items": null,
       "align_self": null,
       "border": null,
       "bottom": null,
       "display": null,
       "flex": null,
       "flex_flow": null,
       "grid_area": null,
       "grid_auto_columns": null,
       "grid_auto_flow": null,
       "grid_auto_rows": null,
       "grid_column": null,
       "grid_gap": null,
       "grid_row": null,
       "grid_template_areas": null,
       "grid_template_columns": null,
       "grid_template_rows": null,
       "height": null,
       "justify_content": null,
       "justify_items": null,
       "left": null,
       "margin": null,
       "max_height": null,
       "max_width": null,
       "min_height": null,
       "min_width": null,
       "object_fit": null,
       "object_position": null,
       "order": null,
       "overflow": null,
       "overflow_x": null,
       "overflow_y": null,
       "padding": null,
       "right": null,
       "top": null,
       "visibility": null,
       "width": null
      }
     },
     "d70e68d4e6e646aa98a6bfb0eabcb297": {
      "model_module": "@jupyter-widgets/controls",
      "model_module_version": "1.5.0",
      "model_name": "DescriptionStyleModel",
      "state": {
       "_model_module": "@jupyter-widgets/controls",
       "_model_module_version": "1.5.0",
       "_model_name": "DescriptionStyleModel",
       "_view_count": null,
       "_view_module": "@jupyter-widgets/base",
       "_view_module_version": "1.2.0",
       "_view_name": "StyleView",
       "description_width": ""
      }
     },
     "d875c71f61024eebb36fa9a471f13cc0": {
      "model_module": "@jupyter-widgets/controls",
      "model_module_version": "1.5.0",
      "model_name": "HBoxModel",
      "state": {
       "_dom_classes": [],
       "_model_module": "@jupyter-widgets/controls",
       "_model_module_version": "1.5.0",
       "_model_name": "HBoxModel",
       "_view_count": null,
       "_view_module": "@jupyter-widgets/controls",
       "_view_module_version": "1.5.0",
       "_view_name": "HBoxView",
       "box_style": "",
       "children": [
        "IPY_MODEL_ecb6689110474d11bfc7042c084bb64e",
        "IPY_MODEL_f5a3a361ddd14b319db6360cceeaf53d",
        "IPY_MODEL_9eacd567b1794d43b578b03b6d7312d7"
       ],
       "layout": "IPY_MODEL_722883b0e0f846749efe781a1dc749c9"
      }
     },
     "d9c0e7f5dee64c89bb07b9892d3bbc53": {
      "model_module": "@jupyter-widgets/base",
      "model_module_version": "1.2.0",
      "model_name": "LayoutModel",
      "state": {
       "_model_module": "@jupyter-widgets/base",
       "_model_module_version": "1.2.0",
       "_model_name": "LayoutModel",
       "_view_count": null,
       "_view_module": "@jupyter-widgets/base",
       "_view_module_version": "1.2.0",
       "_view_name": "LayoutView",
       "align_content": null,
       "align_items": null,
       "align_self": null,
       "border": null,
       "bottom": null,
       "display": null,
       "flex": null,
       "flex_flow": null,
       "grid_area": null,
       "grid_auto_columns": null,
       "grid_auto_flow": null,
       "grid_auto_rows": null,
       "grid_column": null,
       "grid_gap": null,
       "grid_row": null,
       "grid_template_areas": null,
       "grid_template_columns": null,
       "grid_template_rows": null,
       "height": null,
       "justify_content": null,
       "justify_items": null,
       "left": null,
       "margin": null,
       "max_height": null,
       "max_width": null,
       "min_height": null,
       "min_width": null,
       "object_fit": null,
       "object_position": null,
       "order": null,
       "overflow": null,
       "overflow_x": null,
       "overflow_y": null,
       "padding": null,
       "right": null,
       "top": null,
       "visibility": null,
       "width": null
      }
     },
     "dbd58993728a4210bf9cb61833647981": {
      "model_module": "@jupyter-widgets/controls",
      "model_module_version": "1.5.0",
      "model_name": "DescriptionStyleModel",
      "state": {
       "_model_module": "@jupyter-widgets/controls",
       "_model_module_version": "1.5.0",
       "_model_name": "DescriptionStyleModel",
       "_view_count": null,
       "_view_module": "@jupyter-widgets/base",
       "_view_module_version": "1.2.0",
       "_view_name": "StyleView",
       "description_width": ""
      }
     },
     "dd234eaea28b4349a8efc9b09e7f5181": {
      "model_module": "@jupyter-widgets/controls",
      "model_module_version": "1.5.0",
      "model_name": "ProgressStyleModel",
      "state": {
       "_model_module": "@jupyter-widgets/controls",
       "_model_module_version": "1.5.0",
       "_model_name": "ProgressStyleModel",
       "_view_count": null,
       "_view_module": "@jupyter-widgets/base",
       "_view_module_version": "1.2.0",
       "_view_name": "StyleView",
       "bar_color": null,
       "description_width": ""
      }
     },
     "dd3e8143961b4d10a745d488a6d0ff34": {
      "model_module": "@jupyter-widgets/controls",
      "model_module_version": "1.5.0",
      "model_name": "HTMLModel",
      "state": {
       "_dom_classes": [],
       "_model_module": "@jupyter-widgets/controls",
       "_model_module_version": "1.5.0",
       "_model_name": "HTMLModel",
       "_view_count": null,
       "_view_module": "@jupyter-widgets/controls",
       "_view_module_version": "1.5.0",
       "_view_name": "HTMLView",
       "description": "",
       "description_tooltip": null,
       "layout": "IPY_MODEL_653e45491f93465399bcb3c997764a49",
       "placeholder": "​",
       "style": "IPY_MODEL_b1c5a5f7be034b5db9af4fb2c8cf5e99",
       "value": "Map: 100%"
      }
     },
     "de792996209a4663935116521a29286f": {
      "model_module": "@jupyter-widgets/controls",
      "model_module_version": "1.5.0",
      "model_name": "ProgressStyleModel",
      "state": {
       "_model_module": "@jupyter-widgets/controls",
       "_model_module_version": "1.5.0",
       "_model_name": "ProgressStyleModel",
       "_view_count": null,
       "_view_module": "@jupyter-widgets/base",
       "_view_module_version": "1.2.0",
       "_view_name": "StyleView",
       "bar_color": null,
       "description_width": ""
      }
     },
     "e1b50c2cd3214d158f69f66c639d462f": {
      "model_module": "@jupyter-widgets/controls",
      "model_module_version": "1.5.0",
      "model_name": "ProgressStyleModel",
      "state": {
       "_model_module": "@jupyter-widgets/controls",
       "_model_module_version": "1.5.0",
       "_model_name": "ProgressStyleModel",
       "_view_count": null,
       "_view_module": "@jupyter-widgets/base",
       "_view_module_version": "1.2.0",
       "_view_name": "StyleView",
       "bar_color": null,
       "description_width": ""
      }
     },
     "e8a36beaba48479994c4a6dad25d991d": {
      "model_module": "@jupyter-widgets/controls",
      "model_module_version": "1.5.0",
      "model_name": "HTMLModel",
      "state": {
       "_dom_classes": [],
       "_model_module": "@jupyter-widgets/controls",
       "_model_module_version": "1.5.0",
       "_model_name": "HTMLModel",
       "_view_count": null,
       "_view_module": "@jupyter-widgets/controls",
       "_view_module_version": "1.5.0",
       "_view_name": "HTMLView",
       "description": "",
       "description_tooltip": null,
       "layout": "IPY_MODEL_93bf25f9fa904778b9db75a09edb555a",
       "placeholder": "​",
       "style": "IPY_MODEL_4694d5cc3eb44a7cbbe970188d30cd9e",
       "value": " 702/702 [00:00&lt;00:00, 61.1kB/s]"
      }
     },
     "ecb6689110474d11bfc7042c084bb64e": {
      "model_module": "@jupyter-widgets/controls",
      "model_module_version": "1.5.0",
      "model_name": "HTMLModel",
      "state": {
       "_dom_classes": [],
       "_model_module": "@jupyter-widgets/controls",
       "_model_module_version": "1.5.0",
       "_model_name": "HTMLModel",
       "_view_count": null,
       "_view_module": "@jupyter-widgets/controls",
       "_view_module_version": "1.5.0",
       "_view_name": "HTMLView",
       "description": "",
       "description_tooltip": null,
       "layout": "IPY_MODEL_3c9a2ad59f1847cfa79873d98b8f1541",
       "placeholder": "​",
       "style": "IPY_MODEL_b305382a87ff43609639d3bddb10ff1c",
       "value": "Map: 100%"
      }
     },
     "edcc38ef717142d28d7ffea58df81172": {
      "model_module": "@jupyter-widgets/base",
      "model_module_version": "1.2.0",
      "model_name": "LayoutModel",
      "state": {
       "_model_module": "@jupyter-widgets/base",
       "_model_module_version": "1.2.0",
       "_model_name": "LayoutModel",
       "_view_count": null,
       "_view_module": "@jupyter-widgets/base",
       "_view_module_version": "1.2.0",
       "_view_name": "LayoutView",
       "align_content": null,
       "align_items": null,
       "align_self": null,
       "border": null,
       "bottom": null,
       "display": null,
       "flex": null,
       "flex_flow": null,
       "grid_area": null,
       "grid_auto_columns": null,
       "grid_auto_flow": null,
       "grid_auto_rows": null,
       "grid_column": null,
       "grid_gap": null,
       "grid_row": null,
       "grid_template_areas": null,
       "grid_template_columns": null,
       "grid_template_rows": null,
       "height": null,
       "justify_content": null,
       "justify_items": null,
       "left": null,
       "margin": null,
       "max_height": null,
       "max_width": null,
       "min_height": null,
       "min_width": null,
       "object_fit": null,
       "object_position": null,
       "order": null,
       "overflow": null,
       "overflow_x": null,
       "overflow_y": null,
       "padding": null,
       "right": null,
       "top": null,
       "visibility": null,
       "width": null
      }
     },
     "f1a9439f0a69444381c92756bcb02470": {
      "model_module": "@jupyter-widgets/controls",
      "model_module_version": "1.5.0",
      "model_name": "FloatProgressModel",
      "state": {
       "_dom_classes": [],
       "_model_module": "@jupyter-widgets/controls",
       "_model_module_version": "1.5.0",
       "_model_name": "FloatProgressModel",
       "_view_count": null,
       "_view_module": "@jupyter-widgets/controls",
       "_view_module_version": "1.5.0",
       "_view_name": "ProgressView",
       "bar_style": "success",
       "description": "",
       "description_tooltip": null,
       "layout": "IPY_MODEL_33d3955f6841440f8f0a97c61301dc27",
       "max": 4309802.0,
       "min": 0.0,
       "orientation": "horizontal",
       "style": "IPY_MODEL_dd234eaea28b4349a8efc9b09e7f5181",
       "value": 4309802.0
      }
     },
     "f42a6c6a28ae40989360171f245ecd53": {
      "model_module": "@jupyter-widgets/controls",
      "model_module_version": "1.5.0",
      "model_name": "FloatProgressModel",
      "state": {
       "_dom_classes": [],
       "_model_module": "@jupyter-widgets/controls",
       "_model_module_version": "1.5.0",
       "_model_name": "FloatProgressModel",
       "_view_count": null,
       "_view_module": "@jupyter-widgets/controls",
       "_view_module_version": "1.5.0",
       "_view_name": "ProgressView",
       "bar_style": "success",
       "description": "",
       "description_tooltip": null,
       "layout": "IPY_MODEL_2f049af57d644e5a89014553c356b0f2",
       "max": 19087.0,
       "min": 0.0,
       "orientation": "horizontal",
       "style": "IPY_MODEL_fc5496652ae5471cb07063bdc3c3026f",
       "value": 19087.0
      }
     },
     "f42f047b793446bb933aa3643eb2e54e": {
      "model_module": "@jupyter-widgets/base",
      "model_module_version": "1.2.0",
      "model_name": "LayoutModel",
      "state": {
       "_model_module": "@jupyter-widgets/base",
       "_model_module_version": "1.2.0",
       "_model_name": "LayoutModel",
       "_view_count": null,
       "_view_module": "@jupyter-widgets/base",
       "_view_module_version": "1.2.0",
       "_view_name": "LayoutView",
       "align_content": null,
       "align_items": null,
       "align_self": null,
       "border": null,
       "bottom": null,
       "display": null,
       "flex": null,
       "flex_flow": null,
       "grid_area": null,
       "grid_auto_columns": null,
       "grid_auto_flow": null,
       "grid_auto_rows": null,
       "grid_column": null,
       "grid_gap": null,
       "grid_row": null,
       "grid_template_areas": null,
       "grid_template_columns": null,
       "grid_template_rows": null,
       "height": null,
       "justify_content": null,
       "justify_items": null,
       "left": null,
       "margin": null,
       "max_height": null,
       "max_width": null,
       "min_height": null,
       "min_width": null,
       "object_fit": null,
       "object_position": null,
       "order": null,
       "overflow": null,
       "overflow_x": null,
       "overflow_y": null,
       "padding": null,
       "right": null,
       "top": null,
       "visibility": null,
       "width": null
      }
     },
     "f53d94f86b904171b86e811394fe0e35": {
      "model_module": "@jupyter-widgets/controls",
      "model_module_version": "1.5.0",
      "model_name": "DescriptionStyleModel",
      "state": {
       "_model_module": "@jupyter-widgets/controls",
       "_model_module_version": "1.5.0",
       "_model_name": "DescriptionStyleModel",
       "_view_count": null,
       "_view_module": "@jupyter-widgets/base",
       "_view_module_version": "1.2.0",
       "_view_name": "StyleView",
       "description_width": ""
      }
     },
     "f5a3a361ddd14b319db6360cceeaf53d": {
      "model_module": "@jupyter-widgets/controls",
      "model_module_version": "1.5.0",
      "model_name": "FloatProgressModel",
      "state": {
       "_dom_classes": [],
       "_model_module": "@jupyter-widgets/controls",
       "_model_module_version": "1.5.0",
       "_model_name": "FloatProgressModel",
       "_view_count": null,
       "_view_module": "@jupyter-widgets/controls",
       "_view_module_version": "1.5.0",
       "_view_name": "ProgressView",
       "bar_style": "success",
       "description": "",
       "description_tooltip": null,
       "layout": "IPY_MODEL_4a68d9081e514d74a418a85a9e73486d",
       "max": 19087.0,
       "min": 0.0,
       "orientation": "horizontal",
       "style": "IPY_MODEL_3a78b0f40d94461eb324e00502a22236",
       "value": 19087.0
      }
     },
     "fbe84fc1b9534f459d278a4c563a259c": {
      "model_module": "@jupyter-widgets/base",
      "model_module_version": "1.2.0",
      "model_name": "LayoutModel",
      "state": {
       "_model_module": "@jupyter-widgets/base",
       "_model_module_version": "1.2.0",
       "_model_name": "LayoutModel",
       "_view_count": null,
       "_view_module": "@jupyter-widgets/base",
       "_view_module_version": "1.2.0",
       "_view_name": "LayoutView",
       "align_content": null,
       "align_items": null,
       "align_self": null,
       "border": null,
       "bottom": null,
       "display": null,
       "flex": null,
       "flex_flow": null,
       "grid_area": null,
       "grid_auto_columns": null,
       "grid_auto_flow": null,
       "grid_auto_rows": null,
       "grid_column": null,
       "grid_gap": null,
       "grid_row": null,
       "grid_template_areas": null,
       "grid_template_columns": null,
       "grid_template_rows": null,
       "height": null,
       "justify_content": null,
       "justify_items": null,
       "left": null,
       "margin": null,
       "max_height": null,
       "max_width": null,
       "min_height": null,
       "min_width": null,
       "object_fit": null,
       "object_position": null,
       "order": null,
       "overflow": null,
       "overflow_x": null,
       "overflow_y": null,
       "padding": null,
       "right": null,
       "top": null,
       "visibility": null,
       "width": null
      }
     },
     "fc5496652ae5471cb07063bdc3c3026f": {
      "model_module": "@jupyter-widgets/controls",
      "model_module_version": "1.5.0",
      "model_name": "ProgressStyleModel",
      "state": {
       "_model_module": "@jupyter-widgets/controls",
       "_model_module_version": "1.5.0",
       "_model_name": "ProgressStyleModel",
       "_view_count": null,
       "_view_module": "@jupyter-widgets/base",
       "_view_module_version": "1.2.0",
       "_view_name": "StyleView",
       "bar_color": null,
       "description_width": ""
      }
     },
     "ff3f828627524475930a507e8f579ba0": {
      "model_module": "@jupyter-widgets/base",
      "model_module_version": "1.2.0",
      "model_name": "LayoutModel",
      "state": {
       "_model_module": "@jupyter-widgets/base",
       "_model_module_version": "1.2.0",
       "_model_name": "LayoutModel",
       "_view_count": null,
       "_view_module": "@jupyter-widgets/base",
       "_view_module_version": "1.2.0",
       "_view_name": "LayoutView",
       "align_content": null,
       "align_items": null,
       "align_self": null,
       "border": null,
       "bottom": null,
       "display": null,
       "flex": null,
       "flex_flow": null,
       "grid_area": null,
       "grid_auto_columns": null,
       "grid_auto_flow": null,
       "grid_auto_rows": null,
       "grid_column": null,
       "grid_gap": null,
       "grid_row": null,
       "grid_template_areas": null,
       "grid_template_columns": null,
       "grid_template_rows": null,
       "height": null,
       "justify_content": null,
       "justify_items": null,
       "left": null,
       "margin": null,
       "max_height": null,
       "max_width": null,
       "min_height": null,
       "min_width": null,
       "object_fit": null,
       "object_position": null,
       "order": null,
       "overflow": null,
       "overflow_x": null,
       "overflow_y": null,
       "padding": null,
       "right": null,
       "top": null,
       "visibility": null,
       "width": null
      }
     }
    },
    "version_major": 2,
    "version_minor": 0
   }
  }
 },
 "nbformat": 4,
 "nbformat_minor": 5
}
